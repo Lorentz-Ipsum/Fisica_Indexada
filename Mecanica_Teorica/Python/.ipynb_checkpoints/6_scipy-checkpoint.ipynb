{
 "cells": [
  {
   "cell_type": "markdown",
   "metadata": {},
   "source": [
    "# Scipy"
   ]
  },
  {
   "cell_type": "markdown",
   "metadata": {},
   "source": [
    "The module `scipy` contains a lot of useful scientific tools, it is integrated with numpy (accepts and returns numpy arrays). In this tutorial we will see two simple applications: integration of functions and numerical resolution of differential equations."
   ]
  },
  {
   "cell_type": "markdown",
   "metadata": {},
   "source": [
    "First we import `numpy` as always, we will import the tools from `scipy` one by one"
   ]
  },
  {
   "cell_type": "code",
   "execution_count": null,
   "metadata": {
    "ExecuteTime": {
     "end_time": "2019-10-08T12:40:16.961846Z",
     "start_time": "2019-10-08T12:40:16.955192Z"
    }
   },
   "outputs": [],
   "source": [
    "import numpy as np"
   ]
  },
  {
   "cell_type": "markdown",
   "metadata": {},
   "source": [
    "### Integration"
   ]
  },
  {
   "cell_type": "markdown",
   "metadata": {},
   "source": [
    "The following function will be used in the examples below \n",
    "\n",
    "$$I_n = \\int^{\\infty}_{1} \\frac{1}{t^{n+1}}\\, dt = \\frac{1}{n}.$$"
   ]
  },
  {
   "cell_type": "markdown",
   "metadata": {},
   "source": [
    "Defining the integrand"
   ]
  },
  {
   "cell_type": "code",
   "execution_count": null,
   "metadata": {
    "ExecuteTime": {
     "end_time": "2019-10-08T12:40:18.345345Z",
     "start_time": "2019-10-08T12:40:18.338966Z"
    }
   },
   "outputs": [],
   "source": [
    "def integrand(t, n):\n",
    "    return 1./t**(n+1)"
   ]
  },
  {
   "cell_type": "markdown",
   "metadata": {},
   "source": [
    "#### Function"
   ]
  },
  {
   "cell_type": "markdown",
   "metadata": {},
   "source": [
    "The function `quad` performs one-dimensional integration of a given function. Other routines include `dblquad` (double integration), `tplquad` (triple integration) and `nquad` (n-dimensional)."
   ]
  },
  {
   "cell_type": "code",
   "execution_count": null,
   "metadata": {
    "ExecuteTime": {
     "end_time": "2019-10-08T12:40:19.710851Z",
     "start_time": "2019-10-08T12:40:19.491118Z"
    }
   },
   "outputs": [],
   "source": [
    "from scipy.integrate import quad \n",
    "\n",
    "def I_n(n=1):\n",
    "    \"\"\"Integral of the function 1/t**(n+1).\"\"\"\n",
    "    \n",
    "    # the precision and many more parameters can be modified, \n",
    "    # this is only a minimal example\n",
    "    result, error = quad(integrand, 1., np.inf, args=n)\n",
    "    return result\n",
    "\n",
    "print(I_n(3))"
   ]
  },
  {
   "cell_type": "markdown",
   "metadata": {},
   "source": [
    "#### Fixed samples"
   ]
  },
  {
   "cell_type": "markdown",
   "metadata": {},
   "source": [
    "Sometimes, instead of an analytic formula we are given a function sampled at some points and we need to integrate it. The problem is simpler if the samples are equally spaced"
   ]
  },
  {
   "cell_type": "code",
   "execution_count": null,
   "metadata": {
    "ExecuteTime": {
     "end_time": "2019-10-08T12:40:21.116578Z",
     "start_time": "2019-10-08T12:40:21.108332Z"
    }
   },
   "outputs": [],
   "source": [
    "n = 3     # exponent\n",
    "N = 1000  # number of samples\n",
    "\n",
    "t = np.linspace(1., 100, num=N+1)\n",
    "data = integrand(t, n)"
   ]
  },
  {
   "cell_type": "markdown",
   "metadata": {},
   "source": [
    "The Simpson rule is implemented in scipy (as well as trapezoidal and Romberg)"
   ]
  },
  {
   "cell_type": "code",
   "execution_count": null,
   "metadata": {
    "ExecuteTime": {
     "end_time": "2019-10-08T12:40:22.232291Z",
     "start_time": "2019-10-08T12:40:22.223088Z"
    }
   },
   "outputs": [],
   "source": [
    "from scipy.integrate import simps\n",
    "\n",
    "I = simps(data, t)\n",
    "print(I)"
   ]
  },
  {
   "cell_type": "markdown",
   "metadata": {},
   "source": [
    "### ODE systems"
   ]
  },
  {
   "cell_type": "markdown",
   "metadata": {},
   "source": [
    "Next, it would be great to solve systems of differential equations\n",
    "\n",
    "\\begin{equation} \n",
    "    \\frac{d\\boldsymbol{y}}{dt} = \\boldsymbol{f}(\\boldsymbol{y}, t)\n",
    "\\end{equation}\n",
    "\n",
    "with initial conditions $\\boldsymbol{y}(t_0)=\\boldsymbol{y}_0$. As an example, let us solve the trivial example\n",
    "\n",
    "\\begin{align*}\n",
    "    \\frac{dx}{dt} &= -y/m\\\\\n",
    "    \\frac{dy}{dt} &= mx\\\\\n",
    "\\end{align*}"
   ]
  },
  {
   "cell_type": "code",
   "execution_count": null,
   "metadata": {
    "ExecuteTime": {
     "end_time": "2019-10-08T12:40:23.772351Z",
     "start_time": "2019-10-08T12:40:23.754261Z"
    }
   },
   "outputs": [],
   "source": [
    "# first we define the system, i.e. the f(y, t) vector\n",
    "def system(y, t, m):\n",
    "    # retrieve the integration variables from the vector y\n",
    "    xt, yt = y\n",
    "    \n",
    "    # compute the derivatives\n",
    "    dx = -yt/m\n",
    "    dy = m*xt\n",
    "    \n",
    "    return dx, dy\n",
    "\n",
    "# ------------------------------------------------------\n",
    "\n",
    "# parameters\n",
    "M = 2.5\n",
    "\n",
    "# initial conditions\n",
    "y0 = [1., 0.]\n",
    "\n",
    "# array of sampled times for the solution\n",
    "t = np.linspace(0, 10, 101)\n",
    "\n",
    "# solution using scipy\n",
    "from scipy.integrate import odeint\n",
    "\n",
    "sol = odeint(system, y0, t, args=(M,))"
   ]
  },
  {
   "cell_type": "markdown",
   "metadata": {},
   "source": [
    "We can easily plot the result"
   ]
  },
  {
   "cell_type": "code",
   "execution_count": null,
   "metadata": {
    "ExecuteTime": {
     "end_time": "2019-10-08T12:40:25.372918Z",
     "start_time": "2019-10-08T12:40:25.041423Z"
    }
   },
   "outputs": [],
   "source": [
    "%matplotlib notebook\n",
    "\n",
    "import matplotlib.pyplot as plt\n",
    "\n",
    "xt, yt = sol.transpose()\n",
    "\n",
    "plt.figure(1)\n",
    "plt.plot(t, xt, color='red', label='x(t)')\n",
    "plt.plot(t, yt, color='blue', label='y(t)')\n",
    "plt.xlabel('t')\n",
    "plt.legend(loc='best');\n",
    "\n",
    "plt.figure(2)\n",
    "plt.plot(xt, yt, color='green')\n",
    "plt.xlabel('x')\n",
    "plt.ylabel('y');"
   ]
  }
 ],
 "metadata": {
  "kernelspec": {
   "display_name": "Python 3",
   "language": "python",
   "name": "python3"
  },
  "language_info": {
   "codemirror_mode": {
    "name": "ipython",
    "version": 3
   },
   "file_extension": ".py",
   "mimetype": "text/x-python",
   "name": "python",
   "nbconvert_exporter": "python",
   "pygments_lexer": "ipython3",
   "version": "3.7.4"
  },
  "varInspector": {
   "cols": {
    "lenName": 16,
    "lenType": 16,
    "lenVar": 40
   },
   "kernels_config": {
    "python": {
     "delete_cmd_postfix": "",
     "delete_cmd_prefix": "del ",
     "library": "var_list.py",
     "varRefreshCmd": "print(var_dic_list())"
    },
    "r": {
     "delete_cmd_postfix": ") ",
     "delete_cmd_prefix": "rm(",
     "library": "var_list.r",
     "varRefreshCmd": "cat(var_dic_list()) "
    }
   },
   "types_to_exclude": [
    "module",
    "function",
    "builtin_function_or_method",
    "instance",
    "_Feature"
   ],
   "window_display": false
  }
 },
 "nbformat": 4,
 "nbformat_minor": 2
}
