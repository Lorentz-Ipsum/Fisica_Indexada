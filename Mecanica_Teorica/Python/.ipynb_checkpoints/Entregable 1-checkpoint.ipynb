{
 "cells": [
  {
   "cell_type": "markdown",
   "metadata": {},
   "source": [
    "# Ejercicio entregable\n"
   ]
  },
  {
   "cell_type": "markdown",
   "metadata": {},
   "source": [
    "## Pretrabajo\n",
    "Primero es construir la función de nuestro hamiltoniano"
   ]
  },
  {
   "cell_type": "code",
   "execution_count": 1,
   "metadata": {},
   "outputs": [],
   "source": [
    "from sympy import *\n",
    "\n",
    "init_printing()"
   ]
  },
  {
   "cell_type": "code",
   "execution_count": 2,
   "metadata": {},
   "outputs": [],
   "source": [
    "x, y, z, t = symbols('x y z t')\n",
    "\n",
    "p1, p2, p3 = symbols('p_1 p_2 p_3')\n",
    "q1, q2, q3 = symbols('q_1 q_2 q_3')\n",
    "qd1, qd2, qd3 = symbols('dot(q_1) q_2 q_3')\n",
    "a, b, m = symbols('a b m')"
   ]
  },
  {
   "cell_type": "code",
   "execution_count": 3,
   "metadata": {},
   "outputs": [
    {
     "data": {
      "image/png": "[encoded data removed]",
      "text/latex": [
       "$\\displaystyle \\frac{a}{\\sqrt{q_{1}^{2} + q_{2}^{2}}} - b p_{1} q_{1} + \\frac{p_{1}^{2} + p_{2}^{2} + p_{3}^{2}}{2 m}$"
      ],
      "text/plain": [
       "                             2     2     2\n",
       "      a                    p₁  + p₂  + p₃ \n",
       "────────────── - b⋅p₁⋅q₁ + ───────────────\n",
       "   ___________                   2⋅m      \n",
       "  ╱   2     2                             \n",
       "╲╱  q₁  + q₂                              "
      ]
     },
     "execution_count": 3,
     "metadata": {},
     "output_type": "execute_result"
    }
   ],
   "source": [
    "H = 1/(2*m) * ( p1**2 + p2**2 + p3**2 ) + a * 1/sqrt( q1 **2 + q2 **2 ) - b * q1 * p1\n",
    "H"
   ]
  },
  {
   "cell_type": "code",
   "execution_count": 4,
   "metadata": {},
   "outputs": [],
   "source": [
    "d11 = diff(H, p1, p1)\n",
    "d12 = diff(H, p1, p2)\n",
    "d13 = diff(H, p1, p3)\n",
    "\n",
    "d21 = diff(H, p2, p1)\n",
    "d22 = diff(H, p1, p2)\n",
    "d23 = diff(H, p2, p3)\n",
    "\n",
    "d31 = diff(H, p3, p1)\n",
    "d32 = diff(H, p3, p2)\n",
    "d33 = diff(H, p3, p3)\n"
   ]
  },
  {
   "cell_type": "code",
   "execution_count": 5,
   "metadata": {},
   "outputs": [
    {
     "data": {
      "text/latex": [
       "$\\displaystyle \\left[\\begin{matrix}\\frac{1}{m} & 0 & 0\\\\0 & \\frac{1}{m} & 0\\\\0 & 0 & \\frac{1}{m}\\end{matrix}\\right]$"
      ],
      "text/plain": [
       "⎡1      ⎤\n",
       "⎢─  0  0⎥\n",
       "⎢m      ⎥\n",
       "⎢       ⎥\n",
       "⎢   1   ⎥\n",
       "⎢0  ─  0⎥\n",
       "⎢   m   ⎥\n",
       "⎢       ⎥\n",
       "⎢      1⎥\n",
       "⎢0  0  ─⎥\n",
       "⎣      m⎦"
      ]
     },
     "execution_count": 5,
     "metadata": {},
     "output_type": "execute_result"
    }
   ],
   "source": [
    "v1, v2, v3 = symbols('v_1 v_2 v_3')\n",
    "\n",
    "V1 = diff(H, p1)\n",
    "V2 = diff(H, p2)\n",
    "V3 = diff(H, p3)\n",
    "\n",
    "V = Matrix([V1, V2, V3])\n",
    "X = Matrix([p1, p2, p3])\n",
    "\n",
    "V.jacobian(X)"
   ]
  },
  {
   "cell_type": "code",
   "execution_count": 6,
   "metadata": {},
   "outputs": [],
   "source": [
    "P1, P2, P3 = symbols('P_1 P_2 P_3')"
   ]
  },
  {
   "cell_type": "code",
   "execution_count": 7,
   "metadata": {},
   "outputs": [
    {
     "data": {
      "image/png": "[encoded data removed]",
      "text/latex": [
       "$\\displaystyle m \\left(b q_{1} + v_{1}\\right)$"
      ],
      "text/plain": [
       "m⋅(b⋅q₁ + v₁)"
      ]
     },
     "execution_count": 7,
     "metadata": {},
     "output_type": "execute_result"
    }
   ],
   "source": [
    "P1 = solve(Eq(v1,V1),p1)[0]\n",
    "P1"
   ]
  },
  {
   "cell_type": "code",
   "execution_count": 8,
   "metadata": {},
   "outputs": [
    {
     "data": {
      "image/png": "[encoded data removed]",
      "text/latex": [
       "$\\displaystyle m v_{2}$"
      ],
      "text/plain": [
       "m⋅v₂"
      ]
     },
     "execution_count": 8,
     "metadata": {},
     "output_type": "execute_result"
    }
   ],
   "source": [
    "P2 = solve(Eq(v2,V2), p2)[0]\n",
    "P2"
   ]
  },
  {
   "cell_type": "code",
   "execution_count": 9,
   "metadata": {},
   "outputs": [
    {
     "data": {
      "image/png": "[encoded data removed]",
      "text/latex": [
       "$\\displaystyle m v_{3}$"
      ],
      "text/plain": [
       "m⋅v₃"
      ]
     },
     "execution_count": 9,
     "metadata": {},
     "output_type": "execute_result"
    }
   ],
   "source": [
    "P3 = solve(Eq(v3,V3), p3)[0]\n",
    "P3"
   ]
  },
  {
   "cell_type": "code",
   "execution_count": 10,
   "metadata": {},
   "outputs": [
    {
     "data": {
      "image/png": "[encoded data removed]",
      "text/latex": [
       "$\\displaystyle \\frac{a}{\\sqrt{q_{1}^{2} + q_{2}^{2}}} - b m q_{1} \\left(b q_{1} + v_{1}\\right) + \\frac{m^{2} v_{2}^{2} + m^{2} v_{3}^{2} + m^{2} \\left(b q_{1} + v_{1}\\right)^{2}}{2 m}$"
      ],
      "text/plain": [
       "                                       2   2    2   2    2            2\n",
       "      a                               m ⋅v₂  + m ⋅v₃  + m ⋅(b⋅q₁ + v₁) \n",
       "────────────── - b⋅m⋅q₁⋅(b⋅q₁ + v₁) + ─────────────────────────────────\n",
       "   ___________                                       2⋅m               \n",
       "  ╱   2     2                                                          \n",
       "╲╱  q₁  + q₂                                                           "
      ]
     },
     "execution_count": 10,
     "metadata": {},
     "output_type": "execute_result"
    }
   ],
   "source": [
    "H2 = H.subs({p1:P1, p2:P2, p3:P3})\n",
    "H2"
   ]
  },
  {
   "cell_type": "code",
   "execution_count": 11,
   "metadata": {},
   "outputs": [
    {
     "data": {
      "image/png": "[encoded data removed]",
      "text/latex": [
       "$\\displaystyle \\frac{a}{\\sqrt{q_{1}^{2} + q_{2}^{2}}} - b^{2} m q_{1}^{2} - b m q_{1} v_{1} + \\frac{m v_{2}^{2}}{2} + \\frac{m v_{3}^{2}}{2} + \\frac{m \\left(b q_{1} + v_{1}\\right)^{2}}{2}$"
      ],
      "text/plain": [
       "                                            2       2                2\n",
       "      a           2     2               m⋅v₂    m⋅v₃    m⋅(b⋅q₁ + v₁) \n",
       "────────────── - b ⋅m⋅q₁  - b⋅m⋅q₁⋅v₁ + ───── + ───── + ──────────────\n",
       "   ___________                            2       2           2       \n",
       "  ╱   2     2                                                         \n",
       "╲╱  q₁  + q₂                                                          "
      ]
     },
     "execution_count": 11,
     "metadata": {},
     "output_type": "execute_result"
    }
   ],
   "source": [
    "H2.simplify()"
   ]
  },
  {
   "cell_type": "code",
   "execution_count": 12,
   "metadata": {},
   "outputs": [
    {
     "data": {
      "image/png": "[encoded data removed]",
      "text/latex": [
       "$\\displaystyle - \\frac{a}{\\sqrt{q_{1}^{2} + q_{2}^{2}}} + b m q_{1} \\left(b q_{1} + v_{1}\\right) + m v_{1} \\left(b q_{1} + v_{1}\\right) + m v_{2}^{2} + m v_{3}^{2} - \\frac{m^{2} v_{2}^{2} + m^{2} v_{3}^{2} + m^{2} \\left(b q_{1} + v_{1}\\right)^{2}}{2 m}$"
      ],
      "text/plain": [
       "                                                                            2 \n",
       "        a                                                      2       2   m ⋅\n",
       "- ────────────── + b⋅m⋅q₁⋅(b⋅q₁ + v₁) + m⋅v₁⋅(b⋅q₁ + v₁) + m⋅v₂  + m⋅v₃  - ───\n",
       "     ___________                                                              \n",
       "    ╱   2     2                                                               \n",
       "  ╲╱  q₁  + q₂                                                                \n",
       "\n",
       "  2    2   2    2            2\n",
       "v₂  + m ⋅v₃  + m ⋅(b⋅q₁ + v₁) \n",
       "──────────────────────────────\n",
       "            2⋅m               \n",
       "                              \n",
       "                              "
      ]
     },
     "execution_count": 12,
     "metadata": {},
     "output_type": "execute_result"
    }
   ],
   "source": [
    "L = P1*v1 + P2*v2 +P3*v3 - H2\n",
    "L"
   ]
  },
  {
   "cell_type": "code",
   "execution_count": 13,
   "metadata": {},
   "outputs": [
    {
     "data": {
      "image/png": "[encoded data removed]",
      "text/latex": [
       "$\\displaystyle - \\frac{a}{\\sqrt{q_{1}^{2} + q_{2}^{2}}} + b^{2} m q_{1}^{2} + 2 b m q_{1} v_{1} + m v_{1}^{2} + \\frac{m v_{2}^{2}}{2} + \\frac{m v_{3}^{2}}{2} - \\frac{m \\left(b q_{1} + v_{1}\\right)^{2}}{2}$"
      ],
      "text/plain": [
       "                                                        2       2             \n",
       "        a           2     2                     2   m⋅v₂    m⋅v₃    m⋅(b⋅q₁ + \n",
       "- ────────────── + b ⋅m⋅q₁  + 2⋅b⋅m⋅q₁⋅v₁ + m⋅v₁  + ───── + ───── - ──────────\n",
       "     ___________                                      2       2           2   \n",
       "    ╱   2     2                                                               \n",
       "  ╲╱  q₁  + q₂                                                                \n",
       "\n",
       "   2\n",
       "v₁) \n",
       "────\n",
       "    \n",
       "    \n",
       "    "
      ]
     },
     "execution_count": 13,
     "metadata": {},
     "output_type": "execute_result"
    }
   ],
   "source": [
    "L.simplify()\n"
   ]
  },
  {
   "cell_type": "code",
   "execution_count": 14,
   "metadata": {},
   "outputs": [
    {
     "name": "stdout",
     "output_type": "stream",
     "text": [
      "- \\frac{a}{\\sqrt{q_{1}^{2} + q_{2}^{2}}} + b^{2} m q_{1}^{2} + 2 b m q_{1} v_{1} + m v_{1}^{2} + \\frac{m v_{2}^{2}}{2} + \\frac{m v_{3}^{2}}{2} - \\frac{m \\left(b q_{1} + v_{1}\\right)^{2}}{2}\n"
     ]
    }
   ],
   "source": [
    "print(latex(L.simplify()))"
   ]
  },
  {
   "cell_type": "code",
   "execution_count": null,
   "metadata": {},
   "outputs": [],
   "source": []
  }
 ],
 "metadata": {
  "kernelspec": {
   "display_name": "Python 3",
   "language": "python",
   "name": "python3"
  },
  "language_info": {
   "codemirror_mode": {
    "name": "ipython",
    "version": 3
   },
   "file_extension": ".py",
   "mimetype": "text/x-python",
   "name": "python",
   "nbconvert_exporter": "python",
   "pygments_lexer": "ipython3",
   "version": "3.7.4"
  }
 },
 "nbformat": 4,
 "nbformat_minor": 2
}
