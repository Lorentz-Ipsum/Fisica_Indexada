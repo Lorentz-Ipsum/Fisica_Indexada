{
 "cells": [
  {
   "cell_type": "markdown",
   "metadata": {},
   "source": [
    "# Example 1:"
   ]
  },
  {
   "cell_type": "markdown",
   "metadata": {},
   "source": [
    "Compute the Euler-Lagrange equations for the Lagrangian\n",
    "\n",
    "\\begin{equation}\n",
    "    L = \\frac{1}{2}m\\dot{x}^2 - V(x)\n",
    "\\end{equation}"
   ]
  },
  {
   "cell_type": "markdown",
   "metadata": {
    "collapsed": true
   },
   "source": [
    "# Example 2:"
   ]
  },
  {
   "cell_type": "markdown",
   "metadata": {},
   "source": [
    "Compute symbolically the following integral:\n",
    "\n",
    "\\begin{equation}\n",
    "    \\int^\\infty_0\\text{d}x\\int^x_0\\text{d}y\\;\n",
    "    \\text{e}^{-(x+y)}\\cos\\left(k(x-y)\\right)\n",
    "\\end{equation}"
   ]
  },
  {
   "cell_type": "markdown",
   "metadata": {},
   "source": [
    "# Example 3:"
   ]
  },
  {
   "cell_type": "markdown",
   "metadata": {},
   "source": [
    "Expand the Bessel function $J_n(x)$ up to $\\mathcal{O}(x^5)$. Then particularize the result to $n=2$."
   ]
  },
  {
   "cell_type": "markdown",
   "metadata": {},
   "source": [
    "# Example 4 "
   ]
  },
  {
   "cell_type": "markdown",
   "metadata": {},
   "source": [
    "Starting with the expression\n",
    "\n",
    "\\begin{equation*}\n",
    "    \\frac{\\text{d}^2}{\\text{d}t^2}\\Big\\{\\cos\\big(\\alpha q(t)\\big)\n",
    "        \\sin\\big(\\beta q(t)\\big)\\big(q(t)+\\alpha\\beta t^2\\big)\\Big\\}\n",
    "\\end{equation*}\n",
    "\n",
    "try to recast it as\n",
    "\n",
    "\\begin{align*}\n",
    "&2 \\alpha \\beta c_{\\alpha} s_{\\beta}\\\\\n",
    "&- 4 \\alpha \\beta t \\left(\\alpha s_{\\alpha} s_{\\beta} \n",
    "    - \\beta c_{\\alpha} c_{\\beta}\\right) \n",
    "    \\frac{d}{d t} q{\\left (t\\right )}\\\\\n",
    "&- \\Big[\\alpha \\beta t^{2} \\left(\\alpha s_{\\alpha} s_{\\beta} \n",
    "    - \\beta c_{\\alpha} c_{\\beta}\\right)\\\\\n",
    "&\\qquad- c_{\\alpha} s_{\\beta}\n",
    "    + \\left(\\alpha s_{\\alpha} s_{\\beta} \n",
    "    - \\beta c_{\\alpha} c_{\\beta}\\right) q{\\left (t \\right )}\\Big]\n",
    "    \\frac{d^{2}}{d t^{2}} q{\\left (t \\right )}\\\\\n",
    "&+ \\Big[- \\alpha \\beta t^{2} \\left(\\alpha^{2} c_{\\alpha} s_{\\beta} \n",
    "    + 2 \\alpha \\beta c_{\\beta} s_{\\alpha} \n",
    "    + \\beta^{2} c_{\\alpha} s_{\\beta}\\right)\\\\\n",
    "&\\qquad - 2 \\alpha s_{\\alpha} s_{\\beta} \n",
    "    + 2 \\beta c_{\\alpha} c_{\\beta}\\\\\n",
    "&\\qquad\n",
    "    - \\left(\\alpha^{2} c_{\\alpha} s_{\\beta}\n",
    "    + 2 \\alpha \\beta c_{\\beta} s_{\\alpha} \n",
    "    + \\beta^{2} c_{\\alpha} s_{\\beta}\\right) \n",
    "    q{\\left (t \\right )}\\Big] \n",
    "    \\left(\\frac{d}{d t} q{\\left (t \\right )}\\right)^{2}\n",
    "\\end{align*}\n",
    "\n",
    "where\n",
    "\\begin{alignat*}{2}\n",
    "     s_\\alpha &\\equiv \\sin\\big(\\alpha q(t)\\big) &\\qquad\n",
    "         s_\\beta &\\equiv \\sin\\big(\\beta q(t)\\big) \\\\\n",
    "     c_\\alpha &\\equiv \\cos\\big(\\alpha q(t)\\big) &\\qquad\n",
    "         c_\\beta &\\equiv \\cos\\big(\\beta q(t)\\big)\n",
    "\\end{alignat*}"
   ]
  }
 ],
 "metadata": {
  "kernelspec": {
   "display_name": "Python 3",
   "language": "python",
   "name": "python3"
  },
  "language_info": {
   "codemirror_mode": {
    "name": "ipython",
    "version": 3
   },
   "file_extension": ".py",
   "mimetype": "text/x-python",
   "name": "python",
   "nbconvert_exporter": "python",
   "pygments_lexer": "ipython3",
   "version": "3.7.4"
  },
  "varInspector": {
   "cols": {
    "lenName": 16,
    "lenType": 16,
    "lenVar": 40
   },
   "kernels_config": {
    "python": {
     "delete_cmd_postfix": "",
     "delete_cmd_prefix": "del ",
     "library": "var_list.py",
     "varRefreshCmd": "print(var_dic_list())"
    },
    "r": {
     "delete_cmd_postfix": ") ",
     "delete_cmd_prefix": "rm(",
     "library": "var_list.r",
     "varRefreshCmd": "cat(var_dic_list()) "
    }
   },
   "types_to_exclude": [
    "module",
    "function",
    "builtin_function_or_method",
    "instance",
    "_Feature"
   ],
   "window_display": false
  }
 },
 "nbformat": 4,
 "nbformat_minor": 2
}
