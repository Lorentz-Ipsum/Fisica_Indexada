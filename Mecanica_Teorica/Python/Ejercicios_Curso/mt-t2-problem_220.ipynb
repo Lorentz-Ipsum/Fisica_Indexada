{
 "cells": [
  {
   "cell_type": "markdown",
   "metadata": {},
   "source": [
    "# Problem 2.20"
   ]
  },
  {
   "cell_type": "markdown",
   "metadata": {},
   "source": [
    "Check that the following transformation is canonical\n",
    "\n",
    "\\begin{alignat*}{2}\n",
    "    x &= \\frac{1}{\\alpha}\\Big(\\sqrt{2P_1}\\sin Q_1 + P_2\\Big)\\ , \n",
    "        &\\qquad p_x &= \\frac{\\alpha}{2}\\Big(\\sqrt{2P_1}\\cos Q_1 - Q_2\\Big)\\ ,\\\\\n",
    "    y &= \\frac{1}{\\alpha}\\Big(\\sqrt{2P_1}\\cos Q_1 + Q_2\\Big)\\ ,\n",
    "        &\\qquad p_y &= -\\frac{\\alpha}{2}\\Big(\\sqrt{2P_1}\\sin Q_1 - P_2\\Big)\\ .\n",
    "\\end{alignat*}"
   ]
  },
  {
   "cell_type": "code",
   "execution_count": 1,
   "metadata": {
    "ExecuteTime": {
     "end_time": "2019-11-27T10:48:27.930496Z",
     "start_time": "2019-11-27T10:48:27.468751Z"
    }
   },
   "outputs": [],
   "source": [
    "import hvr_functions as hvr\n",
    "from sympy import *\n",
    "from IPython.display import display\n",
    "from sympy.physics.vector import dynamicsymbols, init_vprinting\n",
    "\n",
    "init_vprinting()"
   ]
  },
  {
   "cell_type": "code",
   "execution_count": 2,
   "metadata": {
    "ExecuteTime": {
     "end_time": "2019-11-27T10:48:28.458820Z",
     "start_time": "2019-11-27T10:48:28.446438Z"
    }
   },
   "outputs": [],
   "source": [
    "t = symbols('t')\n",
    "a, m, B, q, h = symbols('alpha m B q H')\n",
    "x, y, z, px, py, pz = dynamicsymbols('x y z p_x p_y p_z')\n",
    "q1, q2, p1, p2 = dynamicsymbols('Q_1 Q_2 P_1 P_2')\n",
    "Ax, Ay, Az = dynamicsymbols('A_x A_y A_z')"
   ]
  },
  {
   "cell_type": "markdown",
   "metadata": {},
   "source": [
    "Define the transformation"
   ]
  },
  {
   "cell_type": "code",
   "execution_count": 3,
   "metadata": {
    "ExecuteTime": {
     "end_time": "2019-11-27T10:48:31.957103Z",
     "start_time": "2019-11-27T10:48:31.047575Z"
    }
   },
   "outputs": [
    {
     "data": {
      "image/png": "[encoded data removed]",
      "text/latex": [
       "$$x = \\frac{\\sqrt{2} \\sqrt{P_{1}} \\operatorname{sin}\\left(Q_{1}\\right) + P_{2}}{\\alpha}$$"
      ],
      "text/plain": [
       "         ____             \n",
       "    √2⋅╲╱ P₁ ⋅sin(Q₁) + P₂\n",
       "x = ──────────────────────\n",
       "              α           "
      ]
     },
     "metadata": {},
     "output_type": "display_data"
    },
    {
     "data": {
      "image/png": "[encoded data removed]",
      "text/latex": [
       "$$y = \\frac{\\sqrt{2} \\sqrt{P_{1}} \\operatorname{cos}\\left(Q_{1}\\right) + Q_{2}}{\\alpha}$$"
      ],
      "text/plain": [
       "         ____             \n",
       "    √2⋅╲╱ P₁ ⋅cos(Q₁) + Q₂\n",
       "y = ──────────────────────\n",
       "              α           "
      ]
     },
     "metadata": {},
     "output_type": "display_data"
    },
    {
     "data": {
      "image/png": "[encoded data removed]",
      "text/latex": [
       "$$p_{x} = \\frac{\\alpha \\left(\\sqrt{2} \\sqrt{P_{1}} \\operatorname{cos}\\left(Q_{1}\\right) - Q_{2}\\right)}{2}$$"
      ],
      "text/plain": [
       "       ⎛     ____             ⎞\n",
       "     α⋅⎝√2⋅╲╱ P₁ ⋅cos(Q₁) - Q₂⎠\n",
       "pₓ = ──────────────────────────\n",
       "                 2             "
      ]
     },
     "metadata": {},
     "output_type": "display_data"
    },
    {
     "data": {
      "image/png": "[encoded data removed]",
      "text/latex": [
       "$$p_{y} = - \\frac{\\alpha \\left(\\sqrt{2} \\sqrt{P_{1}} \\operatorname{sin}\\left(Q_{1}\\right) - P_{2}\\right)}{2}$$"
      ],
      "text/plain": [
       "         ⎛     ____             ⎞ \n",
       "      -α⋅⎝√2⋅╲╱ P₁ ⋅sin(Q₁) - P₂⎠ \n",
       "p_y = ────────────────────────────\n",
       "                   2              "
      ]
     },
     "metadata": {},
     "output_type": "display_data"
    }
   ],
   "source": [
    "vars1 = [x, y, px, py]\n",
    "vars2 = [q1, q2, p1, p2]\n",
    "\n",
    "change_vars = {x  : (sqrt(2*p1)*sin(q1)+p2)/a, \\\n",
    "               y  : (sqrt(2*p1)*cos(q1)+q2)/a, \\\n",
    "               px : a/2*(sqrt(2*p1)*cos(q1)-q2), \\\n",
    "               py : -a/2*(sqrt(2*p1)*sin(q1)-p2)}\n",
    "\n",
    "for key in change_vars:\n",
    "    display( Eq(key, change_vars[key]) )"
   ]
  },
  {
   "cell_type": "markdown",
   "metadata": {},
   "source": [
    "Check that it is indeed canonical (I use my own function here, you can try to code it or check every Poisson bracket manually)"
   ]
  },
  {
   "cell_type": "code",
   "execution_count": 4,
   "metadata": {
    "ExecuteTime": {
     "end_time": "2019-11-27T10:48:33.785918Z",
     "start_time": "2019-11-27T10:48:33.672587Z"
    }
   },
   "outputs": [
    {
     "data": {
      "text/plain": [
       "True"
      ]
     },
     "execution_count": 4,
     "metadata": {},
     "output_type": "execute_result"
    }
   ],
   "source": [
    "hvr.check_symplectic(change_vars, vars2, vars1)"
   ]
  },
  {
   "cell_type": "markdown",
   "metadata": {},
   "source": [
    "Apply it to the hamiltonian of a particle in a constant magnetic field. For a magnetic field pointing in the $\\hat{z}$ direction we have\n",
    "\n",
    "\\begin{equation}\n",
    "    B = \\partial_xA_y - \\partial_y A_x\n",
    "\\end{equation}\n",
    "\n",
    "If it is constant a possible configuration (in some gauge) is\n",
    "\n",
    "\\begin{align}\n",
    "    A_x &= -\\frac{1}{2}y B\\\\\n",
    "    A_y &= \\frac{1}{2}x B\n",
    "\\end{align}\n",
    "\n",
    "The hamiltonian for this problem is"
   ]
  },
  {
   "cell_type": "code",
   "execution_count": 5,
   "metadata": {
    "ExecuteTime": {
     "end_time": "2019-11-27T10:48:39.005253Z",
     "start_time": "2019-11-27T10:48:38.783072Z"
    }
   },
   "outputs": [
    {
     "data": {
      "image/png": "[encoded data removed]",
      "text/latex": [
       "$$H = \\sqrt{m^{2} + \\left(- q A_{x} + p_{x}\\right)^{2} + \\left(- q A_{y} + p_{y}\\right)^{2} + \\left(- q A_{z} + p_{z}\\right)^{2}}$$"
      ],
      "text/plain": [
       "       ________________________________________________________\n",
       "      ╱  2               2                 2                 2 \n",
       "H = ╲╱  m  + (-q⋅Aₓ + pₓ)  + (-q⋅A_y + p_y)  + (-q⋅A_z + p_z)  "
      ]
     },
     "metadata": {},
     "output_type": "display_data"
    }
   ],
   "source": [
    "H = sqrt(m**2 + (px-q*Ax)**2 + (py-q*Ay)**2 + (pz-q*Az)**2)\n",
    "display( Eq(h, H) )"
   ]
  },
  {
   "cell_type": "markdown",
   "metadata": {},
   "source": [
    "And the electromagnetic field is"
   ]
  },
  {
   "cell_type": "code",
   "execution_count": 6,
   "metadata": {
    "ExecuteTime": {
     "end_time": "2019-11-27T10:48:43.757981Z",
     "start_time": "2019-11-27T10:48:43.123375Z"
    }
   },
   "outputs": [
    {
     "data": {
      "image/png": "[encoded data removed]",
      "text/latex": [
       "$$A_{x} = - \\frac{B y}{2}$$"
      ],
      "text/plain": [
       "     -B⋅y \n",
       "Aₓ = ─────\n",
       "       2  "
      ]
     },
     "metadata": {},
     "output_type": "display_data"
    },
    {
     "data": {
      "image/png": "[encoded data removed]",
      "text/latex": [
       "$$A_{y} = \\frac{B x}{2}$$"
      ],
      "text/plain": [
       "      B⋅x\n",
       "A_y = ───\n",
       "       2 "
      ]
     },
     "metadata": {},
     "output_type": "display_data"
    },
    {
     "data": {
      "image/png": "[encoded data removed]",
      "text/latex": [
       "$$A_{z} = 0$$"
      ],
      "text/plain": [
       "A_z = 0"
      ]
     },
     "metadata": {},
     "output_type": "display_data"
    }
   ],
   "source": [
    "em_field = {Ax : -y*B/2, Ay : x*B/2, Az : 0}\n",
    "\n",
    "for key in em_field:\n",
    "    display( Eq(key, em_field[key]) )"
   ]
  },
  {
   "cell_type": "markdown",
   "metadata": {},
   "source": [
    "Substituting in the hamiltonian"
   ]
  },
  {
   "cell_type": "code",
   "execution_count": 7,
   "metadata": {
    "ExecuteTime": {
     "end_time": "2019-11-27T10:48:46.242686Z",
     "start_time": "2019-11-27T10:48:46.019093Z"
    }
   },
   "outputs": [
    {
     "data": {
      "image/png": "[encoded data removed]",
      "text/latex": [
       "$$H = \\sqrt{m^{2} + \\left(- \\frac{B q x}{2} + p_{y}\\right)^{2} + \\left(\\frac{B q y}{2} + p_{x}\\right)^{2} + p^{2}_{z}}$$"
      ],
      "text/plain": [
       "         ______________________________________________\n",
       "        ╱                     2               2        \n",
       "       ╱   2   ⎛  B⋅q⋅x      ⎞    ⎛B⋅q⋅y     ⎞       2 \n",
       "H =   ╱   m  + ⎜- ───── + p_y⎟  + ⎜───── + pₓ⎟  + p_z  \n",
       "    ╲╱         ⎝    2        ⎠    ⎝  2       ⎠         "
      ]
     },
     "metadata": {},
     "output_type": "display_data"
    }
   ],
   "source": [
    "H = H.subs(em_field)\n",
    "display( Eq(h, H) )"
   ]
  },
  {
   "cell_type": "markdown",
   "metadata": {},
   "source": [
    "And performing the canonical transformation"
   ]
  },
  {
   "cell_type": "code",
   "execution_count": 8,
   "metadata": {
    "ExecuteTime": {
     "end_time": "2019-11-27T10:48:50.365008Z",
     "start_time": "2019-11-27T10:48:47.598406Z"
    }
   },
   "outputs": [
    {
     "data": {
      "image/png": "[encoded data removed]",
      "text/latex": [
       "$$H = \\frac{\\sqrt{\\frac{2 \\sqrt{2} B^{2} q^{2} \\sqrt{P_{1}} P_{2} \\operatorname{sin}\\left(Q_{1}\\right)}{\\alpha^{2}} + \\frac{2 \\sqrt{2} B^{2} q^{2} \\sqrt{P_{1}} Q_{2} \\operatorname{cos}\\left(Q_{1}\\right)}{\\alpha^{2}} + \\frac{2 B^{2} q^{2} P_{1}}{\\alpha^{2}} + \\frac{B^{2} q^{2} P^{2}_{2}}{\\alpha^{2}} + \\frac{B^{2} q^{2} Q^{2}_{2}}{\\alpha^{2}} + 4 B q P_{1} - 2 B q P^{2}_{2} - 2 B q Q^{2}_{2} - 2 \\sqrt{2} \\alpha^{2} \\sqrt{P_{1}} P_{2} \\operatorname{sin}\\left(Q_{1}\\right) - 2 \\sqrt{2} \\alpha^{2} \\sqrt{P_{1}} Q_{2} \\operatorname{cos}\\left(Q_{1}\\right) + 2 \\alpha^{2} P_{1} + \\alpha^{2} P^{2}_{2} + \\alpha^{2} Q^{2}_{2} + 4 m^{2} + 4 p^{2}_{z}}}{2}$$"
      ],
      "text/plain": [
       "          ____________________________________________________________________\n",
       "         ╱       2  2   ____                    2  2   ____                 2 \n",
       "        ╱  2⋅√2⋅B ⋅q ⋅╲╱ P₁ ⋅P₂⋅sin(Q₁)   2⋅√2⋅B ⋅q ⋅╲╱ P₁ ⋅Q₂⋅cos(Q₁)   2⋅B ⋅\n",
       "       ╱   ──────────────────────────── + ──────────────────────────── + ─────\n",
       "      ╱                  2                              2                     \n",
       "    ╲╱                  α                              α                     α\n",
       "H = ──────────────────────────────────────────────────────────────────────────\n",
       "                                                                              \n",
       "\n",
       "______________________________________________________________________________\n",
       " 2       2  2   2    2  2   2                                                 \n",
       "q ⋅P₁   B ⋅q ⋅P₂    B ⋅q ⋅Q₂                       2           2         2   _\n",
       "───── + ───────── + ───────── + 4⋅B⋅q⋅P₁ - 2⋅B⋅q⋅P₂  - 2⋅B⋅q⋅Q₂  - 2⋅√2⋅α ⋅╲╱ \n",
       "2            2           2                                                    \n",
       "            α           α                                                     \n",
       "──────────────────────────────────────────────────────────────────────────────\n",
       "                                             2                                \n",
       "\n",
       "______________________________________________________________________________\n",
       "                                                                              \n",
       "___                    2   ____                 2       2   2    2   2      2 \n",
       "P₁ ⋅P₂⋅sin(Q₁) - 2⋅√2⋅α ⋅╲╱ P₁ ⋅Q₂⋅cos(Q₁) + 2⋅α ⋅P₁ + α ⋅P₂  + α ⋅Q₂  + 4⋅m  \n",
       "                                                                              \n",
       "                                                                              \n",
       "──────────────────────────────────────────────────────────────────────────────\n",
       "                                                                              \n",
       "\n",
       "_________\n",
       "         \n",
       "       2 \n",
       "+ 4⋅p_z  \n",
       "         \n",
       "         \n",
       "─────────\n",
       "         "
      ]
     },
     "metadata": {},
     "output_type": "display_data"
    }
   ],
   "source": [
    "H = H.subs(change_vars)\n",
    "H = H.expand().simplify()\n",
    "\n",
    "display( Eq(h, H) )"
   ]
  },
  {
   "cell_type": "markdown",
   "metadata": {},
   "source": [
    "Choosing the parameter $\\alpha$ as\n",
    "\n",
    "\\begin{equation}\n",
    "    \\alpha^2 = qB\\ ,\\qquad qB > 0\n",
    "\\end{equation}"
   ]
  },
  {
   "cell_type": "code",
   "execution_count": 9,
   "metadata": {
    "ExecuteTime": {
     "end_time": "2019-11-27T10:48:57.665904Z",
     "start_time": "2019-11-27T10:48:57.450784Z"
    }
   },
   "outputs": [
    {
     "data": {
      "image/png": "[encoded data removed]",
      "text/latex": [
       "$$H = \\frac{\\sqrt{8 B q P_{1} + 4 m^{2} + 4 p^{2}_{z}}}{2}$$"
      ],
      "text/plain": [
       "       __________________________\n",
       "      ╱               2        2 \n",
       "    ╲╱  8⋅B⋅q⋅P₁ + 4⋅m  + 4⋅p_z  \n",
       "H = ─────────────────────────────\n",
       "                  2              "
      ]
     },
     "metadata": {},
     "output_type": "display_data"
    }
   ],
   "source": [
    "H = H.subs(a**2, B*q)\n",
    "\n",
    "display( Eq(h, H) )"
   ]
  },
  {
   "cell_type": "markdown",
   "metadata": {},
   "source": [
    "It is easy to find the equations of motion for this hamiltonian (I use a function of my own again, this one is very simple: try to do it as an exercise)"
   ]
  },
  {
   "cell_type": "code",
   "execution_count": 10,
   "metadata": {
    "ExecuteTime": {
     "end_time": "2019-11-27T10:49:05.216372Z",
     "start_time": "2019-11-27T10:49:03.899042Z"
    }
   },
   "outputs": [
    {
     "data": {
      "image/png": "[encoded data removed]",
      "text/latex": [
       "$$\\dot{Q}_{1} = \\frac{B q}{H}$$"
      ],
      "text/plain": [
       "      B⋅q\n",
       "Q₁̇ = ───\n",
       "       H "
      ]
     },
     "metadata": {},
     "output_type": "display_data"
    },
    {
     "data": {
      "image/png": "[encoded data removed]",
      "text/latex": [
       "$$\\dot{Q}_{2} = 0$$"
      ],
      "text/plain": [
       "Q₂̇ = 0"
      ]
     },
     "metadata": {},
     "output_type": "display_data"
    },
    {
     "data": {
      "image/png": "[encoded data removed]",
      "text/latex": [
       "$$\\dot{z} = \\frac{p_{z}}{H}$$"
      ],
      "text/plain": [
       "     p_z\n",
       "ż = ───\n",
       "      H "
      ]
     },
     "metadata": {},
     "output_type": "display_data"
    },
    {
     "data": {
      "image/png": "[encoded data removed]",
      "text/latex": [
       "$$\\dot{P}_{1} = 0$$"
      ],
      "text/plain": [
       "P₁̇ = 0"
      ]
     },
     "metadata": {},
     "output_type": "display_data"
    },
    {
     "data": {
      "image/png": "[encoded data removed]",
      "text/latex": [
       "$$\\dot{P}_{2} = 0$$"
      ],
      "text/plain": [
       "P₂̇ = 0"
      ]
     },
     "metadata": {},
     "output_type": "display_data"
    },
    {
     "data": {
      "image/png": "[encoded data removed]",
      "text/latex": [
       "$$\\dot{p}_{z} = 0$$"
      ],
      "text/plain": [
       "p_̇z = 0"
      ]
     },
     "metadata": {},
     "output_type": "display_data"
    }
   ],
   "source": [
    "can_vars = [q1, q2, z, p1, p2, pz]\n",
    "sys = hvr.eom_canonical(t, can_vars, H)\n",
    "\n",
    "for eq in sys:\n",
    "    display( eq.subs(2*H, 2*h) )   # NOTE: check what happens without the 2"
   ]
  },
  {
   "cell_type": "code",
   "execution_count": null,
   "metadata": {},
   "outputs": [],
   "source": []
  }
 ],
 "metadata": {
  "kernelspec": {
   "display_name": "Python 3",
   "language": "python",
   "name": "python3"
  },
  "language_info": {
   "codemirror_mode": {
    "name": "ipython",
    "version": 3
   },
   "file_extension": ".py",
   "mimetype": "text/x-python",
   "name": "python",
   "nbconvert_exporter": "python",
   "pygments_lexer": "ipython3",
   "version": "3.5.5"
  },
  "varInspector": {
   "cols": {
    "lenName": 16,
    "lenType": 16,
    "lenVar": 40
   },
   "kernels_config": {
    "python": {
     "delete_cmd_postfix": "",
     "delete_cmd_prefix": "del ",
     "library": "var_list.py",
     "varRefreshCmd": "print(var_dic_list())"
    },
    "r": {
     "delete_cmd_postfix": ") ",
     "delete_cmd_prefix": "rm(",
     "library": "var_list.r",
     "varRefreshCmd": "cat(var_dic_list()) "
    }
   },
   "types_to_exclude": [
    "module",
    "function",
    "builtin_function_or_method",
    "instance",
    "_Feature"
   ],
   "window_display": false
  }
 },
 "nbformat": 4,
 "nbformat_minor": 2
}
