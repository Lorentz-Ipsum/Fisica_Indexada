{
 "cells": [
  {
   "cell_type": "code",
   "execution_count": 1,
   "metadata": {},
   "outputs": [],
   "source": [
    "from sympy import *\n",
    "init_printing() "
   ]
  },
  {
   "cell_type": "markdown",
   "metadata": {},
   "source": [
    "# Example 1:"
   ]
  },
  {
   "cell_type": "markdown",
   "metadata": {},
   "source": [
    "Compute the Euler-Lagrange equations for the Lagrangian\n",
    "\n",
    "\\begin{equation}\n",
    "    L = \\frac{1}{2}m\\dot{x}^2 - V(x)\n",
    "\\end{equation}"
   ]
  },
  {
   "cell_type": "code",
   "execution_count": 73,
   "metadata": {},
   "outputs": [],
   "source": [
    "y, z, t = symbols('y z t')\n",
    "xp = symbols('X')\n",
    "k, m, n = symbols('k m n', integer=True)\n",
    "V, x, f = symbols('V x f', cls=Function)"
   ]
  },
  {
   "cell_type": "code",
   "execution_count": 74,
   "metadata": {},
   "outputs": [],
   "source": [
    "Lag = Rational(1,2) * m * Derivative(x(t),t)**2 - V(x(t))          "
   ]
  },
  {
   "cell_type": "code",
   "execution_count": 75,
   "metadata": {},
   "outputs": [
    {
     "data": {
      "image/png": "[encoded data removed]",
      "text/latex": [
       "$\\displaystyle \\frac{m \\left(\\frac{d}{d t} x{\\left(t \\right)}\\right)^{2}}{2} - V{\\left(x{\\left(t \\right)} \\right)}$"
      ],
      "text/plain": [
       "            2          \n",
       "  ⎛d       ⎞           \n",
       "m⋅⎜──(x(t))⎟           \n",
       "  ⎝dt      ⎠           \n",
       "───────────── - V(x(t))\n",
       "      2                "
      ]
     },
     "execution_count": 75,
     "metadata": {},
     "output_type": "execute_result"
    }
   ],
   "source": [
    "Lag"
   ]
  },
  {
   "cell_type": "code",
   "execution_count": 80,
   "metadata": {},
   "outputs": [],
   "source": [
    "def euler_lagrange(tau, m):\n",
    "    "
   ]
  },
  {
   "cell_type": "code",
   "execution_count": null,
   "metadata": {},
   "outputs": [],
   "source": [
    "\n"
   ]
  },
  {
   "cell_type": "markdown",
   "metadata": {
    "collapsed": true
   },
   "source": [
    "# Example 2:"
   ]
  },
  {
   "cell_type": "markdown",
   "metadata": {},
   "source": [
    "Compute symbolically the following integral:\n",
    "\n",
    "\\begin{equation}\n",
    "    \\int^\\infty_0\\text{d}x\\int^x_0\\text{d}y\\;\n",
    "    \\text{e}^{-(x+y)}\\cos\\left(k(x-y)\\right)\n",
    "\\end{equation}"
   ]
  },
  {
   "cell_type": "code",
   "execution_count": 93,
   "metadata": {},
   "outputs": [],
   "source": [
    "x, y = symbols('x y')\n",
    "\n",
    "\n",
    "integ = Integral( exp(-(x+y)) * cos(k*(x-y)), (y , 0 , x), (x,0,oo))"
   ]
  },
  {
   "cell_type": "code",
   "execution_count": 94,
   "metadata": {},
   "outputs": [
    {
     "data": {
      "image/png": "[encoded data removed]",
      "text/latex": [
       "$\\displaystyle \\int\\limits_{0}^{\\infty}\\int\\limits_{0}^{x} e^{- x - y} \\cos{\\left(k \\left(x - y\\right) \\right)}\\, dy\\, dx$"
      ],
      "text/plain": [
       "∞ x                             \n",
       "⌠ ⌠                             \n",
       "⎮ ⎮  -x - y                     \n",
       "⎮ ⎮ ℯ      ⋅cos(k⋅(x - y)) dy dx\n",
       "⌡ ⌡                             \n",
       "0 0                             "
      ]
     },
     "execution_count": 94,
     "metadata": {},
     "output_type": "execute_result"
    }
   ],
   "source": [
    "integ"
   ]
  },
  {
   "cell_type": "code",
   "execution_count": 96,
   "metadata": {},
   "outputs": [
    {
     "data": {
      "image/png": "[encoded data removed]",
      "text/latex": [
       "$\\displaystyle - \\frac{k^{4}}{k^{4} + 2 k^{2} + 1} - \\frac{k^{2}}{k^{4} + 2 k^{2} + 1} + \\frac{k^{2}}{2 k^{2} + 2} + \\frac{k^{2}}{k^{2} + 1} - \\frac{1}{2} + \\frac{1}{k^{2} + 1}$"
      ],
      "text/plain": [
       "         4               2            2         2               \n",
       "        k               k            k         k      1     1   \n",
       "- ───────────── - ───────────── + ──────── + ────── - ─ + ──────\n",
       "   4      2        4      2          2        2       2    2    \n",
       "  k  + 2⋅k  + 1   k  + 2⋅k  + 1   2⋅k  + 2   k  + 1       k  + 1"
      ]
     },
     "execution_count": 96,
     "metadata": {},
     "output_type": "execute_result"
    }
   ],
   "source": [
    "integ.doit()"
   ]
  },
  {
   "cell_type": "markdown",
   "metadata": {},
   "source": [
    "# Example 3:"
   ]
  },
  {
   "cell_type": "markdown",
   "metadata": {},
   "source": [
    "Expand the Bessel function $J_n(x)$ up to $\\mathcal{O}(x^5)$. Then particularize the result to $n=2$."
   ]
  },
  {
   "cell_type": "code",
   "execution_count": 105,
   "metadata": {},
   "outputs": [
    {
     "data": {
      "image/png": "[encoded data removed]",
      "text/latex": [
       "$\\displaystyle \\frac{x^{2}}{8} - \\frac{x^{4}}{96} + O\\left(x^{5}\\right)$"
      ],
      "text/plain": [
       " 2    4        \n",
       "x    x     ⎛ 5⎞\n",
       "── - ── + O⎝x ⎠\n",
       "8    96        "
      ]
     },
     "execution_count": 105,
     "metadata": {},
     "output_type": "execute_result"
    }
   ],
   "source": [
    "func = besselj(n,x)\n",
    "serie = func.series(x, 0, 5)\n",
    "\n",
    "serie.subs(n,2)"
   ]
  },
  {
   "cell_type": "markdown",
   "metadata": {},
   "source": [
    "# Example 4 "
   ]
  },
  {
   "cell_type": "markdown",
   "metadata": {},
   "source": [
    "Starting with the expression\n",
    "\n",
    "\\begin{equation*}\n",
    "    \\frac{\\text{d}^2}{\\text{d}t^2}\\Big\\{\\cos\\big(\\alpha q(t)\\big)\n",
    "        \\sin\\big(\\beta q(t)\\big)\\big(q(t)+\\alpha\\beta t^2\\big)\\Big\\}\n",
    "\\end{equation*}\n",
    "\n",
    "try to recast it as\n",
    "\n",
    "\\begin{align*}\n",
    "&2 \\alpha \\beta c_{\\alpha} s_{\\beta}\\\\\n",
    "&- 4 \\alpha \\beta t \\left(\\alpha s_{\\alpha} s_{\\beta} \n",
    "    - \\beta c_{\\alpha} c_{\\beta}\\right) \n",
    "    \\frac{d}{d t} q{\\left (t\\right )}\\\\\n",
    "&- \\Big[\\alpha \\beta t^{2} \\left(\\alpha s_{\\alpha} s_{\\beta} \n",
    "    - \\beta c_{\\alpha} c_{\\beta}\\right)\\\\\n",
    "&\\qquad- c_{\\alpha} s_{\\beta}\n",
    "    + \\left(\\alpha s_{\\alpha} s_{\\beta} \n",
    "    - \\beta c_{\\alpha} c_{\\beta}\\right) q{\\left (t \\right )}\\Big]\n",
    "    \\frac{d^{2}}{d t^{2}} q{\\left (t \\right )}\\\\\n",
    "&+ \\Big[- \\alpha \\beta t^{2} \\left(\\alpha^{2} c_{\\alpha} s_{\\beta} \n",
    "    + 2 \\alpha \\beta c_{\\beta} s_{\\alpha} \n",
    "    + \\beta^{2} c_{\\alpha} s_{\\beta}\\right)\\\\\n",
    "&\\qquad - 2 \\alpha s_{\\alpha} s_{\\beta} \n",
    "    + 2 \\beta c_{\\alpha} c_{\\beta}\\\\\n",
    "&\\qquad\n",
    "    - \\left(\\alpha^{2} c_{\\alpha} s_{\\beta}\n",
    "    + 2 \\alpha \\beta c_{\\beta} s_{\\alpha} \n",
    "    + \\beta^{2} c_{\\alpha} s_{\\beta}\\right) \n",
    "    q{\\left (t \\right )}\\Big] \n",
    "    \\left(\\frac{d}{d t} q{\\left (t \\right )}\\right)^{2}\n",
    "\\end{align*}\n",
    "\n",
    "where\n",
    "\\begin{alignat*}{2}\n",
    "     s_\\alpha &\\equiv \\sin\\big(\\alpha q(t)\\big) &\\qquad\n",
    "         s_\\beta &\\equiv \\sin\\big(\\beta q(t)\\big) \\\\\n",
    "     c_\\alpha &\\equiv \\cos\\big(\\alpha q(t)\\big) &\\qquad\n",
    "         c_\\beta &\\equiv \\cos\\big(\\beta q(t)\\big)\n",
    "\\end{alignat*}"
   ]
  },
  {
   "cell_type": "code",
   "execution_count": 121,
   "metadata": {},
   "outputs": [
    {
     "ename": "SyntaxError",
     "evalue": "invalid syntax (<ipython-input-121-cec4b1baabf3>, line 2)",
     "output_type": "error",
     "traceback": [
      "\u001b[0;36m  File \u001b[0;32m\"<ipython-input-121-cec4b1baabf3>\"\u001b[0;36m, line \u001b[0;32m2\u001b[0m\n\u001b[0;31m    q, sa ca= symbols('q s_alpha c_alpha', cls=Function)\u001b[0m\n\u001b[0m           ^\u001b[0m\n\u001b[0;31mSyntaxError\u001b[0m\u001b[0;31m:\u001b[0m invalid syntax\n"
     ]
    }
   ],
   "source": [
    "a, b, t = symbols('alpha beta t')\n",
    "q, sa ca= symbols('q s_alpha c_alpha', cls=Function)\n",
    "\n",
    "sa = sin(a*q(t))\n",
    "ca = cos(a*q(t))\n",
    "\n",
    "expr = ca * sin( b*q(t) )*(q(t) + a*b*t**2)\n"
   ]
  },
  {
   "cell_type": "code",
   "execution_count": 112,
   "metadata": {},
   "outputs": [
    {
     "data": {
      "image/png": "[encoded data removed]",
      "text/latex": [
       "$\\displaystyle \\left(\\alpha \\beta t^{2} + q{\\left(t \\right)}\\right) \\sin{\\left(\\beta q{\\left(t \\right)} \\right)} \\cos{\\left(\\alpha q{\\left(t \\right)} \\right)}$"
      ],
      "text/plain": [
       "⎛     2       ⎞                        \n",
       "⎝α⋅β⋅t  + q(t)⎠⋅sin(β⋅q(t))⋅cos(α⋅q(t))"
      ]
     },
     "execution_count": 112,
     "metadata": {},
     "output_type": "execute_result"
    }
   ],
   "source": [
    "expr"
   ]
  },
  {
   "cell_type": "code",
   "execution_count": 114,
   "metadata": {},
   "outputs": [],
   "source": [
    "Dexpr = expr.diff(t,t)"
   ]
  },
  {
   "cell_type": "code",
   "execution_count": 115,
   "metadata": {},
   "outputs": [
    {
     "data": {
      "image/png": "[encoded data removed]",
      "text/latex": [
       "$\\displaystyle - 2 \\alpha \\beta \\left(\\alpha \\beta t^{2} + q{\\left(t \\right)}\\right) \\sin{\\left(\\alpha q{\\left(t \\right)} \\right)} \\cos{\\left(\\beta q{\\left(t \\right)} \\right)} \\left(\\frac{d}{d t} q{\\left(t \\right)}\\right)^{2} - 2 \\alpha \\left(2 \\alpha \\beta t + \\frac{d}{d t} q{\\left(t \\right)}\\right) \\sin{\\left(\\alpha q{\\left(t \\right)} \\right)} \\sin{\\left(\\beta q{\\left(t \\right)} \\right)} \\frac{d}{d t} q{\\left(t \\right)} - \\alpha \\left(\\alpha \\beta t^{2} + q{\\left(t \\right)}\\right) \\left(\\alpha \\cos{\\left(\\alpha q{\\left(t \\right)} \\right)} \\left(\\frac{d}{d t} q{\\left(t \\right)}\\right)^{2} + \\sin{\\left(\\alpha q{\\left(t \\right)} \\right)} \\frac{d^{2}}{d t^{2}} q{\\left(t \\right)}\\right) \\sin{\\left(\\beta q{\\left(t \\right)} \\right)} + 2 \\beta \\left(2 \\alpha \\beta t + \\frac{d}{d t} q{\\left(t \\right)}\\right) \\cos{\\left(\\alpha q{\\left(t \\right)} \\right)} \\cos{\\left(\\beta q{\\left(t \\right)} \\right)} \\frac{d}{d t} q{\\left(t \\right)} - \\beta \\left(\\alpha \\beta t^{2} + q{\\left(t \\right)}\\right) \\left(\\beta \\sin{\\left(\\beta q{\\left(t \\right)} \\right)} \\left(\\frac{d}{d t} q{\\left(t \\right)}\\right)^{2} - \\cos{\\left(\\beta q{\\left(t \\right)} \\right)} \\frac{d^{2}}{d t^{2}} q{\\left(t \\right)}\\right) \\cos{\\left(\\alpha q{\\left(t \\right)} \\right)} + \\left(2 \\alpha \\beta + \\frac{d^{2}}{d t^{2}} q{\\left(t \\right)}\\right) \\sin{\\left(\\beta q{\\left(t \\right)} \\right)} \\cos{\\left(\\alpha q{\\left(t \\right)} \\right)}$"
      ],
      "text/plain": [
       "                                                          2                   \n",
       "        ⎛     2       ⎞                         ⎛d       ⎞        ⎛          d\n",
       "- 2⋅α⋅β⋅⎝α⋅β⋅t  + q(t)⎠⋅sin(α⋅q(t))⋅cos(β⋅q(t))⋅⎜──(q(t))⎟  - 2⋅α⋅⎜2⋅α⋅β⋅t + ─\n",
       "                                                ⎝dt      ⎠        ⎝          d\n",
       "                                                                              \n",
       "\n",
       "                                                              ⎛               \n",
       "       ⎞                         d            ⎛     2       ⎞ ⎜              ⎛\n",
       "─(q(t))⎟⋅sin(α⋅q(t))⋅sin(β⋅q(t))⋅──(q(t)) - α⋅⎝α⋅β⋅t  + q(t)⎠⋅⎜α⋅cos(α⋅q(t))⋅⎜\n",
       "t      ⎠                         dt                           ⎜              ⎝\n",
       "                                                              ⎝               \n",
       "\n",
       "         2                 2      ⎞                                           \n",
       "d       ⎞                 d       ⎟                   ⎛          d       ⎞    \n",
       "──(q(t))⎟  + sin(α⋅q(t))⋅───(q(t))⎟⋅sin(β⋅q(t)) + 2⋅β⋅⎜2⋅α⋅β⋅t + ──(q(t))⎟⋅cos\n",
       "dt      ⎠                  2      ⎟                   ⎝          dt      ⎠    \n",
       "                         dt       ⎠                                           \n",
       "\n",
       "                                                  ⎛                        2  \n",
       "                     d            ⎛     2       ⎞ ⎜              ⎛d       ⎞   \n",
       "(α⋅q(t))⋅cos(β⋅q(t))⋅──(q(t)) - β⋅⎝α⋅β⋅t  + q(t)⎠⋅⎜β⋅sin(β⋅q(t))⋅⎜──(q(t))⎟  -\n",
       "                     dt                           ⎜              ⎝dt      ⎠   \n",
       "                                                  ⎝                           \n",
       "\n",
       "               2      ⎞               ⎛          2      ⎞                     \n",
       "              d       ⎟               ⎜         d       ⎟                     \n",
       " cos(β⋅q(t))⋅───(q(t))⎟⋅cos(α⋅q(t)) + ⎜2⋅α⋅β + ───(q(t))⎟⋅sin(β⋅q(t))⋅cos(α⋅q(\n",
       "               2      ⎟               ⎜          2      ⎟                     \n",
       "             dt       ⎠               ⎝        dt       ⎠                     \n",
       "\n",
       "   \n",
       "   \n",
       "t))\n",
       "   \n",
       "   "
      ]
     },
     "execution_count": 115,
     "metadata": {},
     "output_type": "execute_result"
    }
   ],
   "source": [
    "Dexpr"
   ]
  },
  {
   "cell_type": "code",
   "execution_count": 117,
   "metadata": {},
   "outputs": [
    {
     "data": {
      "image/png": "[encoded data removed]",
      "text/latex": [
       "$\\displaystyle - \\alpha^{3} \\beta t^{2} \\sin{\\left(\\beta q{\\left(t \\right)} \\right)} \\cos{\\left(\\alpha q{\\left(t \\right)} \\right)} \\left(\\frac{d}{d t} q{\\left(t \\right)}\\right)^{2} - 2 \\alpha^{2} \\beta^{2} t^{2} \\sin{\\left(\\alpha q{\\left(t \\right)} \\right)} \\cos{\\left(\\beta q{\\left(t \\right)} \\right)} \\left(\\frac{d}{d t} q{\\left(t \\right)}\\right)^{2} - \\alpha^{2} \\beta t^{2} \\sin{\\left(\\alpha q{\\left(t \\right)} \\right)} \\sin{\\left(\\beta q{\\left(t \\right)} \\right)} \\frac{d^{2}}{d t^{2}} q{\\left(t \\right)} - 4 \\alpha^{2} \\beta t \\sin{\\left(\\alpha q{\\left(t \\right)} \\right)} \\sin{\\left(\\beta q{\\left(t \\right)} \\right)} \\frac{d}{d t} q{\\left(t \\right)} - \\alpha^{2} q{\\left(t \\right)} \\sin{\\left(\\beta q{\\left(t \\right)} \\right)} \\cos{\\left(\\alpha q{\\left(t \\right)} \\right)} \\left(\\frac{d}{d t} q{\\left(t \\right)}\\right)^{2} - \\alpha \\beta^{3} t^{2} \\sin{\\left(\\beta q{\\left(t \\right)} \\right)} \\cos{\\left(\\alpha q{\\left(t \\right)} \\right)} \\left(\\frac{d}{d t} q{\\left(t \\right)}\\right)^{2} + \\alpha \\beta^{2} t^{2} \\cos{\\left(\\alpha q{\\left(t \\right)} \\right)} \\cos{\\left(\\beta q{\\left(t \\right)} \\right)} \\frac{d^{2}}{d t^{2}} q{\\left(t \\right)} + 4 \\alpha \\beta^{2} t \\cos{\\left(\\alpha q{\\left(t \\right)} \\right)} \\cos{\\left(\\beta q{\\left(t \\right)} \\right)} \\frac{d}{d t} q{\\left(t \\right)} - 2 \\alpha \\beta q{\\left(t \\right)} \\sin{\\left(\\alpha q{\\left(t \\right)} \\right)} \\cos{\\left(\\beta q{\\left(t \\right)} \\right)} \\left(\\frac{d}{d t} q{\\left(t \\right)}\\right)^{2} + 2 \\alpha \\beta \\sin{\\left(\\beta q{\\left(t \\right)} \\right)} \\cos{\\left(\\alpha q{\\left(t \\right)} \\right)} - \\alpha q{\\left(t \\right)} \\sin{\\left(\\alpha q{\\left(t \\right)} \\right)} \\sin{\\left(\\beta q{\\left(t \\right)} \\right)} \\frac{d^{2}}{d t^{2}} q{\\left(t \\right)} - 2 \\alpha \\sin{\\left(\\alpha q{\\left(t \\right)} \\right)} \\sin{\\left(\\beta q{\\left(t \\right)} \\right)} \\left(\\frac{d}{d t} q{\\left(t \\right)}\\right)^{2} - \\beta^{2} q{\\left(t \\right)} \\sin{\\left(\\beta q{\\left(t \\right)} \\right)} \\cos{\\left(\\alpha q{\\left(t \\right)} \\right)} \\left(\\frac{d}{d t} q{\\left(t \\right)}\\right)^{2} + \\beta q{\\left(t \\right)} \\cos{\\left(\\alpha q{\\left(t \\right)} \\right)} \\cos{\\left(\\beta q{\\left(t \\right)} \\right)} \\frac{d^{2}}{d t^{2}} q{\\left(t \\right)} + 2 \\beta \\cos{\\left(\\alpha q{\\left(t \\right)} \\right)} \\cos{\\left(\\beta q{\\left(t \\right)} \\right)} \\left(\\frac{d}{d t} q{\\left(t \\right)}\\right)^{2} + \\sin{\\left(\\beta q{\\left(t \\right)} \\right)} \\cos{\\left(\\alpha q{\\left(t \\right)} \\right)} \\frac{d^{2}}{d t^{2}} q{\\left(t \\right)}$"
      ],
      "text/plain": [
       "                                            2                                 \n",
       "   3    2                         ⎛d       ⎞       2  2  2                    \n",
       "- α ⋅β⋅t ⋅sin(β⋅q(t))⋅cos(α⋅q(t))⋅⎜──(q(t))⎟  - 2⋅α ⋅β ⋅t ⋅sin(α⋅q(t))⋅cos(β⋅q\n",
       "                                  ⎝dt      ⎠                                  \n",
       "                                                                              \n",
       "\n",
       "               2                                     2                        \n",
       "     ⎛d       ⎞     2    2                          d             2           \n",
       "(t))⋅⎜──(q(t))⎟  - α ⋅β⋅t ⋅sin(α⋅q(t))⋅sin(β⋅q(t))⋅───(q(t)) - 4⋅α ⋅β⋅t⋅sin(α⋅\n",
       "     ⎝dt      ⎠                                      2                        \n",
       "                                                   dt                         \n",
       "\n",
       "                                                                       2      \n",
       "                  d           2                              ⎛d       ⎞       \n",
       "q(t))⋅sin(β⋅q(t))⋅──(q(t)) - α ⋅q(t)⋅sin(β⋅q(t))⋅cos(α⋅q(t))⋅⎜──(q(t))⎟  - α⋅β\n",
       "                  dt                                         ⎝dt      ⎠       \n",
       "                                                                              \n",
       "\n",
       "                                       2                                     2\n",
       "3  2                         ⎛d       ⎞       2  2                          d \n",
       " ⋅t ⋅sin(β⋅q(t))⋅cos(α⋅q(t))⋅⎜──(q(t))⎟  + α⋅β ⋅t ⋅cos(α⋅q(t))⋅cos(β⋅q(t))⋅───\n",
       "                             ⎝dt      ⎠                                      2\n",
       "                                                                           dt \n",
       "\n",
       "                                                                              \n",
       "              2                           d                                   \n",
       "(q(t)) + 4⋅α⋅β ⋅t⋅cos(α⋅q(t))⋅cos(β⋅q(t))⋅──(q(t)) - 2⋅α⋅β⋅q(t)⋅sin(α⋅q(t))⋅co\n",
       "                                          dt                                  \n",
       "                                                                              \n",
       "\n",
       "                    2                                                         \n",
       "          ⎛d       ⎞                                                          \n",
       "s(β⋅q(t))⋅⎜──(q(t))⎟  + 2⋅α⋅β⋅sin(β⋅q(t))⋅cos(α⋅q(t)) - α⋅q(t)⋅sin(α⋅q(t))⋅sin\n",
       "          ⎝dt      ⎠                                                          \n",
       "                                                                              \n",
       "\n",
       "           2                                               2                  \n",
       "          d                                      ⎛d       ⎞     2             \n",
       "(β⋅q(t))⋅───(q(t)) - 2⋅α⋅sin(α⋅q(t))⋅sin(β⋅q(t))⋅⎜──(q(t))⎟  - β ⋅q(t)⋅sin(β⋅q\n",
       "           2                                     ⎝dt      ⎠                   \n",
       "         dt                                                                   \n",
       "\n",
       "                           2                                    2             \n",
       "                 ⎛d       ⎞                                    d              \n",
       "(t))⋅cos(α⋅q(t))⋅⎜──(q(t))⎟  + β⋅q(t)⋅cos(α⋅q(t))⋅cos(β⋅q(t))⋅───(q(t)) + 2⋅β⋅\n",
       "                 ⎝dt      ⎠                                     2             \n",
       "                                                              dt              \n",
       "\n",
       "                                  2                             2      \n",
       "                        ⎛d       ⎞                             d       \n",
       "cos(α⋅q(t))⋅cos(β⋅q(t))⋅⎜──(q(t))⎟  + sin(β⋅q(t))⋅cos(α⋅q(t))⋅───(q(t))\n",
       "                        ⎝dt      ⎠                              2      \n",
       "                                                              dt       "
      ]
     },
     "execution_count": 117,
     "metadata": {},
     "output_type": "execute_result"
    }
   ],
   "source": [
    "(Dexpr.expand()).simplify()"
   ]
  },
  {
   "cell_type": "code",
   "execution_count": null,
   "metadata": {},
   "outputs": [],
   "source": []
  }
 ],
 "metadata": {
  "kernelspec": {
   "display_name": "Python 3",
   "language": "python",
   "name": "python3"
  },
  "language_info": {
   "codemirror_mode": {
    "name": "ipython",
    "version": 3
   },
   "file_extension": ".py",
   "mimetype": "text/x-python",
   "name": "python",
   "nbconvert_exporter": "python",
   "pygments_lexer": "ipython3",
   "version": "3.7.4"
  },
  "varInspector": {
   "cols": {
    "lenName": 16,
    "lenType": 16,
    "lenVar": 40
   },
   "kernels_config": {
    "python": {
     "delete_cmd_postfix": "",
     "delete_cmd_prefix": "del ",
     "library": "var_list.py",
     "varRefreshCmd": "print(var_dic_list())"
    },
    "r": {
     "delete_cmd_postfix": ") ",
     "delete_cmd_prefix": "rm(",
     "library": "var_list.r",
     "varRefreshCmd": "cat(var_dic_list()) "
    }
   },
   "types_to_exclude": [
    "module",
    "function",
    "builtin_function_or_method",
    "instance",
    "_Feature"
   ],
   "window_display": false
  }
 },
 "nbformat": 4,
 "nbformat_minor": 2
}
