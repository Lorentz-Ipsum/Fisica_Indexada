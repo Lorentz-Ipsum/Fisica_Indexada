{
 "cells": [
  {
   "cell_type": "markdown",
   "metadata": {},
   "source": [
    "# Calculus"
   ]
  },
  {
   "cell_type": "markdown",
   "metadata": {},
   "source": [
    "First we import everything from sympy"
   ]
  },
  {
   "cell_type": "code",
   "execution_count": 2,
   "metadata": {
    "ExecuteTime": {
     "end_time": "2019-10-08T12:33:57.166908Z",
     "start_time": "2019-10-08T12:33:56.654721Z"
    }
   },
   "outputs": [],
   "source": [
    "from sympy import *\n",
    "init_printing()  # import the best printer available\n",
    "x, y, z, t = symbols('x y z t')\n",
    "k, m, n = symbols('k m n', integer=True)\n",
    "f, g, h = symbols('f g h', cls=Function)"
   ]
  },
  {
   "cell_type": "markdown",
   "metadata": {},
   "source": [
    "### Derivatives"
   ]
  },
  {
   "cell_type": "markdown",
   "metadata": {},
   "source": [
    "We can perform derivatives in sympy"
   ]
  },
  {
   "cell_type": "code",
   "execution_count": 3,
   "metadata": {
    "ExecuteTime": {
     "end_time": "2019-10-08T12:33:59.298114Z",
     "start_time": "2019-10-08T12:33:59.141120Z"
    }
   },
   "outputs": [
    {
     "data": {
      "image/png": "[encoded data removed]",
      "text/latex": [
       "$\\displaystyle - \\sin{\\left(x \\right)} \\cos{\\left(\\cos{\\left(x \\right)} \\right)}$"
      ],
      "text/plain": [
       "-sin(x)⋅cos(cos(x))"
      ]
     },
     "execution_count": 3,
     "metadata": {},
     "output_type": "execute_result"
    }
   ],
   "source": [
    "diff(sin(cos(x)), x)"
   ]
  },
  {
   "cell_type": "markdown",
   "metadata": {},
   "source": [
    "There are two different sintaxes, both very intuitive, to perform several derivatives"
   ]
  },
  {
   "cell_type": "code",
   "execution_count": 3,
   "metadata": {
    "ExecuteTime": {
     "end_time": "2019-10-08T12:34:00.871893Z",
     "start_time": "2019-10-08T12:34:00.686351Z"
    }
   },
   "outputs": [
    {
     "data": {
      "image/png": "[encoded data removed]",
      "text/latex": [
       "$\\displaystyle 4 x \\left(2 x^{2} + 3\\right) e^{x^{2}}$"
      ],
      "text/plain": [
       "                ⎛ 2⎞\n",
       "    ⎛   2    ⎞  ⎝x ⎠\n",
       "4⋅x⋅⎝2⋅x  + 3⎠⋅ℯ    "
      ]
     },
     "execution_count": 3,
     "metadata": {},
     "output_type": "execute_result"
    }
   ],
   "source": [
    "diff(exp(x**2), x, x, x)"
   ]
  },
  {
   "cell_type": "code",
   "execution_count": 4,
   "metadata": {
    "ExecuteTime": {
     "end_time": "2019-10-08T12:34:02.211555Z",
     "start_time": "2019-10-08T12:34:02.049368Z"
    }
   },
   "outputs": [
    {
     "data": {
      "image/png": "[encoded data removed]",
      "text/latex": [
       "$\\displaystyle 4 x \\left(2 x^{2} + 3\\right) e^{x^{2}}$"
      ],
      "text/plain": [
       "                ⎛ 2⎞\n",
       "    ⎛   2    ⎞  ⎝x ⎠\n",
       "4⋅x⋅⎝2⋅x  + 3⎠⋅ℯ    "
      ]
     },
     "execution_count": 4,
     "metadata": {},
     "output_type": "execute_result"
    }
   ],
   "source": [
    "diff(exp(x**2), x, 3)"
   ]
  },
  {
   "cell_type": "markdown",
   "metadata": {},
   "source": [
    "And of course we can also compute partial derivatives"
   ]
  },
  {
   "cell_type": "code",
   "execution_count": 5,
   "metadata": {
    "ExecuteTime": {
     "end_time": "2019-10-08T12:34:04.471101Z",
     "start_time": "2019-10-08T12:34:04.309170Z"
    }
   },
   "outputs": [
    {
     "data": {
      "image/png": "[encoded data removed]",
      "text/latex": [
       "$\\displaystyle \\left(x \\sin{\\left(y \\right)} + 1\\right) e^{x \\sin{\\left(y \\right)}} \\cos{\\left(y \\right)}$"
      ],
      "text/plain": [
       "                x⋅sin(y)       \n",
       "(x⋅sin(y) + 1)⋅ℯ        ⋅cos(y)"
      ]
     },
     "execution_count": 5,
     "metadata": {},
     "output_type": "execute_result"
    }
   ],
   "source": [
    "diff(exp(x*sin(y)), x, y)"
   ]
  },
  {
   "cell_type": "markdown",
   "metadata": {},
   "source": [
    "Now, let's see a trick that we will use in the examples below. First, we define our function"
   ]
  },
  {
   "cell_type": "code",
   "execution_count": 6,
   "metadata": {
    "ExecuteTime": {
     "end_time": "2019-10-08T12:34:05.999819Z",
     "start_time": "2019-10-08T12:34:05.841175Z"
    }
   },
   "outputs": [
    {
     "data": {
      "image/png": "[encoded data removed]",
      "text/latex": [
       "$\\displaystyle e^{x \\sin{\\left(y \\right)}}$"
      ],
      "text/plain": [
       " x⋅sin(y)\n",
       "ℯ        "
      ]
     },
     "execution_count": 6,
     "metadata": {},
     "output_type": "execute_result"
    }
   ],
   "source": [
    "expr = exp(x*sin(y))\n",
    "expr"
   ]
  },
  {
   "cell_type": "markdown",
   "metadata": {},
   "source": [
    "and now a complex (complicated, that is) derivative"
   ]
  },
  {
   "cell_type": "code",
   "execution_count": 7,
   "metadata": {
    "ExecuteTime": {
     "end_time": "2019-10-08T12:34:07.340509Z",
     "start_time": "2019-10-08T12:34:07.187137Z"
    }
   },
   "outputs": [
    {
     "data": {
      "image/png": "[encoded data removed]",
      "text/latex": [
       "$\\displaystyle \\frac{\\partial^{10}}{\\partial y^{7}\\partial x^{3}} e^{x \\sin{\\left(y \\right)}}$"
      ],
      "text/plain": [
       "   10             \n",
       "  ∂    ⎛ x⋅sin(y)⎞\n",
       "───────⎝ℯ        ⎠\n",
       "  7   3           \n",
       "∂y  ∂x            "
      ]
     },
     "execution_count": 7,
     "metadata": {},
     "output_type": "execute_result"
    }
   ],
   "source": [
    "dexpr = Derivative(expr, x, 3, y, 7)\n",
    "dexpr"
   ]
  },
  {
   "cell_type": "markdown",
   "metadata": {},
   "source": [
    "The function `Derivative` creates an unevaluated (symbolic) derivative. We can calculate it at any time with the method `doit`"
   ]
  },
  {
   "cell_type": "code",
   "execution_count": 8,
   "metadata": {
    "ExecuteTime": {
     "end_time": "2019-10-08T12:34:10.901930Z",
     "start_time": "2019-10-08T12:34:10.527857Z"
    }
   },
   "outputs": [
    {
     "data": {
      "image/png": "[encoded data removed]",
      "text/latex": [
       "$\\displaystyle \\left(63 x \\left(x \\cos^{2}{\\left(y \\right)} - \\sin{\\left(y \\right)}\\right) \\left(61 \\sin^{2}{\\left(y \\right)} - 20 \\cos^{2}{\\left(y \\right)}\\right) - 63 x \\left(\\sin^{2}{\\left(y \\right)} - 2 \\cos^{2}{\\left(y \\right)}\\right) \\left(x^{4} \\cos^{4}{\\left(y \\right)} - 10 x^{3} \\sin{\\left(y \\right)} \\cos^{2}{\\left(y \\right)} + 15 x^{2} \\sin^{2}{\\left(y \\right)} - 10 x^{2} \\cos^{2}{\\left(y \\right)} + 15 x \\sin{\\left(y \\right)} + 1\\right) \\sin{\\left(y \\right)} - 105 x \\left(7 \\sin^{2}{\\left(y \\right)} - 20 \\cos^{2}{\\left(y \\right)}\\right) \\left(- x^{2} \\cos^{2}{\\left(y \\right)} + 3 x \\sin{\\left(y \\right)} + 1\\right) \\sin{\\left(y \\right)} - 105 x \\left(7 \\sin^{2}{\\left(y \\right)} - 2 \\cos^{2}{\\left(y \\right)}\\right) \\left(x^{3} \\cos^{4}{\\left(y \\right)} - 6 x^{2} \\sin{\\left(y \\right)} \\cos^{2}{\\left(y \\right)} + 3 x \\sin^{2}{\\left(y \\right)} - 4 x \\cos^{2}{\\left(y \\right)} + \\sin{\\left(y \\right)}\\right) - 21 x \\left(61 \\sin^{2}{\\left(y \\right)} - 182 \\cos^{2}{\\left(y \\right)}\\right) \\sin{\\left(y \\right)} - 21 x \\left(- x^{5} \\cos^{6}{\\left(y \\right)} + 15 x^{4} \\sin{\\left(y \\right)} \\cos^{4}{\\left(y \\right)} - 45 x^{3} \\sin^{2}{\\left(y \\right)} \\cos^{2}{\\left(y \\right)} + 20 x^{3} \\cos^{4}{\\left(y \\right)} + 15 x^{2} \\sin^{3}{\\left(y \\right)} - 75 x^{2} \\sin{\\left(y \\right)} \\cos^{2}{\\left(y \\right)} + 15 x \\sin^{2}{\\left(y \\right)} - 16 x \\cos^{2}{\\left(y \\right)} + \\sin{\\left(y \\right)}\\right) \\sin^{2}{\\left(y \\right)} - x \\left(- x^{6} \\cos^{6}{\\left(y \\right)} + 21 x^{5} \\sin{\\left(y \\right)} \\cos^{4}{\\left(y \\right)} - 105 x^{4} \\sin^{2}{\\left(y \\right)} \\cos^{2}{\\left(y \\right)} + 35 x^{4} \\cos^{4}{\\left(y \\right)} + 105 x^{3} \\sin^{3}{\\left(y \\right)} - 245 x^{3} \\sin{\\left(y \\right)} \\cos^{2}{\\left(y \\right)} + 210 x^{2} \\sin^{2}{\\left(y \\right)} - 91 x^{2} \\cos^{2}{\\left(y \\right)} + 63 x \\sin{\\left(y \\right)} + 1\\right) \\sin^{3}{\\left(y \\right)} - 1641 \\sin^{2}{\\left(y \\right)} + 546 \\cos^{2}{\\left(y \\right)}\\right) e^{x \\sin{\\left(y \\right)}} \\cos{\\left(y \\right)}$"
      ],
      "text/plain": [
       "⎛     ⎛     2            ⎞ ⎛      2            2   ⎞        ⎛   2           2 \n",
       "⎝63⋅x⋅⎝x⋅cos (y) - sin(y)⎠⋅⎝61⋅sin (y) - 20⋅cos (y)⎠ - 63⋅x⋅⎝sin (y) - 2⋅cos (\n",
       "\n",
       "  ⎞ ⎛ 4    4          3           2          2    2          2    2           \n",
       "y)⎠⋅⎝x ⋅cos (y) - 10⋅x ⋅sin(y)⋅cos (y) + 15⋅x ⋅sin (y) - 10⋅x ⋅cos (y) + 15⋅x⋅\n",
       "\n",
       "          ⎞                ⎛     2            2   ⎞ ⎛   2    2                \n",
       "sin(y) + 1⎠⋅sin(y) - 105⋅x⋅⎝7⋅sin (y) - 20⋅cos (y)⎠⋅⎝- x ⋅cos (y) + 3⋅x⋅sin(y)\n",
       "\n",
       "    ⎞                ⎛     2           2   ⎞ ⎛ 3    4         2           2   \n",
       " + 1⎠⋅sin(y) - 105⋅x⋅⎝7⋅sin (y) - 2⋅cos (y)⎠⋅⎝x ⋅cos (y) - 6⋅x ⋅sin(y)⋅cos (y)\n",
       "\n",
       "          2             2            ⎞        ⎛      2             2   ⎞      \n",
       " + 3⋅x⋅sin (y) - 4⋅x⋅cos (y) + sin(y)⎠ - 21⋅x⋅⎝61⋅sin (y) - 182⋅cos (y)⎠⋅sin(y\n",
       "\n",
       "         ⎛   5    6          4           4          3    2       2          3 \n",
       ") - 21⋅x⋅⎝- x ⋅cos (y) + 15⋅x ⋅sin(y)⋅cos (y) - 45⋅x ⋅sin (y)⋅cos (y) + 20⋅x ⋅\n",
       "\n",
       "   4          2    3          2           2              2              2     \n",
       "cos (y) + 15⋅x ⋅sin (y) - 75⋅x ⋅sin(y)⋅cos (y) + 15⋅x⋅sin (y) - 16⋅x⋅cos (y) +\n",
       "\n",
       "       ⎞    2        ⎛   6    6          5           4           4    2       \n",
       " sin(y)⎠⋅sin (y) - x⋅⎝- x ⋅cos (y) + 21⋅x ⋅sin(y)⋅cos (y) - 105⋅x ⋅sin (y)⋅cos\n",
       "\n",
       "2          4    4           3    3           3           2           2    2   \n",
       " (y) + 35⋅x ⋅cos (y) + 105⋅x ⋅sin (y) - 245⋅x ⋅sin(y)⋅cos (y) + 210⋅x ⋅sin (y)\n",
       "\n",
       "       2    2                     ⎞    3              2             2   ⎞  x⋅s\n",
       " - 91⋅x ⋅cos (y) + 63⋅x⋅sin(y) + 1⎠⋅sin (y) - 1641⋅sin (y) + 546⋅cos (y)⎠⋅ℯ   \n",
       "\n",
       "in(y)       \n",
       "     ⋅cos(y)"
      ]
     },
     "execution_count": 8,
     "metadata": {},
     "output_type": "execute_result"
    }
   ],
   "source": [
    "dexpr.doit()"
   ]
  },
  {
   "cell_type": "markdown",
   "metadata": {},
   "source": [
    "Most of the classes that we will see below contain the method `doit`."
   ]
  },
  {
   "cell_type": "markdown",
   "metadata": {},
   "source": [
    "### Integrals"
   ]
  },
  {
   "cell_type": "markdown",
   "metadata": {},
   "source": [
    "We can use the function `integrate` to compute the primitive of a function"
   ]
  },
  {
   "cell_type": "code",
   "execution_count": 9,
   "metadata": {
    "ExecuteTime": {
     "end_time": "2019-10-08T12:34:22.425691Z",
     "start_time": "2019-10-08T12:34:22.256118Z"
    }
   },
   "outputs": [
    {
     "data": {
      "image/png": "[encoded data removed]",
      "text/latex": [
       "$\\displaystyle \\frac{x}{2} + \\frac{\\sin{\\left(x \\right)} \\cos{\\left(x \\right)}}{2}$"
      ],
      "text/plain": [
       "x   sin(x)⋅cos(x)\n",
       "─ + ─────────────\n",
       "2         2      "
      ]
     },
     "execution_count": 9,
     "metadata": {},
     "output_type": "execute_result"
    }
   ],
   "source": [
    "integrate(cos(x)**2, x)"
   ]
  },
  {
   "cell_type": "markdown",
   "metadata": {},
   "source": [
    "Note that sympy **does not** add the constant of integration. To compute a definite integral, for instance $\\int^{\\pi}_{0}\\cos^2(x)\\text{d}x$, the syntax is"
   ]
  },
  {
   "cell_type": "code",
   "execution_count": 10,
   "metadata": {
    "ExecuteTime": {
     "end_time": "2019-10-08T12:34:26.820402Z",
     "start_time": "2019-10-08T12:34:26.661176Z"
    }
   },
   "outputs": [
    {
     "data": {
      "image/png": "[encoded data removed]",
      "text/latex": [
       "$\\displaystyle \\frac{\\pi}{2}$"
      ],
      "text/plain": [
       "π\n",
       "─\n",
       "2"
      ]
     },
     "execution_count": 10,
     "metadata": {},
     "output_type": "execute_result"
    }
   ],
   "source": [
    "integrate(cos(x)**2, (x, 0, pi))"
   ]
  },
  {
   "cell_type": "markdown",
   "metadata": {},
   "source": [
    "We can use it to perform multiple integrals too. As an example we will compute\n",
    "\n",
    "\\\\[\\int^{\\infty}_{-\\infty} \\int^{\\infty}_{-\\infty} e^{-x^2-y^2}\\text{d}x\\, \\text{d}y,\\\\]\n",
    "\n",
    "with the well-known result (Note that in `sympy`, the $\\infty$ sign are two 'o' letters)"
   ]
  },
  {
   "cell_type": "code",
   "execution_count": 11,
   "metadata": {
    "ExecuteTime": {
     "end_time": "2019-10-08T12:34:38.530488Z",
     "start_time": "2019-10-08T12:34:38.172719Z"
    }
   },
   "outputs": [
    {
     "data": {
      "image/png": "[encoded data removed]",
      "text/latex": [
       "$\\displaystyle \\pi$"
      ],
      "text/plain": [
       "π"
      ]
     },
     "execution_count": 11,
     "metadata": {},
     "output_type": "execute_result"
    }
   ],
   "source": [
    "integrate(exp(-x**2-y**2), (x, -oo, oo), (y, -oo, oo))"
   ]
  },
  {
   "cell_type": "markdown",
   "metadata": {},
   "source": [
    "As before, we can define an unevaluated integral expression"
   ]
  },
  {
   "cell_type": "code",
   "execution_count": 12,
   "metadata": {
    "ExecuteTime": {
     "end_time": "2019-10-08T12:34:40.233121Z",
     "start_time": "2019-10-08T12:34:40.076526Z"
    }
   },
   "outputs": [
    {
     "data": {
      "image/png": "[encoded data removed]",
      "text/latex": [
       "$\\displaystyle \\int\\limits_{0}^{\\infty} x^{y} e^{- x}\\, dx$"
      ],
      "text/plain": [
       "∞          \n",
       "⌠          \n",
       "⎮  y  -x   \n",
       "⎮ x ⋅ℯ   dx\n",
       "⌡          \n",
       "0          "
      ]
     },
     "execution_count": 12,
     "metadata": {},
     "output_type": "execute_result"
    }
   ],
   "source": [
    "integ = Integral(x**y*exp(-x), (x, 0, oo))\n",
    "integ"
   ]
  },
  {
   "cell_type": "markdown",
   "metadata": {},
   "source": [
    "and perform it later"
   ]
  },
  {
   "cell_type": "code",
   "execution_count": 13,
   "metadata": {
    "ExecuteTime": {
     "end_time": "2019-10-08T12:34:42.622219Z",
     "start_time": "2019-10-08T12:34:42.433192Z"
    }
   },
   "outputs": [
    {
     "data": {
      "text/latex": [
       "$\\displaystyle \\begin{cases} \\Gamma\\left(y + 1\\right) & \\text{for}\\: \\operatorname{re}{\\left(y\\right)} > -1 \\\\\\int\\limits_{0}^{\\infty} x^{y} e^{- x}\\, dx & \\text{otherwise} \\end{cases}$"
      ],
      "text/plain": [
       "⎧ Γ(y + 1)    for re(y) > -1\n",
       "⎪                           \n",
       "⎪∞                          \n",
       "⎪⌠                          \n",
       "⎨⎮  y  -x                   \n",
       "⎪⎮ x ⋅ℯ   dx    otherwise   \n",
       "⎪⌡                          \n",
       "⎪0                          \n",
       "⎩                           "
      ]
     },
     "execution_count": 13,
     "metadata": {},
     "output_type": "execute_result"
    }
   ],
   "source": [
    "integ.doit()"
   ]
  },
  {
   "cell_type": "markdown",
   "metadata": {},
   "source": [
    "In this case, the integral does not converge unless $\\mathfrak{R}y>1$, so sympy returns a piecewise function. If sympy does not know how to compute an integral it returns an Integral class (i.e. the same expression). Be aware that it may take a **long** time, so maybe you will have to restart the kernel and start all over again. Later on we will learn how to compute this kind of tricky integrals numerically."
   ]
  },
  {
   "cell_type": "markdown",
   "metadata": {},
   "source": [
    "### Limits"
   ]
  },
  {
   "cell_type": "markdown",
   "metadata": {},
   "source": [
    "We can compute symbolic limits"
   ]
  },
  {
   "cell_type": "code",
   "execution_count": 14,
   "metadata": {
    "ExecuteTime": {
     "end_time": "2019-10-08T12:34:47.276968Z",
     "start_time": "2019-10-08T12:34:47.094801Z"
    }
   },
   "outputs": [
    {
     "data": {
      "image/png": "[encoded data removed]",
      "text/latex": [
       "$\\displaystyle 1$"
      ],
      "text/plain": [
       "1"
      ]
     },
     "execution_count": 14,
     "metadata": {},
     "output_type": "execute_result"
    }
   ],
   "source": [
    "limit(sin(x)/x, x, 0)"
   ]
  },
  {
   "cell_type": "markdown",
   "metadata": {},
   "source": [
    "Of course we can define unevaluated limit with the `Limit` class"
   ]
  },
  {
   "cell_type": "code",
   "execution_count": 15,
   "metadata": {
    "ExecuteTime": {
     "end_time": "2019-10-08T12:34:49.021386Z",
     "start_time": "2019-10-08T12:34:48.864344Z"
    }
   },
   "outputs": [
    {
     "data": {
      "image/png": "[encoded data removed]",
      "text/latex": [
       "$\\displaystyle \\lim_{x \\to 0^+}\\left(\\frac{\\cos{\\left(x \\right)} - 1}{x}\\right)$"
      ],
      "text/plain": [
       "     ⎛cos(x) - 1⎞\n",
       " lim ⎜──────────⎟\n",
       "x─→0⁺⎝    x     ⎠"
      ]
     },
     "execution_count": 15,
     "metadata": {},
     "output_type": "execute_result"
    }
   ],
   "source": [
    "expr = Limit((cos(x)-1)/x, x, 0)\n",
    "expr"
   ]
  },
  {
   "cell_type": "markdown",
   "metadata": {},
   "source": [
    "and define right and left limits"
   ]
  },
  {
   "cell_type": "code",
   "execution_count": 16,
   "metadata": {
    "ExecuteTime": {
     "end_time": "2019-10-08T12:34:50.710626Z",
     "start_time": "2019-10-08T12:34:50.550605Z"
    }
   },
   "outputs": [
    {
     "data": {
      "image/png": "[encoded data removed]",
      "text/latex": [
       "$\\displaystyle \\lim_{x \\to 0^-} \\frac{1}{x}$"
      ],
      "text/plain": [
       "     1\n",
       " lim ─\n",
       "x─→0⁻x"
      ]
     },
     "execution_count": 16,
     "metadata": {},
     "output_type": "execute_result"
    }
   ],
   "source": [
    "expr = Limit(1/x, x, 0, '-')\n",
    "expr"
   ]
  },
  {
   "cell_type": "code",
   "execution_count": 17,
   "metadata": {
    "ExecuteTime": {
     "end_time": "2019-10-08T12:34:51.521491Z",
     "start_time": "2019-10-08T12:34:51.358947Z"
    }
   },
   "outputs": [
    {
     "data": {
      "image/png": "[encoded data removed]",
      "text/latex": [
       "$\\displaystyle -\\infty$"
      ],
      "text/plain": [
       "-∞"
      ]
     },
     "execution_count": 17,
     "metadata": {},
     "output_type": "execute_result"
    }
   ],
   "source": [
    "expr.doit()"
   ]
  },
  {
   "cell_type": "markdown",
   "metadata": {},
   "source": [
    "### Series expansion "
   ]
  },
  {
   "cell_type": "markdown",
   "metadata": {
    "collapsed": true
   },
   "source": [
    "Any given function can be Taylor/Laurent-expanded with the method `series`,"
   ]
  },
  {
   "cell_type": "code",
   "execution_count": 18,
   "metadata": {
    "ExecuteTime": {
     "end_time": "2019-10-08T12:34:53.695890Z",
     "start_time": "2019-10-08T12:34:53.295265Z"
    }
   },
   "outputs": [
    {
     "data": {
      "image/png": "[encoded data removed]",
      "text/latex": [
       "$\\displaystyle e^{- \\pi} - \\frac{x - \\pi}{e^{\\pi}} + \\left(x - \\pi\\right)^{2} \\left(\\frac{1}{2 e^{\\pi}} + \\frac{\\pi}{2 e^{\\pi}}\\right) + O\\left(\\left(x - \\pi\\right)^{3}; x\\rightarrow \\pi\\right)$"
      ],
      "text/plain": [
       "                             ⎛ -π      -π⎞                     \n",
       " -π            -π          2 ⎜ℯ     π⋅ℯ  ⎟    ⎛       3       ⎞\n",
       "ℯ   - (x - π)⋅ℯ   + (x - π) ⋅⎜─── + ─────⎟ + O⎝(x - π) ; x → π⎠\n",
       "                             ⎝ 2      2  ⎠                     "
      ]
     },
     "execution_count": 18,
     "metadata": {},
     "output_type": "execute_result"
    }
   ],
   "source": [
    "expr = exp(x*cos(x))\n",
    "expr.series(x, pi, 3)"
   ]
  },
  {
   "cell_type": "markdown",
   "metadata": {},
   "source": [
    "We can call it as a function too"
   ]
  },
  {
   "cell_type": "code",
   "execution_count": 19,
   "metadata": {
    "ExecuteTime": {
     "end_time": "2019-10-08T12:34:56.312562Z",
     "start_time": "2019-10-08T12:34:56.001132Z"
    }
   },
   "outputs": [
    {
     "data": {
      "image/png": "[encoded data removed]",
      "text/latex": [
       "$\\displaystyle e^{- \\pi} - \\frac{x - \\pi}{e^{\\pi}} + \\left(x - \\pi\\right)^{2} \\left(\\frac{1}{2 e^{\\pi}} + \\frac{\\pi}{2 e^{\\pi}}\\right) + O\\left(\\left(x - \\pi\\right)^{3}; x\\rightarrow \\pi\\right)$"
      ],
      "text/plain": [
       "                             ⎛ -π      -π⎞                     \n",
       " -π            -π          2 ⎜ℯ     π⋅ℯ  ⎟    ⎛       3       ⎞\n",
       "ℯ   - (x - π)⋅ℯ   + (x - π) ⋅⎜─── + ─────⎟ + O⎝(x - π) ; x → π⎠\n",
       "                             ⎝ 2      2  ⎠                     "
      ]
     },
     "execution_count": 19,
     "metadata": {},
     "output_type": "execute_result"
    }
   ],
   "source": [
    "series(expr, x, pi, 3)"
   ]
  },
  {
   "cell_type": "markdown",
   "metadata": {},
   "source": [
    "An example of a Laurent expansion"
   ]
  },
  {
   "cell_type": "code",
   "execution_count": 20,
   "metadata": {
    "ExecuteTime": {
     "end_time": "2019-10-08T12:34:57.975886Z",
     "start_time": "2019-10-08T12:34:57.710036Z"
    }
   },
   "outputs": [
    {
     "data": {
      "image/png": "[encoded data removed]",
      "text/latex": [
       "$\\displaystyle \\frac{1}{x^{2}} + 1 + \\frac{x^{2}}{2} + \\frac{x^{4}}{6} + O\\left(x^{5}\\right)$"
      ],
      "text/plain": [
       "          2    4        \n",
       "1        x    x     ⎛ 5⎞\n",
       "── + 1 + ── + ── + O⎝x ⎠\n",
       " 2       2    6         \n",
       "x                       "
      ]
     },
     "execution_count": 20,
     "metadata": {},
     "output_type": "execute_result"
    }
   ],
   "source": [
    "expr = exp(x**2)/x**2\n",
    "expr.series(x, 0, 5)"
   ]
  }
 ],
 "metadata": {
  "kernelspec": {
   "display_name": "Python 3",
   "language": "python",
   "name": "python3"
  },
  "language_info": {
   "codemirror_mode": {
    "name": "ipython",
    "version": 3
   },
   "file_extension": ".py",
   "mimetype": "text/x-python",
   "name": "python",
   "nbconvert_exporter": "python",
   "pygments_lexer": "ipython3",
   "version": "3.7.4"
  },
  "varInspector": {
   "cols": {
    "lenName": 16,
    "lenType": 16,
    "lenVar": 40
   },
   "kernels_config": {
    "python": {
     "delete_cmd_postfix": "",
     "delete_cmd_prefix": "del ",
     "library": "var_list.py",
     "varRefreshCmd": "print(var_dic_list())"
    },
    "r": {
     "delete_cmd_postfix": ") ",
     "delete_cmd_prefix": "rm(",
     "library": "var_list.r",
     "varRefreshCmd": "cat(var_dic_list()) "
    }
   },
   "types_to_exclude": [
    "module",
    "function",
    "builtin_function_or_method",
    "instance",
    "_Feature"
   ],
   "window_display": false
  }
 },
 "nbformat": 4,
 "nbformat_minor": 2
}
