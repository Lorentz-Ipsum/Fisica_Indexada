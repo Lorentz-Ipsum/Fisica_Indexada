{
 "cells": [
  {
   "cell_type": "markdown",
   "metadata": {},
   "source": [
    "# Solvers"
   ]
  },
  {
   "cell_type": "markdown",
   "metadata": {},
   "source": [
    "SymPy can be used to solve algebraic and differential equations. Again, we import a bunch of useful things"
   ]
  },
  {
   "cell_type": "code",
   "execution_count": null,
   "metadata": {
    "ExecuteTime": {
     "end_time": "2019-10-08T12:35:52.493942Z",
     "start_time": "2019-10-08T12:35:51.949507Z"
    }
   },
   "outputs": [],
   "source": [
    "from sympy import *\n",
    "init_printing()  # import the best printer available\n",
    "x, y, z, t = symbols('x y z t')\n",
    "k, m, n = symbols('k m n', integer=True)\n",
    "f, g, h = symbols('f g h', cls=Function)"
   ]
  },
  {
   "cell_type": "markdown",
   "metadata": {},
   "source": [
    "### Algebraic equations"
   ]
  },
  {
   "cell_type": "markdown",
   "metadata": {},
   "source": [
    "First we need to define the equation to be solved"
   ]
  },
  {
   "cell_type": "code",
   "execution_count": null,
   "metadata": {
    "ExecuteTime": {
     "end_time": "2019-10-08T12:35:54.014583Z",
     "start_time": "2019-10-08T12:35:53.858020Z"
    }
   },
   "outputs": [],
   "source": [
    "expr = Eq(x**2 - 2*x - 1, 0)\n",
    "expr"
   ]
  },
  {
   "cell_type": "markdown",
   "metadata": {},
   "source": [
    "to solve this equation we need the function `solveset`"
   ]
  },
  {
   "cell_type": "code",
   "execution_count": null,
   "metadata": {
    "ExecuteTime": {
     "end_time": "2019-10-08T12:35:55.371667Z",
     "start_time": "2019-10-08T12:35:55.167650Z"
    }
   },
   "outputs": [],
   "source": [
    "solveset(expr, x)"
   ]
  },
  {
   "cell_type": "markdown",
   "metadata": {},
   "source": [
    "Incidentally, we can just call `solveset` with a function (instead of an equality) to look for its zeros (by default, \n",
    "solveset($f(x)$, x) assumes $f(x)=0$)"
   ]
  },
  {
   "cell_type": "code",
   "execution_count": null,
   "metadata": {
    "ExecuteTime": {
     "end_time": "2019-10-08T12:35:57.737353Z",
     "start_time": "2019-10-08T12:35:57.565021Z"
    }
   },
   "outputs": [],
   "source": [
    "expr = x**2 - 2*x - 1\n",
    "solveset(expr, x)"
   ]
  },
  {
   "cell_type": "markdown",
   "metadata": {},
   "source": [
    "This function can handle different domains of solutions, by default it shows complex solutions,"
   ]
  },
  {
   "cell_type": "code",
   "execution_count": null,
   "metadata": {
    "ExecuteTime": {
     "end_time": "2019-10-08T12:36:01.231328Z",
     "start_time": "2019-10-08T12:36:01.026603Z"
    }
   },
   "outputs": [],
   "source": [
    "my_eq = x**3 + 3*x**2 + 6*x -10\n",
    "solveset(my_eq, x)"
   ]
  },
  {
   "cell_type": "markdown",
   "metadata": {},
   "source": [
    "We can choose only the real solutions"
   ]
  },
  {
   "cell_type": "code",
   "execution_count": null,
   "metadata": {
    "ExecuteTime": {
     "end_time": "2019-10-08T12:36:02.361855Z",
     "start_time": "2019-10-08T12:36:02.182425Z"
    }
   },
   "outputs": [],
   "source": [
    "my_eq = x**3 + 3*x**2 + 6*x -10\n",
    "solveset(my_eq, x, domain=S.Reals)"
   ]
  },
  {
   "cell_type": "markdown",
   "metadata": {},
   "source": [
    "`solveset` only reports the solutions, if we want to know their multiplicity we can use the `roots` function"
   ]
  },
  {
   "cell_type": "code",
   "execution_count": null,
   "metadata": {
    "ExecuteTime": {
     "end_time": "2019-10-08T12:36:03.547198Z",
     "start_time": "2019-10-08T12:36:03.369990Z"
    }
   },
   "outputs": [],
   "source": [
    "solveset(x**2 + 2*x + 1, x)"
   ]
  },
  {
   "cell_type": "code",
   "execution_count": null,
   "metadata": {
    "ExecuteTime": {
     "end_time": "2019-10-08T12:36:04.313674Z",
     "start_time": "2019-10-08T12:36:04.160949Z"
    }
   },
   "outputs": [],
   "source": [
    "roots(x**2 + 2*x + 1, x)"
   ]
  },
  {
   "cell_type": "markdown",
   "metadata": {},
   "source": [
    "Now, let's see a couple of examples a bit more involved"
   ]
  },
  {
   "cell_type": "code",
   "execution_count": null,
   "metadata": {
    "ExecuteTime": {
     "end_time": "2019-10-08T12:36:05.614177Z",
     "start_time": "2019-10-08T12:36:05.447179Z"
    }
   },
   "outputs": [],
   "source": [
    "solveset(x-x, x, domain=S.Complexes)"
   ]
  },
  {
   "cell_type": "code",
   "execution_count": null,
   "metadata": {
    "ExecuteTime": {
     "end_time": "2019-10-08T12:36:06.533707Z",
     "start_time": "2019-10-08T12:36:06.305730Z"
    }
   },
   "outputs": [],
   "source": [
    "solveset(sin(x) - 1, x)"
   ]
  },
  {
   "cell_type": "markdown",
   "metadata": {},
   "source": [
    "If it is not able to find a solution it returs a set"
   ]
  },
  {
   "cell_type": "code",
   "execution_count": null,
   "metadata": {
    "ExecuteTime": {
     "end_time": "2019-10-08T12:36:08.294834Z",
     "start_time": "2019-10-08T12:36:08.124139Z"
    }
   },
   "outputs": [],
   "source": [
    "solveset(cos(x) - x, x)"
   ]
  },
  {
   "cell_type": "markdown",
   "metadata": {},
   "source": [
    "If no solution exists it returns an empty set"
   ]
  },
  {
   "cell_type": "code",
   "execution_count": null,
   "metadata": {
    "ExecuteTime": {
     "end_time": "2019-10-08T12:36:09.489591Z",
     "start_time": "2019-10-08T12:36:09.333278Z"
    }
   },
   "outputs": [],
   "source": [
    "solveset(exp(x), x)"
   ]
  },
  {
   "cell_type": "markdown",
   "metadata": {},
   "source": [
    "### Differential equations"
   ]
  },
  {
   "cell_type": "markdown",
   "metadata": {
    "collapsed": true
   },
   "source": [
    "First we define a derivative of an arbitrary function using the symbols defined as cls=Function ('f g h' in our case, check header)"
   ]
  },
  {
   "cell_type": "code",
   "execution_count": null,
   "metadata": {
    "ExecuteTime": {
     "end_time": "2019-10-08T12:36:11.379172Z",
     "start_time": "2019-10-08T12:36:11.214143Z"
    }
   },
   "outputs": [],
   "source": [
    "f(x).diff(x)"
   ]
  },
  {
   "cell_type": "markdown",
   "metadata": {},
   "source": [
    "Now we can write the differential equation\n",
    "\n",
    "\\\\[f''(x) + -2f'(x) + f(x) = \\sin(x)\\\\]\n",
    "\n",
    "as "
   ]
  },
  {
   "cell_type": "code",
   "execution_count": null,
   "metadata": {
    "ExecuteTime": {
     "end_time": "2019-10-08T12:36:12.852961Z",
     "start_time": "2019-10-08T12:36:12.691453Z"
    }
   },
   "outputs": [],
   "source": [
    "diffeq = Eq(f(x).diff(x, 2) - 2*f(x).diff(x) + f(x), sin(x))\n",
    "diffeq"
   ]
  },
  {
   "cell_type": "markdown",
   "metadata": {},
   "source": [
    "and then use the function `dsolve`"
   ]
  },
  {
   "cell_type": "code",
   "execution_count": null,
   "metadata": {
    "ExecuteTime": {
     "end_time": "2019-10-08T12:36:14.211484Z",
     "start_time": "2019-10-08T12:36:13.938310Z"
    }
   },
   "outputs": [],
   "source": [
    "dsolve(diffeq, f(x))"
   ]
  },
  {
   "cell_type": "markdown",
   "metadata": {},
   "source": [
    "It also allows us to specify initial conditions"
   ]
  },
  {
   "cell_type": "code",
   "execution_count": null,
   "metadata": {
    "ExecuteTime": {
     "end_time": "2019-10-08T12:36:15.751993Z",
     "start_time": "2019-10-08T12:36:15.461967Z"
    }
   },
   "outputs": [],
   "source": [
    "f0, df0 = symbols(\"f_0 f'_0\")\n",
    "\n",
    "initial_conditions = {f(0):f0, \n",
    "                      diff(f(x), x).subs(x, 0):df0}\n",
    "\n",
    "dsolve(diffeq, f(x), ics=initial_conditions)"
   ]
  }
 ],
 "metadata": {
  "kernelspec": {
   "display_name": "Python 3",
   "language": "python",
   "name": "python3"
  },
  "language_info": {
   "codemirror_mode": {
    "name": "ipython",
    "version": 3
   },
   "file_extension": ".py",
   "mimetype": "text/x-python",
   "name": "python",
   "nbconvert_exporter": "python",
   "pygments_lexer": "ipython3",
   "version": "3.7.4"
  },
  "varInspector": {
   "cols": {
    "lenName": 16,
    "lenType": 16,
    "lenVar": 40
   },
   "kernels_config": {
    "python": {
     "delete_cmd_postfix": "",
     "delete_cmd_prefix": "del ",
     "library": "var_list.py",
     "varRefreshCmd": "print(var_dic_list())"
    },
    "r": {
     "delete_cmd_postfix": ") ",
     "delete_cmd_prefix": "rm(",
     "library": "var_list.r",
     "varRefreshCmd": "cat(var_dic_list()) "
    }
   },
   "types_to_exclude": [
    "module",
    "function",
    "builtin_function_or_method",
    "instance",
    "_Feature"
   ],
   "window_display": false
  }
 },
 "nbformat": 4,
 "nbformat_minor": 2
}
