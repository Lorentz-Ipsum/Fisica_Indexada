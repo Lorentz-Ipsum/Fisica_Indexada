{
 "cells": [
  {
   "cell_type": "markdown",
   "metadata": {},
   "source": [
    "# Sympy basics "
   ]
  },
  {
   "cell_type": "markdown",
   "metadata": {},
   "source": [
    "This series of notebooks is aimed at showing some of the capabilities of Python for symbolic computation, through the module SymPy, as an alternative to propietary software like Mathematica. The first four notebooks deal with symbolic computation, while the remaining two introduce  the numeric modules NumPy and SciPy."
   ]
  },
  {
   "cell_type": "markdown",
   "metadata": {},
   "source": [
    "### Python and sympy objects "
   ]
  },
  {
   "cell_type": "markdown",
   "metadata": {},
   "source": [
    "First we need to understand the logic under Python modules. Usually when we want to use a mathematical function in Python to perform non-trivial operations we must first import it from its module,"
   ]
  },
  {
   "cell_type": "code",
   "execution_count": null,
   "metadata": {
    "ExecuteTime": {
     "end_time": "2019-10-08T12:41:17.603410Z",
     "start_time": "2019-10-08T12:41:17.599389Z"
    }
   },
   "outputs": [],
   "source": [
    "from math import sqrt"
   ]
  },
  {
   "cell_type": "markdown",
   "metadata": {},
   "source": [
    "Now we can use the function `sqrt` from the module `math` in our code"
   ]
  },
  {
   "cell_type": "code",
   "execution_count": null,
   "metadata": {
    "ExecuteTime": {
     "end_time": "2019-10-08T12:41:17.967353Z",
     "start_time": "2019-10-08T12:41:17.955112Z"
    }
   },
   "outputs": [],
   "source": [
    "sqrt(3)"
   ]
  },
  {
   "cell_type": "markdown",
   "metadata": {},
   "source": [
    "Alternatively, we may import the whole module and call all the functions contained in it with the following syntax"
   ]
  },
  {
   "cell_type": "code",
   "execution_count": null,
   "metadata": {
    "ExecuteTime": {
     "end_time": "2019-10-08T12:41:18.289614Z",
     "start_time": "2019-10-08T12:41:18.282683Z"
    }
   },
   "outputs": [],
   "source": [
    "import math\n",
    "\n",
    "math.sqrt(3)"
   ]
  },
  {
   "cell_type": "markdown",
   "metadata": {},
   "source": [
    "Different modules may contain functions with the same name, but the functions themselves are *different*. For instance, in the case of the function `sqrt`, it is defined in the module `sympy` as well "
   ]
  },
  {
   "cell_type": "code",
   "execution_count": null,
   "metadata": {
    "ExecuteTime": {
     "end_time": "2019-10-08T12:41:18.890664Z",
     "start_time": "2019-10-08T12:41:18.596557Z"
    }
   },
   "outputs": [],
   "source": [
    "import sympy\n",
    "\n",
    "sympy.sqrt(3)"
   ]
  },
  {
   "cell_type": "markdown",
   "metadata": {},
   "source": [
    "Now, sqrt(3) is interpreted as the symbolic object $\\sqrt{3}$ not as a floating-point number 1.73205... We can check how Python works with this objects internally"
   ]
  },
  {
   "cell_type": "code",
   "execution_count": null,
   "metadata": {
    "ExecuteTime": {
     "end_time": "2019-10-08T12:41:18.958487Z",
     "start_time": "2019-10-08T12:41:18.951463Z"
    }
   },
   "outputs": [],
   "source": [
    "sq = math.sqrt(3)\n",
    "type(sq)"
   ]
  },
  {
   "cell_type": "code",
   "execution_count": null,
   "metadata": {
    "ExecuteTime": {
     "end_time": "2019-10-08T12:41:19.085967Z",
     "start_time": "2019-10-08T12:41:19.082222Z"
    }
   },
   "outputs": [],
   "source": [
    "sq = sympy.sqrt(3)\n",
    "type(sq)"
   ]
  },
  {
   "cell_type": "markdown",
   "metadata": {},
   "source": [
    "It is important to bear this difference in mind while working in Python to avoid conflicts between different functions with the same name. We will come back to this point with `numpy`."
   ]
  },
  {
   "cell_type": "markdown",
   "metadata": {},
   "source": [
    "### Defining symbols and functions"
   ]
  },
  {
   "cell_type": "markdown",
   "metadata": {},
   "source": [
    "In all our sessions with `sympy` we will call first (WARNING!!: this is widely regarded as a bad practice in Python, in our case we will only do it with the sympy module)"
   ]
  },
  {
   "cell_type": "code",
   "execution_count": null,
   "metadata": {
    "ExecuteTime": {
     "end_time": "2019-10-08T12:41:19.819901Z",
     "start_time": "2019-10-08T12:41:19.814293Z"
    }
   },
   "outputs": [],
   "source": [
    "from sympy import *"
   ]
  },
  {
   "cell_type": "markdown",
   "metadata": {},
   "source": [
    "That is, we will import every function in `sympy`, just to avoid the long-hand notation `sympy.function()`. We will also call the function `init_printing()` in `sympy`, that allows for a fancier output"
   ]
  },
  {
   "cell_type": "code",
   "execution_count": null,
   "metadata": {
    "ExecuteTime": {
     "end_time": "2019-10-08T12:41:20.506077Z",
     "start_time": "2019-10-08T12:41:20.156044Z"
    }
   },
   "outputs": [],
   "source": [
    "init_printing()"
   ]
  },
  {
   "cell_type": "markdown",
   "metadata": {},
   "source": [
    "The square root should be printed now in a much prettier way"
   ]
  },
  {
   "cell_type": "code",
   "execution_count": null,
   "metadata": {
    "ExecuteTime": {
     "end_time": "2019-10-08T12:41:20.709523Z",
     "start_time": "2019-10-08T12:41:20.551783Z"
    }
   },
   "outputs": [],
   "source": [
    "sqrt(3)"
   ]
  },
  {
   "cell_type": "markdown",
   "metadata": {},
   "source": [
    "Ok, after setting up our enviroment we will start to do some symbolic computation"
   ]
  },
  {
   "cell_type": "code",
   "execution_count": null,
   "metadata": {
    "ExecuteTime": {
     "end_time": "2019-10-08T12:41:21.268741Z",
     "start_time": "2019-10-08T12:41:21.111564Z"
    }
   },
   "outputs": [],
   "source": [
    "sqrt(5)*sqrt(8)"
   ]
  },
  {
   "cell_type": "markdown",
   "metadata": {},
   "source": [
    "Admittedly not very interesting. To go beyond this elementary example we need to learn how to define variables and functions. Every non-numeric character must be defined before-hand in `sympy` (otherwise Python thinks it is a standard variable)."
   ]
  },
  {
   "cell_type": "markdown",
   "metadata": {},
   "source": [
    "#### Symbols"
   ]
  },
  {
   "cell_type": "code",
   "execution_count": null,
   "metadata": {
    "ExecuteTime": {
     "end_time": "2019-10-08T12:41:22.040999Z",
     "start_time": "2019-10-08T12:41:22.035105Z"
    }
   },
   "outputs": [],
   "source": [
    "x, y, z, t, nu, a = symbols('x y z t nu alpha')"
   ]
  },
  {
   "cell_type": "markdown",
   "metadata": {},
   "source": [
    "In the left-hand we have the name that we will use in our code, while on the right-hand side we have defined the name that will be associated to the variable in the output. For instance, our variable 'a' will be displayed as $\\alpha$"
   ]
  },
  {
   "cell_type": "code",
   "execution_count": null,
   "metadata": {
    "ExecuteTime": {
     "end_time": "2019-10-08T12:41:22.803424Z",
     "start_time": "2019-10-08T12:41:22.651912Z"
    }
   },
   "outputs": [],
   "source": [
    "a**2"
   ]
  },
  {
   "cell_type": "markdown",
   "metadata": {},
   "source": [
    "In this example we can see that the greek letters are displayed correctly, but we must be careful with $\\lambda$. In fact, `lambda` has a special meaning in Python so to represent $\\lambda$ in `sympy` we must use `lamda` instead"
   ]
  },
  {
   "cell_type": "code",
   "execution_count": null,
   "metadata": {
    "ExecuteTime": {
     "end_time": "2019-10-08T12:41:23.439409Z",
     "start_time": "2019-10-08T12:41:23.290262Z"
    }
   },
   "outputs": [],
   "source": [
    "l = symbols('lamda')\n",
    "l"
   ]
  },
  {
   "cell_type": "markdown",
   "metadata": {},
   "source": [
    "#### Functions"
   ]
  },
  {
   "cell_type": "markdown",
   "metadata": {},
   "source": [
    "We can construct explicit functions with a direct assignment"
   ]
  },
  {
   "cell_type": "code",
   "execution_count": null,
   "metadata": {
    "ExecuteTime": {
     "end_time": "2019-10-08T12:41:24.362921Z",
     "start_time": "2019-10-08T12:41:24.355202Z"
    }
   },
   "outputs": [],
   "source": [
    "expr = cos(x)**2 + 1"
   ]
  },
  {
   "cell_type": "code",
   "execution_count": null,
   "metadata": {
    "ExecuteTime": {
     "end_time": "2019-10-08T12:41:25.062110Z",
     "start_time": "2019-10-08T12:41:24.909831Z"
    }
   },
   "outputs": [],
   "source": [
    "expr + x**2"
   ]
  },
  {
   "cell_type": "markdown",
   "metadata": {},
   "source": [
    "or with the usual definition in Python"
   ]
  },
  {
   "cell_type": "code",
   "execution_count": null,
   "metadata": {
    "ExecuteTime": {
     "end_time": "2019-10-08T12:41:25.528620Z",
     "start_time": "2019-10-08T12:41:25.523261Z"
    }
   },
   "outputs": [],
   "source": [
    "def my_func(x, a=1, b=0, c=0):\n",
    "    \"\"\"\n",
    "    Usual Python function\n",
    "    \"\"\"\n",
    "    return a*x**2 + b*x + c"
   ]
  },
  {
   "cell_type": "code",
   "execution_count": null,
   "metadata": {
    "ExecuteTime": {
     "end_time": "2019-10-08T12:41:25.962879Z",
     "start_time": "2019-10-08T12:41:25.791396Z"
    }
   },
   "outputs": [],
   "source": [
    "my_func(x, b=nu)"
   ]
  },
  {
   "cell_type": "markdown",
   "metadata": {},
   "source": [
    "It will be useful too to declare some symbols as implicit functions (to define differential equations for instance)"
   ]
  },
  {
   "cell_type": "code",
   "execution_count": null,
   "metadata": {
    "ExecuteTime": {
     "end_time": "2019-10-08T12:41:26.655547Z",
     "start_time": "2019-10-08T12:41:26.648751Z"
    }
   },
   "outputs": [],
   "source": [
    "f, g, h = symbols('f g h', cls=Function)"
   ]
  },
  {
   "cell_type": "markdown",
   "metadata": {},
   "source": [
    "### Equalities"
   ]
  },
  {
   "cell_type": "markdown",
   "metadata": {},
   "source": [
    "There are at least three types of 'equalities',"
   ]
  },
  {
   "cell_type": "markdown",
   "metadata": {},
   "source": [
    "- Assignment (=): associates a value to a variable "
   ]
  },
  {
   "cell_type": "code",
   "execution_count": null,
   "metadata": {
    "ExecuteTime": {
     "end_time": "2019-10-08T12:41:27.903723Z",
     "start_time": "2019-10-08T12:41:27.751930Z"
    }
   },
   "outputs": [],
   "source": [
    "expr = 3*x**2\n",
    "expr"
   ]
  },
  {
   "cell_type": "code",
   "execution_count": null,
   "metadata": {
    "ExecuteTime": {
     "end_time": "2019-10-08T12:41:28.516511Z",
     "start_time": "2019-10-08T12:41:28.363109Z"
    }
   },
   "outputs": [],
   "source": [
    "C = 3.34*23\n",
    "C"
   ]
  },
  {
   "cell_type": "markdown",
   "metadata": {},
   "source": [
    "- Equality (==): boolean operator, tests the equality of two variables. In `sympy`, it tests structural identity (i.e. two expressions mathematically identical but written in a different way -> evaluates to False)"
   ]
  },
  {
   "cell_type": "code",
   "execution_count": null,
   "metadata": {
    "ExecuteTime": {
     "end_time": "2019-10-08T12:41:29.721777Z",
     "start_time": "2019-10-08T12:41:29.715052Z"
    }
   },
   "outputs": [],
   "source": [
    "C2 = 76.82\n",
    "\n",
    "C == C2"
   ]
  },
  {
   "cell_type": "code",
   "execution_count": null,
   "metadata": {
    "ExecuteTime": {
     "end_time": "2019-10-08T12:41:30.071671Z",
     "start_time": "2019-10-08T12:41:30.062890Z"
    }
   },
   "outputs": [],
   "source": [
    "expr = cos(x)**2 + sin(x)**2\n",
    "\n",
    "expr == 1"
   ]
  },
  {
   "cell_type": "markdown",
   "metadata": {},
   "source": [
    "- Symbolic equality (Eq): belongs to `sympy`. We will to use this form to define equations."
   ]
  },
  {
   "cell_type": "code",
   "execution_count": null,
   "metadata": {
    "ExecuteTime": {
     "end_time": "2019-10-08T12:41:31.197635Z",
     "start_time": "2019-10-08T12:41:31.040386Z"
    }
   },
   "outputs": [],
   "source": [
    "Eq(2*x**2 + 3, -5)"
   ]
  },
  {
   "cell_type": "markdown",
   "metadata": {},
   "source": [
    "### Getting help "
   ]
  },
  {
   "cell_type": "markdown",
   "metadata": {},
   "source": [
    "- Jupyter notebook supports autocompletion, if you don't remember a command or the name of a method try pressing Tab."
   ]
  },
  {
   "cell_type": "markdown",
   "metadata": {},
   "source": [
    "- If you forget the use of some function, the order of its parameters or something like that, the best course of action is to look it up in the built-in documentation with the commands:"
   ]
  },
  {
   "cell_type": "code",
   "execution_count": null,
   "metadata": {
    "ExecuteTime": {
     "end_time": "2019-10-08T12:41:32.972537Z",
     "start_time": "2019-10-08T12:41:32.933747Z"
    }
   },
   "outputs": [],
   "source": [
    "init_printing?"
   ]
  },
  {
   "cell_type": "markdown",
   "metadata": {},
   "source": [
    "there you can consult its use and even some examples. If you want to dig in a bit more, you can see the source code with "
   ]
  },
  {
   "cell_type": "code",
   "execution_count": null,
   "metadata": {
    "ExecuteTime": {
     "end_time": "2019-10-08T12:41:35.323373Z",
     "start_time": "2019-10-08T12:41:35.294742Z"
    }
   },
   "outputs": [],
   "source": [
    "init_printing??"
   ]
  },
  {
   "cell_type": "markdown",
   "metadata": {},
   "source": [
    "it may be not very illuminating though. Another function that works like '?' is"
   ]
  },
  {
   "cell_type": "code",
   "execution_count": null,
   "metadata": {
    "ExecuteTime": {
     "end_time": "2019-10-08T12:41:37.438942Z",
     "start_time": "2019-10-08T12:41:37.431527Z"
    },
    "scrolled": true
   },
   "outputs": [],
   "source": [
    "help(init_printing)"
   ]
  },
  {
   "cell_type": "markdown",
   "metadata": {},
   "source": [
    "this last expression works on a standard Python shell as well, the other two belong to Jupyter. Sometimes it is useful to find out the methods in some object, dir() does the job"
   ]
  },
  {
   "cell_type": "code",
   "execution_count": null,
   "metadata": {
    "ExecuteTime": {
     "end_time": "2019-10-08T12:41:39.152716Z",
     "start_time": "2019-10-08T12:41:39.142434Z"
    }
   },
   "outputs": [],
   "source": [
    "dir(sympy.Symbol)"
   ]
  },
  {
   "cell_type": "markdown",
   "metadata": {},
   "source": [
    "- It is always advisable to check the official documentation in the dedicated webpage for each module.\n",
    "- Before giving up all hope, check Google. It will probably redirect you to StackOverflow, a most reliable source (dwelling of expert developers and sages alike)."
   ]
  },
  {
   "cell_type": "markdown",
   "metadata": {},
   "source": [
    "### Documentation "
   ]
  },
  {
   "cell_type": "markdown",
   "metadata": {},
   "source": [
    "All the material presented in this set of notebooks is but a succint version of the official tutorials and documentation:\n",
    "- [Sympy User Guide](http://docs.sympy.org/latest/index.html \"Sympy Tutorial\").\n",
    "- [NumPy User Guide](https://docs.scipy.org/doc/numpy/user/index.html \"NumPy Tutorial\").\n",
    "- [SciPy User Guide](https://docs.scipy.org/doc/scipy/reference/ \"SciPy Tutorial\").\n",
    "\n",
    "Useful complementary material\n",
    "- [Matplotlib Introduction](http://nbviewer.jupyter.org/github/jrjohansson/scientific-python-lectures/blob/master/Lecture-4-Matplotlib.ipynb \"Matplotlib Introduction\"): Jupyter notebook showing the basics of Matplotlib. Check references therein.\n",
    "- [Python Introduction](http://nbviewer.jupyter.org/gist/rpmuller/5920182 \"Python Introduction\"): Jupyter notebook introducing Python for scientists. Check references therein.\n",
    "\n",
    "Finally don't forget that the Jupyter has a Help tab and a tutorial, if you have issues with the notebook format. There is **plenty** of material out there on Python, if you want to perform a specific task don't hesitate to Google it, you may find the answer and learn something else along the way."
   ]
  }
 ],
 "metadata": {
  "kernelspec": {
   "display_name": "Python 3",
   "language": "python",
   "name": "python3"
  },
  "language_info": {
   "codemirror_mode": {
    "name": "ipython",
    "version": 3
   },
   "file_extension": ".py",
   "mimetype": "text/x-python",
   "name": "python",
   "nbconvert_exporter": "python",
   "pygments_lexer": "ipython3",
   "version": "3.7.4"
  },
  "varInspector": {
   "cols": {
    "lenName": 16,
    "lenType": 16,
    "lenVar": 40
   },
   "kernels_config": {
    "python": {
     "delete_cmd_postfix": "",
     "delete_cmd_prefix": "del ",
     "library": "var_list.py",
     "varRefreshCmd": "print(var_dic_list())"
    },
    "r": {
     "delete_cmd_postfix": ") ",
     "delete_cmd_prefix": "rm(",
     "library": "var_list.r",
     "varRefreshCmd": "cat(var_dic_list()) "
    }
   },
   "types_to_exclude": [
    "module",
    "function",
    "builtin_function_or_method",
    "instance",
    "_Feature"
   ],
   "window_display": false
  }
 },
 "nbformat": 4,
 "nbformat_minor": 2
}
