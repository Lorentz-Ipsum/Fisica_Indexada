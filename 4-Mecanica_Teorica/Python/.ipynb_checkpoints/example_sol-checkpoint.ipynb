{
 "cells": [
  {
   "cell_type": "code",
   "execution_count": null,
   "metadata": {
    "ExecuteTime": {
     "end_time": "2019-10-25T12:28:32.638685Z",
     "start_time": "2019-10-25T12:28:32.126032Z"
    }
   },
   "outputs": [],
   "source": [
    "from sympy import *\n",
    "init_printing()  # import the best printer available"
   ]
  },
  {
   "cell_type": "markdown",
   "metadata": {},
   "source": [
    "# Example 1:"
   ]
  },
  {
   "cell_type": "markdown",
   "metadata": {},
   "source": [
    "Compute the Euler-Lagrange equations for the Lagrangian\n",
    "\n",
    "\\begin{equation}\n",
    "    L = \\frac{1}{2}m\\dot{x}^2 - V(x)\n",
    "\\end{equation}"
   ]
  },
  {
   "cell_type": "markdown",
   "metadata": {},
   "source": [
    "## Solution"
   ]
  },
  {
   "cell_type": "markdown",
   "metadata": {},
   "source": [
    "First define the symbols as needed and define both $x$ and $V$ as functions."
   ]
  },
  {
   "cell_type": "code",
   "execution_count": null,
   "metadata": {
    "ExecuteTime": {
     "end_time": "2019-10-25T12:28:34.072397Z",
     "start_time": "2019-10-25T12:28:34.067634Z"
    }
   },
   "outputs": [],
   "source": [
    "t, m = symbols('t m', positive=True)\n",
    "x, V = symbols('x V', cls=Function)"
   ]
  },
  {
   "cell_type": "markdown",
   "metadata": {},
   "source": [
    "Next define the Lagrangian (it could be defined as a function as well). Note that every time we use a function we must specify its arguments."
   ]
  },
  {
   "cell_type": "code",
   "execution_count": null,
   "metadata": {
    "ExecuteTime": {
     "end_time": "2019-10-25T12:28:34.949383Z",
     "start_time": "2019-10-25T12:28:34.717145Z"
    }
   },
   "outputs": [],
   "source": [
    "v = x(t).diff(t)\n",
    "\n",
    "# Another possibility\n",
    "#v = Derivative(x(t), t)\n",
    "\n",
    "L = m*v**2/2 - V(x(t))\n",
    "\n",
    "L"
   ]
  },
  {
   "cell_type": "markdown",
   "metadata": {},
   "source": [
    "Now define a method to compute the Euler-Lagrange equations for a generic\n",
    "Lagrangian with the appropiate coordinates and time parameter. Of course, this is the simplest version. It could be improved in many ways."
   ]
  },
  {
   "cell_type": "code",
   "execution_count": null,
   "metadata": {
    "ExecuteTime": {
     "end_time": "2019-10-25T12:28:35.950186Z",
     "start_time": "2019-10-25T12:28:35.943563Z"
    }
   },
   "outputs": [],
   "source": [
    "def euler_lagrange(tau, q, Lg):\n",
    "    \"\"\"\n",
    "    Compute the Euler-Lagrange equations.\n",
    "    \n",
    "     - tau : time parameter\n",
    "     - q   : configuration variable\n",
    "     - Lg  : Lagrangian\n",
    "    \"\"\"\n",
    "    q_dot = q(tau).diff(tau)\n",
    "    \n",
    "    kin = diff(Lg.diff(q_dot),tau)\n",
    "    potential = Lg.diff(q(tau))\n",
    "    \n",
    "    return Eq(kin - potential)"
   ]
  },
  {
   "cell_type": "markdown",
   "metadata": {},
   "source": [
    "And finally apply the function"
   ]
  },
  {
   "cell_type": "code",
   "execution_count": null,
   "metadata": {
    "ExecuteTime": {
     "end_time": "2019-10-25T12:28:37.040831Z",
     "start_time": "2019-10-25T12:28:36.800164Z"
    }
   },
   "outputs": [],
   "source": [
    "euler_lagrange(t, x, L)"
   ]
  },
  {
   "cell_type": "markdown",
   "metadata": {
    "collapsed": true
   },
   "source": [
    "# Example 2:"
   ]
  },
  {
   "cell_type": "markdown",
   "metadata": {},
   "source": [
    "Compute symbolically the following integral:\n",
    "\n",
    "\\begin{equation}\n",
    "    \\int^\\infty_0\\text{d}x\\int^x_0\\text{d}y\\;\n",
    "    \\text{e}^{-(x+y)}\\cos\\left(k(x-y)\\right)\n",
    "\\end{equation}"
   ]
  },
  {
   "cell_type": "markdown",
   "metadata": {},
   "source": [
    "## Solution"
   ]
  },
  {
   "cell_type": "markdown",
   "metadata": {},
   "source": [
    "Define the symbols for the variables"
   ]
  },
  {
   "cell_type": "code",
   "execution_count": null,
   "metadata": {
    "ExecuteTime": {
     "end_time": "2019-10-25T12:28:39.098198Z",
     "start_time": "2019-10-25T12:28:39.092653Z"
    }
   },
   "outputs": [],
   "source": [
    "k = symbols('k', integer=True)\n",
    "x, y = symbols('x y')"
   ]
  },
  {
   "cell_type": "markdown",
   "metadata": {},
   "source": [
    "and the integral"
   ]
  },
  {
   "cell_type": "code",
   "execution_count": null,
   "metadata": {
    "ExecuteTime": {
     "end_time": "2019-10-25T12:28:40.134895Z",
     "start_time": "2019-10-25T12:28:39.901387Z"
    }
   },
   "outputs": [],
   "source": [
    "integ = Integral(exp(-(x+y))*cos(k*(x-y)), (y, 0, x), (x, 0, oo))\n",
    "integ"
   ]
  },
  {
   "cell_type": "markdown",
   "metadata": {},
   "source": [
    "Finally, perform the integral."
   ]
  },
  {
   "cell_type": "code",
   "execution_count": null,
   "metadata": {
    "ExecuteTime": {
     "end_time": "2019-10-25T12:28:44.213483Z",
     "start_time": "2019-10-25T12:28:41.291452Z"
    }
   },
   "outputs": [],
   "source": [
    "integ.doit()"
   ]
  },
  {
   "cell_type": "markdown",
   "metadata": {},
   "source": [
    "# Example 3:"
   ]
  },
  {
   "cell_type": "markdown",
   "metadata": {},
   "source": [
    "Expand the Bessel function $J_n(x)$ up to $\\mathcal{O}(x^5)$. Then particularize the result to $n=2$."
   ]
  },
  {
   "cell_type": "markdown",
   "metadata": {},
   "source": [
    "## Solution"
   ]
  },
  {
   "cell_type": "markdown",
   "metadata": {},
   "source": [
    "First define the integer $n$ and the variable $x$."
   ]
  },
  {
   "cell_type": "code",
   "execution_count": null,
   "metadata": {
    "ExecuteTime": {
     "end_time": "2019-10-25T12:28:47.871258Z",
     "start_time": "2019-10-25T12:28:47.865537Z"
    }
   },
   "outputs": [],
   "source": [
    "n = symbols('n', integer=True)\n",
    "x = symbols('x')"
   ]
  },
  {
   "cell_type": "markdown",
   "metadata": {},
   "source": [
    "After a quick search in the documentation, we find out that the Bessel function is already implemented."
   ]
  },
  {
   "cell_type": "code",
   "execution_count": null,
   "metadata": {
    "ExecuteTime": {
     "end_time": "2019-10-25T12:28:48.994560Z",
     "start_time": "2019-10-25T12:28:48.764292Z"
    }
   },
   "outputs": [],
   "source": [
    "func = besselj(n,x)\n",
    "func"
   ]
  },
  {
   "cell_type": "markdown",
   "metadata": {},
   "source": [
    "Now, expand it"
   ]
  },
  {
   "cell_type": "code",
   "execution_count": null,
   "metadata": {
    "ExecuteTime": {
     "end_time": "2019-10-25T12:28:50.394010Z",
     "start_time": "2019-10-25T12:28:49.959633Z"
    }
   },
   "outputs": [],
   "source": [
    "series = func.series(x, 0, 5)\n",
    "series"
   ]
  },
  {
   "cell_type": "markdown",
   "metadata": {},
   "source": [
    "Sometimes is useful to remove the $\\mathcal{O}(x^5)$ term."
   ]
  },
  {
   "cell_type": "code",
   "execution_count": null,
   "metadata": {
    "ExecuteTime": {
     "end_time": "2019-10-25T12:28:51.606527Z",
     "start_time": "2019-10-25T12:28:51.355568Z"
    }
   },
   "outputs": [],
   "source": [
    "series.removeO()"
   ]
  },
  {
   "cell_type": "markdown",
   "metadata": {},
   "source": [
    "Finally, particularize the result to $n=2$."
   ]
  },
  {
   "cell_type": "code",
   "execution_count": null,
   "metadata": {
    "ExecuteTime": {
     "end_time": "2019-10-25T12:28:52.635678Z",
     "start_time": "2019-10-25T12:28:52.393616Z"
    }
   },
   "outputs": [],
   "source": [
    "series.subs(n, 2)"
   ]
  },
  {
   "cell_type": "markdown",
   "metadata": {},
   "source": [
    "# Example 4 "
   ]
  },
  {
   "cell_type": "markdown",
   "metadata": {},
   "source": [
    "Starting with the expression\n",
    "\n",
    "\\begin{equation*}\n",
    "    \\frac{\\text{d}^2}{\\text{d}t^2}\\Big\\{\\cos\\big(\\alpha q(t)\\big)\n",
    "        \\sin\\big(\\beta q(t)\\big)\\big(q(t)+\\alpha\\beta t^2\\big)\\Big\\}\n",
    "\\end{equation*}\n",
    "\n",
    "try to recast it as\n",
    "\n",
    "\\begin{align*}\n",
    "&2 \\alpha \\beta c_{\\alpha} s_{\\beta}\\\\\n",
    "&- 4 \\alpha \\beta t \\left(\\alpha s_{\\alpha} s_{\\beta} \n",
    "    - \\beta c_{\\alpha} c_{\\beta}\\right) \n",
    "    \\frac{d}{d t} q{\\left (t\\right )}\\\\\n",
    "&- \\Big[\\alpha \\beta t^{2} \\left(\\alpha s_{\\alpha} s_{\\beta} \n",
    "    - \\beta c_{\\alpha} c_{\\beta}\\right)\\\\\n",
    "&\\qquad- c_{\\alpha} s_{\\beta}\n",
    "    + \\left(\\alpha s_{\\alpha} s_{\\beta} \n",
    "    - \\beta c_{\\alpha} c_{\\beta}\\right) q{\\left (t \\right )}\\Big]\n",
    "    \\frac{d^{2}}{d t^{2}} q{\\left (t \\right )}\\\\\n",
    "&+ \\Big[- \\alpha \\beta t^{2} \\left(\\alpha^{2} c_{\\alpha} s_{\\beta} \n",
    "    + 2 \\alpha \\beta c_{\\beta} s_{\\alpha} \n",
    "    + \\beta^{2} c_{\\alpha} s_{\\beta}\\right)\\\\\n",
    "&\\qquad - 2 \\alpha s_{\\alpha} s_{\\beta} \n",
    "    + 2 \\beta c_{\\alpha} c_{\\beta}\\\\\n",
    "&\\qquad\n",
    "    - \\left(\\alpha^{2} c_{\\alpha} s_{\\beta}\n",
    "    + 2 \\alpha \\beta c_{\\beta} s_{\\alpha} \n",
    "    + \\beta^{2} c_{\\alpha} s_{\\beta}\\right) \n",
    "    q{\\left (t \\right )}\\Big] \n",
    "    \\left(\\frac{d}{d t} q{\\left (t \\right )}\\right)^{2}\n",
    "\\end{align*}\n",
    "\n",
    "where\n",
    "\\begin{alignat*}{2}\n",
    "     s_\\alpha &\\equiv \\sin\\big(\\alpha q(t)\\big) &\\qquad\n",
    "         s_\\beta &\\equiv \\sin\\big(\\beta q(t)\\big) \\\\\n",
    "     c_\\alpha &\\equiv \\cos\\big(\\alpha q(t)\\big) &\\qquad\n",
    "         c_\\beta &\\equiv \\cos\\big(\\beta q(t)\\big)\n",
    "\\end{alignat*}"
   ]
  },
  {
   "cell_type": "markdown",
   "metadata": {},
   "source": [
    "## Solution"
   ]
  },
  {
   "cell_type": "markdown",
   "metadata": {},
   "source": [
    "First, we write the expression"
   ]
  },
  {
   "cell_type": "code",
   "execution_count": null,
   "metadata": {
    "ExecuteTime": {
     "end_time": "2019-10-25T12:28:57.445083Z",
     "start_time": "2019-10-25T12:28:57.124843Z"
    }
   },
   "outputs": [],
   "source": [
    "a, b, t = symbols('alpha beta t')\n",
    "q = symbols('q', cls=Function)\n",
    "\n",
    "Ca = cos(a*q(t))\n",
    "Sa = sin(a*q(t))\n",
    "\n",
    "Cb = cos(b*q(t))\n",
    "Sb = sin(b*q(t))\n",
    "\n",
    "eq = (Ca*Sb*(q(t)+a*b*t**2)).diff(t, 2)\n",
    "\n",
    "eq"
   ]
  },
  {
   "cell_type": "markdown",
   "metadata": {},
   "source": [
    "Now, we define the new symbols and the substitution rule"
   ]
  },
  {
   "cell_type": "code",
   "execution_count": null,
   "metadata": {
    "ExecuteTime": {
     "end_time": "2019-10-25T12:28:58.674509Z",
     "start_time": "2019-10-25T12:28:58.442262Z"
    }
   },
   "outputs": [],
   "source": [
    "sa, sb = symbols('s_alpha s_beta')\n",
    "ca, cb = symbols('c_alpha c_beta')\n",
    "\n",
    "sub_rule = {cos(a*q(t)) : ca, cos(b*q(t)) : cb,\\\n",
    "            sin(a*q(t)) : sa, sin(b*q(t)) : sb}\n",
    "\n",
    "sub_rule"
   ]
  },
  {
   "cell_type": "markdown",
   "metadata": {},
   "source": [
    "and we apply it to the previous expression to obtain something more manageable"
   ]
  },
  {
   "cell_type": "code",
   "execution_count": null,
   "metadata": {
    "ExecuteTime": {
     "end_time": "2019-10-25T12:29:00.400018Z",
     "start_time": "2019-10-25T12:29:00.125833Z"
    }
   },
   "outputs": [],
   "source": [
    "eq2 = eq.subs(sub_rule)\n",
    "\n",
    "eq2"
   ]
  },
  {
   "cell_type": "markdown",
   "metadata": {},
   "source": [
    "If we only apply `simplify', we don't get the desired expression"
   ]
  },
  {
   "cell_type": "code",
   "execution_count": null,
   "metadata": {
    "ExecuteTime": {
     "end_time": "2019-10-25T12:29:02.775715Z",
     "start_time": "2019-10-25T12:29:02.380068Z"
    }
   },
   "outputs": [],
   "source": [
    "eq2.simplify()"
   ]
  },
  {
   "cell_type": "markdown",
   "metadata": {},
   "source": [
    "We need to expand the products and collect the terms in the right order"
   ]
  },
  {
   "cell_type": "code",
   "execution_count": null,
   "metadata": {
    "ExecuteTime": {
     "end_time": "2019-10-25T12:29:06.681737Z",
     "start_time": "2019-10-25T12:29:06.396372Z"
    }
   },
   "outputs": [],
   "source": [
    "dq = q(t).diff(t)\n",
    "\n",
    "eq3 = eq2.expand()\n",
    "eq3 = eq3.collect(t*dq).collect(q(t)*dq).collect(dq)\n",
    "\n",
    "eq3"
   ]
  },
  {
   "cell_type": "markdown",
   "metadata": {
    "ExecuteTime": {
     "end_time": "2019-10-16T12:47:09.767145Z",
     "start_time": "2019-10-16T12:47:09.761480Z"
    }
   },
   "source": [
    "Finally, apply `simplify' to factor out the constants "
   ]
  },
  {
   "cell_type": "code",
   "execution_count": null,
   "metadata": {
    "ExecuteTime": {
     "end_time": "2019-10-25T12:29:11.304638Z",
     "start_time": "2019-10-25T12:29:10.893480Z"
    }
   },
   "outputs": [],
   "source": [
    "eq4 = eq3.simplify()\n",
    "\n",
    "eq4"
   ]
  },
  {
   "cell_type": "markdown",
   "metadata": {},
   "source": [
    "Be careful applying `simplify' on factorized expressions. Sometimes it expands the factors. A different way of achieving this result is"
   ]
  },
  {
   "cell_type": "code",
   "execution_count": null,
   "metadata": {
    "ExecuteTime": {
     "end_time": "2019-10-25T12:29:15.764582Z",
     "start_time": "2019-10-25T12:29:15.375531Z"
    }
   },
   "outputs": [],
   "source": [
    "eq5 = eq.subs(sub_rule).expand().collect(dq)\n",
    "eq5 = use(eq5, lambda f: f.collect([t, q(t)]), level=1)\n",
    "\n",
    "# this way simplify is only applied to the prefactors \n",
    "eq5 = use(eq5, simplify, level=2)\n",
    "\n",
    "eq5"
   ]
  }
 ],
 "metadata": {
  "kernelspec": {
   "display_name": "Python 3",
   "language": "python",
   "name": "python3"
  },
  "language_info": {
   "codemirror_mode": {
    "name": "ipython",
    "version": 3
   },
   "file_extension": ".py",
   "mimetype": "text/x-python",
   "name": "python",
   "nbconvert_exporter": "python",
   "pygments_lexer": "ipython3",
   "version": "3.7.4"
  },
  "varInspector": {
   "cols": {
    "lenName": 16,
    "lenType": 16,
    "lenVar": 40
   },
   "kernels_config": {
    "python": {
     "delete_cmd_postfix": "",
     "delete_cmd_prefix": "del ",
     "library": "var_list.py",
     "varRefreshCmd": "print(var_dic_list())"
    },
    "r": {
     "delete_cmd_postfix": ") ",
     "delete_cmd_prefix": "rm(",
     "library": "var_list.r",
     "varRefreshCmd": "cat(var_dic_list()) "
    }
   },
   "types_to_exclude": [
    "module",
    "function",
    "builtin_function_or_method",
    "instance",
    "_Feature"
   ],
   "window_display": false
  }
 },
 "nbformat": 4,
 "nbformat_minor": 2
}
