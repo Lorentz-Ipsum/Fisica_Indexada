{
 "cells": [
  {
   "cell_type": "markdown",
   "metadata": {},
   "source": [
    "# Problem 2.7"
   ]
  },
  {
   "cell_type": "markdown",
   "metadata": {},
   "source": [
    "From a hamiltonian point of view, study a charged particle moving in the field created by a magnetic dipole. Prove that there are solutions constrained to the plane perpendicular to the magnetic moment. Analyze qualitatively the dynamics in this plane"
   ]
  },
  {
   "cell_type": "markdown",
   "metadata": {},
   "source": [
    "In this notebook I solve part of this problem. In particular I focus in the non-relativistic case, analyze the stability in the $z=0$ plane and compute the full numerical solution (nothing of this is asked for in the exercise). I leave to you the relativistic case and the discussion of the existence of bound orbits in the $z=0$ plane."
   ]
  },
  {
   "cell_type": "code",
   "execution_count": 1,
   "metadata": {
    "ExecuteTime": {
     "end_time": "2019-11-27T10:49:38.943409Z",
     "start_time": "2019-11-27T10:49:38.190977Z"
    }
   },
   "outputs": [],
   "source": [
    "import numpy as np\n",
    "import hvr_functions as hvr\n",
    "from scipy.integrate import odeint\n",
    "from IPython.display import display\n",
    "from sympy import *\n",
    "from sympy.physics.vector import dynamicsymbols, init_vprinting\n",
    "\n",
    "init_vprinting()"
   ]
  },
  {
   "cell_type": "markdown",
   "metadata": {},
   "source": [
    "## Definition of the lagrangian"
   ]
  },
  {
   "cell_type": "markdown",
   "metadata": {},
   "source": [
    "The lagrangian for this problem is\n",
    "\n",
    "\\begin{equation}\n",
    "    L = -m\\sqrt{1-\\dot{\\mathbf{r}}\\cdot\\dot{\\mathbf{r}}} \n",
    "        + Q\\ \\dot{\\mathbf{r}}\\cdot \\mathbf{A}\\ ,\n",
    "\\end{equation}\n",
    "\n",
    "where the magnetic potential is related to the magnetic moment as\n",
    "\n",
    "\\begin{equation}\n",
    "    \\mathbf{A} = \\frac{\\mathbf{M}\\wedge\\mathbf{r}}{r^3}\\ .\n",
    "\\end{equation}"
   ]
  },
  {
   "cell_type": "code",
   "execution_count": 2,
   "metadata": {
    "ExecuteTime": {
     "end_time": "2019-11-27T10:49:38.948230Z",
     "start_time": "2019-11-27T10:49:38.944892Z"
    }
   },
   "outputs": [],
   "source": [
    "t = symbols('t')\n",
    "m, M, QQ = symbols('m M Q')\n",
    "L, H = symbols('L H')"
   ]
  },
  {
   "cell_type": "markdown",
   "metadata": {},
   "source": [
    "I usually define the variables explicitly as $x,y,z$ and perform the matrix multiplication using list comprehensions. In this exercise I try to show you a different way using matrices, in case you like it most."
   ]
  },
  {
   "cell_type": "markdown",
   "metadata": {},
   "source": [
    "Two ways of automating the definition of variables"
   ]
  },
  {
   "cell_type": "code",
   "execution_count": 3,
   "metadata": {
    "ExecuteTime": {
     "end_time": "2019-11-27T10:49:39.168998Z",
     "start_time": "2019-11-27T10:49:38.950823Z"
    }
   },
   "outputs": [
    {
     "data": {
      "image/png": "[encoded data removed]",
      "text/latex": [
       "$$\\left [ x_{1}, \\quad x_{2}, \\quad x_{3}\\right ]$$"
      ],
      "text/plain": [
       "[x₁, x₂, x₃]"
      ]
     },
     "metadata": {},
     "output_type": "display_data"
    }
   ],
   "source": [
    "conf_vars = dynamicsymbols('x_(1:%d)' % 4)\n",
    "display(conf_vars)"
   ]
  },
  {
   "cell_type": "markdown",
   "metadata": {},
   "source": [
    "In this case I prefer letters labelling the coordinates"
   ]
  },
  {
   "cell_type": "code",
   "execution_count": 4,
   "metadata": {
    "ExecuteTime": {
     "end_time": "2019-11-27T10:49:40.088687Z",
     "start_time": "2019-11-27T10:49:39.172842Z"
    }
   },
   "outputs": [
    {
     "data": {
      "image/png": "[encoded data removed]",
      "text/latex": [
       "$$\\left [ x, \\quad y, \\quad z\\right ]$$"
      ],
      "text/plain": [
       "[x, y, z]"
      ]
     },
     "metadata": {},
     "output_type": "display_data"
    },
    {
     "data": {
      "image/png": "[encoded data removed]",
      "text/latex": [
       "$$\\left [ \\dot{x}, \\quad \\dot{y}, \\quad \\dot{z}\\right ]$$"
      ],
      "text/plain": [
       "[ẋ, ẏ, ż]"
      ]
     },
     "metadata": {},
     "output_type": "display_data"
    },
    {
     "data": {
      "image/png": "[encoded data removed]",
      "text/latex": [
       "$$\\left [ p_{x}, \\quad p_{y}, \\quad p_{z}\\right ]$$"
      ],
      "text/plain": [
       "[pₓ, p_y, p_z]"
      ]
     },
     "metadata": {},
     "output_type": "display_data"
    },
    {
     "data": {
      "image/png": "[encoded data removed]",
      "text/latex": [
       "$$\\left [ 0, \\quad 0, \\quad M\\right ]$$"
      ],
      "text/plain": [
       "[0, 0, M]"
      ]
     },
     "metadata": {},
     "output_type": "display_data"
    }
   ],
   "source": [
    "labels = ['x', 'y', 'z']\n",
    "\n",
    "conf_vars = [dynamicsymbols('%s' % name) for name in labels]\n",
    "display(conf_vars)\n",
    "\n",
    "velocities = [q.diff() for q in conf_vars]\n",
    "display(velocities)\n",
    "\n",
    "momenta = [dynamicsymbols('p_%s' % name) for name in labels]\n",
    "display(momenta)\n",
    "\n",
    "mag_moment = [0, 0, M]\n",
    "display(mag_moment)"
   ]
  },
  {
   "cell_type": "markdown",
   "metadata": {},
   "source": [
    "Now I can use the `Matrix` variables to perform all the operations and compute the combinations that will go into the lagrangian."
   ]
  },
  {
   "cell_type": "code",
   "execution_count": 5,
   "metadata": {
    "ExecuteTime": {
     "end_time": "2019-11-27T10:49:40.502965Z",
     "start_time": "2019-11-27T10:49:40.091392Z"
    }
   },
   "outputs": [
    {
     "data": {
      "image/png": "[encoded data removed]",
      "text/latex": [
       "$$x^{2} + y^{2} + z^{2}$$"
      ],
      "text/plain": [
       " 2    2    2\n",
       "x  + y  + z "
      ]
     },
     "metadata": {},
     "output_type": "display_data"
    },
    {
     "data": {
      "image/png": "[encoded data removed]",
      "text/latex": [
       "$$\\dot{x}^{2} + \\dot{y}^{2} + \\dot{z}^{2}$$"
      ],
      "text/plain": [
       "  2     2     2\n",
       "ẋ  + ẏ  + ż "
      ]
     },
     "metadata": {},
     "output_type": "display_data"
    }
   ],
   "source": [
    "r = Matrix(conf_vars)\n",
    "r2 = r.dot(r)\n",
    "display(r2)\n",
    "\n",
    "dr = Matrix(velocities)\n",
    "dr2 = dr.dot(dr)\n",
    "display(dr2)"
   ]
  },
  {
   "cell_type": "markdown",
   "metadata": {},
   "source": [
    "The magnetic potential is"
   ]
  },
  {
   "cell_type": "code",
   "execution_count": 6,
   "metadata": {
    "ExecuteTime": {
     "end_time": "2019-11-27T10:49:40.757777Z",
     "start_time": "2019-11-27T10:49:40.504760Z"
    }
   },
   "outputs": [
    {
     "data": {
      "image/png": "[encoded data removed]",
      "text/latex": [
       "$$\\left[\\begin{matrix}- \\frac{M y}{\\left(x^{2} + y^{2} + z^{2}\\right)^{\\frac{3}{2}}}\\\\\\frac{M x}{\\left(x^{2} + y^{2} + z^{2}\\right)^{\\frac{3}{2}}}\\\\0\\end{matrix}\\right]$$"
      ],
      "text/plain": [
       "⎡      -M⋅y       ⎤\n",
       "⎢─────────────────⎥\n",
       "⎢              3/2⎥\n",
       "⎢⎛ 2    2    2⎞   ⎥\n",
       "⎢⎝x  + y  + z ⎠   ⎥\n",
       "⎢                 ⎥\n",
       "⎢       M⋅x       ⎥\n",
       "⎢─────────────────⎥\n",
       "⎢              3/2⎥\n",
       "⎢⎛ 2    2    2⎞   ⎥\n",
       "⎢⎝x  + y  + z ⎠   ⎥\n",
       "⎢                 ⎥\n",
       "⎣        0        ⎦"
      ]
     },
     "metadata": {},
     "output_type": "display_data"
    }
   ],
   "source": [
    "A = Matrix(mag_moment).cross(r)/sqrt(r2)**3\n",
    "display(A)"
   ]
  },
  {
   "cell_type": "markdown",
   "metadata": {},
   "source": [
    "Finally we have for the non-relativistic lagrangian"
   ]
  },
  {
   "cell_type": "code",
   "execution_count": 7,
   "metadata": {
    "ExecuteTime": {
     "end_time": "2019-11-27T10:49:41.001542Z",
     "start_time": "2019-11-27T10:49:40.759763Z"
    }
   },
   "outputs": [
    {
     "data": {
      "image/png": "[encoded data removed]",
      "text/latex": [
       "$$L = Q \\left(\\frac{M x \\dot{y}}{\\left(x^{2} + y^{2} + z^{2}\\right)^{\\frac{3}{2}}} - \\frac{M y \\dot{x}}{\\left(x^{2} + y^{2} + z^{2}\\right)^{\\frac{3}{2}}}\\right) + \\frac{m \\left(\\dot{x}^{2} + \\dot{y}^{2} + \\dot{z}^{2}\\right)}{2}$$"
      ],
      "text/plain": [
       "                                                  ⎛  2     2     2⎞\n",
       "      ⎛      M⋅x⋅ẏ              M⋅y⋅ẋ     ⎞   m⋅⎝ẋ  + ẏ  + ż ⎠\n",
       "L = Q⋅⎜───────────────── - ─────────────────⎟ + ───────────────────\n",
       "      ⎜              3/2                 3/2⎟            2         \n",
       "      ⎜⎛ 2    2    2⎞      ⎛ 2    2    2⎞   ⎟                      \n",
       "      ⎝⎝x  + y  + z ⎠      ⎝x  + y  + z ⎠   ⎠                      "
      ]
     },
     "metadata": {},
     "output_type": "display_data"
    }
   ],
   "source": [
    "lagrangian = m*dr2/2 + QQ*dr.dot(A)\n",
    "\n",
    "display( Eq(L, lagrangian) )"
   ]
  },
  {
   "cell_type": "markdown",
   "metadata": {},
   "source": [
    "Next thing we do is to change to cylindrical coordinates"
   ]
  },
  {
   "cell_type": "code",
   "execution_count": 8,
   "metadata": {
    "ExecuteTime": {
     "end_time": "2019-11-27T10:49:41.221609Z",
     "start_time": "2019-11-27T10:49:41.004327Z"
    }
   },
   "outputs": [
    {
     "data": {
      "image/png": "[encoded data removed]",
      "text/latex": [
       "$$\\left \\{ x : \\rho \\operatorname{cos}\\left(\\phi\\right), \\quad y : \\rho \\operatorname{sin}\\left(\\phi\\right), \\quad z : z\\right \\}$$"
      ],
      "text/plain": [
       "{x: ρ⋅cos(φ), y: ρ⋅sin(φ), z: z}"
      ]
     },
     "metadata": {},
     "output_type": "display_data"
    }
   ],
   "source": [
    "labels2 = ['rho', 'phi', 'z']\n",
    "conf_vars_cyl = [dynamicsymbols('%s' % name) for name in labels2]\n",
    "p, phi, z = conf_vars_cyl\n",
    "\n",
    "momenta_cyl = [dynamicsymbols('p_%s' % name) for name in labels2]\n",
    "pp, pphi, pz = momenta_cyl\n",
    "\n",
    "change = [p*cos(phi), p*sin(phi), z]\n",
    "\n",
    "cart_to_cyl = {q1 : q2 for q1, q2 in zip(conf_vars, change)}\n",
    "display(cart_to_cyl)"
   ]
  },
  {
   "cell_type": "markdown",
   "metadata": {},
   "source": [
    "and it is useful to define the radius"
   ]
  },
  {
   "cell_type": "code",
   "execution_count": 9,
   "metadata": {
    "ExecuteTime": {
     "end_time": "2019-11-27T10:49:41.478110Z",
     "start_time": "2019-11-27T10:49:41.224545Z"
    }
   },
   "outputs": [
    {
     "data": {
      "image/png": "[encoded data removed]",
      "text/latex": [
       "$$\\left \\{ \\rho^{2} + z^{2} : R^{2}\\right \\}$$"
      ],
      "text/plain": [
       "⎧ 2    2   2⎫\n",
       "⎨ρ  + z : R ⎬\n",
       "⎩           ⎭"
      ]
     },
     "metadata": {},
     "output_type": "display_data"
    }
   ],
   "source": [
    "R = dynamicsymbols('R')\n",
    "\n",
    "sub_radius = {p**2+z**2 : R**2}\n",
    "sub_radius_inv = {R : sqrt(p**2+z**2)}\n",
    "display(sub_radius)"
   ]
  },
  {
   "cell_type": "markdown",
   "metadata": {},
   "source": [
    "The lagrangian in these coordinates is"
   ]
  },
  {
   "cell_type": "code",
   "execution_count": 10,
   "metadata": {
    "ExecuteTime": {
     "end_time": "2019-11-27T10:49:42.467646Z",
     "start_time": "2019-11-27T10:49:41.480605Z"
    }
   },
   "outputs": [
    {
     "data": {
      "image/png": "[encoded data removed]",
      "text/latex": [
       "$$L = \\frac{M Q \\rho^{2} \\dot{\\phi}}{\\left(R^{2}\\right)^{\\frac{3}{2}}} + \\frac{m \\rho^{2} \\dot{\\phi}^{2}}{2} + \\frac{m \\dot{\\rho}^{2}}{2} + \\frac{m \\dot{z}^{2}}{2}$$"
      ],
      "text/plain": [
       "         2         2   2       2       2\n",
       "    M⋅Q⋅ρ ⋅φ̇   m⋅ρ ⋅φ̇    m⋅ρ̇    m⋅ż \n",
       "L = ───────── + ──────── + ───── + ─────\n",
       "         3/2       2         2       2  \n",
       "     ⎛ 2⎞                               \n",
       "     ⎝R ⎠                               "
      ]
     },
     "metadata": {},
     "output_type": "display_data"
    }
   ],
   "source": [
    "L_cyl = lagrangian.subs(cart_to_cyl).doit().simplify().subs(sub_radius)\n",
    "\n",
    "display( Eq(L, L_cyl) )"
   ]
  },
  {
   "cell_type": "markdown",
   "metadata": {},
   "source": [
    "We can avoid the annoying $(R^2)^{3/2}$ expression using simplification with assumptions"
   ]
  },
  {
   "cell_type": "code",
   "execution_count": 11,
   "metadata": {
    "ExecuteTime": {
     "end_time": "2019-11-27T10:49:43.182548Z",
     "start_time": "2019-11-27T10:49:42.469351Z"
    }
   },
   "outputs": [
    {
     "data": {
      "image/png": "[encoded data removed]",
      "text/latex": [
       "$$L = \\frac{M Q \\rho^{2} \\dot{\\phi}}{R^{3}} + \\frac{m \\rho^{2} \\dot{\\phi}^{2}}{2} + \\frac{m \\dot{\\rho}^{2}}{2} + \\frac{m \\dot{z}^{2}}{2}$$"
      ],
      "text/plain": [
       "         2         2   2       2       2\n",
       "    M⋅Q⋅ρ ⋅φ̇   m⋅ρ ⋅φ̇    m⋅ρ̇    m⋅ż \n",
       "L = ───────── + ──────── + ───── + ─────\n",
       "         3         2         2       2  \n",
       "        R                               "
      ]
     },
     "metadata": {},
     "output_type": "display_data"
    }
   ],
   "source": [
    "L_cyl = refine(L_cyl, Q.positive(R))  # Q belongs to sympy\n",
    "display( Eq(L, L_cyl) )"
   ]
  },
  {
   "cell_type": "markdown",
   "metadata": {},
   "source": [
    "## Hamiltonian and equations of motion"
   ]
  },
  {
   "cell_type": "markdown",
   "metadata": {},
   "source": [
    "Now I am going to use my functions to find the hamiltonian from the lagrangian"
   ]
  },
  {
   "cell_type": "code",
   "execution_count": 12,
   "metadata": {
    "ExecuteTime": {
     "end_time": "2019-11-27T10:49:43.572641Z",
     "start_time": "2019-11-27T10:49:43.184913Z"
    }
   },
   "outputs": [
    {
     "data": {
      "image/png": "[encoded data removed]",
      "text/latex": [
       "$$H = \\frac{M^{2} Q^{2} \\rho^{2}}{2 m R^{6}} - \\frac{M Q p_{\\phi}}{m R^{3}} + \\frac{p^{2}_{\\phi}}{2 m \\rho^{2}} + \\frac{p^{2}_{\\rho}}{2 m} + \\frac{p^{2}_{z}}{2 m}$$"
      ],
      "text/plain": [
       "     2  2  2               2       2      2\n",
       "    M ⋅Q ⋅ρ    M⋅Q⋅pᵩ    pᵩ      pᵨ    p_z \n",
       "H = ──────── - ────── + ────── + ─── + ────\n",
       "          6        3         2   2⋅m   2⋅m \n",
       "     2⋅m⋅R      m⋅R     2⋅m⋅ρ              "
      ]
     },
     "metadata": {},
     "output_type": "display_data"
    }
   ],
   "source": [
    "H_cyl = hvr.find_hamiltonian(t, conf_vars_cyl, momenta_cyl, L_cyl)\n",
    "display( Eq(H, H_cyl) )"
   ]
  },
  {
   "cell_type": "markdown",
   "metadata": {},
   "source": [
    "The hamiltonian can be further simplified defining the variable $J_z$ even though it is not necessary for the numerical computation that follows."
   ]
  },
  {
   "cell_type": "code",
   "execution_count": 13,
   "metadata": {
    "ExecuteTime": {
     "end_time": "2019-11-27T10:49:44.071757Z",
     "start_time": "2019-11-27T10:49:43.574647Z"
    }
   },
   "outputs": [
    {
     "data": {
      "image/png": "[encoded data removed]",
      "text/latex": [
       "$$\\left \\{ p_{\\phi} : \\frac{M Q \\rho^{2}}{R^{3}} + J_{z}\\right \\}$$"
      ],
      "text/plain": [
       "⎧         2      ⎫\n",
       "⎪    M⋅Q⋅ρ       ⎪\n",
       "⎨pᵩ: ────── + J_z⎬\n",
       "⎪       3        ⎪\n",
       "⎩      R         ⎭"
      ]
     },
     "metadata": {},
     "output_type": "display_data"
    },
    {
     "data": {
      "image/png": "[encoded data removed]",
      "text/latex": [
       "$$H = \\frac{J^{2}_{z}}{2 m \\rho^{2}} + \\frac{p^{2}_{\\rho}}{2 m} + \\frac{p^{2}_{z}}{2 m}$$"
      ],
      "text/plain": [
       "        2      2      2\n",
       "     J_z     pᵨ    p_z \n",
       "H = ────── + ─── + ────\n",
       "         2   2⋅m   2⋅m \n",
       "    2⋅m⋅ρ              "
      ]
     },
     "metadata": {},
     "output_type": "display_data"
    }
   ],
   "source": [
    "Jz = dynamicsymbols('J_z')\n",
    "\n",
    "sub_Jz = {pphi : Jz + QQ*M*p**2/R**3}\n",
    "sub_Jz_inv = {Jz : pphi - QQ*M*p**2/R**3}\n",
    "display(sub_Jz)\n",
    "\n",
    "display( Eq(H, H_cyl.subs(sub_Jz).simplify()) )"
   ]
  },
  {
   "cell_type": "markdown",
   "metadata": {},
   "source": [
    "To find the equations of motion first I rewrite the hamiltonian with the original variables. Of course, in this particular problem (that can be done easily by hand) this is not the best approach, but the point of this exercise is to learn how to work with systems of equations using symbolic manipulators."
   ]
  },
  {
   "cell_type": "code",
   "execution_count": 14,
   "metadata": {
    "ExecuteTime": {
     "end_time": "2019-11-27T10:49:44.336278Z",
     "start_time": "2019-11-27T10:49:44.074228Z"
    }
   },
   "outputs": [
    {
     "data": {
      "image/png": "[encoded data removed]",
      "text/latex": [
       "$$H = \\frac{M^{2} Q^{2} \\rho^{2}}{2 m \\left(\\rho^{2} + z^{2}\\right)^{3}} - \\frac{M Q p_{\\phi}}{m \\left(\\rho^{2} + z^{2}\\right)^{\\frac{3}{2}}} + \\frac{p^{2}_{\\phi}}{2 m \\rho^{2}} + \\frac{p^{2}_{\\rho}}{2 m} + \\frac{p^{2}_{z}}{2 m}$$"
      ],
      "text/plain": [
       "        2  2  2                          2       2      2\n",
       "       M ⋅Q ⋅ρ           M⋅Q⋅pᵩ        pᵩ      pᵨ    p_z \n",
       "H = ────────────── - ────────────── + ────── + ─── + ────\n",
       "                 3              3/2        2   2⋅m   2⋅m \n",
       "        ⎛ 2    2⎞      ⎛ 2    2⎞      2⋅m⋅ρ              \n",
       "    2⋅m⋅⎝ρ  + z ⎠    m⋅⎝ρ  + z ⎠                         "
      ]
     },
     "metadata": {},
     "output_type": "display_data"
    }
   ],
   "source": [
    "H_cyl = H_cyl.subs(sub_radius_inv)\n",
    "display( Eq(H, H_cyl) )"
   ]
  },
  {
   "cell_type": "markdown",
   "metadata": {},
   "source": [
    "Finally I find the equations of motion using my function."
   ]
  },
  {
   "cell_type": "code",
   "execution_count": 15,
   "metadata": {
    "ExecuteTime": {
     "end_time": "2019-11-27T10:49:45.783578Z",
     "start_time": "2019-11-27T10:49:44.338342Z"
    }
   },
   "outputs": [
    {
     "data": {
      "image/png": "[encoded data removed]",
      "text/latex": [
       "$$\\dot{\\rho} = \\frac{p_{\\rho}}{m}$$"
      ],
      "text/plain": [
       "     pᵨ\n",
       "ρ̇ = ──\n",
       "     m "
      ]
     },
     "metadata": {},
     "output_type": "display_data"
    },
    {
     "data": {
      "image/png": "[encoded data removed]",
      "text/latex": [
       "$$\\dot{\\phi} = - \\frac{M Q}{m \\left(\\rho^{2} + z^{2}\\right)^{\\frac{3}{2}}} + \\frac{p_{\\phi}}{m \\rho^{2}}$$"
      ],
      "text/plain": [
       "            M⋅Q          pᵩ \n",
       "φ̇ = - ────────────── + ────\n",
       "                  3/2      2\n",
       "         ⎛ 2    2⎞      m⋅ρ \n",
       "       m⋅⎝ρ  + z ⎠          "
      ]
     },
     "metadata": {},
     "output_type": "display_data"
    },
    {
     "data": {
      "image/png": "[encoded data removed]",
      "text/latex": [
       "$$\\dot{z} = \\frac{p_{z}}{m}$$"
      ],
      "text/plain": [
       "     p_z\n",
       "ż = ───\n",
       "      m "
      ]
     },
     "metadata": {},
     "output_type": "display_data"
    },
    {
     "data": {
      "image/png": "[encoded data removed]",
      "text/latex": [
       "$$\\dot{p}_{\\rho} = - \\frac{M^{2} Q^{2} \\rho}{m \\left(\\rho^{2} + z^{2}\\right)^{3}} + \\frac{3 M^{2} Q^{2} \\rho^{3}}{m \\left(\\rho^{2} + z^{2}\\right)^{4}} - \\frac{3 M Q p_{\\phi} \\rho}{m \\left(\\rho^{2} + z^{2}\\right)^{\\frac{5}{2}}} + \\frac{p^{2}_{\\phi}}{m \\rho^{3}}$$"
      ],
      "text/plain": [
       "           2  2            2  2  3                       2 \n",
       "          M ⋅Q ⋅ρ       3⋅M ⋅Q ⋅ρ       3⋅M⋅Q⋅pᵩ⋅ρ     pᵩ  \n",
       "pᵨ̇ = - ──────────── + ──────────── - ────────────── + ────\n",
       "                   3              4              5/2      3\n",
       "          ⎛ 2    2⎞      ⎛ 2    2⎞      ⎛ 2    2⎞      m⋅ρ \n",
       "        m⋅⎝ρ  + z ⎠    m⋅⎝ρ  + z ⎠    m⋅⎝ρ  + z ⎠          "
      ]
     },
     "metadata": {},
     "output_type": "display_data"
    },
    {
     "data": {
      "image/png": "[encoded data removed]",
      "text/latex": [
       "$$\\dot{p}_{\\phi} = 0$$"
      ],
      "text/plain": [
       "pᵩ̇ = 0"
      ]
     },
     "metadata": {},
     "output_type": "display_data"
    },
    {
     "data": {
      "image/png": "[encoded data removed]",
      "text/latex": [
       "$$\\dot{p}_{z} = \\frac{3 M^{2} Q^{2} \\rho^{2} z}{m \\left(\\rho^{2} + z^{2}\\right)^{4}} - \\frac{3 M Q p_{\\phi} z}{m \\left(\\rho^{2} + z^{2}\\right)^{\\frac{5}{2}}}$$"
      ],
      "text/plain": [
       "          2  2  2                   \n",
       "       3⋅M ⋅Q ⋅ρ ⋅z     3⋅M⋅Q⋅pᵩ⋅z  \n",
       "p_̇z = ──────────── - ──────────────\n",
       "                  4              5/2\n",
       "         ⎛ 2    2⎞      ⎛ 2    2⎞   \n",
       "       m⋅⎝ρ  + z ⎠    m⋅⎝ρ  + z ⎠   "
      ]
     },
     "metadata": {},
     "output_type": "display_data"
    }
   ],
   "source": [
    "# define the whole list of canonical variables\n",
    "can_vars = conf_vars_cyl + momenta_cyl\n",
    "\n",
    "# find the equations of motion\n",
    "system = hvr.eom_canonical(t, can_vars, H_cyl)\n",
    "\n",
    "for eq in system:\n",
    "    display(eq)"
   ]
  },
  {
   "cell_type": "markdown",
   "metadata": {},
   "source": [
    "## Stability"
   ]
  },
  {
   "cell_type": "markdown",
   "metadata": {},
   "source": [
    "We want to find out if the system has stable solutions confined to the plane $z=0$. First we can define the subsystem of interest"
   ]
  },
  {
   "cell_type": "code",
   "execution_count": 16,
   "metadata": {
    "ExecuteTime": {
     "end_time": "2019-11-27T10:49:46.263839Z",
     "start_time": "2019-11-27T10:49:45.785496Z"
    }
   },
   "outputs": [
    {
     "data": {
      "image/png": "[encoded data removed]",
      "text/latex": [
       "$$\\dot{z} = \\frac{p_{z}}{m}$$"
      ],
      "text/plain": [
       "     p_z\n",
       "ż = ───\n",
       "      m "
      ]
     },
     "metadata": {},
     "output_type": "display_data"
    },
    {
     "data": {
      "image/png": "[encoded data removed]",
      "text/latex": [
       "$$\\dot{p}_{z} = \\frac{3 M^{2} Q^{2} \\rho^{2} z}{m \\left(\\rho^{2} + z^{2}\\right)^{4}} - \\frac{3 M Q p_{\\phi} z}{m \\left(\\rho^{2} + z^{2}\\right)^{\\frac{5}{2}}}$$"
      ],
      "text/plain": [
       "          2  2  2                   \n",
       "       3⋅M ⋅Q ⋅ρ ⋅z     3⋅M⋅Q⋅pᵩ⋅z  \n",
       "p_̇z = ──────────── - ──────────────\n",
       "                  4              5/2\n",
       "         ⎛ 2    2⎞      ⎛ 2    2⎞   \n",
       "       m⋅⎝ρ  + z ⎠    m⋅⎝ρ  + z ⎠   "
      ]
     },
     "metadata": {},
     "output_type": "display_data"
    }
   ],
   "source": [
    "sub_sys = [system[2], system[-1]]\n",
    "\n",
    "for eq in sub_sys:\n",
    "    display(eq)"
   ]
  },
  {
   "cell_type": "markdown",
   "metadata": {},
   "source": [
    "It can be checked immediately that $z=0$ and $p_z=0$ is a solution, but we want to know if it is stable. To that end, we can set up a perturbative expansion in $z$ and $p_z$. One way to make it automatic is"
   ]
  },
  {
   "cell_type": "code",
   "execution_count": 17,
   "metadata": {
    "ExecuteTime": {
     "end_time": "2019-11-27T10:49:46.492841Z",
     "start_time": "2019-11-27T10:49:46.265710Z"
    }
   },
   "outputs": [
    {
     "data": {
      "image/png": "[encoded data removed]",
      "text/latex": [
       "$$\\left \\{ p_{z} : \\epsilon \\delta^{(1)}_{pz} + O\\left(\\epsilon^{2}\\right), \\quad z : \\epsilon \\delta^{(1)}_{z} + O\\left(\\epsilon^{2}\\right)\\right \\}$$"
      ],
      "text/plain": [
       "⎧                     ⎛ 2⎞                   ⎛ 2⎞⎫\n",
       "⎨p_z: ε⋅δ_p_z__(1) + O⎝ε ⎠, z: ε⋅δ_z__(1) + O⎝ε ⎠⎬\n",
       "⎩                                                ⎭"
      ]
     },
     "metadata": {},
     "output_type": "display_data"
    }
   ],
   "source": [
    "order = 2\n",
    "eps = symbols('epsilon')\n",
    "\n",
    "variables = [z, pz]\n",
    "expansion = {var : 0 for var in variables}\n",
    "\n",
    "for var in variables:\n",
    "    # obtain the name without the (t) part\n",
    "    str_rep = '_'.join(str(var)[:-3].split('_'))\n",
    "    \n",
    "    # define the symbols\n",
    "    var_sym = dynamicsymbols('delta_%s__((1:%d))' % (str_rep, order))\n",
    "    \n",
    "    # create the expansion starting in eps=1\n",
    "    for n, subvar in enumerate(var_sym):\n",
    "        expansion[var] += subvar*eps**(n+1)\n",
    "    \n",
    "    expansion[var] += Order(eps**order) \n",
    "    \n",
    "display(expansion)"
   ]
  },
  {
   "cell_type": "markdown",
   "metadata": {},
   "source": [
    "We plug it into the equations of motion"
   ]
  },
  {
   "cell_type": "code",
   "execution_count": 18,
   "metadata": {
    "ExecuteTime": {
     "end_time": "2019-11-27T10:49:47.323787Z",
     "start_time": "2019-11-27T10:49:46.494688Z"
    }
   },
   "outputs": [
    {
     "data": {
      "image/png": "[encoded data removed]",
      "text/latex": [
       "$$\\epsilon \\dot{\\delta^{(1)}}_{z} = \\frac{\\epsilon \\delta^{(1)}_{pz}}{m} + O\\left(\\epsilon^{2}\\right)$$"
      ],
      "text/plain": [
       "              ε⋅δ_p_z__(1)    ⎛ 2⎞\n",
       "ε⋅δ_z__̇(1) = ──────────── + O⎝ε ⎠\n",
       "                   m              "
      ]
     },
     "metadata": {},
     "output_type": "display_data"
    },
    {
     "data": {
      "image/png": "[encoded data removed]",
      "text/latex": [
       "$$\\epsilon \\dot{\\delta^{(1)}}_{pz} = \\epsilon \\left(\\frac{3 M^{2} Q^{2} \\delta^{(1)}_{z}}{m \\rho^{6}} - \\frac{3 M Q \\delta^{(1)}_{z} p_{\\phi}}{m \\left(\\rho^{2}\\right)^{\\frac{5}{2}}}\\right) + O\\left(\\epsilon^{2}\\right)$$"
      ],
      "text/plain": [
       "                  ⎛   2  2                             ⎞        \n",
       "                  ⎜3⋅M ⋅Q ⋅δ_z__(1)   3⋅M⋅Q⋅δ_z__(1)⋅pᵩ⎟    ⎛ 2⎞\n",
       "ε⋅δ_p_z_̇_(1) = ε⋅⎜──────────────── - ─────────────────⎟ + O⎝ε ⎠\n",
       "                  ⎜         6                   5/2    ⎟        \n",
       "                  ⎜      m⋅ρ                ⎛ 2⎞       ⎟        \n",
       "                  ⎝                       m⋅⎝ρ ⎠       ⎠        "
      ]
     },
     "metadata": {},
     "output_type": "display_data"
    }
   ],
   "source": [
    "sub_sys_pert = [Eq(eq.lhs.subs(expansion).doit(), \\\n",
    "                   eq.rhs.subs(expansion).series(eps, 0, order)) \\\n",
    "                for eq in sub_sys]\n",
    "\n",
    "for eq in sub_sys_pert:\n",
    "    display(eq)"
   ]
  },
  {
   "cell_type": "markdown",
   "metadata": {},
   "source": [
    "We keep only the terms that we want"
   ]
  },
  {
   "cell_type": "code",
   "execution_count": 19,
   "metadata": {
    "ExecuteTime": {
     "end_time": "2019-11-27T10:49:47.749927Z",
     "start_time": "2019-11-27T10:49:47.326393Z"
    }
   },
   "outputs": [
    {
     "data": {
      "image/png": "[encoded data removed]",
      "text/latex": [
       "$$\\dot{\\delta^{(1)}}_{z} = \\frac{\\delta^{(1)}_{pz}}{m}$$"
      ],
      "text/plain": [
       "            δ_p_z__(1)\n",
       "δ_z__̇(1) = ──────────\n",
       "                m     "
      ]
     },
     "metadata": {},
     "output_type": "display_data"
    },
    {
     "data": {
      "image/png": "[encoded data removed]",
      "text/latex": [
       "$$\\dot{\\delta^{(1)}}_{pz} = \\frac{3 M^{2} Q^{2} \\delta^{(1)}_{z}}{m \\rho^{6}} - \\frac{3 M Q \\delta^{(1)}_{z} p_{\\phi}}{m \\left(\\rho^{2}\\right)^{\\frac{5}{2}}}$$"
      ],
      "text/plain": [
       "                 2  2                             \n",
       "              3⋅M ⋅Q ⋅δ_z__(1)   3⋅M⋅Q⋅δ_z__(1)⋅pᵩ\n",
       "δ_p_z_̇_(1) = ──────────────── - ─────────────────\n",
       "                       6                   5/2    \n",
       "                    m⋅ρ                ⎛ 2⎞       \n",
       "                                     m⋅⎝ρ ⎠       "
      ]
     },
     "metadata": {},
     "output_type": "display_data"
    }
   ],
   "source": [
    "sub_sys_pert = [Eq(eq.lhs.coeff(eps), \\\n",
    "                   eq.rhs.coeff(eps)) \\\n",
    "                for eq in sub_sys_pert]\n",
    "\n",
    "for eq in sub_sys_pert:\n",
    "    display(eq)"
   ]
  },
  {
   "cell_type": "markdown",
   "metadata": {},
   "source": [
    "and refine it a bit more"
   ]
  },
  {
   "cell_type": "code",
   "execution_count": 20,
   "metadata": {
    "ExecuteTime": {
     "end_time": "2019-11-27T10:49:48.497601Z",
     "start_time": "2019-11-27T10:49:47.751838Z"
    }
   },
   "outputs": [
    {
     "data": {
      "image/png": "[encoded data removed]",
      "text/latex": [
       "$$\\dot{\\delta^{(1)}}_{z} = \\frac{\\delta^{(1)}_{pz}}{m}$$"
      ],
      "text/plain": [
       "            δ_p_z__(1)\n",
       "δ_z__̇(1) = ──────────\n",
       "                m     "
      ]
     },
     "metadata": {},
     "output_type": "display_data"
    },
    {
     "data": {
      "image/png": "[encoded data removed]",
      "text/latex": [
       "$$\\dot{\\delta^{(1)}}_{pz} = \\frac{3 M Q \\left(M Q - p_{\\phi} \\rho\\right) \\delta^{(1)}_{z}}{m \\rho^{6}}$$"
      ],
      "text/plain": [
       "              3⋅M⋅Q⋅(M⋅Q - pᵩ⋅ρ)⋅δ_z__(1)\n",
       "δ_p_z_̇_(1) = ───────────────────────────\n",
       "                             6           \n",
       "                          m⋅ρ            "
      ]
     },
     "metadata": {},
     "output_type": "display_data"
    }
   ],
   "source": [
    "simp = lambda f: refine(f, Q.positive(p)).simplify()\n",
    "\n",
    "sub_sys_pert = [Eq(eq.lhs, simp(eq.rhs)) for eq in sub_sys_pert]\n",
    "\n",
    "for eq in sub_sys_pert:\n",
    "    display(eq)"
   ]
  },
  {
   "cell_type": "markdown",
   "metadata": {},
   "source": [
    "We have a linear system and to study its stability we need the matrix of its coefficients"
   ]
  },
  {
   "cell_type": "code",
   "execution_count": 21,
   "metadata": {
    "ExecuteTime": {
     "end_time": "2019-11-27T10:49:48.954060Z",
     "start_time": "2019-11-27T10:49:48.500188Z"
    }
   },
   "outputs": [
    {
     "data": {
      "image/png": "[encoded data removed]",
      "text/latex": [
       "$$\\left [ \\delta^{(1)}_{z}, \\quad \\delta^{(1)}_{pz}\\right ]$$"
      ],
      "text/plain": [
       "[δ_z__(1), δ_p_z__(1)]"
      ]
     },
     "metadata": {},
     "output_type": "display_data"
    },
    {
     "data": {
      "image/png": "[encoded data removed]",
      "text/latex": [
       "$$\\left[\\begin{matrix}0 & \\frac{1}{m}\\\\\\frac{3 M Q \\left(M Q - p_{\\phi} \\rho\\right)}{m \\rho^{6}} & 0\\end{matrix}\\right]$$"
      ],
      "text/plain": [
       "⎡                    1⎤\n",
       "⎢        0           ─⎥\n",
       "⎢                    m⎥\n",
       "⎢                     ⎥\n",
       "⎢3⋅M⋅Q⋅(M⋅Q - pᵩ⋅ρ)   ⎥\n",
       "⎢──────────────────  0⎥\n",
       "⎢          6          ⎥\n",
       "⎣       m⋅ρ           ⎦"
      ]
     },
     "metadata": {},
     "output_type": "display_data"
    }
   ],
   "source": [
    "variables_pert = [q.subs(expansion).coeff(eps) for q in variables]\n",
    "display(variables_pert)\n",
    "\n",
    "coeff_matrix = [[eq.rhs.coeff(q) for q in variables_pert] \\\n",
    "                                 for eq in sub_sys_pert]\n",
    "coeff_matrix = Matrix(coeff_matrix)\n",
    "\n",
    "display(coeff_matrix)"
   ]
  },
  {
   "cell_type": "markdown",
   "metadata": {},
   "source": [
    "Finally we can find the eigenvalues of this matrix"
   ]
  },
  {
   "cell_type": "code",
   "execution_count": 22,
   "metadata": {
    "ExecuteTime": {
     "end_time": "2019-11-27T10:49:49.770066Z",
     "start_time": "2019-11-27T10:49:48.956256Z"
    }
   },
   "outputs": [
    {
     "data": {
      "image/png": "[encoded data removed]",
      "text/latex": [
       "$$\\left \\{ - \\frac{\\sqrt{3} \\sqrt{M Q \\left(M Q - p_{\\phi} \\rho\\right)}}{m \\rho^{3}} : 1, \\quad \\frac{\\sqrt{3} \\sqrt{M Q \\left(M Q - p_{\\phi} \\rho\\right)}}{m \\rho^{3}} : 1\\right \\}$$"
      ],
      "text/plain": [
       "⎧      __________________           __________________   ⎫\n",
       "⎪-√3⋅╲╱ M⋅Q⋅(M⋅Q - pᵩ⋅ρ)       √3⋅╲╱ M⋅Q⋅(M⋅Q - pᵩ⋅ρ)    ⎪\n",
       "⎨─────────────────────────: 1, ───────────────────────: 1⎬\n",
       "⎪              3                            3            ⎪\n",
       "⎩           m⋅ρ                          m⋅ρ             ⎭"
      ]
     },
     "metadata": {},
     "output_type": "display_data"
    },
    {
     "data": {
      "image/png": "[encoded data removed]",
      "text/latex": [
       "$$\\lambda_{1} = - \\frac{\\sqrt{3} \\sqrt{- M Q J_{z} \\rho}}{m \\rho^{3}}$$"
      ],
      "text/plain": [
       "           ____________ \n",
       "     -√3⋅╲╱ -M⋅Q⋅J_z⋅ρ  \n",
       "λ₁ = ───────────────────\n",
       "                3       \n",
       "             m⋅ρ        "
      ]
     },
     "metadata": {},
     "output_type": "display_data"
    },
    {
     "data": {
      "image/png": "[encoded data removed]",
      "text/latex": [
       "$$\\lambda_{2} = \\frac{\\sqrt{3} \\sqrt{- M Q J_{z} \\rho}}{m \\rho^{3}}$$"
      ],
      "text/plain": [
       "          ____________\n",
       "     √3⋅╲╱ -M⋅Q⋅J_z⋅ρ \n",
       "λ₂ = ─────────────────\n",
       "               3      \n",
       "            m⋅ρ       "
      ]
     },
     "metadata": {},
     "output_type": "display_data"
    }
   ],
   "source": [
    "eigen = coeff_matrix.eigenvals()\n",
    "display(eigen)\n",
    "\n",
    "for i, eig in enumerate(eigen):\n",
    "    display( Eq(Symbol('lambda_%d' % (i+1)), \\\n",
    "                eig.subs(sub_Jz).subs(R, p).simplify()) )"
   ]
  },
  {
   "cell_type": "markdown",
   "metadata": {},
   "source": [
    "One of the eigenvalues is positive if $QJ_z<0$ so the solution is unstable in this case. If $QJ_z>0$ we have an oscillatory behaviour."
   ]
  },
  {
   "cell_type": "markdown",
   "metadata": {},
   "source": [
    "## Numerical solution"
   ]
  },
  {
   "cell_type": "markdown",
   "metadata": {},
   "source": [
    "In the last section I solve numerically the original equations of motion"
   ]
  },
  {
   "cell_type": "code",
   "execution_count": 23,
   "metadata": {
    "ExecuteTime": {
     "end_time": "2019-11-27T10:49:51.178626Z",
     "start_time": "2019-11-27T10:49:49.774703Z"
    }
   },
   "outputs": [
    {
     "data": {
      "image/png": "[encoded data removed]",
      "text/latex": [
       "$$\\dot{\\rho} = \\frac{p_{\\rho}}{m}$$"
      ],
      "text/plain": [
       "     pᵨ\n",
       "ρ̇ = ──\n",
       "     m "
      ]
     },
     "metadata": {},
     "output_type": "display_data"
    },
    {
     "data": {
      "image/png": "[encoded data removed]",
      "text/latex": [
       "$$\\dot{\\phi} = - \\frac{M Q}{m \\left(\\rho^{2} + z^{2}\\right)^{\\frac{3}{2}}} + \\frac{p_{\\phi}}{m \\rho^{2}}$$"
      ],
      "text/plain": [
       "            M⋅Q          pᵩ \n",
       "φ̇ = - ────────────── + ────\n",
       "                  3/2      2\n",
       "         ⎛ 2    2⎞      m⋅ρ \n",
       "       m⋅⎝ρ  + z ⎠          "
      ]
     },
     "metadata": {},
     "output_type": "display_data"
    },
    {
     "data": {
      "image/png": "[encoded data removed]",
      "text/latex": [
       "$$\\dot{z} = \\frac{p_{z}}{m}$$"
      ],
      "text/plain": [
       "     p_z\n",
       "ż = ───\n",
       "      m "
      ]
     },
     "metadata": {},
     "output_type": "display_data"
    },
    {
     "data": {
      "image/png": "[encoded data removed]",
      "text/latex": [
       "$$\\dot{p}_{\\rho} = - \\frac{M^{2} Q^{2} \\rho}{m \\left(\\rho^{2} + z^{2}\\right)^{3}} + \\frac{3 M^{2} Q^{2} \\rho^{3}}{m \\left(\\rho^{2} + z^{2}\\right)^{4}} - \\frac{3 M Q p_{\\phi} \\rho}{m \\left(\\rho^{2} + z^{2}\\right)^{\\frac{5}{2}}} + \\frac{p^{2}_{\\phi}}{m \\rho^{3}}$$"
      ],
      "text/plain": [
       "           2  2            2  2  3                       2 \n",
       "          M ⋅Q ⋅ρ       3⋅M ⋅Q ⋅ρ       3⋅M⋅Q⋅pᵩ⋅ρ     pᵩ  \n",
       "pᵨ̇ = - ──────────── + ──────────── - ────────────── + ────\n",
       "                   3              4              5/2      3\n",
       "          ⎛ 2    2⎞      ⎛ 2    2⎞      ⎛ 2    2⎞      m⋅ρ \n",
       "        m⋅⎝ρ  + z ⎠    m⋅⎝ρ  + z ⎠    m⋅⎝ρ  + z ⎠          "
      ]
     },
     "metadata": {},
     "output_type": "display_data"
    },
    {
     "data": {
      "image/png": "[encoded data removed]",
      "text/latex": [
       "$$\\dot{p}_{\\phi} = 0$$"
      ],
      "text/plain": [
       "pᵩ̇ = 0"
      ]
     },
     "metadata": {},
     "output_type": "display_data"
    },
    {
     "data": {
      "image/png": "[encoded data removed]",
      "text/latex": [
       "$$\\dot{p}_{z} = \\frac{3 M^{2} Q^{2} \\rho^{2} z}{m \\left(\\rho^{2} + z^{2}\\right)^{4}} - \\frac{3 M Q p_{\\phi} z}{m \\left(\\rho^{2} + z^{2}\\right)^{\\frac{5}{2}}}$$"
      ],
      "text/plain": [
       "          2  2  2                   \n",
       "       3⋅M ⋅Q ⋅ρ ⋅z     3⋅M⋅Q⋅pᵩ⋅z  \n",
       "p_̇z = ──────────── - ──────────────\n",
       "                  4              5/2\n",
       "         ⎛ 2    2⎞      ⎛ 2    2⎞   \n",
       "       m⋅⎝ρ  + z ⎠    m⋅⎝ρ  + z ⎠   "
      ]
     },
     "metadata": {},
     "output_type": "display_data"
    }
   ],
   "source": [
    "for eq in system:\n",
    "    display(eq)"
   ]
  },
  {
   "cell_type": "markdown",
   "metadata": {},
   "source": [
    "I use my own function to convert this symbolic system into a numerical one. I have also coded this function to return the jacobian of the right-hand side, very useful for the numerical algorithms but usually too expensive to compute it by hand. "
   ]
  },
  {
   "cell_type": "code",
   "execution_count": 24,
   "metadata": {
    "ExecuteTime": {
     "end_time": "2019-11-27T10:49:51.308877Z",
     "start_time": "2019-11-27T10:49:51.182085Z"
    }
   },
   "outputs": [],
   "source": [
    "num_system, num_jac = hvr.symODE_to_numODE(system, can_vars, [QQ, M, m])"
   ]
  },
  {
   "cell_type": "markdown",
   "metadata": {},
   "source": [
    "Note the `%time` instruction at the beginning of the cell, it times the execution of the cell. "
   ]
  },
  {
   "cell_type": "code",
   "execution_count": 25,
   "metadata": {
    "ExecuteTime": {
     "end_time": "2019-11-27T10:49:51.376516Z",
     "start_time": "2019-11-27T10:49:51.310989Z"
    }
   },
   "outputs": [
    {
     "name": "stdout",
     "output_type": "stream",
     "text": [
      "CPU times: user 3 µs, sys: 1 µs, total: 4 µs\n",
      "Wall time: 8.11 µs\n"
     ]
    }
   ],
   "source": [
    "%time\n",
    "\n",
    "nt = np.linspace(0, 200, 1000)\n",
    "\n",
    "nQ = 1.\n",
    "nM = 1.\n",
    "nm = 1.\n",
    "\n",
    "phi0 = 0.\n",
    "z0 = 0.05\n",
    "pp0 = 0.\n",
    "pphi0 = 1.\n",
    "pz0 = 0.\n",
    "\n",
    "p0 = 1.2*nQ*nM/pphi0\n",
    "\n",
    "ini_con = [p0, phi0, z0, pp0, pphi0, pz0]\n",
    "\n",
    "solution = odeint(num_system, \\\n",
    "                  ini_con, \\\n",
    "                  nt, \\\n",
    "                  args=(nQ, nM, nm), \\\n",
    "                  Dfun=num_jac).transpose()"
   ]
  },
  {
   "cell_type": "code",
   "execution_count": 28,
   "metadata": {
    "ExecuteTime": {
     "end_time": "2019-11-27T10:50:07.550038Z",
     "start_time": "2019-11-27T10:50:07.499655Z"
    }
   },
   "outputs": [
    {
     "data": {
      "application/javascript": [
       "/* Put everything inside the global mpl namespace */\n",
       "window.mpl = {};\n",
       "\n",
       "\n",
       "mpl.get_websocket_type = function() {\n",
       "    if (typeof(WebSocket) !== 'undefined') {\n",
       "        return WebSocket;\n",
       "    } else if (typeof(MozWebSocket) !== 'undefined') {\n",
       "        return MozWebSocket;\n",
       "    } else {\n",
       "        alert('Your browser does not have WebSocket support. ' +\n",
       "              'Please try Chrome, Safari or Firefox ≥ 6. ' +\n",
       "              'Firefox 4 and 5 are also supported but you ' +\n",
       "              'have to enable WebSockets in about:config.');\n",
       "    };\n",
       "}\n",
       "\n",
       "mpl.figure = function(figure_id, websocket, ondownload, parent_element) {\n",
       "    this.id = figure_id;\n",
       "\n",
       "    this.ws = websocket;\n",
       "\n",
       "    this.supports_binary = (this.ws.binaryType != undefined);\n",
       "\n",
       "    if (!this.supports_binary) {\n",
       "        var warnings = document.getElementById(\"mpl-warnings\");\n",
       "        if (warnings) {\n",
       "            warnings.style.display = 'block';\n",
       "            warnings.textContent = (\n",
       "                \"This browser does not support binary websocket messages. \" +\n",
       "                    \"Performance may be slow.\");\n",
       "        }\n",
       "    }\n",
       "\n",
       "    this.imageObj = new Image();\n",
       "\n",
       "    this.context = undefined;\n",
       "    this.message = undefined;\n",
       "    this.canvas = undefined;\n",
       "    this.rubberband_canvas = undefined;\n",
       "    this.rubberband_context = undefined;\n",
       "    this.format_dropdown = undefined;\n",
       "\n",
       "    this.image_mode = 'full';\n",
       "\n",
       "    this.root = $('<div/>');\n",
       "    this._root_extra_style(this.root)\n",
       "    this.root.attr('style', 'display: inline-block');\n",
       "\n",
       "    $(parent_element).append(this.root);\n",
       "\n",
       "    this._init_header(this);\n",
       "    this._init_canvas(this);\n",
       "    this._init_toolbar(this);\n",
       "\n",
       "    var fig = this;\n",
       "\n",
       "    this.waiting = false;\n",
       "\n",
       "    this.ws.onopen =  function () {\n",
       "            fig.send_message(\"supports_binary\", {value: fig.supports_binary});\n",
       "            fig.send_message(\"send_image_mode\", {});\n",
       "            if (mpl.ratio != 1) {\n",
       "                fig.send_message(\"set_dpi_ratio\", {'dpi_ratio': mpl.ratio});\n",
       "            }\n",
       "            fig.send_message(\"refresh\", {});\n",
       "        }\n",
       "\n",
       "    this.imageObj.onload = function() {\n",
       "            if (fig.image_mode == 'full') {\n",
       "                // Full images could contain transparency (where diff images\n",
       "                // almost always do), so we need to clear the canvas so that\n",
       "                // there is no ghosting.\n",
       "                fig.context.clearRect(0, 0, fig.canvas.width, fig.canvas.height);\n",
       "            }\n",
       "            fig.context.drawImage(fig.imageObj, 0, 0);\n",
       "        };\n",
       "\n",
       "    this.imageObj.onunload = function() {\n",
       "        fig.ws.close();\n",
       "    }\n",
       "\n",
       "    this.ws.onmessage = this._make_on_message_function(this);\n",
       "\n",
       "    this.ondownload = ondownload;\n",
       "}\n",
       "\n",
       "mpl.figure.prototype._init_header = function() {\n",
       "    var titlebar = $(\n",
       "        '<div class=\"ui-dialog-titlebar ui-widget-header ui-corner-all ' +\n",
       "        'ui-helper-clearfix\"/>');\n",
       "    var titletext = $(\n",
       "        '<div class=\"ui-dialog-title\" style=\"width: 100%; ' +\n",
       "        'text-align: center; padding: 3px;\"/>');\n",
       "    titlebar.append(titletext)\n",
       "    this.root.append(titlebar);\n",
       "    this.header = titletext[0];\n",
       "}\n",
       "\n",
       "\n",
       "\n",
       "mpl.figure.prototype._canvas_extra_style = function(canvas_div) {\n",
       "\n",
       "}\n",
       "\n",
       "\n",
       "mpl.figure.prototype._root_extra_style = function(canvas_div) {\n",
       "\n",
       "}\n",
       "\n",
       "mpl.figure.prototype._init_canvas = function() {\n",
       "    var fig = this;\n",
       "\n",
       "    var canvas_div = $('<div/>');\n",
       "\n",
       "    canvas_div.attr('style', 'position: relative; clear: both; outline: 0');\n",
       "\n",
       "    function canvas_keyboard_event(event) {\n",
       "        return fig.key_event(event, event['data']);\n",
       "    }\n",
       "\n",
       "    canvas_div.keydown('key_press', canvas_keyboard_event);\n",
       "    canvas_div.keyup('key_release', canvas_keyboard_event);\n",
       "    this.canvas_div = canvas_div\n",
       "    this._canvas_extra_style(canvas_div)\n",
       "    this.root.append(canvas_div);\n",
       "\n",
       "    var canvas = $('<canvas/>');\n",
       "    canvas.addClass('mpl-canvas');\n",
       "    canvas.attr('style', \"left: 0; top: 0; z-index: 0; outline: 0\")\n",
       "\n",
       "    this.canvas = canvas[0];\n",
       "    this.context = canvas[0].getContext(\"2d\");\n",
       "\n",
       "    var backingStore = this.context.backingStorePixelRatio ||\n",
       "\tthis.context.webkitBackingStorePixelRatio ||\n",
       "\tthis.context.mozBackingStorePixelRatio ||\n",
       "\tthis.context.msBackingStorePixelRatio ||\n",
       "\tthis.context.oBackingStorePixelRatio ||\n",
       "\tthis.context.backingStorePixelRatio || 1;\n",
       "\n",
       "    mpl.ratio = (window.devicePixelRatio || 1) / backingStore;\n",
       "\n",
       "    var rubberband = $('<canvas/>');\n",
       "    rubberband.attr('style', \"position: absolute; left: 0; top: 0; z-index: 1;\")\n",
       "\n",
       "    var pass_mouse_events = true;\n",
       "\n",
       "    canvas_div.resizable({\n",
       "        start: function(event, ui) {\n",
       "            pass_mouse_events = false;\n",
       "        },\n",
       "        resize: function(event, ui) {\n",
       "            fig.request_resize(ui.size.width, ui.size.height);\n",
       "        },\n",
       "        stop: function(event, ui) {\n",
       "            pass_mouse_events = true;\n",
       "            fig.request_resize(ui.size.width, ui.size.height);\n",
       "        },\n",
       "    });\n",
       "\n",
       "    function mouse_event_fn(event) {\n",
       "        if (pass_mouse_events)\n",
       "            return fig.mouse_event(event, event['data']);\n",
       "    }\n",
       "\n",
       "    rubberband.mousedown('button_press', mouse_event_fn);\n",
       "    rubberband.mouseup('button_release', mouse_event_fn);\n",
       "    // Throttle sequential mouse events to 1 every 20ms.\n",
       "    rubberband.mousemove('motion_notify', mouse_event_fn);\n",
       "\n",
       "    rubberband.mouseenter('figure_enter', mouse_event_fn);\n",
       "    rubberband.mouseleave('figure_leave', mouse_event_fn);\n",
       "\n",
       "    canvas_div.on(\"wheel\", function (event) {\n",
       "        event = event.originalEvent;\n",
       "        event['data'] = 'scroll'\n",
       "        if (event.deltaY < 0) {\n",
       "            event.step = 1;\n",
       "        } else {\n",
       "            event.step = -1;\n",
       "        }\n",
       "        mouse_event_fn(event);\n",
       "    });\n",
       "\n",
       "    canvas_div.append(canvas);\n",
       "    canvas_div.append(rubberband);\n",
       "\n",
       "    this.rubberband = rubberband;\n",
       "    this.rubberband_canvas = rubberband[0];\n",
       "    this.rubberband_context = rubberband[0].getContext(\"2d\");\n",
       "    this.rubberband_context.strokeStyle = \"#000000\";\n",
       "\n",
       "    this._resize_canvas = function(width, height) {\n",
       "        // Keep the size of the canvas, canvas container, and rubber band\n",
       "        // canvas in synch.\n",
       "        canvas_div.css('width', width)\n",
       "        canvas_div.css('height', height)\n",
       "\n",
       "        canvas.attr('width', width * mpl.ratio);\n",
       "        canvas.attr('height', height * mpl.ratio);\n",
       "        canvas.attr('style', 'width: ' + width + 'px; height: ' + height + 'px;');\n",
       "\n",
       "        rubberband.attr('width', width);\n",
       "        rubberband.attr('height', height);\n",
       "    }\n",
       "\n",
       "    // Set the figure to an initial 600x600px, this will subsequently be updated\n",
       "    // upon first draw.\n",
       "    this._resize_canvas(600, 600);\n",
       "\n",
       "    // Disable right mouse context menu.\n",
       "    $(this.rubberband_canvas).bind(\"contextmenu\",function(e){\n",
       "        return false;\n",
       "    });\n",
       "\n",
       "    function set_focus () {\n",
       "        canvas.focus();\n",
       "        canvas_div.focus();\n",
       "    }\n",
       "\n",
       "    window.setTimeout(set_focus, 100);\n",
       "}\n",
       "\n",
       "mpl.figure.prototype._init_toolbar = function() {\n",
       "    var fig = this;\n",
       "\n",
       "    var nav_element = $('<div/>');\n",
       "    nav_element.attr('style', 'width: 100%');\n",
       "    this.root.append(nav_element);\n",
       "\n",
       "    // Define a callback function for later on.\n",
       "    function toolbar_event(event) {\n",
       "        return fig.toolbar_button_onclick(event['data']);\n",
       "    }\n",
       "    function toolbar_mouse_event(event) {\n",
       "        return fig.toolbar_button_onmouseover(event['data']);\n",
       "    }\n",
       "\n",
       "    for(var toolbar_ind in mpl.toolbar_items) {\n",
       "        var name = mpl.toolbar_items[toolbar_ind][0];\n",
       "        var tooltip = mpl.toolbar_items[toolbar_ind][1];\n",
       "        var image = mpl.toolbar_items[toolbar_ind][2];\n",
       "        var method_name = mpl.toolbar_items[toolbar_ind][3];\n",
       "\n",
       "        if (!name) {\n",
       "            // put a spacer in here.\n",
       "            continue;\n",
       "        }\n",
       "        var button = $('<button/>');\n",
       "        button.addClass('ui-button ui-widget ui-state-default ui-corner-all ' +\n",
       "                        'ui-button-icon-only');\n",
       "        button.attr('role', 'button');\n",
       "        button.attr('aria-disabled', 'false');\n",
       "        button.click(method_name, toolbar_event);\n",
       "        button.mouseover(tooltip, toolbar_mouse_event);\n",
       "\n",
       "        var icon_img = $('<span/>');\n",
       "        icon_img.addClass('ui-button-icon-primary ui-icon');\n",
       "        icon_img.addClass(image);\n",
       "        icon_img.addClass('ui-corner-all');\n",
       "\n",
       "        var tooltip_span = $('<span/>');\n",
       "        tooltip_span.addClass('ui-button-text');\n",
       "        tooltip_span.html(tooltip);\n",
       "\n",
       "        button.append(icon_img);\n",
       "        button.append(tooltip_span);\n",
       "\n",
       "        nav_element.append(button);\n",
       "    }\n",
       "\n",
       "    var fmt_picker_span = $('<span/>');\n",
       "\n",
       "    var fmt_picker = $('<select/>');\n",
       "    fmt_picker.addClass('mpl-toolbar-option ui-widget ui-widget-content');\n",
       "    fmt_picker_span.append(fmt_picker);\n",
       "    nav_element.append(fmt_picker_span);\n",
       "    this.format_dropdown = fmt_picker[0];\n",
       "\n",
       "    for (var ind in mpl.extensions) {\n",
       "        var fmt = mpl.extensions[ind];\n",
       "        var option = $(\n",
       "            '<option/>', {selected: fmt === mpl.default_extension}).html(fmt);\n",
       "        fmt_picker.append(option);\n",
       "    }\n",
       "\n",
       "    // Add hover states to the ui-buttons\n",
       "    $( \".ui-button\" ).hover(\n",
       "        function() { $(this).addClass(\"ui-state-hover\");},\n",
       "        function() { $(this).removeClass(\"ui-state-hover\");}\n",
       "    );\n",
       "\n",
       "    var status_bar = $('<span class=\"mpl-message\"/>');\n",
       "    nav_element.append(status_bar);\n",
       "    this.message = status_bar[0];\n",
       "}\n",
       "\n",
       "mpl.figure.prototype.request_resize = function(x_pixels, y_pixels) {\n",
       "    // Request matplotlib to resize the figure. Matplotlib will then trigger a resize in the client,\n",
       "    // which will in turn request a refresh of the image.\n",
       "    this.send_message('resize', {'width': x_pixels, 'height': y_pixels});\n",
       "}\n",
       "\n",
       "mpl.figure.prototype.send_message = function(type, properties) {\n",
       "    properties['type'] = type;\n",
       "    properties['figure_id'] = this.id;\n",
       "    this.ws.send(JSON.stringify(properties));\n",
       "}\n",
       "\n",
       "mpl.figure.prototype.send_draw_message = function() {\n",
       "    if (!this.waiting) {\n",
       "        this.waiting = true;\n",
       "        this.ws.send(JSON.stringify({type: \"draw\", figure_id: this.id}));\n",
       "    }\n",
       "}\n",
       "\n",
       "\n",
       "mpl.figure.prototype.handle_save = function(fig, msg) {\n",
       "    var format_dropdown = fig.format_dropdown;\n",
       "    var format = format_dropdown.options[format_dropdown.selectedIndex].value;\n",
       "    fig.ondownload(fig, format);\n",
       "}\n",
       "\n",
       "\n",
       "mpl.figure.prototype.handle_resize = function(fig, msg) {\n",
       "    var size = msg['size'];\n",
       "    if (size[0] != fig.canvas.width || size[1] != fig.canvas.height) {\n",
       "        fig._resize_canvas(size[0], size[1]);\n",
       "        fig.send_message(\"refresh\", {});\n",
       "    };\n",
       "}\n",
       "\n",
       "mpl.figure.prototype.handle_rubberband = function(fig, msg) {\n",
       "    var x0 = msg['x0'] / mpl.ratio;\n",
       "    var y0 = (fig.canvas.height - msg['y0']) / mpl.ratio;\n",
       "    var x1 = msg['x1'] / mpl.ratio;\n",
       "    var y1 = (fig.canvas.height - msg['y1']) / mpl.ratio;\n",
       "    x0 = Math.floor(x0) + 0.5;\n",
       "    y0 = Math.floor(y0) + 0.5;\n",
       "    x1 = Math.floor(x1) + 0.5;\n",
       "    y1 = Math.floor(y1) + 0.5;\n",
       "    var min_x = Math.min(x0, x1);\n",
       "    var min_y = Math.min(y0, y1);\n",
       "    var width = Math.abs(x1 - x0);\n",
       "    var height = Math.abs(y1 - y0);\n",
       "\n",
       "    fig.rubberband_context.clearRect(\n",
       "        0, 0, fig.canvas.width, fig.canvas.height);\n",
       "\n",
       "    fig.rubberband_context.strokeRect(min_x, min_y, width, height);\n",
       "}\n",
       "\n",
       "mpl.figure.prototype.handle_figure_label = function(fig, msg) {\n",
       "    // Updates the figure title.\n",
       "    fig.header.textContent = msg['label'];\n",
       "}\n",
       "\n",
       "mpl.figure.prototype.handle_cursor = function(fig, msg) {\n",
       "    var cursor = msg['cursor'];\n",
       "    switch(cursor)\n",
       "    {\n",
       "    case 0:\n",
       "        cursor = 'pointer';\n",
       "        break;\n",
       "    case 1:\n",
       "        cursor = 'default';\n",
       "        break;\n",
       "    case 2:\n",
       "        cursor = 'crosshair';\n",
       "        break;\n",
       "    case 3:\n",
       "        cursor = 'move';\n",
       "        break;\n",
       "    }\n",
       "    fig.rubberband_canvas.style.cursor = cursor;\n",
       "}\n",
       "\n",
       "mpl.figure.prototype.handle_message = function(fig, msg) {\n",
       "    fig.message.textContent = msg['message'];\n",
       "}\n",
       "\n",
       "mpl.figure.prototype.handle_draw = function(fig, msg) {\n",
       "    // Request the server to send over a new figure.\n",
       "    fig.send_draw_message();\n",
       "}\n",
       "\n",
       "mpl.figure.prototype.handle_image_mode = function(fig, msg) {\n",
       "    fig.image_mode = msg['mode'];\n",
       "}\n",
       "\n",
       "mpl.figure.prototype.updated_canvas_event = function() {\n",
       "    // Called whenever the canvas gets updated.\n",
       "    this.send_message(\"ack\", {});\n",
       "}\n",
       "\n",
       "// A function to construct a web socket function for onmessage handling.\n",
       "// Called in the figure constructor.\n",
       "mpl.figure.prototype._make_on_message_function = function(fig) {\n",
       "    return function socket_on_message(evt) {\n",
       "        if (evt.data instanceof Blob) {\n",
       "            /* FIXME: We get \"Resource interpreted as Image but\n",
       "             * transferred with MIME type text/plain:\" errors on\n",
       "             * Chrome.  But how to set the MIME type?  It doesn't seem\n",
       "             * to be part of the websocket stream */\n",
       "            evt.data.type = \"image/png\";\n",
       "\n",
       "            /* Free the memory for the previous frames */\n",
       "            if (fig.imageObj.src) {\n",
       "                (window.URL || window.webkitURL).revokeObjectURL(\n",
       "                    fig.imageObj.src);\n",
       "            }\n",
       "\n",
       "            fig.imageObj.src = (window.URL || window.webkitURL).createObjectURL(\n",
       "                evt.data);\n",
       "            fig.updated_canvas_event();\n",
       "            fig.waiting = false;\n",
       "            return;\n",
       "        }\n",
       "        else if (typeof evt.data === 'string' && evt.data.slice(0, 21) == \"data:image/png;base64\") {\n",
       "            fig.imageObj.src = evt.data;\n",
       "            fig.updated_canvas_event();\n",
       "            fig.waiting = false;\n",
       "            return;\n",
       "        }\n",
       "\n",
       "        var msg = JSON.parse(evt.data);\n",
       "        var msg_type = msg['type'];\n",
       "\n",
       "        // Call the  \"handle_{type}\" callback, which takes\n",
       "        // the figure and JSON message as its only arguments.\n",
       "        try {\n",
       "            var callback = fig[\"handle_\" + msg_type];\n",
       "        } catch (e) {\n",
       "            console.log(\"No handler for the '\" + msg_type + \"' message type: \", msg);\n",
       "            return;\n",
       "        }\n",
       "\n",
       "        if (callback) {\n",
       "            try {\n",
       "                // console.log(\"Handling '\" + msg_type + \"' message: \", msg);\n",
       "                callback(fig, msg);\n",
       "            } catch (e) {\n",
       "                console.log(\"Exception inside the 'handler_\" + msg_type + \"' callback:\", e, e.stack, msg);\n",
       "            }\n",
       "        }\n",
       "    };\n",
       "}\n",
       "\n",
       "// from http://stackoverflow.com/questions/1114465/getting-mouse-location-in-canvas\n",
       "mpl.findpos = function(e) {\n",
       "    //this section is from http://www.quirksmode.org/js/events_properties.html\n",
       "    var targ;\n",
       "    if (!e)\n",
       "        e = window.event;\n",
       "    if (e.target)\n",
       "        targ = e.target;\n",
       "    else if (e.srcElement)\n",
       "        targ = e.srcElement;\n",
       "    if (targ.nodeType == 3) // defeat Safari bug\n",
       "        targ = targ.parentNode;\n",
       "\n",
       "    // jQuery normalizes the pageX and pageY\n",
       "    // pageX,Y are the mouse positions relative to the document\n",
       "    // offset() returns the position of the element relative to the document\n",
       "    var x = e.pageX - $(targ).offset().left;\n",
       "    var y = e.pageY - $(targ).offset().top;\n",
       "\n",
       "    return {\"x\": x, \"y\": y};\n",
       "};\n",
       "\n",
       "/*\n",
       " * return a copy of an object with only non-object keys\n",
       " * we need this to avoid circular references\n",
       " * http://stackoverflow.com/a/24161582/3208463\n",
       " */\n",
       "function simpleKeys (original) {\n",
       "  return Object.keys(original).reduce(function (obj, key) {\n",
       "    if (typeof original[key] !== 'object')\n",
       "        obj[key] = original[key]\n",
       "    return obj;\n",
       "  }, {});\n",
       "}\n",
       "\n",
       "mpl.figure.prototype.mouse_event = function(event, name) {\n",
       "    var canvas_pos = mpl.findpos(event)\n",
       "\n",
       "    if (name === 'button_press')\n",
       "    {\n",
       "        this.canvas.focus();\n",
       "        this.canvas_div.focus();\n",
       "    }\n",
       "\n",
       "    var x = canvas_pos.x * mpl.ratio;\n",
       "    var y = canvas_pos.y * mpl.ratio;\n",
       "\n",
       "    this.send_message(name, {x: x, y: y, button: event.button,\n",
       "                             step: event.step,\n",
       "                             guiEvent: simpleKeys(event)});\n",
       "\n",
       "    /* This prevents the web browser from automatically changing to\n",
       "     * the text insertion cursor when the button is pressed.  We want\n",
       "     * to control all of the cursor setting manually through the\n",
       "     * 'cursor' event from matplotlib */\n",
       "    event.preventDefault();\n",
       "    return false;\n",
       "}\n",
       "\n",
       "mpl.figure.prototype._key_event_extra = function(event, name) {\n",
       "    // Handle any extra behaviour associated with a key event\n",
       "}\n",
       "\n",
       "mpl.figure.prototype.key_event = function(event, name) {\n",
       "\n",
       "    // Prevent repeat events\n",
       "    if (name == 'key_press')\n",
       "    {\n",
       "        if (event.which === this._key)\n",
       "            return;\n",
       "        else\n",
       "            this._key = event.which;\n",
       "    }\n",
       "    if (name == 'key_release')\n",
       "        this._key = null;\n",
       "\n",
       "    var value = '';\n",
       "    if (event.ctrlKey && event.which != 17)\n",
       "        value += \"ctrl+\";\n",
       "    if (event.altKey && event.which != 18)\n",
       "        value += \"alt+\";\n",
       "    if (event.shiftKey && event.which != 16)\n",
       "        value += \"shift+\";\n",
       "\n",
       "    value += 'k';\n",
       "    value += event.which.toString();\n",
       "\n",
       "    this._key_event_extra(event, name);\n",
       "\n",
       "    this.send_message(name, {key: value,\n",
       "                             guiEvent: simpleKeys(event)});\n",
       "    return false;\n",
       "}\n",
       "\n",
       "mpl.figure.prototype.toolbar_button_onclick = function(name) {\n",
       "    if (name == 'download') {\n",
       "        this.handle_save(this, null);\n",
       "    } else {\n",
       "        this.send_message(\"toolbar_button\", {name: name});\n",
       "    }\n",
       "};\n",
       "\n",
       "mpl.figure.prototype.toolbar_button_onmouseover = function(tooltip) {\n",
       "    this.message.textContent = tooltip;\n",
       "};\n",
       "mpl.toolbar_items = [[\"Home\", \"Reset original view\", \"fa fa-home icon-home\", \"home\"], [\"Back\", \"Back to previous view\", \"fa fa-arrow-left icon-arrow-left\", \"back\"], [\"Forward\", \"Forward to next view\", \"fa fa-arrow-right icon-arrow-right\", \"forward\"], [\"\", \"\", \"\", \"\"], [\"Pan\", \"Pan axes with left mouse, zoom with right\", \"fa fa-arrows icon-move\", \"pan\"], [\"Zoom\", \"Zoom to rectangle\", \"fa fa-square-o icon-check-empty\", \"zoom\"], [\"\", \"\", \"\", \"\"], [\"Download\", \"Download plot\", \"fa fa-floppy-o icon-save\", \"download\"]];\n",
       "\n",
       "mpl.extensions = [\"eps\", \"jpeg\", \"pdf\", \"png\", \"ps\", \"raw\", \"svg\", \"tif\"];\n",
       "\n",
       "mpl.default_extension = \"png\";var comm_websocket_adapter = function(comm) {\n",
       "    // Create a \"websocket\"-like object which calls the given IPython comm\n",
       "    // object with the appropriate methods. Currently this is a non binary\n",
       "    // socket, so there is still some room for performance tuning.\n",
       "    var ws = {};\n",
       "\n",
       "    ws.close = function() {\n",
       "        comm.close()\n",
       "    };\n",
       "    ws.send = function(m) {\n",
       "        //console.log('sending', m);\n",
       "        comm.send(m);\n",
       "    };\n",
       "    // Register the callback with on_msg.\n",
       "    comm.on_msg(function(msg) {\n",
       "        //console.log('receiving', msg['content']['data'], msg);\n",
       "        // Pass the mpl event to the overridden (by mpl) onmessage function.\n",
       "        ws.onmessage(msg['content']['data'])\n",
       "    });\n",
       "    return ws;\n",
       "}\n",
       "\n",
       "mpl.mpl_figure_comm = function(comm, msg) {\n",
       "    // This is the function which gets called when the mpl process\n",
       "    // starts-up an IPython Comm through the \"matplotlib\" channel.\n",
       "\n",
       "    var id = msg.content.data.id;\n",
       "    // Get hold of the div created by the display call when the Comm\n",
       "    // socket was opened in Python.\n",
       "    var element = $(\"#\" + id);\n",
       "    var ws_proxy = comm_websocket_adapter(comm)\n",
       "\n",
       "    function ondownload(figure, format) {\n",
       "        window.open(figure.imageObj.src);\n",
       "    }\n",
       "\n",
       "    var fig = new mpl.figure(id, ws_proxy,\n",
       "                           ondownload,\n",
       "                           element.get(0));\n",
       "\n",
       "    // Call onopen now - mpl needs it, as it is assuming we've passed it a real\n",
       "    // web socket which is closed, not our websocket->open comm proxy.\n",
       "    ws_proxy.onopen();\n",
       "\n",
       "    fig.parent_element = element.get(0);\n",
       "    fig.cell_info = mpl.find_output_cell(\"<div id='\" + id + \"'></div>\");\n",
       "    if (!fig.cell_info) {\n",
       "        console.error(\"Failed to find cell for figure\", id, fig);\n",
       "        return;\n",
       "    }\n",
       "\n",
       "    var output_index = fig.cell_info[2]\n",
       "    var cell = fig.cell_info[0];\n",
       "\n",
       "};\n",
       "\n",
       "mpl.figure.prototype.handle_close = function(fig, msg) {\n",
       "    var width = fig.canvas.width/mpl.ratio\n",
       "    fig.root.unbind('remove')\n",
       "\n",
       "    // Update the output cell to use the data from the current canvas.\n",
       "    fig.push_to_output();\n",
       "    var dataURL = fig.canvas.toDataURL();\n",
       "    // Re-enable the keyboard manager in IPython - without this line, in FF,\n",
       "    // the notebook keyboard shortcuts fail.\n",
       "    IPython.keyboard_manager.enable()\n",
       "    $(fig.parent_element).html('<img src=\"' + dataURL + '\" width=\"' + width + '\">');\n",
       "    fig.close_ws(fig, msg);\n",
       "}\n",
       "\n",
       "mpl.figure.prototype.close_ws = function(fig, msg){\n",
       "    fig.send_message('closing', msg);\n",
       "    // fig.ws.close()\n",
       "}\n",
       "\n",
       "mpl.figure.prototype.push_to_output = function(remove_interactive) {\n",
       "    // Turn the data on the canvas into data in the output cell.\n",
       "    var width = this.canvas.width/mpl.ratio\n",
       "    var dataURL = this.canvas.toDataURL();\n",
       "    this.cell_info[1]['text/html'] = '<img src=\"' + dataURL + '\" width=\"' + width + '\">';\n",
       "}\n",
       "\n",
       "mpl.figure.prototype.updated_canvas_event = function() {\n",
       "    // Tell IPython that the notebook contents must change.\n",
       "    IPython.notebook.set_dirty(true);\n",
       "    this.send_message(\"ack\", {});\n",
       "    var fig = this;\n",
       "    // Wait a second, then push the new image to the DOM so\n",
       "    // that it is saved nicely (might be nice to debounce this).\n",
       "    setTimeout(function () { fig.push_to_output() }, 1000);\n",
       "}\n",
       "\n",
       "mpl.figure.prototype._init_toolbar = function() {\n",
       "    var fig = this;\n",
       "\n",
       "    var nav_element = $('<div/>');\n",
       "    nav_element.attr('style', 'width: 100%');\n",
       "    this.root.append(nav_element);\n",
       "\n",
       "    // Define a callback function for later on.\n",
       "    function toolbar_event(event) {\n",
       "        return fig.toolbar_button_onclick(event['data']);\n",
       "    }\n",
       "    function toolbar_mouse_event(event) {\n",
       "        return fig.toolbar_button_onmouseover(event['data']);\n",
       "    }\n",
       "\n",
       "    for(var toolbar_ind in mpl.toolbar_items){\n",
       "        var name = mpl.toolbar_items[toolbar_ind][0];\n",
       "        var tooltip = mpl.toolbar_items[toolbar_ind][1];\n",
       "        var image = mpl.toolbar_items[toolbar_ind][2];\n",
       "        var method_name = mpl.toolbar_items[toolbar_ind][3];\n",
       "\n",
       "        if (!name) { continue; };\n",
       "\n",
       "        var button = $('<button class=\"btn btn-default\" href=\"#\" title=\"' + name + '\"><i class=\"fa ' + image + ' fa-lg\"></i></button>');\n",
       "        button.click(method_name, toolbar_event);\n",
       "        button.mouseover(tooltip, toolbar_mouse_event);\n",
       "        nav_element.append(button);\n",
       "    }\n",
       "\n",
       "    // Add the status bar.\n",
       "    var status_bar = $('<span class=\"mpl-message\" style=\"text-align:right; float: right;\"/>');\n",
       "    nav_element.append(status_bar);\n",
       "    this.message = status_bar[0];\n",
       "\n",
       "    // Add the close button to the window.\n",
       "    var buttongrp = $('<div class=\"btn-group inline pull-right\"></div>');\n",
       "    var button = $('<button class=\"btn btn-mini btn-primary\" href=\"#\" title=\"Stop Interaction\"><i class=\"fa fa-power-off icon-remove icon-large\"></i></button>');\n",
       "    button.click(function (evt) { fig.handle_close(fig, {}); } );\n",
       "    button.mouseover('Stop Interaction', toolbar_mouse_event);\n",
       "    buttongrp.append(button);\n",
       "    var titlebar = this.root.find($('.ui-dialog-titlebar'));\n",
       "    titlebar.prepend(buttongrp);\n",
       "}\n",
       "\n",
       "mpl.figure.prototype._root_extra_style = function(el){\n",
       "    var fig = this\n",
       "    el.on(\"remove\", function(){\n",
       "\tfig.close_ws(fig, {});\n",
       "    });\n",
       "}\n",
       "\n",
       "mpl.figure.prototype._canvas_extra_style = function(el){\n",
       "    // this is important to make the div 'focusable\n",
       "    el.attr('tabindex', 0)\n",
       "    // reach out to IPython and tell the keyboard manager to turn it's self\n",
       "    // off when our div gets focus\n",
       "\n",
       "    // location in version 3\n",
       "    if (IPython.notebook.keyboard_manager) {\n",
       "        IPython.notebook.keyboard_manager.register_events(el);\n",
       "    }\n",
       "    else {\n",
       "        // location in version 2\n",
       "        IPython.keyboard_manager.register_events(el);\n",
       "    }\n",
       "\n",
       "}\n",
       "\n",
       "mpl.figure.prototype._key_event_extra = function(event, name) {\n",
       "    var manager = IPython.notebook.keyboard_manager;\n",
       "    if (!manager)\n",
       "        manager = IPython.keyboard_manager;\n",
       "\n",
       "    // Check for shift+enter\n",
       "    if (event.shiftKey && event.which == 13) {\n",
       "        this.canvas_div.blur();\n",
       "        event.shiftKey = false;\n",
       "        // Send a \"J\" for go to next cell\n",
       "        event.which = 74;\n",
       "        event.keyCode = 74;\n",
       "        manager.command_mode();\n",
       "        manager.handle_keydown(event);\n",
       "    }\n",
       "}\n",
       "\n",
       "mpl.figure.prototype.handle_save = function(fig, msg) {\n",
       "    fig.ondownload(fig, null);\n",
       "}\n",
       "\n",
       "\n",
       "mpl.find_output_cell = function(html_output) {\n",
       "    // Return the cell and output element which can be found *uniquely* in the notebook.\n",
       "    // Note - this is a bit hacky, but it is done because the \"notebook_saving.Notebook\"\n",
       "    // IPython event is triggered only after the cells have been serialised, which for\n",
       "    // our purposes (turning an active figure into a static one), is too late.\n",
       "    var cells = IPython.notebook.get_cells();\n",
       "    var ncells = cells.length;\n",
       "    for (var i=0; i<ncells; i++) {\n",
       "        var cell = cells[i];\n",
       "        if (cell.cell_type === 'code'){\n",
       "            for (var j=0; j<cell.output_area.outputs.length; j++) {\n",
       "                var data = cell.output_area.outputs[j];\n",
       "                if (data.data) {\n",
       "                    // IPython >= 3 moved mimebundle to data attribute of output\n",
       "                    data = data.data;\n",
       "                }\n",
       "                if (data['text/html'] == html_output) {\n",
       "                    return [cell, data, j];\n",
       "                }\n",
       "            }\n",
       "        }\n",
       "    }\n",
       "}\n",
       "\n",
       "// Register the function which deals with the matplotlib target/channel.\n",
       "// The kernel may be null if the page has been refreshed.\n",
       "if (IPython.notebook.kernel != null) {\n",
       "    IPython.notebook.kernel.comm_manager.register_target('matplotlib', mpl.mpl_figure_comm);\n",
       "}\n"
      ],
      "text/plain": [
       "<IPython.core.display.Javascript object>"
      ]
     },
     "metadata": {},
     "output_type": "display_data"
    },
    {
     "data": {
      "text/html": [
       "<img src=\"data:image/png;base64,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\" width=\"639.8333333333334\">"
      ],
      "text/plain": [
       "<IPython.core.display.HTML object>"
      ]
     },
     "metadata": {},
     "output_type": "display_data"
    },
    {
     "data": {
      "application/javascript": [
       "/* Put everything inside the global mpl namespace */\n",
       "window.mpl = {};\n",
       "\n",
       "\n",
       "mpl.get_websocket_type = function() {\n",
       "    if (typeof(WebSocket) !== 'undefined') {\n",
       "        return WebSocket;\n",
       "    } else if (typeof(MozWebSocket) !== 'undefined') {\n",
       "        return MozWebSocket;\n",
       "    } else {\n",
       "        alert('Your browser does not have WebSocket support. ' +\n",
       "              'Please try Chrome, Safari or Firefox ≥ 6. ' +\n",
       "              'Firefox 4 and 5 are also supported but you ' +\n",
       "              'have to enable WebSockets in about:config.');\n",
       "    };\n",
       "}\n",
       "\n",
       "mpl.figure = function(figure_id, websocket, ondownload, parent_element) {\n",
       "    this.id = figure_id;\n",
       "\n",
       "    this.ws = websocket;\n",
       "\n",
       "    this.supports_binary = (this.ws.binaryType != undefined);\n",
       "\n",
       "    if (!this.supports_binary) {\n",
       "        var warnings = document.getElementById(\"mpl-warnings\");\n",
       "        if (warnings) {\n",
       "            warnings.style.display = 'block';\n",
       "            warnings.textContent = (\n",
       "                \"This browser does not support binary websocket messages. \" +\n",
       "                    \"Performance may be slow.\");\n",
       "        }\n",
       "    }\n",
       "\n",
       "    this.imageObj = new Image();\n",
       "\n",
       "    this.context = undefined;\n",
       "    this.message = undefined;\n",
       "    this.canvas = undefined;\n",
       "    this.rubberband_canvas = undefined;\n",
       "    this.rubberband_context = undefined;\n",
       "    this.format_dropdown = undefined;\n",
       "\n",
       "    this.image_mode = 'full';\n",
       "\n",
       "    this.root = $('<div/>');\n",
       "    this._root_extra_style(this.root)\n",
       "    this.root.attr('style', 'display: inline-block');\n",
       "\n",
       "    $(parent_element).append(this.root);\n",
       "\n",
       "    this._init_header(this);\n",
       "    this._init_canvas(this);\n",
       "    this._init_toolbar(this);\n",
       "\n",
       "    var fig = this;\n",
       "\n",
       "    this.waiting = false;\n",
       "\n",
       "    this.ws.onopen =  function () {\n",
       "            fig.send_message(\"supports_binary\", {value: fig.supports_binary});\n",
       "            fig.send_message(\"send_image_mode\", {});\n",
       "            if (mpl.ratio != 1) {\n",
       "                fig.send_message(\"set_dpi_ratio\", {'dpi_ratio': mpl.ratio});\n",
       "            }\n",
       "            fig.send_message(\"refresh\", {});\n",
       "        }\n",
       "\n",
       "    this.imageObj.onload = function() {\n",
       "            if (fig.image_mode == 'full') {\n",
       "                // Full images could contain transparency (where diff images\n",
       "                // almost always do), so we need to clear the canvas so that\n",
       "                // there is no ghosting.\n",
       "                fig.context.clearRect(0, 0, fig.canvas.width, fig.canvas.height);\n",
       "            }\n",
       "            fig.context.drawImage(fig.imageObj, 0, 0);\n",
       "        };\n",
       "\n",
       "    this.imageObj.onunload = function() {\n",
       "        fig.ws.close();\n",
       "    }\n",
       "\n",
       "    this.ws.onmessage = this._make_on_message_function(this);\n",
       "\n",
       "    this.ondownload = ondownload;\n",
       "}\n",
       "\n",
       "mpl.figure.prototype._init_header = function() {\n",
       "    var titlebar = $(\n",
       "        '<div class=\"ui-dialog-titlebar ui-widget-header ui-corner-all ' +\n",
       "        'ui-helper-clearfix\"/>');\n",
       "    var titletext = $(\n",
       "        '<div class=\"ui-dialog-title\" style=\"width: 100%; ' +\n",
       "        'text-align: center; padding: 3px;\"/>');\n",
       "    titlebar.append(titletext)\n",
       "    this.root.append(titlebar);\n",
       "    this.header = titletext[0];\n",
       "}\n",
       "\n",
       "\n",
       "\n",
       "mpl.figure.prototype._canvas_extra_style = function(canvas_div) {\n",
       "\n",
       "}\n",
       "\n",
       "\n",
       "mpl.figure.prototype._root_extra_style = function(canvas_div) {\n",
       "\n",
       "}\n",
       "\n",
       "mpl.figure.prototype._init_canvas = function() {\n",
       "    var fig = this;\n",
       "\n",
       "    var canvas_div = $('<div/>');\n",
       "\n",
       "    canvas_div.attr('style', 'position: relative; clear: both; outline: 0');\n",
       "\n",
       "    function canvas_keyboard_event(event) {\n",
       "        return fig.key_event(event, event['data']);\n",
       "    }\n",
       "\n",
       "    canvas_div.keydown('key_press', canvas_keyboard_event);\n",
       "    canvas_div.keyup('key_release', canvas_keyboard_event);\n",
       "    this.canvas_div = canvas_div\n",
       "    this._canvas_extra_style(canvas_div)\n",
       "    this.root.append(canvas_div);\n",
       "\n",
       "    var canvas = $('<canvas/>');\n",
       "    canvas.addClass('mpl-canvas');\n",
       "    canvas.attr('style', \"left: 0; top: 0; z-index: 0; outline: 0\")\n",
       "\n",
       "    this.canvas = canvas[0];\n",
       "    this.context = canvas[0].getContext(\"2d\");\n",
       "\n",
       "    var backingStore = this.context.backingStorePixelRatio ||\n",
       "\tthis.context.webkitBackingStorePixelRatio ||\n",
       "\tthis.context.mozBackingStorePixelRatio ||\n",
       "\tthis.context.msBackingStorePixelRatio ||\n",
       "\tthis.context.oBackingStorePixelRatio ||\n",
       "\tthis.context.backingStorePixelRatio || 1;\n",
       "\n",
       "    mpl.ratio = (window.devicePixelRatio || 1) / backingStore;\n",
       "\n",
       "    var rubberband = $('<canvas/>');\n",
       "    rubberband.attr('style', \"position: absolute; left: 0; top: 0; z-index: 1;\")\n",
       "\n",
       "    var pass_mouse_events = true;\n",
       "\n",
       "    canvas_div.resizable({\n",
       "        start: function(event, ui) {\n",
       "            pass_mouse_events = false;\n",
       "        },\n",
       "        resize: function(event, ui) {\n",
       "            fig.request_resize(ui.size.width, ui.size.height);\n",
       "        },\n",
       "        stop: function(event, ui) {\n",
       "            pass_mouse_events = true;\n",
       "            fig.request_resize(ui.size.width, ui.size.height);\n",
       "        },\n",
       "    });\n",
       "\n",
       "    function mouse_event_fn(event) {\n",
       "        if (pass_mouse_events)\n",
       "            return fig.mouse_event(event, event['data']);\n",
       "    }\n",
       "\n",
       "    rubberband.mousedown('button_press', mouse_event_fn);\n",
       "    rubberband.mouseup('button_release', mouse_event_fn);\n",
       "    // Throttle sequential mouse events to 1 every 20ms.\n",
       "    rubberband.mousemove('motion_notify', mouse_event_fn);\n",
       "\n",
       "    rubberband.mouseenter('figure_enter', mouse_event_fn);\n",
       "    rubberband.mouseleave('figure_leave', mouse_event_fn);\n",
       "\n",
       "    canvas_div.on(\"wheel\", function (event) {\n",
       "        event = event.originalEvent;\n",
       "        event['data'] = 'scroll'\n",
       "        if (event.deltaY < 0) {\n",
       "            event.step = 1;\n",
       "        } else {\n",
       "            event.step = -1;\n",
       "        }\n",
       "        mouse_event_fn(event);\n",
       "    });\n",
       "\n",
       "    canvas_div.append(canvas);\n",
       "    canvas_div.append(rubberband);\n",
       "\n",
       "    this.rubberband = rubberband;\n",
       "    this.rubberband_canvas = rubberband[0];\n",
       "    this.rubberband_context = rubberband[0].getContext(\"2d\");\n",
       "    this.rubberband_context.strokeStyle = \"#000000\";\n",
       "\n",
       "    this._resize_canvas = function(width, height) {\n",
       "        // Keep the size of the canvas, canvas container, and rubber band\n",
       "        // canvas in synch.\n",
       "        canvas_div.css('width', width)\n",
       "        canvas_div.css('height', height)\n",
       "\n",
       "        canvas.attr('width', width * mpl.ratio);\n",
       "        canvas.attr('height', height * mpl.ratio);\n",
       "        canvas.attr('style', 'width: ' + width + 'px; height: ' + height + 'px;');\n",
       "\n",
       "        rubberband.attr('width', width);\n",
       "        rubberband.attr('height', height);\n",
       "    }\n",
       "\n",
       "    // Set the figure to an initial 600x600px, this will subsequently be updated\n",
       "    // upon first draw.\n",
       "    this._resize_canvas(600, 600);\n",
       "\n",
       "    // Disable right mouse context menu.\n",
       "    $(this.rubberband_canvas).bind(\"contextmenu\",function(e){\n",
       "        return false;\n",
       "    });\n",
       "\n",
       "    function set_focus () {\n",
       "        canvas.focus();\n",
       "        canvas_div.focus();\n",
       "    }\n",
       "\n",
       "    window.setTimeout(set_focus, 100);\n",
       "}\n",
       "\n",
       "mpl.figure.prototype._init_toolbar = function() {\n",
       "    var fig = this;\n",
       "\n",
       "    var nav_element = $('<div/>');\n",
       "    nav_element.attr('style', 'width: 100%');\n",
       "    this.root.append(nav_element);\n",
       "\n",
       "    // Define a callback function for later on.\n",
       "    function toolbar_event(event) {\n",
       "        return fig.toolbar_button_onclick(event['data']);\n",
       "    }\n",
       "    function toolbar_mouse_event(event) {\n",
       "        return fig.toolbar_button_onmouseover(event['data']);\n",
       "    }\n",
       "\n",
       "    for(var toolbar_ind in mpl.toolbar_items) {\n",
       "        var name = mpl.toolbar_items[toolbar_ind][0];\n",
       "        var tooltip = mpl.toolbar_items[toolbar_ind][1];\n",
       "        var image = mpl.toolbar_items[toolbar_ind][2];\n",
       "        var method_name = mpl.toolbar_items[toolbar_ind][3];\n",
       "\n",
       "        if (!name) {\n",
       "            // put a spacer in here.\n",
       "            continue;\n",
       "        }\n",
       "        var button = $('<button/>');\n",
       "        button.addClass('ui-button ui-widget ui-state-default ui-corner-all ' +\n",
       "                        'ui-button-icon-only');\n",
       "        button.attr('role', 'button');\n",
       "        button.attr('aria-disabled', 'false');\n",
       "        button.click(method_name, toolbar_event);\n",
       "        button.mouseover(tooltip, toolbar_mouse_event);\n",
       "\n",
       "        var icon_img = $('<span/>');\n",
       "        icon_img.addClass('ui-button-icon-primary ui-icon');\n",
       "        icon_img.addClass(image);\n",
       "        icon_img.addClass('ui-corner-all');\n",
       "\n",
       "        var tooltip_span = $('<span/>');\n",
       "        tooltip_span.addClass('ui-button-text');\n",
       "        tooltip_span.html(tooltip);\n",
       "\n",
       "        button.append(icon_img);\n",
       "        button.append(tooltip_span);\n",
       "\n",
       "        nav_element.append(button);\n",
       "    }\n",
       "\n",
       "    var fmt_picker_span = $('<span/>');\n",
       "\n",
       "    var fmt_picker = $('<select/>');\n",
       "    fmt_picker.addClass('mpl-toolbar-option ui-widget ui-widget-content');\n",
       "    fmt_picker_span.append(fmt_picker);\n",
       "    nav_element.append(fmt_picker_span);\n",
       "    this.format_dropdown = fmt_picker[0];\n",
       "\n",
       "    for (var ind in mpl.extensions) {\n",
       "        var fmt = mpl.extensions[ind];\n",
       "        var option = $(\n",
       "            '<option/>', {selected: fmt === mpl.default_extension}).html(fmt);\n",
       "        fmt_picker.append(option);\n",
       "    }\n",
       "\n",
       "    // Add hover states to the ui-buttons\n",
       "    $( \".ui-button\" ).hover(\n",
       "        function() { $(this).addClass(\"ui-state-hover\");},\n",
       "        function() { $(this).removeClass(\"ui-state-hover\");}\n",
       "    );\n",
       "\n",
       "    var status_bar = $('<span class=\"mpl-message\"/>');\n",
       "    nav_element.append(status_bar);\n",
       "    this.message = status_bar[0];\n",
       "}\n",
       "\n",
       "mpl.figure.prototype.request_resize = function(x_pixels, y_pixels) {\n",
       "    // Request matplotlib to resize the figure. Matplotlib will then trigger a resize in the client,\n",
       "    // which will in turn request a refresh of the image.\n",
       "    this.send_message('resize', {'width': x_pixels, 'height': y_pixels});\n",
       "}\n",
       "\n",
       "mpl.figure.prototype.send_message = function(type, properties) {\n",
       "    properties['type'] = type;\n",
       "    properties['figure_id'] = this.id;\n",
       "    this.ws.send(JSON.stringify(properties));\n",
       "}\n",
       "\n",
       "mpl.figure.prototype.send_draw_message = function() {\n",
       "    if (!this.waiting) {\n",
       "        this.waiting = true;\n",
       "        this.ws.send(JSON.stringify({type: \"draw\", figure_id: this.id}));\n",
       "    }\n",
       "}\n",
       "\n",
       "\n",
       "mpl.figure.prototype.handle_save = function(fig, msg) {\n",
       "    var format_dropdown = fig.format_dropdown;\n",
       "    var format = format_dropdown.options[format_dropdown.selectedIndex].value;\n",
       "    fig.ondownload(fig, format);\n",
       "}\n",
       "\n",
       "\n",
       "mpl.figure.prototype.handle_resize = function(fig, msg) {\n",
       "    var size = msg['size'];\n",
       "    if (size[0] != fig.canvas.width || size[1] != fig.canvas.height) {\n",
       "        fig._resize_canvas(size[0], size[1]);\n",
       "        fig.send_message(\"refresh\", {});\n",
       "    };\n",
       "}\n",
       "\n",
       "mpl.figure.prototype.handle_rubberband = function(fig, msg) {\n",
       "    var x0 = msg['x0'] / mpl.ratio;\n",
       "    var y0 = (fig.canvas.height - msg['y0']) / mpl.ratio;\n",
       "    var x1 = msg['x1'] / mpl.ratio;\n",
       "    var y1 = (fig.canvas.height - msg['y1']) / mpl.ratio;\n",
       "    x0 = Math.floor(x0) + 0.5;\n",
       "    y0 = Math.floor(y0) + 0.5;\n",
       "    x1 = Math.floor(x1) + 0.5;\n",
       "    y1 = Math.floor(y1) + 0.5;\n",
       "    var min_x = Math.min(x0, x1);\n",
       "    var min_y = Math.min(y0, y1);\n",
       "    var width = Math.abs(x1 - x0);\n",
       "    var height = Math.abs(y1 - y0);\n",
       "\n",
       "    fig.rubberband_context.clearRect(\n",
       "        0, 0, fig.canvas.width, fig.canvas.height);\n",
       "\n",
       "    fig.rubberband_context.strokeRect(min_x, min_y, width, height);\n",
       "}\n",
       "\n",
       "mpl.figure.prototype.handle_figure_label = function(fig, msg) {\n",
       "    // Updates the figure title.\n",
       "    fig.header.textContent = msg['label'];\n",
       "}\n",
       "\n",
       "mpl.figure.prototype.handle_cursor = function(fig, msg) {\n",
       "    var cursor = msg['cursor'];\n",
       "    switch(cursor)\n",
       "    {\n",
       "    case 0:\n",
       "        cursor = 'pointer';\n",
       "        break;\n",
       "    case 1:\n",
       "        cursor = 'default';\n",
       "        break;\n",
       "    case 2:\n",
       "        cursor = 'crosshair';\n",
       "        break;\n",
       "    case 3:\n",
       "        cursor = 'move';\n",
       "        break;\n",
       "    }\n",
       "    fig.rubberband_canvas.style.cursor = cursor;\n",
       "}\n",
       "\n",
       "mpl.figure.prototype.handle_message = function(fig, msg) {\n",
       "    fig.message.textContent = msg['message'];\n",
       "}\n",
       "\n",
       "mpl.figure.prototype.handle_draw = function(fig, msg) {\n",
       "    // Request the server to send over a new figure.\n",
       "    fig.send_draw_message();\n",
       "}\n",
       "\n",
       "mpl.figure.prototype.handle_image_mode = function(fig, msg) {\n",
       "    fig.image_mode = msg['mode'];\n",
       "}\n",
       "\n",
       "mpl.figure.prototype.updated_canvas_event = function() {\n",
       "    // Called whenever the canvas gets updated.\n",
       "    this.send_message(\"ack\", {});\n",
       "}\n",
       "\n",
       "// A function to construct a web socket function for onmessage handling.\n",
       "// Called in the figure constructor.\n",
       "mpl.figure.prototype._make_on_message_function = function(fig) {\n",
       "    return function socket_on_message(evt) {\n",
       "        if (evt.data instanceof Blob) {\n",
       "            /* FIXME: We get \"Resource interpreted as Image but\n",
       "             * transferred with MIME type text/plain:\" errors on\n",
       "             * Chrome.  But how to set the MIME type?  It doesn't seem\n",
       "             * to be part of the websocket stream */\n",
       "            evt.data.type = \"image/png\";\n",
       "\n",
       "            /* Free the memory for the previous frames */\n",
       "            if (fig.imageObj.src) {\n",
       "                (window.URL || window.webkitURL).revokeObjectURL(\n",
       "                    fig.imageObj.src);\n",
       "            }\n",
       "\n",
       "            fig.imageObj.src = (window.URL || window.webkitURL).createObjectURL(\n",
       "                evt.data);\n",
       "            fig.updated_canvas_event();\n",
       "            fig.waiting = false;\n",
       "            return;\n",
       "        }\n",
       "        else if (typeof evt.data === 'string' && evt.data.slice(0, 21) == \"data:image/png;base64\") {\n",
       "            fig.imageObj.src = evt.data;\n",
       "            fig.updated_canvas_event();\n",
       "            fig.waiting = false;\n",
       "            return;\n",
       "        }\n",
       "\n",
       "        var msg = JSON.parse(evt.data);\n",
       "        var msg_type = msg['type'];\n",
       "\n",
       "        // Call the  \"handle_{type}\" callback, which takes\n",
       "        // the figure and JSON message as its only arguments.\n",
       "        try {\n",
       "            var callback = fig[\"handle_\" + msg_type];\n",
       "        } catch (e) {\n",
       "            console.log(\"No handler for the '\" + msg_type + \"' message type: \", msg);\n",
       "            return;\n",
       "        }\n",
       "\n",
       "        if (callback) {\n",
       "            try {\n",
       "                // console.log(\"Handling '\" + msg_type + \"' message: \", msg);\n",
       "                callback(fig, msg);\n",
       "            } catch (e) {\n",
       "                console.log(\"Exception inside the 'handler_\" + msg_type + \"' callback:\", e, e.stack, msg);\n",
       "            }\n",
       "        }\n",
       "    };\n",
       "}\n",
       "\n",
       "// from http://stackoverflow.com/questions/1114465/getting-mouse-location-in-canvas\n",
       "mpl.findpos = function(e) {\n",
       "    //this section is from http://www.quirksmode.org/js/events_properties.html\n",
       "    var targ;\n",
       "    if (!e)\n",
       "        e = window.event;\n",
       "    if (e.target)\n",
       "        targ = e.target;\n",
       "    else if (e.srcElement)\n",
       "        targ = e.srcElement;\n",
       "    if (targ.nodeType == 3) // defeat Safari bug\n",
       "        targ = targ.parentNode;\n",
       "\n",
       "    // jQuery normalizes the pageX and pageY\n",
       "    // pageX,Y are the mouse positions relative to the document\n",
       "    // offset() returns the position of the element relative to the document\n",
       "    var x = e.pageX - $(targ).offset().left;\n",
       "    var y = e.pageY - $(targ).offset().top;\n",
       "\n",
       "    return {\"x\": x, \"y\": y};\n",
       "};\n",
       "\n",
       "/*\n",
       " * return a copy of an object with only non-object keys\n",
       " * we need this to avoid circular references\n",
       " * http://stackoverflow.com/a/24161582/3208463\n",
       " */\n",
       "function simpleKeys (original) {\n",
       "  return Object.keys(original).reduce(function (obj, key) {\n",
       "    if (typeof original[key] !== 'object')\n",
       "        obj[key] = original[key]\n",
       "    return obj;\n",
       "  }, {});\n",
       "}\n",
       "\n",
       "mpl.figure.prototype.mouse_event = function(event, name) {\n",
       "    var canvas_pos = mpl.findpos(event)\n",
       "\n",
       "    if (name === 'button_press')\n",
       "    {\n",
       "        this.canvas.focus();\n",
       "        this.canvas_div.focus();\n",
       "    }\n",
       "\n",
       "    var x = canvas_pos.x * mpl.ratio;\n",
       "    var y = canvas_pos.y * mpl.ratio;\n",
       "\n",
       "    this.send_message(name, {x: x, y: y, button: event.button,\n",
       "                             step: event.step,\n",
       "                             guiEvent: simpleKeys(event)});\n",
       "\n",
       "    /* This prevents the web browser from automatically changing to\n",
       "     * the text insertion cursor when the button is pressed.  We want\n",
       "     * to control all of the cursor setting manually through the\n",
       "     * 'cursor' event from matplotlib */\n",
       "    event.preventDefault();\n",
       "    return false;\n",
       "}\n",
       "\n",
       "mpl.figure.prototype._key_event_extra = function(event, name) {\n",
       "    // Handle any extra behaviour associated with a key event\n",
       "}\n",
       "\n",
       "mpl.figure.prototype.key_event = function(event, name) {\n",
       "\n",
       "    // Prevent repeat events\n",
       "    if (name == 'key_press')\n",
       "    {\n",
       "        if (event.which === this._key)\n",
       "            return;\n",
       "        else\n",
       "            this._key = event.which;\n",
       "    }\n",
       "    if (name == 'key_release')\n",
       "        this._key = null;\n",
       "\n",
       "    var value = '';\n",
       "    if (event.ctrlKey && event.which != 17)\n",
       "        value += \"ctrl+\";\n",
       "    if (event.altKey && event.which != 18)\n",
       "        value += \"alt+\";\n",
       "    if (event.shiftKey && event.which != 16)\n",
       "        value += \"shift+\";\n",
       "\n",
       "    value += 'k';\n",
       "    value += event.which.toString();\n",
       "\n",
       "    this._key_event_extra(event, name);\n",
       "\n",
       "    this.send_message(name, {key: value,\n",
       "                             guiEvent: simpleKeys(event)});\n",
       "    return false;\n",
       "}\n",
       "\n",
       "mpl.figure.prototype.toolbar_button_onclick = function(name) {\n",
       "    if (name == 'download') {\n",
       "        this.handle_save(this, null);\n",
       "    } else {\n",
       "        this.send_message(\"toolbar_button\", {name: name});\n",
       "    }\n",
       "};\n",
       "\n",
       "mpl.figure.prototype.toolbar_button_onmouseover = function(tooltip) {\n",
       "    this.message.textContent = tooltip;\n",
       "};\n",
       "mpl.toolbar_items = [[\"Home\", \"Reset original view\", \"fa fa-home icon-home\", \"home\"], [\"Back\", \"Back to previous view\", \"fa fa-arrow-left icon-arrow-left\", \"back\"], [\"Forward\", \"Forward to next view\", \"fa fa-arrow-right icon-arrow-right\", \"forward\"], [\"\", \"\", \"\", \"\"], [\"Pan\", \"Pan axes with left mouse, zoom with right\", \"fa fa-arrows icon-move\", \"pan\"], [\"Zoom\", \"Zoom to rectangle\", \"fa fa-square-o icon-check-empty\", \"zoom\"], [\"\", \"\", \"\", \"\"], [\"Download\", \"Download plot\", \"fa fa-floppy-o icon-save\", \"download\"]];\n",
       "\n",
       "mpl.extensions = [\"eps\", \"jpeg\", \"pdf\", \"png\", \"ps\", \"raw\", \"svg\", \"tif\"];\n",
       "\n",
       "mpl.default_extension = \"png\";var comm_websocket_adapter = function(comm) {\n",
       "    // Create a \"websocket\"-like object which calls the given IPython comm\n",
       "    // object with the appropriate methods. Currently this is a non binary\n",
       "    // socket, so there is still some room for performance tuning.\n",
       "    var ws = {};\n",
       "\n",
       "    ws.close = function() {\n",
       "        comm.close()\n",
       "    };\n",
       "    ws.send = function(m) {\n",
       "        //console.log('sending', m);\n",
       "        comm.send(m);\n",
       "    };\n",
       "    // Register the callback with on_msg.\n",
       "    comm.on_msg(function(msg) {\n",
       "        //console.log('receiving', msg['content']['data'], msg);\n",
       "        // Pass the mpl event to the overridden (by mpl) onmessage function.\n",
       "        ws.onmessage(msg['content']['data'])\n",
       "    });\n",
       "    return ws;\n",
       "}\n",
       "\n",
       "mpl.mpl_figure_comm = function(comm, msg) {\n",
       "    // This is the function which gets called when the mpl process\n",
       "    // starts-up an IPython Comm through the \"matplotlib\" channel.\n",
       "\n",
       "    var id = msg.content.data.id;\n",
       "    // Get hold of the div created by the display call when the Comm\n",
       "    // socket was opened in Python.\n",
       "    var element = $(\"#\" + id);\n",
       "    var ws_proxy = comm_websocket_adapter(comm)\n",
       "\n",
       "    function ondownload(figure, format) {\n",
       "        window.open(figure.imageObj.src);\n",
       "    }\n",
       "\n",
       "    var fig = new mpl.figure(id, ws_proxy,\n",
       "                           ondownload,\n",
       "                           element.get(0));\n",
       "\n",
       "    // Call onopen now - mpl needs it, as it is assuming we've passed it a real\n",
       "    // web socket which is closed, not our websocket->open comm proxy.\n",
       "    ws_proxy.onopen();\n",
       "\n",
       "    fig.parent_element = element.get(0);\n",
       "    fig.cell_info = mpl.find_output_cell(\"<div id='\" + id + \"'></div>\");\n",
       "    if (!fig.cell_info) {\n",
       "        console.error(\"Failed to find cell for figure\", id, fig);\n",
       "        return;\n",
       "    }\n",
       "\n",
       "    var output_index = fig.cell_info[2]\n",
       "    var cell = fig.cell_info[0];\n",
       "\n",
       "};\n",
       "\n",
       "mpl.figure.prototype.handle_close = function(fig, msg) {\n",
       "    var width = fig.canvas.width/mpl.ratio\n",
       "    fig.root.unbind('remove')\n",
       "\n",
       "    // Update the output cell to use the data from the current canvas.\n",
       "    fig.push_to_output();\n",
       "    var dataURL = fig.canvas.toDataURL();\n",
       "    // Re-enable the keyboard manager in IPython - without this line, in FF,\n",
       "    // the notebook keyboard shortcuts fail.\n",
       "    IPython.keyboard_manager.enable()\n",
       "    $(fig.parent_element).html('<img src=\"' + dataURL + '\" width=\"' + width + '\">');\n",
       "    fig.close_ws(fig, msg);\n",
       "}\n",
       "\n",
       "mpl.figure.prototype.close_ws = function(fig, msg){\n",
       "    fig.send_message('closing', msg);\n",
       "    // fig.ws.close()\n",
       "}\n",
       "\n",
       "mpl.figure.prototype.push_to_output = function(remove_interactive) {\n",
       "    // Turn the data on the canvas into data in the output cell.\n",
       "    var width = this.canvas.width/mpl.ratio\n",
       "    var dataURL = this.canvas.toDataURL();\n",
       "    this.cell_info[1]['text/html'] = '<img src=\"' + dataURL + '\" width=\"' + width + '\">';\n",
       "}\n",
       "\n",
       "mpl.figure.prototype.updated_canvas_event = function() {\n",
       "    // Tell IPython that the notebook contents must change.\n",
       "    IPython.notebook.set_dirty(true);\n",
       "    this.send_message(\"ack\", {});\n",
       "    var fig = this;\n",
       "    // Wait a second, then push the new image to the DOM so\n",
       "    // that it is saved nicely (might be nice to debounce this).\n",
       "    setTimeout(function () { fig.push_to_output() }, 1000);\n",
       "}\n",
       "\n",
       "mpl.figure.prototype._init_toolbar = function() {\n",
       "    var fig = this;\n",
       "\n",
       "    var nav_element = $('<div/>');\n",
       "    nav_element.attr('style', 'width: 100%');\n",
       "    this.root.append(nav_element);\n",
       "\n",
       "    // Define a callback function for later on.\n",
       "    function toolbar_event(event) {\n",
       "        return fig.toolbar_button_onclick(event['data']);\n",
       "    }\n",
       "    function toolbar_mouse_event(event) {\n",
       "        return fig.toolbar_button_onmouseover(event['data']);\n",
       "    }\n",
       "\n",
       "    for(var toolbar_ind in mpl.toolbar_items){\n",
       "        var name = mpl.toolbar_items[toolbar_ind][0];\n",
       "        var tooltip = mpl.toolbar_items[toolbar_ind][1];\n",
       "        var image = mpl.toolbar_items[toolbar_ind][2];\n",
       "        var method_name = mpl.toolbar_items[toolbar_ind][3];\n",
       "\n",
       "        if (!name) { continue; };\n",
       "\n",
       "        var button = $('<button class=\"btn btn-default\" href=\"#\" title=\"' + name + '\"><i class=\"fa ' + image + ' fa-lg\"></i></button>');\n",
       "        button.click(method_name, toolbar_event);\n",
       "        button.mouseover(tooltip, toolbar_mouse_event);\n",
       "        nav_element.append(button);\n",
       "    }\n",
       "\n",
       "    // Add the status bar.\n",
       "    var status_bar = $('<span class=\"mpl-message\" style=\"text-align:right; float: right;\"/>');\n",
       "    nav_element.append(status_bar);\n",
       "    this.message = status_bar[0];\n",
       "\n",
       "    // Add the close button to the window.\n",
       "    var buttongrp = $('<div class=\"btn-group inline pull-right\"></div>');\n",
       "    var button = $('<button class=\"btn btn-mini btn-primary\" href=\"#\" title=\"Stop Interaction\"><i class=\"fa fa-power-off icon-remove icon-large\"></i></button>');\n",
       "    button.click(function (evt) { fig.handle_close(fig, {}); } );\n",
       "    button.mouseover('Stop Interaction', toolbar_mouse_event);\n",
       "    buttongrp.append(button);\n",
       "    var titlebar = this.root.find($('.ui-dialog-titlebar'));\n",
       "    titlebar.prepend(buttongrp);\n",
       "}\n",
       "\n",
       "mpl.figure.prototype._root_extra_style = function(el){\n",
       "    var fig = this\n",
       "    el.on(\"remove\", function(){\n",
       "\tfig.close_ws(fig, {});\n",
       "    });\n",
       "}\n",
       "\n",
       "mpl.figure.prototype._canvas_extra_style = function(el){\n",
       "    // this is important to make the div 'focusable\n",
       "    el.attr('tabindex', 0)\n",
       "    // reach out to IPython and tell the keyboard manager to turn it's self\n",
       "    // off when our div gets focus\n",
       "\n",
       "    // location in version 3\n",
       "    if (IPython.notebook.keyboard_manager) {\n",
       "        IPython.notebook.keyboard_manager.register_events(el);\n",
       "    }\n",
       "    else {\n",
       "        // location in version 2\n",
       "        IPython.keyboard_manager.register_events(el);\n",
       "    }\n",
       "\n",
       "}\n",
       "\n",
       "mpl.figure.prototype._key_event_extra = function(event, name) {\n",
       "    var manager = IPython.notebook.keyboard_manager;\n",
       "    if (!manager)\n",
       "        manager = IPython.keyboard_manager;\n",
       "\n",
       "    // Check for shift+enter\n",
       "    if (event.shiftKey && event.which == 13) {\n",
       "        this.canvas_div.blur();\n",
       "        event.shiftKey = false;\n",
       "        // Send a \"J\" for go to next cell\n",
       "        event.which = 74;\n",
       "        event.keyCode = 74;\n",
       "        manager.command_mode();\n",
       "        manager.handle_keydown(event);\n",
       "    }\n",
       "}\n",
       "\n",
       "mpl.figure.prototype.handle_save = function(fig, msg) {\n",
       "    fig.ondownload(fig, null);\n",
       "}\n",
       "\n",
       "\n",
       "mpl.find_output_cell = function(html_output) {\n",
       "    // Return the cell and output element which can be found *uniquely* in the notebook.\n",
       "    // Note - this is a bit hacky, but it is done because the \"notebook_saving.Notebook\"\n",
       "    // IPython event is triggered only after the cells have been serialised, which for\n",
       "    // our purposes (turning an active figure into a static one), is too late.\n",
       "    var cells = IPython.notebook.get_cells();\n",
       "    var ncells = cells.length;\n",
       "    for (var i=0; i<ncells; i++) {\n",
       "        var cell = cells[i];\n",
       "        if (cell.cell_type === 'code'){\n",
       "            for (var j=0; j<cell.output_area.outputs.length; j++) {\n",
       "                var data = cell.output_area.outputs[j];\n",
       "                if (data.data) {\n",
       "                    // IPython >= 3 moved mimebundle to data attribute of output\n",
       "                    data = data.data;\n",
       "                }\n",
       "                if (data['text/html'] == html_output) {\n",
       "                    return [cell, data, j];\n",
       "                }\n",
       "            }\n",
       "        }\n",
       "    }\n",
       "}\n",
       "\n",
       "// Register the function which deals with the matplotlib target/channel.\n",
       "// The kernel may be null if the page has been refreshed.\n",
       "if (IPython.notebook.kernel != null) {\n",
       "    IPython.notebook.kernel.comm_manager.register_target('matplotlib', mpl.mpl_figure_comm);\n",
       "}\n"
      ],
      "text/plain": [
       "<IPython.core.display.Javascript object>"
      ]
     },
     "metadata": {},
     "output_type": "display_data"
    },
    {
     "data": {
      "text/html": [
       "<img src=\"data:image/png;base64,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\" width=\"639.8333333333334\">"
      ],
      "text/plain": [
       "<IPython.core.display.HTML object>"
      ]
     },
     "metadata": {},
     "output_type": "display_data"
    }
   ],
   "source": [
    "%matplotlib notebook\n",
    "import matplotlib.pyplot as plt\n",
    "\n",
    "rho, nphi, nz, npp, npphi, npz = solution\n",
    "X = rho*np.cos(nphi)\n",
    "Y = rho*np.sin(nphi)\n",
    "\n",
    "plt.figure(1)\n",
    "plt.plot(X, Y)\n",
    "plt.xlabel('X')\n",
    "plt.ylabel('Y')\n",
    "\n",
    "plt.figure(2)\n",
    "plt.plot(nt, nz)\n",
    "plt.xlabel('t')\n",
    "plt.ylabel('Z');"
   ]
  },
  {
   "cell_type": "markdown",
   "metadata": {},
   "source": [
    "We can plot it in 3d as well"
   ]
  },
  {
   "cell_type": "code",
   "execution_count": 29,
   "metadata": {
    "ExecuteTime": {
     "end_time": "2019-11-27T10:50:14.215018Z",
     "start_time": "2019-11-27T10:50:14.184552Z"
    }
   },
   "outputs": [
    {
     "data": {
      "application/javascript": [
       "/* Put everything inside the global mpl namespace */\n",
       "window.mpl = {};\n",
       "\n",
       "\n",
       "mpl.get_websocket_type = function() {\n",
       "    if (typeof(WebSocket) !== 'undefined') {\n",
       "        return WebSocket;\n",
       "    } else if (typeof(MozWebSocket) !== 'undefined') {\n",
       "        return MozWebSocket;\n",
       "    } else {\n",
       "        alert('Your browser does not have WebSocket support. ' +\n",
       "              'Please try Chrome, Safari or Firefox ≥ 6. ' +\n",
       "              'Firefox 4 and 5 are also supported but you ' +\n",
       "              'have to enable WebSockets in about:config.');\n",
       "    };\n",
       "}\n",
       "\n",
       "mpl.figure = function(figure_id, websocket, ondownload, parent_element) {\n",
       "    this.id = figure_id;\n",
       "\n",
       "    this.ws = websocket;\n",
       "\n",
       "    this.supports_binary = (this.ws.binaryType != undefined);\n",
       "\n",
       "    if (!this.supports_binary) {\n",
       "        var warnings = document.getElementById(\"mpl-warnings\");\n",
       "        if (warnings) {\n",
       "            warnings.style.display = 'block';\n",
       "            warnings.textContent = (\n",
       "                \"This browser does not support binary websocket messages. \" +\n",
       "                    \"Performance may be slow.\");\n",
       "        }\n",
       "    }\n",
       "\n",
       "    this.imageObj = new Image();\n",
       "\n",
       "    this.context = undefined;\n",
       "    this.message = undefined;\n",
       "    this.canvas = undefined;\n",
       "    this.rubberband_canvas = undefined;\n",
       "    this.rubberband_context = undefined;\n",
       "    this.format_dropdown = undefined;\n",
       "\n",
       "    this.image_mode = 'full';\n",
       "\n",
       "    this.root = $('<div/>');\n",
       "    this._root_extra_style(this.root)\n",
       "    this.root.attr('style', 'display: inline-block');\n",
       "\n",
       "    $(parent_element).append(this.root);\n",
       "\n",
       "    this._init_header(this);\n",
       "    this._init_canvas(this);\n",
       "    this._init_toolbar(this);\n",
       "\n",
       "    var fig = this;\n",
       "\n",
       "    this.waiting = false;\n",
       "\n",
       "    this.ws.onopen =  function () {\n",
       "            fig.send_message(\"supports_binary\", {value: fig.supports_binary});\n",
       "            fig.send_message(\"send_image_mode\", {});\n",
       "            if (mpl.ratio != 1) {\n",
       "                fig.send_message(\"set_dpi_ratio\", {'dpi_ratio': mpl.ratio});\n",
       "            }\n",
       "            fig.send_message(\"refresh\", {});\n",
       "        }\n",
       "\n",
       "    this.imageObj.onload = function() {\n",
       "            if (fig.image_mode == 'full') {\n",
       "                // Full images could contain transparency (where diff images\n",
       "                // almost always do), so we need to clear the canvas so that\n",
       "                // there is no ghosting.\n",
       "                fig.context.clearRect(0, 0, fig.canvas.width, fig.canvas.height);\n",
       "            }\n",
       "            fig.context.drawImage(fig.imageObj, 0, 0);\n",
       "        };\n",
       "\n",
       "    this.imageObj.onunload = function() {\n",
       "        fig.ws.close();\n",
       "    }\n",
       "\n",
       "    this.ws.onmessage = this._make_on_message_function(this);\n",
       "\n",
       "    this.ondownload = ondownload;\n",
       "}\n",
       "\n",
       "mpl.figure.prototype._init_header = function() {\n",
       "    var titlebar = $(\n",
       "        '<div class=\"ui-dialog-titlebar ui-widget-header ui-corner-all ' +\n",
       "        'ui-helper-clearfix\"/>');\n",
       "    var titletext = $(\n",
       "        '<div class=\"ui-dialog-title\" style=\"width: 100%; ' +\n",
       "        'text-align: center; padding: 3px;\"/>');\n",
       "    titlebar.append(titletext)\n",
       "    this.root.append(titlebar);\n",
       "    this.header = titletext[0];\n",
       "}\n",
       "\n",
       "\n",
       "\n",
       "mpl.figure.prototype._canvas_extra_style = function(canvas_div) {\n",
       "\n",
       "}\n",
       "\n",
       "\n",
       "mpl.figure.prototype._root_extra_style = function(canvas_div) {\n",
       "\n",
       "}\n",
       "\n",
       "mpl.figure.prototype._init_canvas = function() {\n",
       "    var fig = this;\n",
       "\n",
       "    var canvas_div = $('<div/>');\n",
       "\n",
       "    canvas_div.attr('style', 'position: relative; clear: both; outline: 0');\n",
       "\n",
       "    function canvas_keyboard_event(event) {\n",
       "        return fig.key_event(event, event['data']);\n",
       "    }\n",
       "\n",
       "    canvas_div.keydown('key_press', canvas_keyboard_event);\n",
       "    canvas_div.keyup('key_release', canvas_keyboard_event);\n",
       "    this.canvas_div = canvas_div\n",
       "    this._canvas_extra_style(canvas_div)\n",
       "    this.root.append(canvas_div);\n",
       "\n",
       "    var canvas = $('<canvas/>');\n",
       "    canvas.addClass('mpl-canvas');\n",
       "    canvas.attr('style', \"left: 0; top: 0; z-index: 0; outline: 0\")\n",
       "\n",
       "    this.canvas = canvas[0];\n",
       "    this.context = canvas[0].getContext(\"2d\");\n",
       "\n",
       "    var backingStore = this.context.backingStorePixelRatio ||\n",
       "\tthis.context.webkitBackingStorePixelRatio ||\n",
       "\tthis.context.mozBackingStorePixelRatio ||\n",
       "\tthis.context.msBackingStorePixelRatio ||\n",
       "\tthis.context.oBackingStorePixelRatio ||\n",
       "\tthis.context.backingStorePixelRatio || 1;\n",
       "\n",
       "    mpl.ratio = (window.devicePixelRatio || 1) / backingStore;\n",
       "\n",
       "    var rubberband = $('<canvas/>');\n",
       "    rubberband.attr('style', \"position: absolute; left: 0; top: 0; z-index: 1;\")\n",
       "\n",
       "    var pass_mouse_events = true;\n",
       "\n",
       "    canvas_div.resizable({\n",
       "        start: function(event, ui) {\n",
       "            pass_mouse_events = false;\n",
       "        },\n",
       "        resize: function(event, ui) {\n",
       "            fig.request_resize(ui.size.width, ui.size.height);\n",
       "        },\n",
       "        stop: function(event, ui) {\n",
       "            pass_mouse_events = true;\n",
       "            fig.request_resize(ui.size.width, ui.size.height);\n",
       "        },\n",
       "    });\n",
       "\n",
       "    function mouse_event_fn(event) {\n",
       "        if (pass_mouse_events)\n",
       "            return fig.mouse_event(event, event['data']);\n",
       "    }\n",
       "\n",
       "    rubberband.mousedown('button_press', mouse_event_fn);\n",
       "    rubberband.mouseup('button_release', mouse_event_fn);\n",
       "    // Throttle sequential mouse events to 1 every 20ms.\n",
       "    rubberband.mousemove('motion_notify', mouse_event_fn);\n",
       "\n",
       "    rubberband.mouseenter('figure_enter', mouse_event_fn);\n",
       "    rubberband.mouseleave('figure_leave', mouse_event_fn);\n",
       "\n",
       "    canvas_div.on(\"wheel\", function (event) {\n",
       "        event = event.originalEvent;\n",
       "        event['data'] = 'scroll'\n",
       "        if (event.deltaY < 0) {\n",
       "            event.step = 1;\n",
       "        } else {\n",
       "            event.step = -1;\n",
       "        }\n",
       "        mouse_event_fn(event);\n",
       "    });\n",
       "\n",
       "    canvas_div.append(canvas);\n",
       "    canvas_div.append(rubberband);\n",
       "\n",
       "    this.rubberband = rubberband;\n",
       "    this.rubberband_canvas = rubberband[0];\n",
       "    this.rubberband_context = rubberband[0].getContext(\"2d\");\n",
       "    this.rubberband_context.strokeStyle = \"#000000\";\n",
       "\n",
       "    this._resize_canvas = function(width, height) {\n",
       "        // Keep the size of the canvas, canvas container, and rubber band\n",
       "        // canvas in synch.\n",
       "        canvas_div.css('width', width)\n",
       "        canvas_div.css('height', height)\n",
       "\n",
       "        canvas.attr('width', width * mpl.ratio);\n",
       "        canvas.attr('height', height * mpl.ratio);\n",
       "        canvas.attr('style', 'width: ' + width + 'px; height: ' + height + 'px;');\n",
       "\n",
       "        rubberband.attr('width', width);\n",
       "        rubberband.attr('height', height);\n",
       "    }\n",
       "\n",
       "    // Set the figure to an initial 600x600px, this will subsequently be updated\n",
       "    // upon first draw.\n",
       "    this._resize_canvas(600, 600);\n",
       "\n",
       "    // Disable right mouse context menu.\n",
       "    $(this.rubberband_canvas).bind(\"contextmenu\",function(e){\n",
       "        return false;\n",
       "    });\n",
       "\n",
       "    function set_focus () {\n",
       "        canvas.focus();\n",
       "        canvas_div.focus();\n",
       "    }\n",
       "\n",
       "    window.setTimeout(set_focus, 100);\n",
       "}\n",
       "\n",
       "mpl.figure.prototype._init_toolbar = function() {\n",
       "    var fig = this;\n",
       "\n",
       "    var nav_element = $('<div/>');\n",
       "    nav_element.attr('style', 'width: 100%');\n",
       "    this.root.append(nav_element);\n",
       "\n",
       "    // Define a callback function for later on.\n",
       "    function toolbar_event(event) {\n",
       "        return fig.toolbar_button_onclick(event['data']);\n",
       "    }\n",
       "    function toolbar_mouse_event(event) {\n",
       "        return fig.toolbar_button_onmouseover(event['data']);\n",
       "    }\n",
       "\n",
       "    for(var toolbar_ind in mpl.toolbar_items) {\n",
       "        var name = mpl.toolbar_items[toolbar_ind][0];\n",
       "        var tooltip = mpl.toolbar_items[toolbar_ind][1];\n",
       "        var image = mpl.toolbar_items[toolbar_ind][2];\n",
       "        var method_name = mpl.toolbar_items[toolbar_ind][3];\n",
       "\n",
       "        if (!name) {\n",
       "            // put a spacer in here.\n",
       "            continue;\n",
       "        }\n",
       "        var button = $('<button/>');\n",
       "        button.addClass('ui-button ui-widget ui-state-default ui-corner-all ' +\n",
       "                        'ui-button-icon-only');\n",
       "        button.attr('role', 'button');\n",
       "        button.attr('aria-disabled', 'false');\n",
       "        button.click(method_name, toolbar_event);\n",
       "        button.mouseover(tooltip, toolbar_mouse_event);\n",
       "\n",
       "        var icon_img = $('<span/>');\n",
       "        icon_img.addClass('ui-button-icon-primary ui-icon');\n",
       "        icon_img.addClass(image);\n",
       "        icon_img.addClass('ui-corner-all');\n",
       "\n",
       "        var tooltip_span = $('<span/>');\n",
       "        tooltip_span.addClass('ui-button-text');\n",
       "        tooltip_span.html(tooltip);\n",
       "\n",
       "        button.append(icon_img);\n",
       "        button.append(tooltip_span);\n",
       "\n",
       "        nav_element.append(button);\n",
       "    }\n",
       "\n",
       "    var fmt_picker_span = $('<span/>');\n",
       "\n",
       "    var fmt_picker = $('<select/>');\n",
       "    fmt_picker.addClass('mpl-toolbar-option ui-widget ui-widget-content');\n",
       "    fmt_picker_span.append(fmt_picker);\n",
       "    nav_element.append(fmt_picker_span);\n",
       "    this.format_dropdown = fmt_picker[0];\n",
       "\n",
       "    for (var ind in mpl.extensions) {\n",
       "        var fmt = mpl.extensions[ind];\n",
       "        var option = $(\n",
       "            '<option/>', {selected: fmt === mpl.default_extension}).html(fmt);\n",
       "        fmt_picker.append(option);\n",
       "    }\n",
       "\n",
       "    // Add hover states to the ui-buttons\n",
       "    $( \".ui-button\" ).hover(\n",
       "        function() { $(this).addClass(\"ui-state-hover\");},\n",
       "        function() { $(this).removeClass(\"ui-state-hover\");}\n",
       "    );\n",
       "\n",
       "    var status_bar = $('<span class=\"mpl-message\"/>');\n",
       "    nav_element.append(status_bar);\n",
       "    this.message = status_bar[0];\n",
       "}\n",
       "\n",
       "mpl.figure.prototype.request_resize = function(x_pixels, y_pixels) {\n",
       "    // Request matplotlib to resize the figure. Matplotlib will then trigger a resize in the client,\n",
       "    // which will in turn request a refresh of the image.\n",
       "    this.send_message('resize', {'width': x_pixels, 'height': y_pixels});\n",
       "}\n",
       "\n",
       "mpl.figure.prototype.send_message = function(type, properties) {\n",
       "    properties['type'] = type;\n",
       "    properties['figure_id'] = this.id;\n",
       "    this.ws.send(JSON.stringify(properties));\n",
       "}\n",
       "\n",
       "mpl.figure.prototype.send_draw_message = function() {\n",
       "    if (!this.waiting) {\n",
       "        this.waiting = true;\n",
       "        this.ws.send(JSON.stringify({type: \"draw\", figure_id: this.id}));\n",
       "    }\n",
       "}\n",
       "\n",
       "\n",
       "mpl.figure.prototype.handle_save = function(fig, msg) {\n",
       "    var format_dropdown = fig.format_dropdown;\n",
       "    var format = format_dropdown.options[format_dropdown.selectedIndex].value;\n",
       "    fig.ondownload(fig, format);\n",
       "}\n",
       "\n",
       "\n",
       "mpl.figure.prototype.handle_resize = function(fig, msg) {\n",
       "    var size = msg['size'];\n",
       "    if (size[0] != fig.canvas.width || size[1] != fig.canvas.height) {\n",
       "        fig._resize_canvas(size[0], size[1]);\n",
       "        fig.send_message(\"refresh\", {});\n",
       "    };\n",
       "}\n",
       "\n",
       "mpl.figure.prototype.handle_rubberband = function(fig, msg) {\n",
       "    var x0 = msg['x0'] / mpl.ratio;\n",
       "    var y0 = (fig.canvas.height - msg['y0']) / mpl.ratio;\n",
       "    var x1 = msg['x1'] / mpl.ratio;\n",
       "    var y1 = (fig.canvas.height - msg['y1']) / mpl.ratio;\n",
       "    x0 = Math.floor(x0) + 0.5;\n",
       "    y0 = Math.floor(y0) + 0.5;\n",
       "    x1 = Math.floor(x1) + 0.5;\n",
       "    y1 = Math.floor(y1) + 0.5;\n",
       "    var min_x = Math.min(x0, x1);\n",
       "    var min_y = Math.min(y0, y1);\n",
       "    var width = Math.abs(x1 - x0);\n",
       "    var height = Math.abs(y1 - y0);\n",
       "\n",
       "    fig.rubberband_context.clearRect(\n",
       "        0, 0, fig.canvas.width, fig.canvas.height);\n",
       "\n",
       "    fig.rubberband_context.strokeRect(min_x, min_y, width, height);\n",
       "}\n",
       "\n",
       "mpl.figure.prototype.handle_figure_label = function(fig, msg) {\n",
       "    // Updates the figure title.\n",
       "    fig.header.textContent = msg['label'];\n",
       "}\n",
       "\n",
       "mpl.figure.prototype.handle_cursor = function(fig, msg) {\n",
       "    var cursor = msg['cursor'];\n",
       "    switch(cursor)\n",
       "    {\n",
       "    case 0:\n",
       "        cursor = 'pointer';\n",
       "        break;\n",
       "    case 1:\n",
       "        cursor = 'default';\n",
       "        break;\n",
       "    case 2:\n",
       "        cursor = 'crosshair';\n",
       "        break;\n",
       "    case 3:\n",
       "        cursor = 'move';\n",
       "        break;\n",
       "    }\n",
       "    fig.rubberband_canvas.style.cursor = cursor;\n",
       "}\n",
       "\n",
       "mpl.figure.prototype.handle_message = function(fig, msg) {\n",
       "    fig.message.textContent = msg['message'];\n",
       "}\n",
       "\n",
       "mpl.figure.prototype.handle_draw = function(fig, msg) {\n",
       "    // Request the server to send over a new figure.\n",
       "    fig.send_draw_message();\n",
       "}\n",
       "\n",
       "mpl.figure.prototype.handle_image_mode = function(fig, msg) {\n",
       "    fig.image_mode = msg['mode'];\n",
       "}\n",
       "\n",
       "mpl.figure.prototype.updated_canvas_event = function() {\n",
       "    // Called whenever the canvas gets updated.\n",
       "    this.send_message(\"ack\", {});\n",
       "}\n",
       "\n",
       "// A function to construct a web socket function for onmessage handling.\n",
       "// Called in the figure constructor.\n",
       "mpl.figure.prototype._make_on_message_function = function(fig) {\n",
       "    return function socket_on_message(evt) {\n",
       "        if (evt.data instanceof Blob) {\n",
       "            /* FIXME: We get \"Resource interpreted as Image but\n",
       "             * transferred with MIME type text/plain:\" errors on\n",
       "             * Chrome.  But how to set the MIME type?  It doesn't seem\n",
       "             * to be part of the websocket stream */\n",
       "            evt.data.type = \"image/png\";\n",
       "\n",
       "            /* Free the memory for the previous frames */\n",
       "            if (fig.imageObj.src) {\n",
       "                (window.URL || window.webkitURL).revokeObjectURL(\n",
       "                    fig.imageObj.src);\n",
       "            }\n",
       "\n",
       "            fig.imageObj.src = (window.URL || window.webkitURL).createObjectURL(\n",
       "                evt.data);\n",
       "            fig.updated_canvas_event();\n",
       "            fig.waiting = false;\n",
       "            return;\n",
       "        }\n",
       "        else if (typeof evt.data === 'string' && evt.data.slice(0, 21) == \"data:image/png;base64\") {\n",
       "            fig.imageObj.src = evt.data;\n",
       "            fig.updated_canvas_event();\n",
       "            fig.waiting = false;\n",
       "            return;\n",
       "        }\n",
       "\n",
       "        var msg = JSON.parse(evt.data);\n",
       "        var msg_type = msg['type'];\n",
       "\n",
       "        // Call the  \"handle_{type}\" callback, which takes\n",
       "        // the figure and JSON message as its only arguments.\n",
       "        try {\n",
       "            var callback = fig[\"handle_\" + msg_type];\n",
       "        } catch (e) {\n",
       "            console.log(\"No handler for the '\" + msg_type + \"' message type: \", msg);\n",
       "            return;\n",
       "        }\n",
       "\n",
       "        if (callback) {\n",
       "            try {\n",
       "                // console.log(\"Handling '\" + msg_type + \"' message: \", msg);\n",
       "                callback(fig, msg);\n",
       "            } catch (e) {\n",
       "                console.log(\"Exception inside the 'handler_\" + msg_type + \"' callback:\", e, e.stack, msg);\n",
       "            }\n",
       "        }\n",
       "    };\n",
       "}\n",
       "\n",
       "// from http://stackoverflow.com/questions/1114465/getting-mouse-location-in-canvas\n",
       "mpl.findpos = function(e) {\n",
       "    //this section is from http://www.quirksmode.org/js/events_properties.html\n",
       "    var targ;\n",
       "    if (!e)\n",
       "        e = window.event;\n",
       "    if (e.target)\n",
       "        targ = e.target;\n",
       "    else if (e.srcElement)\n",
       "        targ = e.srcElement;\n",
       "    if (targ.nodeType == 3) // defeat Safari bug\n",
       "        targ = targ.parentNode;\n",
       "\n",
       "    // jQuery normalizes the pageX and pageY\n",
       "    // pageX,Y are the mouse positions relative to the document\n",
       "    // offset() returns the position of the element relative to the document\n",
       "    var x = e.pageX - $(targ).offset().left;\n",
       "    var y = e.pageY - $(targ).offset().top;\n",
       "\n",
       "    return {\"x\": x, \"y\": y};\n",
       "};\n",
       "\n",
       "/*\n",
       " * return a copy of an object with only non-object keys\n",
       " * we need this to avoid circular references\n",
       " * http://stackoverflow.com/a/24161582/3208463\n",
       " */\n",
       "function simpleKeys (original) {\n",
       "  return Object.keys(original).reduce(function (obj, key) {\n",
       "    if (typeof original[key] !== 'object')\n",
       "        obj[key] = original[key]\n",
       "    return obj;\n",
       "  }, {});\n",
       "}\n",
       "\n",
       "mpl.figure.prototype.mouse_event = function(event, name) {\n",
       "    var canvas_pos = mpl.findpos(event)\n",
       "\n",
       "    if (name === 'button_press')\n",
       "    {\n",
       "        this.canvas.focus();\n",
       "        this.canvas_div.focus();\n",
       "    }\n",
       "\n",
       "    var x = canvas_pos.x * mpl.ratio;\n",
       "    var y = canvas_pos.y * mpl.ratio;\n",
       "\n",
       "    this.send_message(name, {x: x, y: y, button: event.button,\n",
       "                             step: event.step,\n",
       "                             guiEvent: simpleKeys(event)});\n",
       "\n",
       "    /* This prevents the web browser from automatically changing to\n",
       "     * the text insertion cursor when the button is pressed.  We want\n",
       "     * to control all of the cursor setting manually through the\n",
       "     * 'cursor' event from matplotlib */\n",
       "    event.preventDefault();\n",
       "    return false;\n",
       "}\n",
       "\n",
       "mpl.figure.prototype._key_event_extra = function(event, name) {\n",
       "    // Handle any extra behaviour associated with a key event\n",
       "}\n",
       "\n",
       "mpl.figure.prototype.key_event = function(event, name) {\n",
       "\n",
       "    // Prevent repeat events\n",
       "    if (name == 'key_press')\n",
       "    {\n",
       "        if (event.which === this._key)\n",
       "            return;\n",
       "        else\n",
       "            this._key = event.which;\n",
       "    }\n",
       "    if (name == 'key_release')\n",
       "        this._key = null;\n",
       "\n",
       "    var value = '';\n",
       "    if (event.ctrlKey && event.which != 17)\n",
       "        value += \"ctrl+\";\n",
       "    if (event.altKey && event.which != 18)\n",
       "        value += \"alt+\";\n",
       "    if (event.shiftKey && event.which != 16)\n",
       "        value += \"shift+\";\n",
       "\n",
       "    value += 'k';\n",
       "    value += event.which.toString();\n",
       "\n",
       "    this._key_event_extra(event, name);\n",
       "\n",
       "    this.send_message(name, {key: value,\n",
       "                             guiEvent: simpleKeys(event)});\n",
       "    return false;\n",
       "}\n",
       "\n",
       "mpl.figure.prototype.toolbar_button_onclick = function(name) {\n",
       "    if (name == 'download') {\n",
       "        this.handle_save(this, null);\n",
       "    } else {\n",
       "        this.send_message(\"toolbar_button\", {name: name});\n",
       "    }\n",
       "};\n",
       "\n",
       "mpl.figure.prototype.toolbar_button_onmouseover = function(tooltip) {\n",
       "    this.message.textContent = tooltip;\n",
       "};\n",
       "mpl.toolbar_items = [[\"Home\", \"Reset original view\", \"fa fa-home icon-home\", \"home\"], [\"Back\", \"Back to previous view\", \"fa fa-arrow-left icon-arrow-left\", \"back\"], [\"Forward\", \"Forward to next view\", \"fa fa-arrow-right icon-arrow-right\", \"forward\"], [\"\", \"\", \"\", \"\"], [\"Pan\", \"Pan axes with left mouse, zoom with right\", \"fa fa-arrows icon-move\", \"pan\"], [\"Zoom\", \"Zoom to rectangle\", \"fa fa-square-o icon-check-empty\", \"zoom\"], [\"\", \"\", \"\", \"\"], [\"Download\", \"Download plot\", \"fa fa-floppy-o icon-save\", \"download\"]];\n",
       "\n",
       "mpl.extensions = [\"eps\", \"jpeg\", \"pdf\", \"png\", \"ps\", \"raw\", \"svg\", \"tif\"];\n",
       "\n",
       "mpl.default_extension = \"png\";var comm_websocket_adapter = function(comm) {\n",
       "    // Create a \"websocket\"-like object which calls the given IPython comm\n",
       "    // object with the appropriate methods. Currently this is a non binary\n",
       "    // socket, so there is still some room for performance tuning.\n",
       "    var ws = {};\n",
       "\n",
       "    ws.close = function() {\n",
       "        comm.close()\n",
       "    };\n",
       "    ws.send = function(m) {\n",
       "        //console.log('sending', m);\n",
       "        comm.send(m);\n",
       "    };\n",
       "    // Register the callback with on_msg.\n",
       "    comm.on_msg(function(msg) {\n",
       "        //console.log('receiving', msg['content']['data'], msg);\n",
       "        // Pass the mpl event to the overridden (by mpl) onmessage function.\n",
       "        ws.onmessage(msg['content']['data'])\n",
       "    });\n",
       "    return ws;\n",
       "}\n",
       "\n",
       "mpl.mpl_figure_comm = function(comm, msg) {\n",
       "    // This is the function which gets called when the mpl process\n",
       "    // starts-up an IPython Comm through the \"matplotlib\" channel.\n",
       "\n",
       "    var id = msg.content.data.id;\n",
       "    // Get hold of the div created by the display call when the Comm\n",
       "    // socket was opened in Python.\n",
       "    var element = $(\"#\" + id);\n",
       "    var ws_proxy = comm_websocket_adapter(comm)\n",
       "\n",
       "    function ondownload(figure, format) {\n",
       "        window.open(figure.imageObj.src);\n",
       "    }\n",
       "\n",
       "    var fig = new mpl.figure(id, ws_proxy,\n",
       "                           ondownload,\n",
       "                           element.get(0));\n",
       "\n",
       "    // Call onopen now - mpl needs it, as it is assuming we've passed it a real\n",
       "    // web socket which is closed, not our websocket->open comm proxy.\n",
       "    ws_proxy.onopen();\n",
       "\n",
       "    fig.parent_element = element.get(0);\n",
       "    fig.cell_info = mpl.find_output_cell(\"<div id='\" + id + \"'></div>\");\n",
       "    if (!fig.cell_info) {\n",
       "        console.error(\"Failed to find cell for figure\", id, fig);\n",
       "        return;\n",
       "    }\n",
       "\n",
       "    var output_index = fig.cell_info[2]\n",
       "    var cell = fig.cell_info[0];\n",
       "\n",
       "};\n",
       "\n",
       "mpl.figure.prototype.handle_close = function(fig, msg) {\n",
       "    var width = fig.canvas.width/mpl.ratio\n",
       "    fig.root.unbind('remove')\n",
       "\n",
       "    // Update the output cell to use the data from the current canvas.\n",
       "    fig.push_to_output();\n",
       "    var dataURL = fig.canvas.toDataURL();\n",
       "    // Re-enable the keyboard manager in IPython - without this line, in FF,\n",
       "    // the notebook keyboard shortcuts fail.\n",
       "    IPython.keyboard_manager.enable()\n",
       "    $(fig.parent_element).html('<img src=\"' + dataURL + '\" width=\"' + width + '\">');\n",
       "    fig.close_ws(fig, msg);\n",
       "}\n",
       "\n",
       "mpl.figure.prototype.close_ws = function(fig, msg){\n",
       "    fig.send_message('closing', msg);\n",
       "    // fig.ws.close()\n",
       "}\n",
       "\n",
       "mpl.figure.prototype.push_to_output = function(remove_interactive) {\n",
       "    // Turn the data on the canvas into data in the output cell.\n",
       "    var width = this.canvas.width/mpl.ratio\n",
       "    var dataURL = this.canvas.toDataURL();\n",
       "    this.cell_info[1]['text/html'] = '<img src=\"' + dataURL + '\" width=\"' + width + '\">';\n",
       "}\n",
       "\n",
       "mpl.figure.prototype.updated_canvas_event = function() {\n",
       "    // Tell IPython that the notebook contents must change.\n",
       "    IPython.notebook.set_dirty(true);\n",
       "    this.send_message(\"ack\", {});\n",
       "    var fig = this;\n",
       "    // Wait a second, then push the new image to the DOM so\n",
       "    // that it is saved nicely (might be nice to debounce this).\n",
       "    setTimeout(function () { fig.push_to_output() }, 1000);\n",
       "}\n",
       "\n",
       "mpl.figure.prototype._init_toolbar = function() {\n",
       "    var fig = this;\n",
       "\n",
       "    var nav_element = $('<div/>');\n",
       "    nav_element.attr('style', 'width: 100%');\n",
       "    this.root.append(nav_element);\n",
       "\n",
       "    // Define a callback function for later on.\n",
       "    function toolbar_event(event) {\n",
       "        return fig.toolbar_button_onclick(event['data']);\n",
       "    }\n",
       "    function toolbar_mouse_event(event) {\n",
       "        return fig.toolbar_button_onmouseover(event['data']);\n",
       "    }\n",
       "\n",
       "    for(var toolbar_ind in mpl.toolbar_items){\n",
       "        var name = mpl.toolbar_items[toolbar_ind][0];\n",
       "        var tooltip = mpl.toolbar_items[toolbar_ind][1];\n",
       "        var image = mpl.toolbar_items[toolbar_ind][2];\n",
       "        var method_name = mpl.toolbar_items[toolbar_ind][3];\n",
       "\n",
       "        if (!name) { continue; };\n",
       "\n",
       "        var button = $('<button class=\"btn btn-default\" href=\"#\" title=\"' + name + '\"><i class=\"fa ' + image + ' fa-lg\"></i></button>');\n",
       "        button.click(method_name, toolbar_event);\n",
       "        button.mouseover(tooltip, toolbar_mouse_event);\n",
       "        nav_element.append(button);\n",
       "    }\n",
       "\n",
       "    // Add the status bar.\n",
       "    var status_bar = $('<span class=\"mpl-message\" style=\"text-align:right; float: right;\"/>');\n",
       "    nav_element.append(status_bar);\n",
       "    this.message = status_bar[0];\n",
       "\n",
       "    // Add the close button to the window.\n",
       "    var buttongrp = $('<div class=\"btn-group inline pull-right\"></div>');\n",
       "    var button = $('<button class=\"btn btn-mini btn-primary\" href=\"#\" title=\"Stop Interaction\"><i class=\"fa fa-power-off icon-remove icon-large\"></i></button>');\n",
       "    button.click(function (evt) { fig.handle_close(fig, {}); } );\n",
       "    button.mouseover('Stop Interaction', toolbar_mouse_event);\n",
       "    buttongrp.append(button);\n",
       "    var titlebar = this.root.find($('.ui-dialog-titlebar'));\n",
       "    titlebar.prepend(buttongrp);\n",
       "}\n",
       "\n",
       "mpl.figure.prototype._root_extra_style = function(el){\n",
       "    var fig = this\n",
       "    el.on(\"remove\", function(){\n",
       "\tfig.close_ws(fig, {});\n",
       "    });\n",
       "}\n",
       "\n",
       "mpl.figure.prototype._canvas_extra_style = function(el){\n",
       "    // this is important to make the div 'focusable\n",
       "    el.attr('tabindex', 0)\n",
       "    // reach out to IPython and tell the keyboard manager to turn it's self\n",
       "    // off when our div gets focus\n",
       "\n",
       "    // location in version 3\n",
       "    if (IPython.notebook.keyboard_manager) {\n",
       "        IPython.notebook.keyboard_manager.register_events(el);\n",
       "    }\n",
       "    else {\n",
       "        // location in version 2\n",
       "        IPython.keyboard_manager.register_events(el);\n",
       "    }\n",
       "\n",
       "}\n",
       "\n",
       "mpl.figure.prototype._key_event_extra = function(event, name) {\n",
       "    var manager = IPython.notebook.keyboard_manager;\n",
       "    if (!manager)\n",
       "        manager = IPython.keyboard_manager;\n",
       "\n",
       "    // Check for shift+enter\n",
       "    if (event.shiftKey && event.which == 13) {\n",
       "        this.canvas_div.blur();\n",
       "        event.shiftKey = false;\n",
       "        // Send a \"J\" for go to next cell\n",
       "        event.which = 74;\n",
       "        event.keyCode = 74;\n",
       "        manager.command_mode();\n",
       "        manager.handle_keydown(event);\n",
       "    }\n",
       "}\n",
       "\n",
       "mpl.figure.prototype.handle_save = function(fig, msg) {\n",
       "    fig.ondownload(fig, null);\n",
       "}\n",
       "\n",
       "\n",
       "mpl.find_output_cell = function(html_output) {\n",
       "    // Return the cell and output element which can be found *uniquely* in the notebook.\n",
       "    // Note - this is a bit hacky, but it is done because the \"notebook_saving.Notebook\"\n",
       "    // IPython event is triggered only after the cells have been serialised, which for\n",
       "    // our purposes (turning an active figure into a static one), is too late.\n",
       "    var cells = IPython.notebook.get_cells();\n",
       "    var ncells = cells.length;\n",
       "    for (var i=0; i<ncells; i++) {\n",
       "        var cell = cells[i];\n",
       "        if (cell.cell_type === 'code'){\n",
       "            for (var j=0; j<cell.output_area.outputs.length; j++) {\n",
       "                var data = cell.output_area.outputs[j];\n",
       "                if (data.data) {\n",
       "                    // IPython >= 3 moved mimebundle to data attribute of output\n",
       "                    data = data.data;\n",
       "                }\n",
       "                if (data['text/html'] == html_output) {\n",
       "                    return [cell, data, j];\n",
       "                }\n",
       "            }\n",
       "        }\n",
       "    }\n",
       "}\n",
       "\n",
       "// Register the function which deals with the matplotlib target/channel.\n",
       "// The kernel may be null if the page has been refreshed.\n",
       "if (IPython.notebook.kernel != null) {\n",
       "    IPython.notebook.kernel.comm_manager.register_target('matplotlib', mpl.mpl_figure_comm);\n",
       "}\n"
      ],
      "text/plain": [
       "<IPython.core.display.Javascript object>"
      ]
     },
     "metadata": {},
     "output_type": "display_data"
    },
    {
     "data": {
      "text/html": [
       "<img src=\"data:image/png;base64,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\" width=\"639.8333333333334\">"
      ],
      "text/plain": [
       "<IPython.core.display.HTML object>"
      ]
     },
     "metadata": {},
     "output_type": "display_data"
    }
   ],
   "source": [
    "from mpl_toolkits.mplot3d import Axes3D\n",
    "\n",
    "fig = plt.figure(3)\n",
    "ax = plt.axes(projection='3d')\n",
    "ax.plot(X, Y, nz)\n",
    "\n",
    "ax.set_zlim(-0.1, 0.1);"
   ]
  },
  {
   "cell_type": "code",
   "execution_count": null,
   "metadata": {},
   "outputs": [],
   "source": []
  }
 ],
 "metadata": {
  "kernelspec": {
   "display_name": "Python 3",
   "language": "python",
   "name": "python3"
  },
  "language_info": {
   "codemirror_mode": {
    "name": "ipython",
    "version": 3
   },
   "file_extension": ".py",
   "mimetype": "text/x-python",
   "name": "python",
   "nbconvert_exporter": "python",
   "pygments_lexer": "ipython3",
   "version": "3.5.5"
  },
  "varInspector": {
   "cols": {
    "lenName": 16,
    "lenType": 16,
    "lenVar": 40
   },
   "kernels_config": {
    "python": {
     "delete_cmd_postfix": "",
     "delete_cmd_prefix": "del ",
     "library": "var_list.py",
     "varRefreshCmd": "print(var_dic_list())"
    },
    "r": {
     "delete_cmd_postfix": ") ",
     "delete_cmd_prefix": "rm(",
     "library": "var_list.r",
     "varRefreshCmd": "cat(var_dic_list()) "
    }
   },
   "types_to_exclude": [
    "module",
    "function",
    "builtin_function_or_method",
    "instance",
    "_Feature"
   ],
   "window_display": false
  }
 },
 "nbformat": 4,
 "nbformat_minor": 2
}
