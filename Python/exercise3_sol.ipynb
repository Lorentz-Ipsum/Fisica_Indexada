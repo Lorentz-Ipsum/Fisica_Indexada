{
 "cells": [
  {
   "cell_type": "markdown",
   "metadata": {},
   "source": [
    "# Exercise 3"
   ]
  },
  {
   "cell_type": "markdown",
   "metadata": {},
   "source": [
    "Perform a perturbation series expansion on the equation for the damped harmonic oscillator\n",
    "\n",
    "\\begin{equation}\n",
    "    \\frac{\\text{d}^2 x(t)}{\\text{d} t^2} + 2\\epsilon \n",
    "        \\frac{\\text{d} x(t)}{\\text{d} t} + x(t) = 0\\ .\n",
    "\\end{equation}\n",
    "\n",
    "Solve the equations of motion, up to first order\n",
    "\n",
    "\\begin{equation}\n",
    "    x(t) = x_0(t) + \\epsilon x_1(t) + \\mathcal{O}(\\epsilon^2)\n",
    "\\end{equation}\n",
    "\n",
    "Find the exact solution too. Plot the results for the exact solution and its 0th and 1st order approximation."
   ]
  },
  {
   "cell_type": "markdown",
   "metadata": {},
   "source": [
    "### Import sympy and define symbols"
   ]
  },
  {
   "cell_type": "code",
   "execution_count": null,
   "metadata": {
    "ExecuteTime": {
     "end_time": "2019-11-27T10:21:26.324359Z",
     "start_time": "2019-11-27T10:21:25.857448Z"
    }
   },
   "outputs": [],
   "source": [
    "from sympy import *\n",
    "init_printing()  # import the best printer available\n",
    "eps, t = symbols('epsilon t', positive=True)\n",
    "x, x0, x1 = symbols('x x_0 x_1', cls=Function)"
   ]
  },
  {
   "cell_type": "markdown",
   "metadata": {},
   "source": [
    "Note that many of the steps above are unnecessary to reach the final solution. I include them for pedagogical purposes. In this kind of problems, I encourage you to encapsulate the steps in functions (for instance, you could create a function that splits the differential equation up to any desired order and try to solve the hierarchy). Here I am trying to keep it as simple as possible."
   ]
  },
  {
   "cell_type": "markdown",
   "metadata": {},
   "source": [
    "### Define the differential equation"
   ]
  },
  {
   "cell_type": "code",
   "execution_count": null,
   "metadata": {
    "ExecuteTime": {
     "end_time": "2019-11-27T10:21:27.770905Z",
     "start_time": "2019-11-27T10:21:27.565262Z"
    }
   },
   "outputs": [],
   "source": [
    "equation = Eq(Derivative(x(t), t, 2) + 2*eps*Derivative(x(t), t) + x(t), 0)\n",
    "equation"
   ]
  },
  {
   "cell_type": "markdown",
   "metadata": {},
   "source": [
    "### Expand the equation of motion "
   ]
  },
  {
   "cell_type": "markdown",
   "metadata": {},
   "source": [
    "First, I define the perturbative expansion"
   ]
  },
  {
   "cell_type": "code",
   "execution_count": null,
   "metadata": {
    "ExecuteTime": {
     "end_time": "2019-11-27T10:21:28.932939Z",
     "start_time": "2019-11-27T10:21:28.701601Z"
    }
   },
   "outputs": [],
   "source": [
    "pert = {x(t): x0(t) + eps*x1(t) + Order(eps**2)}\n",
    "pert"
   ]
  },
  {
   "cell_type": "markdown",
   "metadata": {},
   "source": [
    "Now I expand the equation (had the dependency on $\\epsilon$ not been linear, I would have needed to use the `series()` method)"
   ]
  },
  {
   "cell_type": "code",
   "execution_count": null,
   "metadata": {
    "ExecuteTime": {
     "end_time": "2019-11-27T10:21:29.334459Z",
     "start_time": "2019-11-27T10:21:29.052971Z"
    }
   },
   "outputs": [],
   "source": [
    "lhs = equation.lhs\n",
    "lhs = lhs.subs(pert).doit()   # derivate\n",
    "lhs = lhs.expand()            # expand the parenthesis\n",
    "lhs = lhs.collect(eps)        # take equal powers of epsilon\n",
    "\n",
    "lhs"
   ]
  },
  {
   "cell_type": "markdown",
   "metadata": {},
   "source": [
    "Define the system of equations for the hierarchy of perturbations"
   ]
  },
  {
   "cell_type": "code",
   "execution_count": null,
   "metadata": {
    "ExecuteTime": {
     "end_time": "2019-11-27T10:21:30.162660Z",
     "start_time": "2019-11-27T10:21:29.952473Z"
    }
   },
   "outputs": [],
   "source": [
    "eq0 = Eq(lhs.coeff(eps, n=0), 0)\n",
    "eq1 = Eq(lhs.coeff(eps, n=1), 0)\n",
    "\n",
    "eq0, eq1"
   ]
  },
  {
   "cell_type": "markdown",
   "metadata": {},
   "source": [
    "### Find the solution for the zeroth-order"
   ]
  },
  {
   "cell_type": "markdown",
   "metadata": {},
   "source": [
    "We need to compute the zero order solution and then insert it in the first order equation"
   ]
  },
  {
   "cell_type": "code",
   "execution_count": null,
   "metadata": {
    "ExecuteTime": {
     "end_time": "2019-11-27T10:21:31.650219Z",
     "start_time": "2019-11-27T10:21:31.439186Z"
    }
   },
   "outputs": [],
   "source": [
    "eq0"
   ]
  },
  {
   "cell_type": "markdown",
   "metadata": {},
   "source": [
    "Define symbols for the initial conditions"
   ]
  },
  {
   "cell_type": "code",
   "execution_count": null,
   "metadata": {
    "ExecuteTime": {
     "end_time": "2019-11-27T10:21:32.637808Z",
     "start_time": "2019-11-27T10:21:32.633932Z"
    }
   },
   "outputs": [],
   "source": [
    "x_ini, dx_ini = symbols('X_i \\dot{X}_i')"
   ]
  },
  {
   "cell_type": "markdown",
   "metadata": {},
   "source": [
    "In this case, the equation is pretty easy to solve"
   ]
  },
  {
   "cell_type": "code",
   "execution_count": null,
   "metadata": {
    "ExecuteTime": {
     "end_time": "2019-11-27T10:21:33.856570Z",
     "start_time": "2019-11-27T10:21:33.598518Z"
    }
   },
   "outputs": [],
   "source": [
    "initial_conditions = {x0(0):x_ini,\\\n",
    "                      diff(x0(t), t).subs(t, 0):dx_ini}\n",
    "\n",
    "sol0 = dsolve(eq0, ics=initial_conditions)\n",
    "sol0"
   ]
  },
  {
   "cell_type": "markdown",
   "metadata": {},
   "source": [
    "I create a substitution rule to insert this solution in the first order equation"
   ]
  },
  {
   "cell_type": "code",
   "execution_count": null,
   "metadata": {
    "ExecuteTime": {
     "end_time": "2019-11-27T10:21:34.946107Z",
     "start_time": "2019-11-27T10:21:34.744050Z"
    }
   },
   "outputs": [],
   "source": [
    "rule0 = {sol0.lhs: sol0.rhs}\n",
    "rule0"
   ]
  },
  {
   "cell_type": "markdown",
   "metadata": {},
   "source": [
    "### Find the solution for the first-order"
   ]
  },
  {
   "cell_type": "markdown",
   "metadata": {},
   "source": [
    "The same for the next order, substituting $x_0(t)$,"
   ]
  },
  {
   "cell_type": "code",
   "execution_count": null,
   "metadata": {
    "ExecuteTime": {
     "end_time": "2019-11-27T10:21:36.054866Z",
     "start_time": "2019-11-27T10:21:35.846363Z"
    }
   },
   "outputs": [],
   "source": [
    "eq1"
   ]
  },
  {
   "cell_type": "code",
   "execution_count": null,
   "metadata": {
    "ExecuteTime": {
     "end_time": "2019-11-27T10:21:36.814226Z",
     "start_time": "2019-11-27T10:21:36.274521Z"
    }
   },
   "outputs": [],
   "source": [
    "new_eq1 = eq1.subs(rule0).doit().simplify()\n",
    "new_eq1"
   ]
  },
  {
   "cell_type": "markdown",
   "metadata": {},
   "source": [
    "Now to find the initial conditions for $x_1$ we impose that\n",
    "\n",
    "\\begin{equation}\n",
    "    x(0) = x_0(0)\\ ,\\qquad \\dot{x}(0)=\\dot{x_0}(0)\\ ,\n",
    "\\end{equation}\n",
    "\n",
    "so that\n",
    "\n",
    "\\begin{equation}\n",
    "    x_1(0) = \\dot{x_1}(0) = 0\n",
    "\\end{equation}"
   ]
  },
  {
   "cell_type": "code",
   "execution_count": null,
   "metadata": {
    "ExecuteTime": {
     "end_time": "2019-11-27T10:21:37.484117Z",
     "start_time": "2019-11-27T10:21:37.146662Z"
    }
   },
   "outputs": [],
   "source": [
    "initial_conditions = {x1(0):0,\\\n",
    "                      diff(x1(t), t).subs(t, 0):0}\n",
    "\n",
    "sol1 = dsolve(new_eq1, x1(t), ics=initial_conditions)\n",
    "sol1"
   ]
  },
  {
   "cell_type": "markdown",
   "metadata": {},
   "source": [
    "### Find the exact solution and expand it"
   ]
  },
  {
   "cell_type": "markdown",
   "metadata": {},
   "source": [
    "The exact solution can be analitically found in this case"
   ]
  },
  {
   "cell_type": "code",
   "execution_count": null,
   "metadata": {
    "ExecuteTime": {
     "end_time": "2019-11-27T10:21:38.862491Z",
     "start_time": "2019-11-27T10:21:38.657313Z"
    }
   },
   "outputs": [],
   "source": [
    "equation"
   ]
  },
  {
   "cell_type": "code",
   "execution_count": null,
   "metadata": {
    "ExecuteTime": {
     "end_time": "2019-11-27T10:21:39.917174Z",
     "start_time": "2019-11-27T10:21:39.443682Z"
    }
   },
   "outputs": [],
   "source": [
    "initial_conditions = {x(0):x_ini,\\\n",
    "                      diff(x(t), t).subs(t, 0):dx_ini}\n",
    "\n",
    "sol_exact = dsolve(equation, ics=initial_conditions)\n",
    "sol_exact"
   ]
  },
  {
   "cell_type": "code",
   "execution_count": null,
   "metadata": {
    "ExecuteTime": {
     "end_time": "2019-11-27T10:21:40.434301Z",
     "start_time": "2019-11-27T10:21:39.954375Z"
    }
   },
   "outputs": [],
   "source": [
    "expr = sol_exact.rhs.expand().collect(exp(-eps*t))\n",
    "expr = use(expr, lambda f: f.rewrite(sin), level=2)\n",
    "expr = use(expr, expand, level=2)\n",
    "expr = use(expr, simplify, level=3)\n",
    "expr = expr.subs(sqrt(eps**2-1), I*sqrt(1-eps**2))\n",
    "\n",
    "for var in expr.atoms(sin, cos):\n",
    "    expr = collect(expr, var)\n",
    "\n",
    "expr = use(expr, simplify, level=2)\n",
    "expr = expr.expand(deep=0)\n",
    "\n",
    "sol_exact_simp = Eq(x(t), expr)\n",
    "sol_exact_simp"
   ]
  },
  {
   "cell_type": "markdown",
   "metadata": {},
   "source": [
    "Finally, we can expand our exact solution to first order"
   ]
  },
  {
   "cell_type": "code",
   "execution_count": null,
   "metadata": {
    "ExecuteTime": {
     "end_time": "2019-11-27T10:21:41.899016Z",
     "start_time": "2019-11-27T10:21:41.509768Z"
    }
   },
   "outputs": [],
   "source": [
    "exact_expanded = Eq(sol_exact_simp.lhs, \\\n",
    "                    sol_exact_simp.rhs.series(eps, 0, 2))\n",
    "exact_expanded"
   ]
  },
  {
   "cell_type": "markdown",
   "metadata": {},
   "source": [
    "### Plot the results and compare the exact-0th-1st solutions"
   ]
  },
  {
   "cell_type": "markdown",
   "metadata": {},
   "source": [
    "Now I am going to compare the exact solution and the result of the perturbative expansion."
   ]
  },
  {
   "cell_type": "code",
   "execution_count": null,
   "metadata": {
    "ExecuteTime": {
     "end_time": "2019-11-27T10:21:43.356641Z",
     "start_time": "2019-11-27T10:21:43.121270Z"
    }
   },
   "outputs": [],
   "source": [
    "exact = sol_exact_simp.rhs\n",
    "exact"
   ]
  },
  {
   "cell_type": "code",
   "execution_count": null,
   "metadata": {
    "ExecuteTime": {
     "end_time": "2019-11-27T10:21:43.938903Z",
     "start_time": "2019-11-27T10:21:43.724899Z"
    }
   },
   "outputs": [],
   "source": [
    "zeroth = sol0.rhs\n",
    "zeroth"
   ]
  },
  {
   "cell_type": "code",
   "execution_count": null,
   "metadata": {
    "ExecuteTime": {
     "end_time": "2019-11-27T10:21:44.470017Z",
     "start_time": "2019-11-27T10:21:44.251004Z"
    }
   },
   "outputs": [],
   "source": [
    "first = sol1.rhs\n",
    "first"
   ]
  },
  {
   "cell_type": "markdown",
   "metadata": {},
   "source": [
    "I create the numerical functions to compare the results"
   ]
  },
  {
   "cell_type": "code",
   "execution_count": null,
   "metadata": {
    "ExecuteTime": {
     "end_time": "2019-11-27T10:21:45.319228Z",
     "start_time": "2019-11-27T10:21:45.296647Z"
    }
   },
   "outputs": [],
   "source": [
    "num_exact = lambdify([t, x_ini, dx_ini, eps], exact, \"numpy\")\n",
    "num_zeroth = lambdify([t, x_ini, dx_ini, eps], zeroth, \"numpy\")\n",
    "num_first = lambdify([t, x_ini, dx_ini, eps], first, \"numpy\")"
   ]
  },
  {
   "cell_type": "markdown",
   "metadata": {},
   "source": [
    "Then I evaluate them with `numpy` and plot the results with `matplotlib`. Check the little trick with numpy below."
   ]
  },
  {
   "cell_type": "code",
   "execution_count": null,
   "metadata": {
    "ExecuteTime": {
     "end_time": "2019-11-27T10:21:46.718257Z",
     "start_time": "2019-11-27T10:21:46.518073Z"
    }
   },
   "outputs": [],
   "source": [
    "%matplotlib notebook\n",
    "import numpy as np\n",
    "import matplotlib.pyplot as plt\n",
    "\n",
    "# I am adding an 'n' before just not to redefine the symbolic variables.\n",
    "# It does not matter if I am not going to use them anymore.\n",
    "neps = 0.1\n",
    "nx0 = 0.\n",
    "ndx0 = 1\n",
    "nt = np.linspace(0, 50, 1000)\n",
    "\n",
    "# here I add +0J (zero imaginary unit for numpy) to force numpy to use\n",
    "# the functions appropiate for complex numbers. Of course, our solution\n",
    "# is real but the symbolic form we have plugged in looks complex for some\n",
    "# values of the parameters (eps < 1)\n",
    "nexact = num_exact(nt, nx0, ndx0, neps+0J)\n",
    "nzeroth = num_zeroth(nt, nx0, ndx0, neps)\n",
    "nfirst = nzeroth + neps*num_first(nt, nx0, ndx0, neps)"
   ]
  },
  {
   "cell_type": "code",
   "execution_count": null,
   "metadata": {
    "ExecuteTime": {
     "end_time": "2019-11-27T10:21:47.196778Z",
     "start_time": "2019-11-27T10:21:47.157360Z"
    }
   },
   "outputs": [],
   "source": [
    "plt.figure(1)\n",
    "plt.plot(nt, nexact.real, label=\"Exact\")\n",
    "plt.plot(nt, nfirst, label=\"First order\")\n",
    "plt.legend(loc=\"best\");"
   ]
  },
  {
   "cell_type": "markdown",
   "metadata": {},
   "source": [
    "We can see that the perturbative expansion breaks (badly) when $\\epsilon t > 1$. Its amplitude starts growing like $t$ and does not reproduce the damped behaviour. This is a known issue of 'naive' perturbation theory, and it is solved with more sofisticated methods like Poincaré-Lindstedt, two-timing or averaging. For more information you can check any book on dynamical systems. In particular, this example has been taken from the marvellous book [Nonlinear Dynamics and Chaos, Strogatz, p.216]. "
   ]
  },
  {
   "cell_type": "markdown",
   "metadata": {},
   "source": [
    "A word of caution though. You can check the book to satisfy your curiosity, but it **does not** belong to our subject. In particular, if you are doing the work about chaos, do not use this book, it covers non-Hamiltonian chaos."
   ]
  }
 ],
 "metadata": {
  "kernelspec": {
   "display_name": "Python 3",
   "language": "python",
   "name": "python3"
  },
  "language_info": {
   "codemirror_mode": {
    "name": "ipython",
    "version": 3
   },
   "file_extension": ".py",
   "mimetype": "text/x-python",
   "name": "python",
   "nbconvert_exporter": "python",
   "pygments_lexer": "ipython3",
   "version": "3.6.8"
  },
  "varInspector": {
   "cols": {
    "lenName": 16,
    "lenType": 16,
    "lenVar": 40
   },
   "kernels_config": {
    "python": {
     "delete_cmd_postfix": "",
     "delete_cmd_prefix": "del ",
     "library": "var_list.py",
     "varRefreshCmd": "print(var_dic_list())"
    },
    "r": {
     "delete_cmd_postfix": ") ",
     "delete_cmd_prefix": "rm(",
     "library": "var_list.r",
     "varRefreshCmd": "cat(var_dic_list()) "
    }
   },
   "types_to_exclude": [
    "module",
    "function",
    "builtin_function_or_method",
    "instance",
    "_Feature"
   ],
   "window_display": false
  }
 },
 "nbformat": 4,
 "nbformat_minor": 2
}
