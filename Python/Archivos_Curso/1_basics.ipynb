{
 "cells": [
  {
   "cell_type": "markdown",
   "metadata": {},
   "source": [
    "# Sympy basics "
   ]
  },
  {
   "cell_type": "markdown",
   "metadata": {},
   "source": [
    "This series of notebooks is aimed at showing some of the capabilities of Python for symbolic computation, through the module SymPy, as an alternative to propietary software like Mathematica. The first four notebooks deal with symbolic computation, while the remaining two introduce  the numeric modules NumPy and SciPy."
   ]
  },
  {
   "cell_type": "markdown",
   "metadata": {},
   "source": [
    "### Python and sympy objects "
   ]
  },
  {
   "cell_type": "markdown",
   "metadata": {},
   "source": [
    "First we need to understand the logic under Python modules. Usually when we want to use a mathematical function in Python to perform non-trivial operations we must first import it from its module,"
   ]
  },
  {
   "cell_type": "code",
   "execution_count": 3,
   "metadata": {
    "ExecuteTime": {
     "end_time": "2019-10-08T12:41:17.603410Z",
     "start_time": "2019-10-08T12:41:17.599389Z"
    }
   },
   "outputs": [],
   "source": [
    "from math import sqrt"
   ]
  },
  {
   "cell_type": "markdown",
   "metadata": {},
   "source": [
    "Now we can use the function `sqrt` from the module `math` in our code"
   ]
  },
  {
   "cell_type": "code",
   "execution_count": 4,
   "metadata": {
    "ExecuteTime": {
     "end_time": "2019-10-08T12:41:17.967353Z",
     "start_time": "2019-10-08T12:41:17.955112Z"
    }
   },
   "outputs": [
    {
     "data": {
      "text/plain": [
       "1.7320508075688772"
      ]
     },
     "execution_count": 4,
     "metadata": {},
     "output_type": "execute_result"
    }
   ],
   "source": [
    "sqrt(3)"
   ]
  },
  {
   "cell_type": "markdown",
   "metadata": {},
   "source": [
    "Alternatively, we may import the whole module and call all the functions contained in it with the following syntax"
   ]
  },
  {
   "cell_type": "code",
   "execution_count": 5,
   "metadata": {
    "ExecuteTime": {
     "end_time": "2019-10-08T12:41:18.289614Z",
     "start_time": "2019-10-08T12:41:18.282683Z"
    }
   },
   "outputs": [
    {
     "data": {
      "text/plain": [
       "1.7320508075688772"
      ]
     },
     "execution_count": 5,
     "metadata": {},
     "output_type": "execute_result"
    }
   ],
   "source": [
    "import math\n",
    "\n",
    "math.sqrt(3)"
   ]
  },
  {
   "cell_type": "markdown",
   "metadata": {},
   "source": [
    "Different modules may contain functions with the same name, but the functions themselves are *different*. For instance, in the case of the function `sqrt`, it is defined in the module `sympy` as well "
   ]
  },
  {
   "cell_type": "code",
   "execution_count": 6,
   "metadata": {
    "ExecuteTime": {
     "end_time": "2019-10-08T12:41:18.890664Z",
     "start_time": "2019-10-08T12:41:18.596557Z"
    }
   },
   "outputs": [
    {
     "data": {
      "text/latex": [
       "$\\displaystyle \\sqrt{3}$"
      ],
      "text/plain": [
       "sqrt(3)"
      ]
     },
     "execution_count": 6,
     "metadata": {},
     "output_type": "execute_result"
    }
   ],
   "source": [
    "import sympy\n",
    "\n",
    "sympy.sqrt(3)"
   ]
  },
  {
   "cell_type": "markdown",
   "metadata": {},
   "source": [
    "Now, sqrt(3) is interpreted as the symbolic object $\\sqrt{3}$ not as a floating-point number 1.73205... We can check how Python works with this objects internally"
   ]
  },
  {
   "cell_type": "code",
   "execution_count": 7,
   "metadata": {
    "ExecuteTime": {
     "end_time": "2019-10-08T12:41:18.958487Z",
     "start_time": "2019-10-08T12:41:18.951463Z"
    }
   },
   "outputs": [
    {
     "data": {
      "text/plain": [
       "float"
      ]
     },
     "execution_count": 7,
     "metadata": {},
     "output_type": "execute_result"
    }
   ],
   "source": [
    "sq = math.sqrt(3)\n",
    "type(sq)"
   ]
  },
  {
   "cell_type": "code",
   "execution_count": 8,
   "metadata": {
    "ExecuteTime": {
     "end_time": "2019-10-08T12:41:19.085967Z",
     "start_time": "2019-10-08T12:41:19.082222Z"
    }
   },
   "outputs": [
    {
     "data": {
      "text/plain": [
       "sympy.core.power.Pow"
      ]
     },
     "execution_count": 8,
     "metadata": {},
     "output_type": "execute_result"
    }
   ],
   "source": [
    "sq = sympy.sqrt(3)\n",
    "type(sq)"
   ]
  },
  {
   "cell_type": "markdown",
   "metadata": {},
   "source": [
    "It is important to bear this difference in mind while working in Python to avoid conflicts between different functions with the same name. We will come back to this point with `numpy`."
   ]
  },
  {
   "cell_type": "markdown",
   "metadata": {},
   "source": [
    "### Defining symbols and functions"
   ]
  },
  {
   "cell_type": "markdown",
   "metadata": {},
   "source": [
    "In all our sessions with `sympy` we will call first (WARNING!!: this is widely regarded as a bad practice in Python, in our case we will only do it with the sympy module)"
   ]
  },
  {
   "cell_type": "code",
   "execution_count": 9,
   "metadata": {
    "ExecuteTime": {
     "end_time": "2019-10-08T12:41:19.819901Z",
     "start_time": "2019-10-08T12:41:19.814293Z"
    }
   },
   "outputs": [],
   "source": [
    "from sympy import *"
   ]
  },
  {
   "cell_type": "markdown",
   "metadata": {},
   "source": [
    "That is, we will import every function in `sympy`, just to avoid the long-hand notation `sympy.function()`. We will also call the function `init_printing()` in `sympy`, that allows for a fancier output"
   ]
  },
  {
   "cell_type": "code",
   "execution_count": 10,
   "metadata": {
    "ExecuteTime": {
     "end_time": "2019-10-08T12:41:20.506077Z",
     "start_time": "2019-10-08T12:41:20.156044Z"
    }
   },
   "outputs": [],
   "source": [
    "init_printing()"
   ]
  },
  {
   "cell_type": "markdown",
   "metadata": {},
   "source": [
    "The square root should be printed now in a much prettier way"
   ]
  },
  {
   "cell_type": "code",
   "execution_count": 11,
   "metadata": {
    "ExecuteTime": {
     "end_time": "2019-10-08T12:41:20.709523Z",
     "start_time": "2019-10-08T12:41:20.551783Z"
    }
   },
   "outputs": [
    {
     "data": {
      "image/png": "[encoded data removed]",
      "text/latex": [
       "$\\displaystyle \\sqrt{3}$"
      ],
      "text/plain": [
       "√3"
      ]
     },
     "execution_count": 11,
     "metadata": {},
     "output_type": "execute_result"
    }
   ],
   "source": [
    "sqrt(3)"
   ]
  },
  {
   "cell_type": "markdown",
   "metadata": {},
   "source": [
    "Ok, after setting up our enviroment we will start to do some symbolic computation"
   ]
  },
  {
   "cell_type": "code",
   "execution_count": 12,
   "metadata": {
    "ExecuteTime": {
     "end_time": "2019-10-08T12:41:21.268741Z",
     "start_time": "2019-10-08T12:41:21.111564Z"
    }
   },
   "outputs": [
    {
     "data": {
      "image/png": "[encoded data removed]",
      "text/latex": [
       "$\\displaystyle 2 \\sqrt{10}$"
      ],
      "text/plain": [
       "2⋅√10"
      ]
     },
     "execution_count": 12,
     "metadata": {},
     "output_type": "execute_result"
    }
   ],
   "source": [
    "sqrt(5)*sqrt(8)"
   ]
  },
  {
   "cell_type": "markdown",
   "metadata": {},
   "source": [
    "Admittedly not very interesting. To go beyond this elementary example we need to learn how to define variables and functions. Every non-numeric character must be defined before-hand in `sympy` (otherwise Python thinks it is a standard variable)."
   ]
  },
  {
   "cell_type": "markdown",
   "metadata": {},
   "source": [
    "#### Symbols"
   ]
  },
  {
   "cell_type": "code",
   "execution_count": 13,
   "metadata": {
    "ExecuteTime": {
     "end_time": "2019-10-08T12:41:22.040999Z",
     "start_time": "2019-10-08T12:41:22.035105Z"
    }
   },
   "outputs": [],
   "source": [
    "x, y, z, t, nu, a = symbols('x y z t nu alpha')"
   ]
  },
  {
   "cell_type": "markdown",
   "metadata": {},
   "source": [
    "In the left-hand we have the name that we will use in our code, while on the right-hand side we have defined the name that will be associated to the variable in the output. For instance, our variable 'a' will be displayed as $\\alpha$"
   ]
  },
  {
   "cell_type": "code",
   "execution_count": 14,
   "metadata": {
    "ExecuteTime": {
     "end_time": "2019-10-08T12:41:22.803424Z",
     "start_time": "2019-10-08T12:41:22.651912Z"
    }
   },
   "outputs": [
    {
     "data": {
      "image/png": "[encoded data removed]",
      "text/latex": [
       "$\\displaystyle \\alpha^{2}$"
      ],
      "text/plain": [
       " 2\n",
       "α "
      ]
     },
     "execution_count": 14,
     "metadata": {},
     "output_type": "execute_result"
    }
   ],
   "source": [
    "a**2"
   ]
  },
  {
   "cell_type": "markdown",
   "metadata": {},
   "source": [
    "In this example we can see that the greek letters are displayed correctly, but we must be careful with $\\lambda$. In fact, `lambda` has a special meaning in Python so to represent $\\lambda$ in `sympy` we must use `lamda` instead"
   ]
  },
  {
   "cell_type": "code",
   "execution_count": 15,
   "metadata": {
    "ExecuteTime": {
     "end_time": "2019-10-08T12:41:23.439409Z",
     "start_time": "2019-10-08T12:41:23.290262Z"
    }
   },
   "outputs": [
    {
     "data": {
      "image/png": "[encoded data removed]",
      "text/latex": [
       "$\\displaystyle \\lambda$"
      ],
      "text/plain": [
       "λ"
      ]
     },
     "execution_count": 15,
     "metadata": {},
     "output_type": "execute_result"
    }
   ],
   "source": [
    "l = symbols('lamda')\n",
    "l"
   ]
  },
  {
   "cell_type": "markdown",
   "metadata": {},
   "source": [
    "#### Functions"
   ]
  },
  {
   "cell_type": "markdown",
   "metadata": {},
   "source": [
    "We can construct explicit functions with a direct assignment"
   ]
  },
  {
   "cell_type": "code",
   "execution_count": 16,
   "metadata": {
    "ExecuteTime": {
     "end_time": "2019-10-08T12:41:24.362921Z",
     "start_time": "2019-10-08T12:41:24.355202Z"
    }
   },
   "outputs": [],
   "source": [
    "expr = cos(x)**2 + 1"
   ]
  },
  {
   "cell_type": "code",
   "execution_count": 17,
   "metadata": {
    "ExecuteTime": {
     "end_time": "2019-10-08T12:41:25.062110Z",
     "start_time": "2019-10-08T12:41:24.909831Z"
    }
   },
   "outputs": [
    {
     "data": {
      "image/png": "[encoded data removed]",
      "text/latex": [
       "$\\displaystyle x^{2} + \\cos^{2}{\\left(x \\right)} + 1$"
      ],
      "text/plain": [
       " 2      2       \n",
       "x  + cos (x) + 1"
      ]
     },
     "execution_count": 17,
     "metadata": {},
     "output_type": "execute_result"
    }
   ],
   "source": [
    "expr + x**2"
   ]
  },
  {
   "cell_type": "markdown",
   "metadata": {},
   "source": [
    "or with the usual definition in Python"
   ]
  },
  {
   "cell_type": "code",
   "execution_count": 18,
   "metadata": {
    "ExecuteTime": {
     "end_time": "2019-10-08T12:41:25.528620Z",
     "start_time": "2019-10-08T12:41:25.523261Z"
    }
   },
   "outputs": [],
   "source": [
    "def my_func(x, a=1, b=0, c=0):\n",
    "    \"\"\"\n",
    "    Usual Python function\n",
    "    \"\"\"\n",
    "    return a*x**2 + b*x + c"
   ]
  },
  {
   "cell_type": "code",
   "execution_count": 19,
   "metadata": {
    "ExecuteTime": {
     "end_time": "2019-10-08T12:41:25.962879Z",
     "start_time": "2019-10-08T12:41:25.791396Z"
    }
   },
   "outputs": [
    {
     "data": {
      "image/png": "[encoded data removed]",
      "text/latex": [
       "$\\displaystyle \\nu x + x^{2}$"
      ],
      "text/plain": [
       "       2\n",
       "ν⋅x + x "
      ]
     },
     "execution_count": 19,
     "metadata": {},
     "output_type": "execute_result"
    }
   ],
   "source": [
    "my_func(x, b=nu)"
   ]
  },
  {
   "cell_type": "markdown",
   "metadata": {},
   "source": [
    "It will be useful too to declare some symbols as implicit functions (to define differential equations for instance)"
   ]
  },
  {
   "cell_type": "code",
   "execution_count": 20,
   "metadata": {
    "ExecuteTime": {
     "end_time": "2019-10-08T12:41:26.655547Z",
     "start_time": "2019-10-08T12:41:26.648751Z"
    }
   },
   "outputs": [],
   "source": [
    "f, g, h = symbols('f g h', cls=Function)"
   ]
  },
  {
   "cell_type": "markdown",
   "metadata": {},
   "source": [
    "### Equalities"
   ]
  },
  {
   "cell_type": "markdown",
   "metadata": {},
   "source": [
    "There are at least three types of 'equalities',"
   ]
  },
  {
   "cell_type": "markdown",
   "metadata": {},
   "source": [
    "- Assignment (=): associates a value to a variable "
   ]
  },
  {
   "cell_type": "code",
   "execution_count": 21,
   "metadata": {
    "ExecuteTime": {
     "end_time": "2019-10-08T12:41:27.903723Z",
     "start_time": "2019-10-08T12:41:27.751930Z"
    }
   },
   "outputs": [
    {
     "data": {
      "image/png": "[encoded data removed]",
      "text/latex": [
       "$\\displaystyle 3 x^{2}$"
      ],
      "text/plain": [
       "   2\n",
       "3⋅x "
      ]
     },
     "execution_count": 21,
     "metadata": {},
     "output_type": "execute_result"
    }
   ],
   "source": [
    "expr = 3*x**2\n",
    "expr"
   ]
  },
  {
   "cell_type": "code",
   "execution_count": 22,
   "metadata": {
    "ExecuteTime": {
     "end_time": "2019-10-08T12:41:28.516511Z",
     "start_time": "2019-10-08T12:41:28.363109Z"
    }
   },
   "outputs": [
    {
     "data": {
      "image/png": "[encoded data removed]",
      "text/latex": [
       "$\\displaystyle 76.82$"
      ],
      "text/plain": [
       "76.82"
      ]
     },
     "execution_count": 22,
     "metadata": {},
     "output_type": "execute_result"
    }
   ],
   "source": [
    "C = 3.34*23\n",
    "C"
   ]
  },
  {
   "cell_type": "markdown",
   "metadata": {},
   "source": [
    "- Equality (==): boolean operator, tests the equality of two variables. In `sympy`, it tests structural identity (i.e. two expressions mathematically identical but written in a different way -> evaluates to False)"
   ]
  },
  {
   "cell_type": "code",
   "execution_count": 23,
   "metadata": {
    "ExecuteTime": {
     "end_time": "2019-10-08T12:41:29.721777Z",
     "start_time": "2019-10-08T12:41:29.715052Z"
    }
   },
   "outputs": [
    {
     "data": {
      "text/plain": [
       "True"
      ]
     },
     "execution_count": 23,
     "metadata": {},
     "output_type": "execute_result"
    }
   ],
   "source": [
    "C2 = 76.82\n",
    "\n",
    "C == C2"
   ]
  },
  {
   "cell_type": "code",
   "execution_count": 24,
   "metadata": {
    "ExecuteTime": {
     "end_time": "2019-10-08T12:41:30.071671Z",
     "start_time": "2019-10-08T12:41:30.062890Z"
    }
   },
   "outputs": [
    {
     "data": {
      "text/plain": [
       "False"
      ]
     },
     "execution_count": 24,
     "metadata": {},
     "output_type": "execute_result"
    }
   ],
   "source": [
    "expr = cos(x)**2 + sin(x)**2\n",
    "\n",
    "expr == 1"
   ]
  },
  {
   "cell_type": "markdown",
   "metadata": {},
   "source": [
    "- Symbolic equality (Eq): belongs to `sympy`. We will to use this form to define equations."
   ]
  },
  {
   "cell_type": "code",
   "execution_count": 25,
   "metadata": {
    "ExecuteTime": {
     "end_time": "2019-10-08T12:41:31.197635Z",
     "start_time": "2019-10-08T12:41:31.040386Z"
    }
   },
   "outputs": [
    {
     "data": {
      "image/png": "[encoded data removed]",
      "text/latex": [
       "$\\displaystyle 2 x^{2} + 3 = -5$"
      ],
      "text/plain": [
       "   2         \n",
       "2⋅x  + 3 = -5"
      ]
     },
     "execution_count": 25,
     "metadata": {},
     "output_type": "execute_result"
    }
   ],
   "source": [
    "Eq(2*x**2 + 3, -5)"
   ]
  },
  {
   "cell_type": "markdown",
   "metadata": {},
   "source": [
    "### Getting help "
   ]
  },
  {
   "cell_type": "markdown",
   "metadata": {},
   "source": [
    "- Jupyter notebook supports autocompletion, if you don't remember a command or the name of a method try pressing Tab."
   ]
  },
  {
   "cell_type": "markdown",
   "metadata": {},
   "source": [
    "- If you forget the use of some function, the order of its parameters or something like that, the best course of action is to look it up in the built-in documentation with the commands:"
   ]
  },
  {
   "cell_type": "code",
   "execution_count": 26,
   "metadata": {
    "ExecuteTime": {
     "end_time": "2019-10-08T12:41:32.972537Z",
     "start_time": "2019-10-08T12:41:32.933747Z"
    }
   },
   "outputs": [],
   "source": [
    "init_printing?"
   ]
  },
  {
   "cell_type": "markdown",
   "metadata": {},
   "source": [
    "there you can consult its use and even some examples. If you want to dig in a bit more, you can see the source code with "
   ]
  },
  {
   "cell_type": "code",
   "execution_count": 27,
   "metadata": {
    "ExecuteTime": {
     "end_time": "2019-10-08T12:41:35.323373Z",
     "start_time": "2019-10-08T12:41:35.294742Z"
    }
   },
   "outputs": [],
   "source": [
    "init_printing??"
   ]
  },
  {
   "cell_type": "markdown",
   "metadata": {},
   "source": [
    "it may be not very illuminating though. Another function that works like '?' is"
   ]
  },
  {
   "cell_type": "code",
   "execution_count": 28,
   "metadata": {
    "ExecuteTime": {
     "end_time": "2019-10-08T12:41:37.438942Z",
     "start_time": "2019-10-08T12:41:37.431527Z"
    },
    "scrolled": true
   },
   "outputs": [
    {
     "name": "stdout",
     "output_type": "stream",
     "text": [
      "Help on function init_printing in module sympy.interactive.printing:\n",
      "\n",
      "init_printing(pretty_print=True, order=None, use_unicode=None, use_latex=None, wrap_line=None, num_columns=None, no_global=False, ip=None, euler=False, forecolor='Black', backcolor='Transparent', fontsize='10pt', latex_mode='plain', print_builtin=True, str_printer=None, pretty_printer=None, latex_printer=None, **settings)\n",
      "    Initializes pretty-printer depending on the environment.\n",
      "    \n",
      "    Parameters\n",
      "    ==========\n",
      "    \n",
      "    pretty_print: boolean\n",
      "        If True, use pretty_print to stringify or the provided pretty\n",
      "        printer; if False, use sstrrepr to stringify or the provided string\n",
      "        printer.\n",
      "    order: string or None\n",
      "        There are a few different settings for this parameter:\n",
      "        lex (default), which is lexographic order;\n",
      "        grlex, which is graded lexographic order;\n",
      "        grevlex, which is reversed graded lexographic order;\n",
      "        old, which is used for compatibility reasons and for long expressions;\n",
      "        None, which sets it to lex.\n",
      "    use_unicode: boolean or None\n",
      "        If True, use unicode characters;\n",
      "        if False, do not use unicode characters.\n",
      "    use_latex: string, boolean, or None\n",
      "        If True, use default latex rendering in GUI interfaces (png and\n",
      "        mathjax);\n",
      "        if False, do not use latex rendering;\n",
      "        if 'png', enable latex rendering with an external latex compiler,\n",
      "        falling back to matplotlib if external compilation fails;\n",
      "        if 'matplotlib', enable latex rendering with matplotlib;\n",
      "        if 'mathjax', enable latex text generation, for example MathJax\n",
      "        rendering in IPython notebook or text rendering in LaTeX documents\n",
      "    wrap_line: boolean\n",
      "        If True, lines will wrap at the end; if False, they will not wrap\n",
      "        but continue as one line. This is only relevant if `pretty_print` is\n",
      "        True.\n",
      "    num_columns: int or None\n",
      "        If int, number of columns before wrapping is set to num_columns; if\n",
      "        None, number of columns before wrapping is set to terminal width.\n",
      "        This is only relevant if `pretty_print` is True.\n",
      "    no_global: boolean\n",
      "        If True, the settings become system wide;\n",
      "        if False, use just for this console/session.\n",
      "    ip: An interactive console\n",
      "        This can either be an instance of IPython,\n",
      "        or a class that derives from code.InteractiveConsole.\n",
      "    euler: boolean, optional, default=False\n",
      "        Loads the euler package in the LaTeX preamble for handwritten style\n",
      "        fonts (http://www.ctan.org/pkg/euler).\n",
      "    forecolor: string, optional, default='Black'\n",
      "        DVI setting for foreground color.\n",
      "    backcolor: string, optional, default='Transparent'\n",
      "        DVI setting for background color.\n",
      "    fontsize: string, optional, default='10pt'\n",
      "        A font size to pass to the LaTeX documentclass function in the\n",
      "        preamble.\n",
      "    latex_mode: string, optional, default='plain'\n",
      "        The mode used in the LaTeX printer. Can be one of:\n",
      "        {'inline'|'plain'|'equation'|'equation*'}.\n",
      "    print_builtin: boolean, optional, default=True\n",
      "        If true then floats and integers will be printed. If false the\n",
      "        printer will only print SymPy types.\n",
      "    str_printer: function, optional, default=None\n",
      "        A custom string printer function. This should mimic\n",
      "        sympy.printing.sstrrepr().\n",
      "    pretty_printer: function, optional, default=None\n",
      "        A custom pretty printer. This should mimic sympy.printing.pretty().\n",
      "    latex_printer: function, optional, default=None\n",
      "        A custom LaTeX printer. This should mimic sympy.printing.latex().\n",
      "    \n",
      "    Examples\n",
      "    ========\n",
      "    \n",
      "    >>> from sympy.interactive import init_printing\n",
      "    >>> from sympy import Symbol, sqrt\n",
      "    >>> from sympy.abc import x, y\n",
      "    >>> sqrt(5)\n",
      "    sqrt(5)\n",
      "    >>> init_printing(pretty_print=True) # doctest: +SKIP\n",
      "    >>> sqrt(5) # doctest: +SKIP\n",
      "      ___\n",
      "    \\/ 5\n",
      "    >>> theta = Symbol('theta') # doctest: +SKIP\n",
      "    >>> init_printing(use_unicode=True) # doctest: +SKIP\n",
      "    >>> theta # doctest: +SKIP\n",
      "    \\u03b8\n",
      "    >>> init_printing(use_unicode=False) # doctest: +SKIP\n",
      "    >>> theta # doctest: +SKIP\n",
      "    theta\n",
      "    >>> init_printing(order='lex') # doctest: +SKIP\n",
      "    >>> str(y + x + y**2 + x**2) # doctest: +SKIP\n",
      "    x**2 + x + y**2 + y\n",
      "    >>> init_printing(order='grlex') # doctest: +SKIP\n",
      "    >>> str(y + x + y**2 + x**2) # doctest: +SKIP\n",
      "    x**2 + x + y**2 + y\n",
      "    >>> init_printing(order='grevlex') # doctest: +SKIP\n",
      "    >>> str(y * x**2 + x * y**2) # doctest: +SKIP\n",
      "    x**2*y + x*y**2\n",
      "    >>> init_printing(order='old') # doctest: +SKIP\n",
      "    >>> str(x**2 + y**2 + x + y) # doctest: +SKIP\n",
      "    x**2 + x + y**2 + y\n",
      "    >>> init_printing(num_columns=10) # doctest: +SKIP\n",
      "    >>> x**2 + x + y**2 + y # doctest: +SKIP\n",
      "    x + y +\n",
      "    x**2 + y**2\n",
      "\n"
     ]
    }
   ],
   "source": [
    "help(init_printing)"
   ]
  },
  {
   "cell_type": "markdown",
   "metadata": {},
   "source": [
    "this last expression works on a standard Python shell as well, the other two belong to Jupyter. Sometimes it is useful to find out the methods in some object, dir() does the job"
   ]
  },
  {
   "cell_type": "code",
   "execution_count": 29,
   "metadata": {
    "ExecuteTime": {
     "end_time": "2019-10-08T12:41:39.152716Z",
     "start_time": "2019-10-08T12:41:39.142434Z"
    }
   },
   "outputs": [
    {
     "data": {
      "text/plain": [
       "['_Symbol__xnew_cached_',\n",
       " '__abs__',\n",
       " '__add__',\n",
       " '__and__',\n",
       " '__class__',\n",
       " '__complex__',\n",
       " '__delattr__',\n",
       " '__dir__',\n",
       " '__div__',\n",
       " '__divmod__',\n",
       " '__doc__',\n",
       " '__eq__',\n",
       " '__float__',\n",
       " '__floordiv__',\n",
       " '__format__',\n",
       " '__ge__',\n",
       " '__getattribute__',\n",
       " '__getnewargs__',\n",
       " '__getstate__',\n",
       " '__gt__',\n",
       " '__hash__',\n",
       " '__init__',\n",
       " '__init_subclass__',\n",
       " '__int__',\n",
       " '__invert__',\n",
       " '__le__',\n",
       " '__long__',\n",
       " '__lshift__',\n",
       " '__lt__',\n",
       " '__mod__',\n",
       " '__module__',\n",
       " '__mul__',\n",
       " '__ne__',\n",
       " '__neg__',\n",
       " '__new__',\n",
       " '__new_stage2__',\n",
       " '__or__',\n",
       " '__pos__',\n",
       " '__pow__',\n",
       " '__radd__',\n",
       " '__rand__',\n",
       " '__rdiv__',\n",
       " '__rdivmod__',\n",
       " '__reduce__',\n",
       " '__reduce_ex__',\n",
       " '__repr__',\n",
       " '__rfloordiv__',\n",
       " '__rlshift__',\n",
       " '__rmod__',\n",
       " '__rmul__',\n",
       " '__ror__',\n",
       " '__rpow__',\n",
       " '__rrshift__',\n",
       " '__rshift__',\n",
       " '__rsub__',\n",
       " '__rtruediv__',\n",
       " '__rxor__',\n",
       " '__setattr__',\n",
       " '__setstate__',\n",
       " '__sizeof__',\n",
       " '__slots__',\n",
       " '__str__',\n",
       " '__sub__',\n",
       " '__subclasshook__',\n",
       " '__truediv__',\n",
       " '__trunc__',\n",
       " '__xnew__',\n",
       " '__xor__',\n",
       " '_accept_eval_derivative',\n",
       " '_args',\n",
       " '_assumptions',\n",
       " '_compare_pretty',\n",
       " '_constructor_postprocessor_mapping',\n",
       " '_diff_wrt',\n",
       " '_eval_adjoint',\n",
       " '_eval_as_leading_term',\n",
       " '_eval_conjugate',\n",
       " '_eval_derivative',\n",
       " '_eval_derivative_matrix_lines',\n",
       " '_eval_derivative_n_times',\n",
       " '_eval_evalf',\n",
       " '_eval_expand_complex',\n",
       " '_eval_interval',\n",
       " '_eval_is_algebraic_expr',\n",
       " '_eval_is_negative',\n",
       " '_eval_is_polynomial',\n",
       " '_eval_is_positive',\n",
       " '_eval_is_rational_function',\n",
       " '_eval_lseries',\n",
       " '_eval_nseries',\n",
       " '_eval_power',\n",
       " '_eval_rewrite',\n",
       " '_eval_simplify',\n",
       " '_eval_subs',\n",
       " '_eval_transpose',\n",
       " '_evalf',\n",
       " '_exec_constructor_postprocessors',\n",
       " '_expand_hint',\n",
       " '_explicit_class_assumptions',\n",
       " '_from_mpmath',\n",
       " '_has',\n",
       " '_has_matcher',\n",
       " '_hashable_content',\n",
       " '_mhash',\n",
       " '_op_priority',\n",
       " '_parse_order',\n",
       " '_pow',\n",
       " '_prop_handler',\n",
       " '_random',\n",
       " '_recursive_call',\n",
       " '_repr_latex_',\n",
       " '_repr_latex_orig',\n",
       " '_sage_',\n",
       " '_sanitize',\n",
       " '_sorted_args',\n",
       " '_subs',\n",
       " '_to_mpmath',\n",
       " '_visit_eval_derivative_array',\n",
       " '_visit_eval_derivative_scalar',\n",
       " '_xreplace',\n",
       " 'adjoint',\n",
       " 'apart',\n",
       " 'args',\n",
       " 'args_cnc',\n",
       " 'as_base_exp',\n",
       " 'as_coeff_Add',\n",
       " 'as_coeff_Mul',\n",
       " 'as_coeff_add',\n",
       " 'as_coeff_exponent',\n",
       " 'as_coeff_mul',\n",
       " 'as_coefficient',\n",
       " 'as_coefficients_dict',\n",
       " 'as_content_primitive',\n",
       " 'as_dummy',\n",
       " 'as_expr',\n",
       " 'as_independent',\n",
       " 'as_leading_term',\n",
       " 'as_numer_denom',\n",
       " 'as_ordered_factors',\n",
       " 'as_ordered_terms',\n",
       " 'as_poly',\n",
       " 'as_powers_dict',\n",
       " 'as_real_imag',\n",
       " 'as_set',\n",
       " 'as_terms',\n",
       " 'assumptions0',\n",
       " 'atoms',\n",
       " 'binary_symbols',\n",
       " 'cancel',\n",
       " 'canonical_variables',\n",
       " 'class_key',\n",
       " 'coeff',\n",
       " 'collect',\n",
       " 'combsimp',\n",
       " 'compare',\n",
       " 'compute_leading_term',\n",
       " 'conjugate',\n",
       " 'copy',\n",
       " 'could_extract_minus_sign',\n",
       " 'count',\n",
       " 'count_ops',\n",
       " 'default_assumptions',\n",
       " 'diff',\n",
       " 'doit',\n",
       " 'dummy_eq',\n",
       " 'equals',\n",
       " 'evalf',\n",
       " 'expand',\n",
       " 'expr_free_symbols',\n",
       " 'extract_additively',\n",
       " 'extract_branch_factor',\n",
       " 'extract_multiplicatively',\n",
       " 'factor',\n",
       " 'find',\n",
       " 'fourier_series',\n",
       " 'fps',\n",
       " 'free_symbols',\n",
       " 'fromiter',\n",
       " 'func',\n",
       " 'gammasimp',\n",
       " 'getO',\n",
       " 'getn',\n",
       " 'has',\n",
       " 'integrate',\n",
       " 'invert',\n",
       " 'is_Add',\n",
       " 'is_AlgebraicNumber',\n",
       " 'is_Atom',\n",
       " 'is_Boolean',\n",
       " 'is_Derivative',\n",
       " 'is_Dummy',\n",
       " 'is_Equality',\n",
       " 'is_Float',\n",
       " 'is_Function',\n",
       " 'is_Indexed',\n",
       " 'is_Integer',\n",
       " 'is_MatAdd',\n",
       " 'is_MatMul',\n",
       " 'is_Matrix',\n",
       " 'is_Mul',\n",
       " 'is_Not',\n",
       " 'is_Number',\n",
       " 'is_NumberSymbol',\n",
       " 'is_Order',\n",
       " 'is_Piecewise',\n",
       " 'is_Point',\n",
       " 'is_Poly',\n",
       " 'is_Pow',\n",
       " 'is_Rational',\n",
       " 'is_Relational',\n",
       " 'is_Symbol',\n",
       " 'is_Vector',\n",
       " 'is_Wild',\n",
       " 'is_algebraic',\n",
       " 'is_algebraic_expr',\n",
       " 'is_antihermitian',\n",
       " 'is_commutative',\n",
       " 'is_comparable',\n",
       " 'is_complex',\n",
       " 'is_composite',\n",
       " 'is_constant',\n",
       " 'is_even',\n",
       " 'is_finite',\n",
       " 'is_hermitian',\n",
       " 'is_hypergeometric',\n",
       " 'is_imaginary',\n",
       " 'is_infinite',\n",
       " 'is_integer',\n",
       " 'is_irrational',\n",
       " 'is_negative',\n",
       " 'is_noninteger',\n",
       " 'is_nonnegative',\n",
       " 'is_nonpositive',\n",
       " 'is_nonzero',\n",
       " 'is_number',\n",
       " 'is_odd',\n",
       " 'is_polar',\n",
       " 'is_polynomial',\n",
       " 'is_positive',\n",
       " 'is_prime',\n",
       " 'is_rational',\n",
       " 'is_rational_function',\n",
       " 'is_real',\n",
       " 'is_scalar',\n",
       " 'is_symbol',\n",
       " 'is_transcendental',\n",
       " 'is_zero',\n",
       " 'leadterm',\n",
       " 'limit',\n",
       " 'lseries',\n",
       " 'match',\n",
       " 'matches',\n",
       " 'n',\n",
       " 'name',\n",
       " 'normal',\n",
       " 'nseries',\n",
       " 'nsimplify',\n",
       " 'powsimp',\n",
       " 'primitive',\n",
       " 'radsimp',\n",
       " 'ratsimp',\n",
       " 'rcall',\n",
       " 'refine',\n",
       " 'removeO',\n",
       " 'replace',\n",
       " 'rewrite',\n",
       " 'round',\n",
       " 'separate',\n",
       " 'series',\n",
       " 'simplify',\n",
       " 'sort_key',\n",
       " 'subs',\n",
       " 'taylor_term',\n",
       " 'to_nnf',\n",
       " 'together',\n",
       " 'transpose',\n",
       " 'trigsimp',\n",
       " 'xreplace']"
      ]
     },
     "execution_count": 29,
     "metadata": {},
     "output_type": "execute_result"
    }
   ],
   "source": [
    "dir(sympy.Symbol)"
   ]
  },
  {
   "cell_type": "markdown",
   "metadata": {},
   "source": [
    "- It is always advisable to check the official documentation in the dedicated webpage for each module.\n",
    "- Before giving up all hope, check Google. It will probably redirect you to StackOverflow, a most reliable source (dwelling of expert developers and sages alike)."
   ]
  },
  {
   "cell_type": "markdown",
   "metadata": {},
   "source": [
    "### Documentation "
   ]
  },
  {
   "cell_type": "markdown",
   "metadata": {},
   "source": [
    "All the material presented in this set of notebooks is but a succint version of the official tutorials and documentation:\n",
    "- [Sympy User Guide](http://docs.sympy.org/latest/index.html \"Sympy Tutorial\").\n",
    "- [NumPy User Guide](https://docs.scipy.org/doc/numpy/user/index.html \"NumPy Tutorial\").\n",
    "- [SciPy User Guide](https://docs.scipy.org/doc/scipy/reference/ \"SciPy Tutorial\").\n",
    "\n",
    "Useful complementary material\n",
    "- [Matplotlib Introduction](http://nbviewer.jupyter.org/github/jrjohansson/scientific-python-lectures/blob/master/Lecture-4-Matplotlib.ipynb \"Matplotlib Introduction\"): Jupyter notebook showing the basics of Matplotlib. Check references therein.\n",
    "- [Python Introduction](http://nbviewer.jupyter.org/gist/rpmuller/5920182 \"Python Introduction\"): Jupyter notebook introducing Python for scientists. Check references therein.\n",
    "\n",
    "Finally don't forget that the Jupyter has a Help tab and a tutorial, if you have issues with the notebook format. There is **plenty** of material out there on Python, if you want to perform a specific task don't hesitate to Google it, you may find the answer and learn something else along the way."
   ]
  }
 ],
 "metadata": {
  "kernelspec": {
   "display_name": "Python 3",
   "language": "python",
   "name": "python3"
  },
  "language_info": {
   "codemirror_mode": {
    "name": "ipython",
    "version": 3
   },
   "file_extension": ".py",
   "mimetype": "text/x-python",
   "name": "python",
   "nbconvert_exporter": "python",
   "pygments_lexer": "ipython3",
   "version": "3.7.4"
  },
  "varInspector": {
   "cols": {
    "lenName": 16,
    "lenType": 16,
    "lenVar": 40
   },
   "kernels_config": {
    "python": {
     "delete_cmd_postfix": "",
     "delete_cmd_prefix": "del ",
     "library": "var_list.py",
     "varRefreshCmd": "print(var_dic_list())"
    },
    "r": {
     "delete_cmd_postfix": ") ",
     "delete_cmd_prefix": "rm(",
     "library": "var_list.r",
     "varRefreshCmd": "cat(var_dic_list()) "
    }
   },
   "types_to_exclude": [
    "module",
    "function",
    "builtin_function_or_method",
    "instance",
    "_Feature"
   ],
   "window_display": false
  }
 },
 "nbformat": 4,
 "nbformat_minor": 2
}
