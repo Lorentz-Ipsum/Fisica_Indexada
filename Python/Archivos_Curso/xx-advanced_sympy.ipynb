{
 "cells": [
  {
   "cell_type": "markdown",
   "metadata": {},
   "source": [
    "# Advanced Sympy (sort of)"
   ]
  },
  {
   "cell_type": "markdown",
   "metadata": {},
   "source": [
    "I include in this notebook a miscellanea of tips and recipes for common tasks in symbolic computation. This is not really a tutorial and can be read in any order. It is just a collection of things that I have found useful and that are not usually covered in the introductions."
   ]
  },
  {
   "cell_type": "code",
   "execution_count": null,
   "metadata": {
    "ExecuteTime": {
     "end_time": "2019-11-27T10:10:50.052781Z",
     "start_time": "2019-11-27T10:10:49.418014Z"
    }
   },
   "outputs": [],
   "source": [
    "from sympy import *\n",
    "init_printing()\n",
    "x, t = symbols('x t')\n",
    "a, b, c, d = symbols('a b c d')\n",
    "f = symbols('f', cls=Function)"
   ]
  },
  {
   "cell_type": "markdown",
   "metadata": {},
   "source": [
    "## Common mistakes : what not to do"
   ]
  },
  {
   "cell_type": "markdown",
   "metadata": {},
   "source": [
    "### Redefinitions"
   ]
  },
  {
   "cell_type": "markdown",
   "metadata": {},
   "source": [
    "Be **VERY** careful redefining variables. Python is very flexible in this aspect, which may be a good thing but it may also be a source of errors. Typical error:"
   ]
  },
  {
   "cell_type": "code",
   "execution_count": null,
   "metadata": {
    "ExecuteTime": {
     "end_time": "2019-11-27T10:10:54.648581Z",
     "start_time": "2019-11-27T10:10:54.421428Z"
    }
   },
   "outputs": [],
   "source": [
    "f(t)"
   ]
  },
  {
   "cell_type": "code",
   "execution_count": null,
   "metadata": {
    "ExecuteTime": {
     "end_time": "2019-11-27T10:10:55.293652Z",
     "start_time": "2019-11-27T10:10:55.288288Z"
    }
   },
   "outputs": [],
   "source": [
    "f = x*t**2"
   ]
  },
  {
   "cell_type": "code",
   "execution_count": null,
   "metadata": {
    "ExecuteTime": {
     "end_time": "2019-11-27T10:10:56.326258Z",
     "start_time": "2019-11-27T10:10:56.246993Z"
    }
   },
   "outputs": [],
   "source": [
    "f(t)"
   ]
  },
  {
   "cell_type": "markdown",
   "metadata": {},
   "source": [
    "Now `f` is not a `Function` symbol anymore, but a symbolic expression, i.e. we cannot call it with an argument."
   ]
  },
  {
   "cell_type": "markdown",
   "metadata": {},
   "source": [
    "More difficult to spot are the redefinitions inside loops."
   ]
  },
  {
   "cell_type": "code",
   "execution_count": null,
   "metadata": {
    "ExecuteTime": {
     "end_time": "2019-11-27T10:10:58.256864Z",
     "start_time": "2019-11-27T10:10:58.063966Z"
    }
   },
   "outputs": [],
   "source": [
    "x"
   ]
  },
  {
   "cell_type": "code",
   "execution_count": null,
   "metadata": {
    "ExecuteTime": {
     "end_time": "2019-11-27T10:10:58.834512Z",
     "start_time": "2019-11-27T10:10:58.633120Z"
    }
   },
   "outputs": [],
   "source": [
    "abcd = [a, b, c, d]\n",
    "\n",
    "abcdt = [x*t for x in abcd]\n",
    "\n",
    "x"
   ]
  },
  {
   "cell_type": "markdown",
   "metadata": {},
   "source": [
    "### Ordering"
   ]
  },
  {
   "cell_type": "markdown",
   "metadata": {},
   "source": [
    "When declaring systems of equations and lists of variables, be careful to respect the order of the variables. If you do not want to worry about this, you should use dictionaries, with each variable labelling its corresponding evolution equation or something like that."
   ]
  },
  {
   "cell_type": "markdown",
   "metadata": {},
   "source": [
    "Be aware as well that the dictionaries are **not** ordered. If we iterate over them the order of variables is not defined."
   ]
  },
  {
   "cell_type": "markdown",
   "metadata": {},
   "source": [
    "## Digging into expressions"
   ]
  },
  {
   "cell_type": "markdown",
   "metadata": {},
   "source": [
    "A couple of commands that I find useful for quick-and-dirty work are `srepr` and `args`."
   ]
  },
  {
   "cell_type": "markdown",
   "metadata": {},
   "source": [
    "### `srepr`"
   ]
  },
  {
   "cell_type": "markdown",
   "metadata": {},
   "source": [
    "`srepr` displays the exact form of the expression with which `sympy` is working beneath. It is useful to perform substitutions on expressions."
   ]
  },
  {
   "cell_type": "code",
   "execution_count": null,
   "metadata": {
    "ExecuteTime": {
     "end_time": "2019-11-27T10:11:44.960561Z",
     "start_time": "2019-11-27T10:11:44.632349Z"
    }
   },
   "outputs": [],
   "source": [
    "f = symbols('f', cls=Function)\n",
    "solution = dsolve(f(t).diff(t) - f(t))\n",
    "solution"
   ]
  },
  {
   "cell_type": "markdown",
   "metadata": {},
   "source": [
    "In this case, it may be useful to know what symbol is using `sympy` for $C_1$ if we want to change it"
   ]
  },
  {
   "cell_type": "code",
   "execution_count": null,
   "metadata": {
    "ExecuteTime": {
     "end_time": "2019-11-27T10:11:45.732674Z",
     "start_time": "2019-11-27T10:11:45.725718Z"
    }
   },
   "outputs": [],
   "source": [
    "srepr(solution)"
   ]
  },
  {
   "cell_type": "markdown",
   "metadata": {},
   "source": [
    "Now we can change the symbol"
   ]
  },
  {
   "cell_type": "code",
   "execution_count": null,
   "metadata": {
    "ExecuteTime": {
     "end_time": "2019-11-27T10:11:47.207926Z",
     "start_time": "2019-11-27T10:11:47.007574Z"
    }
   },
   "outputs": [],
   "source": [
    "solution.subs(Symbol('C1'), Symbol('A'))"
   ]
  },
  {
   "cell_type": "markdown",
   "metadata": {},
   "source": [
    "### `args`"
   ]
  },
  {
   "cell_type": "markdown",
   "metadata": {},
   "source": [
    "`args`, splits any `sympy` expression into a tuple. For example"
   ]
  },
  {
   "cell_type": "code",
   "execution_count": null,
   "metadata": {
    "ExecuteTime": {
     "end_time": "2019-11-27T10:11:48.721744Z",
     "start_time": "2019-11-27T10:11:48.519065Z"
    }
   },
   "outputs": [],
   "source": [
    "solution.args"
   ]
  },
  {
   "cell_type": "markdown",
   "metadata": {},
   "source": [
    "So we can pick the right-hand side if we wish"
   ]
  },
  {
   "cell_type": "code",
   "execution_count": null,
   "metadata": {
    "ExecuteTime": {
     "end_time": "2019-11-27T10:11:49.687188Z",
     "start_time": "2019-11-27T10:11:49.483447Z"
    }
   },
   "outputs": [],
   "source": [
    "rhs = solution.args[1]\n",
    "rhs"
   ]
  },
  {
   "cell_type": "markdown",
   "metadata": {},
   "source": [
    "In this case it is not necessary since equalities have a way to access to its sides. For instance"
   ]
  },
  {
   "cell_type": "code",
   "execution_count": null,
   "metadata": {
    "ExecuteTime": {
     "end_time": "2019-11-27T10:11:50.639321Z",
     "start_time": "2019-11-27T10:11:50.436374Z"
    }
   },
   "outputs": [],
   "source": [
    "solution.lhs"
   ]
  },
  {
   "cell_type": "code",
   "execution_count": null,
   "metadata": {
    "ExecuteTime": {
     "end_time": "2019-11-27T10:11:51.356501Z",
     "start_time": "2019-11-27T10:11:51.150053Z"
    }
   },
   "outputs": [],
   "source": [
    "solution.rhs"
   ]
  },
  {
   "cell_type": "markdown",
   "metadata": {},
   "source": [
    "But `args` works in any given expression"
   ]
  },
  {
   "cell_type": "code",
   "execution_count": null,
   "metadata": {
    "ExecuteTime": {
     "end_time": "2019-11-27T10:11:52.410035Z",
     "start_time": "2019-11-27T10:11:52.208699Z"
    }
   },
   "outputs": [],
   "source": [
    "expr = a+b+c*d\n",
    "\n",
    "expr.args"
   ]
  },
  {
   "cell_type": "code",
   "execution_count": null,
   "metadata": {
    "ExecuteTime": {
     "end_time": "2019-11-27T10:11:53.025721Z",
     "start_time": "2019-11-27T10:11:52.827406Z"
    }
   },
   "outputs": [],
   "source": [
    "expr2 = expr.args[-1]\n",
    "expr2.args"
   ]
  },
  {
   "cell_type": "markdown",
   "metadata": {},
   "source": [
    "## Refined simplification"
   ]
  },
  {
   "cell_type": "markdown",
   "metadata": {},
   "source": [
    "### Acting through the expression tree"
   ]
  },
  {
   "cell_type": "markdown",
   "metadata": {},
   "source": [
    "### Trigonometric simplification"
   ]
  },
  {
   "cell_type": "markdown",
   "metadata": {},
   "source": [
    "### Simple assumptions"
   ]
  },
  {
   "cell_type": "markdown",
   "metadata": {},
   "source": [
    "### Finding subexpressions and the logic module"
   ]
  },
  {
   "cell_type": "markdown",
   "metadata": {},
   "source": [
    "## Fancier output"
   ]
  },
  {
   "cell_type": "markdown",
   "metadata": {},
   "source": [
    "### Extended LaTeX output"
   ]
  },
  {
   "cell_type": "markdown",
   "metadata": {},
   "source": [
    "### Displaying intermediate steps"
   ]
  },
  {
   "cell_type": "markdown",
   "metadata": {},
   "source": [
    "### Simpler (and prettier) expressions in Mechanics"
   ]
  }
 ],
 "metadata": {
  "kernelspec": {
   "display_name": "Python 3",
   "language": "python",
   "name": "python3"
  },
  "language_info": {
   "codemirror_mode": {
    "name": "ipython",
    "version": 3
   },
   "file_extension": ".py",
   "mimetype": "text/x-python",
   "name": "python",
   "nbconvert_exporter": "python",
   "pygments_lexer": "ipython3",
   "version": "3.5.5"
  },
  "varInspector": {
   "cols": {
    "lenName": 16,
    "lenType": 16,
    "lenVar": 40
   },
   "kernels_config": {
    "python": {
     "delete_cmd_postfix": "",
     "delete_cmd_prefix": "del ",
     "library": "var_list.py",
     "varRefreshCmd": "print(var_dic_list())"
    },
    "r": {
     "delete_cmd_postfix": ") ",
     "delete_cmd_prefix": "rm(",
     "library": "var_list.r",
     "varRefreshCmd": "cat(var_dic_list()) "
    }
   },
   "types_to_exclude": [
    "module",
    "function",
    "builtin_function_or_method",
    "instance",
    "_Feature"
   ],
   "window_display": false
  }
 },
 "nbformat": 4,
 "nbformat_minor": 2
}
