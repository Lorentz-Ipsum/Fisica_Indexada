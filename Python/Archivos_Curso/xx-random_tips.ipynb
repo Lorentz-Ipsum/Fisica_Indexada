{
 "cells": [
  {
   "cell_type": "markdown",
   "metadata": {},
   "source": [
    "# Random tips and warnings"
   ]
  },
  {
   "cell_type": "markdown",
   "metadata": {},
   "source": [
    "This is a collection of tips and things that I have found useful. I will update it (probably). "
   ]
  },
  {
   "cell_type": "markdown",
   "metadata": {},
   "source": [
    "## Notebook"
   ]
  },
  {
   "cell_type": "markdown",
   "metadata": {},
   "source": [
    "* Everything you do gets saved. Remember that when defining variables and assigning values, you may need to restart the kernel.\n",
    "* In case of mysterious, inexplicable errors, first restart the kernel and re-run everything.\n",
    "* If an operation takes forever, guess what, restart the kernel. Maybe the operation is too heavy and you should think a workaround.\n",
    "* Sometimes your notebook may run really slow (just scrolling and all that). It may be that you do not have enough memory in your system, but it is also possible that you have some cell with an increadibly long output. Common symptom to diagnose this issue: the notebook you are working with is much bigger (the file itself, bytes) than other notebooks you may have. Solution: delete the  output cell and do not display it, you probably do not need it anyway.\n",
    "* [More about extensions]\n",
    "* [%%time]"
   ]
  },
  {
   "cell_type": "markdown",
   "metadata": {},
   "source": [
    "## Python"
   ]
  },
  {
   "cell_type": "markdown",
   "metadata": {},
   "source": [
    "* The built-in documentation is really useful. Remember that you can use the command `?` in jupyter to display this documentation.\n",
    "* When using dictionaries, remember that they are not ordered (important in loops).\n",
    "* Python allows us to automatically unpack the elements of a list. It is useful for small lists and I use it extensively. "
   ]
  },
  {
   "cell_type": "code",
   "execution_count": null,
   "metadata": {},
   "outputs": [],
   "source": [
    "my_list = [1, 2, 3]\n",
    "\n",
    "a, b, c = my_list\n",
    "\n",
    "print a, b, c"
   ]
  },
  {
   "cell_type": "markdown",
   "metadata": {},
   "source": [
    "* You can use ';' to concatenate several commands in one line. Sometimes it is useful, but it may result in less readable code.\n",
    "* If you have a long command you can use '\\\\' to split it into several lines.\n",
    "* Try to write your code always as if someone else were to read it. It is **VERY** important to write readable code and to add comments.\n",
    "* Code fails. Never write big chunks of code at once, when it fails (it will) it is more difficult to spot the errors. Try to write small pieces and test them.\n",
    "* Optimization counts, but not that much. The main objective of a code is to work, once it works you can spend time in optimization."
   ]
  },
  {
   "cell_type": "markdown",
   "metadata": {},
   "source": [
    "## Scipy"
   ]
  },
  {
   "cell_type": "markdown",
   "metadata": {},
   "source": [
    "* [Something about new syntax for differential equations]"
   ]
  },
  {
   "cell_type": "markdown",
   "metadata": {},
   "source": [
    "## Matplotlib"
   ]
  },
  {
   "cell_type": "markdown",
   "metadata": {},
   "source": [
    "* [Something about simple graphs and animations]"
   ]
  }
 ],
 "metadata": {
  "kernelspec": {
   "display_name": "Python 3",
   "language": "python",
   "name": "python3"
  },
  "language_info": {
   "codemirror_mode": {
    "name": "ipython",
    "version": 3
   },
   "file_extension": ".py",
   "mimetype": "text/x-python",
   "name": "python",
   "nbconvert_exporter": "python",
   "pygments_lexer": "ipython3",
   "version": "3.5.5"
  },
  "varInspector": {
   "cols": {
    "lenName": 16,
    "lenType": 16,
    "lenVar": 40
   },
   "kernels_config": {
    "python": {
     "delete_cmd_postfix": "",
     "delete_cmd_prefix": "del ",
     "library": "var_list.py",
     "varRefreshCmd": "print(var_dic_list())"
    },
    "r": {
     "delete_cmd_postfix": ") ",
     "delete_cmd_prefix": "rm(",
     "library": "var_list.r",
     "varRefreshCmd": "cat(var_dic_list()) "
    }
   },
   "types_to_exclude": [
    "module",
    "function",
    "builtin_function_or_method",
    "instance",
    "_Feature"
   ],
   "window_display": false
  }
 },
 "nbformat": 4,
 "nbformat_minor": 2
}
