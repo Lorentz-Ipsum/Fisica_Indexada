{
 "cells": [
  {
   "cell_type": "markdown",
   "metadata": {},
   "source": [
    "# Evaluation and simplification"
   ]
  },
  {
   "cell_type": "markdown",
   "metadata": {},
   "source": [
    "Finally we reach the most important stage of symbolic computation: automated symbolic manipulations. We will see how to perform different simplifications in our expressions and how to set up substitution rules."
   ]
  },
  {
   "cell_type": "code",
   "execution_count": 1,
   "metadata": {
    "ExecuteTime": {
     "end_time": "2019-10-08T12:37:25.178721Z",
     "start_time": "2019-10-08T12:37:24.669065Z"
    }
   },
   "outputs": [],
   "source": [
    "from sympy import *\n",
    "init_printing()  # import the best printer available\n",
    "x, y, z, t = symbols('x y z t')\n",
    "k, m, n = symbols('k m n', integer=True)\n",
    "f, g, h = symbols('f g h', cls=Function)"
   ]
  },
  {
   "cell_type": "markdown",
   "metadata": {},
   "source": [
    "### Writing simple fuctions"
   ]
  },
  {
   "cell_type": "markdown",
   "metadata": {},
   "source": [
    " In this section we will start defining a simple function"
   ]
  },
  {
   "cell_type": "code",
   "execution_count": 2,
   "metadata": {
    "ExecuteTime": {
     "end_time": "2019-10-08T12:37:26.613367Z",
     "start_time": "2019-10-08T12:37:26.605641Z"
    }
   },
   "outputs": [],
   "source": [
    "def my_function(x, A=1, B=0):\n",
    "    \"\"\"\n",
    "    This line is the documentation of the function.\n",
    "    \n",
    "    Optional arguments:\n",
    "        - A: polynomial part (default: A=1)\n",
    "        - B: trigonometric part (default: B=0)\n",
    "    \"\"\"\n",
    "    m = 2   # this variable belongs to the function, we cannot use it outside\n",
    "    \n",
    "    return A*x*(x-1)**2*(x+3) + B*(cos(m*x) + sin(x)*cos(x) + sin(x)**m)"
   ]
  },
  {
   "cell_type": "markdown",
   "metadata": {},
   "source": [
    "with this syntax, the variables A, B are optional parameters. We can call the function without them and their default value is asigned"
   ]
  },
  {
   "cell_type": "code",
   "execution_count": null,
   "metadata": {
    "ExecuteTime": {
     "end_time": "2019-10-08T12:37:28.377684Z",
     "start_time": "2019-10-08T12:37:28.214346Z"
    }
   },
   "outputs": [],
   "source": [
    "my_function(x)"
   ]
  },
  {
   "cell_type": "markdown",
   "metadata": {},
   "source": [
    "or we can modify their value"
   ]
  },
  {
   "cell_type": "code",
   "execution_count": null,
   "metadata": {
    "ExecuteTime": {
     "end_time": "2019-10-08T12:37:29.574021Z",
     "start_time": "2019-10-08T12:37:29.424095Z"
    }
   },
   "outputs": [],
   "source": [
    "my_function(x, A=0)"
   ]
  },
  {
   "cell_type": "markdown",
   "metadata": {},
   "source": [
    "As long as we respect the order, we can modify their value without an explicit asignment"
   ]
  },
  {
   "cell_type": "code",
   "execution_count": null,
   "metadata": {
    "ExecuteTime": {
     "end_time": "2019-10-08T12:37:30.678846Z",
     "start_time": "2019-10-08T12:37:30.518307Z"
    }
   },
   "outputs": [],
   "source": [
    "my_function(x, 0, 1)"
   ]
  },
  {
   "cell_type": "markdown",
   "metadata": {},
   "source": [
    "We will use this function to test different operations."
   ]
  },
  {
   "cell_type": "markdown",
   "metadata": {},
   "source": [
    "### Simplification and substitution "
   ]
  },
  {
   "cell_type": "markdown",
   "metadata": {},
   "source": [
    "Again, our model function is"
   ]
  },
  {
   "cell_type": "code",
   "execution_count": null,
   "metadata": {
    "ExecuteTime": {
     "end_time": "2019-10-08T12:37:32.601451Z",
     "start_time": "2019-10-08T12:37:32.440988Z"
    }
   },
   "outputs": [],
   "source": [
    "expr = my_function(x, 1, 1)\n",
    "expr"
   ]
  },
  {
   "cell_type": "markdown",
   "metadata": {},
   "source": [
    "The easiest way of symplifying this expression is"
   ]
  },
  {
   "cell_type": "code",
   "execution_count": null,
   "metadata": {
    "ExecuteTime": {
     "end_time": "2019-10-08T12:37:33.731443Z",
     "start_time": "2019-10-08T12:37:33.451871Z"
    }
   },
   "outputs": [],
   "source": [
    "expr.simplify()"
   ]
  },
  {
   "cell_type": "markdown",
   "metadata": {},
   "source": [
    "`simplify` performs all the types of simplifications that SymPy can think about, keep in mind that we may not want to perform all the simplifications or it can be too time-consuming. We will see more specific tools later on. Another common operation is the substitution of one expression or symbol by another"
   ]
  },
  {
   "cell_type": "code",
   "execution_count": null,
   "metadata": {
    "ExecuteTime": {
     "end_time": "2019-10-08T12:37:35.402223Z",
     "start_time": "2019-10-08T12:37:35.241583Z"
    }
   },
   "outputs": [],
   "source": [
    "expr.subs(x, 3)"
   ]
  },
  {
   "cell_type": "markdown",
   "metadata": {},
   "source": [
    "in this case, the effect of the substitution is the same as calling our function with different arguments"
   ]
  },
  {
   "cell_type": "code",
   "execution_count": null,
   "metadata": {
    "ExecuteTime": {
     "end_time": "2019-10-08T12:37:59.876540Z",
     "start_time": "2019-10-08T12:37:59.723823Z"
    }
   },
   "outputs": [],
   "source": [
    "my_function(3, 1, 1)"
   ]
  },
  {
   "cell_type": "markdown",
   "metadata": {},
   "source": [
    "But we can perform all kind of non-trivial substitutions and create lists of replacements, like in the following example"
   ]
  },
  {
   "cell_type": "code",
   "execution_count": null,
   "metadata": {
    "ExecuteTime": {
     "end_time": "2019-10-08T12:38:01.975303Z",
     "start_time": "2019-10-08T12:38:01.733599Z"
    }
   },
   "outputs": [],
   "source": [
    "replacements = [(x**i, y**i) for i in range(1, 4) if i%2 == 0]\n",
    "expr.simplify().subs(replacements)"
   ]
  },
  {
   "cell_type": "markdown",
   "metadata": {},
   "source": [
    "only the even powers of $x$ have been substituted."
   ]
  },
  {
   "cell_type": "markdown",
   "metadata": {},
   "source": [
    "### Evaluation"
   ]
  },
  {
   "cell_type": "markdown",
   "metadata": {},
   "source": [
    "Once we have a symbolic expression we may want to evaluate it at some points to extract some numbers. One way of doing this is through the `subs` method and using the `evalf` method, as illustrated below"
   ]
  },
  {
   "cell_type": "code",
   "execution_count": null,
   "metadata": {
    "ExecuteTime": {
     "end_time": "2019-10-08T12:38:06.036229Z",
     "start_time": "2019-10-08T12:38:05.874986Z"
    }
   },
   "outputs": [],
   "source": [
    "a, b = symbols('alpha, beta')\n",
    "expr = my_function(x, a, b)\n",
    "expr"
   ]
  },
  {
   "cell_type": "code",
   "execution_count": null,
   "metadata": {
    "ExecuteTime": {
     "end_time": "2019-10-08T12:38:09.565600Z",
     "start_time": "2019-10-08T12:38:09.401708Z"
    }
   },
   "outputs": [],
   "source": [
    "value = expr.subs(a, 1).subs(b, 1).subs(x, 3)\n",
    "value"
   ]
  },
  {
   "cell_type": "code",
   "execution_count": null,
   "metadata": {
    "ExecuteTime": {
     "end_time": "2019-10-08T12:38:10.203711Z",
     "start_time": "2019-10-08T12:38:10.051725Z"
    }
   },
   "outputs": [],
   "source": [
    "value.evalf()"
   ]
  },
  {
   "cell_type": "markdown",
   "metadata": {},
   "source": [
    "A shorter way, to perform the same task, is to define a dictionary of points where the function is to be evaluated and pass it to the evalf() method"
   ]
  },
  {
   "cell_type": "code",
   "execution_count": null,
   "metadata": {
    "ExecuteTime": {
     "end_time": "2019-10-08T12:38:11.545393Z",
     "start_time": "2019-10-08T12:38:11.390798Z"
    }
   },
   "outputs": [],
   "source": [
    "points = {x : 3, a : 1, b : 1}  # dictionary of points -> remember the definition!, e.g. points[x] = 3 ...\n",
    "expr.evalf(subs = points)"
   ]
  },
  {
   "cell_type": "markdown",
   "metadata": {},
   "source": [
    "This is a possibility for a small number of points, but it will **not** be our preferred choice. See the Lambdify section below."
   ]
  },
  {
   "cell_type": "markdown",
   "metadata": {},
   "source": [
    "#### Lambdify"
   ]
  },
  {
   "cell_type": "markdown",
   "metadata": {},
   "source": [
    "In this section we will see how to convert a symbolic function into an efficient 'numeric' function. As before, we start with our SymPy function"
   ]
  },
  {
   "cell_type": "code",
   "execution_count": null,
   "metadata": {
    "ExecuteTime": {
     "end_time": "2019-10-08T12:38:18.116102Z",
     "start_time": "2019-10-08T12:38:17.748715Z"
    }
   },
   "outputs": [],
   "source": [
    "sym_function = expr.diff(x, 2).simplify()\n",
    "sym_function"
   ]
  },
  {
   "cell_type": "markdown",
   "metadata": {},
   "source": [
    "Importing the module NumPy"
   ]
  },
  {
   "cell_type": "code",
   "execution_count": null,
   "metadata": {
    "ExecuteTime": {
     "end_time": "2019-10-08T12:38:19.256775Z",
     "start_time": "2019-10-08T12:38:19.252571Z"
    }
   },
   "outputs": [],
   "source": [
    "import numpy as np"
   ]
  },
  {
   "cell_type": "markdown",
   "metadata": {},
   "source": [
    "we can use the `lambdify` function to cast a SymPy function into a NumPy function"
   ]
  },
  {
   "cell_type": "code",
   "execution_count": null,
   "metadata": {
    "ExecuteTime": {
     "end_time": "2019-10-08T12:38:20.693129Z",
     "start_time": "2019-10-08T12:38:20.534923Z"
    }
   },
   "outputs": [],
   "source": [
    "num_function = lambdify((x, a, b), sym_function, \"numpy\")\n",
    "num_function(3.12, 1, 2)"
   ]
  },
  {
   "cell_type": "markdown",
   "metadata": {},
   "source": [
    "The main advantage of NumPy is, in simple terms, that it accepts vectors as arguments and evaluates them in a really efficient way."
   ]
  },
  {
   "cell_type": "code",
   "execution_count": null,
   "metadata": {
    "ExecuteTime": {
     "end_time": "2019-10-08T12:38:22.656987Z",
     "start_time": "2019-10-08T12:38:22.647142Z"
    }
   },
   "outputs": [],
   "source": [
    "args = np.arange(10)\n",
    "args"
   ]
  },
  {
   "cell_type": "code",
   "execution_count": null,
   "metadata": {
    "ExecuteTime": {
     "end_time": "2019-10-08T12:38:23.573507Z",
     "start_time": "2019-10-08T12:38:23.564359Z"
    }
   },
   "outputs": [],
   "source": [
    "num_function(args, 1, 2)"
   ]
  },
  {
   "cell_type": "markdown",
   "metadata": {},
   "source": [
    "### Refined simplification"
   ]
  },
  {
   "cell_type": "markdown",
   "metadata": {},
   "source": [
    "This section is simple enough. You can skim through it and use each function as you need it. All you need to keep in mind is that `simplify` is not the end of the story."
   ]
  },
  {
   "cell_type": "markdown",
   "metadata": {},
   "source": [
    "#### Polynomial"
   ]
  },
  {
   "cell_type": "code",
   "execution_count": null,
   "metadata": {
    "ExecuteTime": {
     "end_time": "2019-10-08T12:38:25.805985Z",
     "start_time": "2019-10-08T12:38:25.647632Z"
    }
   },
   "outputs": [],
   "source": [
    "expr = my_function(x)\n",
    "expr"
   ]
  },
  {
   "cell_type": "code",
   "execution_count": null,
   "metadata": {
    "ExecuteTime": {
     "end_time": "2019-10-08T12:38:27.052186Z",
     "start_time": "2019-10-08T12:38:26.886976Z"
    }
   },
   "outputs": [],
   "source": [
    "expanded_function = expand(expr) + a*x**2 + 3*b*x\n",
    "expanded_function"
   ]
  },
  {
   "cell_type": "code",
   "execution_count": null,
   "metadata": {
    "ExecuteTime": {
     "end_time": "2019-10-08T12:38:28.270666Z",
     "start_time": "2019-10-08T12:38:28.107328Z"
    }
   },
   "outputs": [],
   "source": [
    "factor(expanded_function)"
   ]
  },
  {
   "cell_type": "code",
   "execution_count": null,
   "metadata": {
    "ExecuteTime": {
     "end_time": "2019-10-08T12:38:29.049712Z",
     "start_time": "2019-10-08T12:38:28.887292Z"
    }
   },
   "outputs": [],
   "source": [
    "collected_function = collect(expanded_function, x)\n",
    "collected_function"
   ]
  },
  {
   "cell_type": "code",
   "execution_count": null,
   "metadata": {
    "ExecuteTime": {
     "end_time": "2019-10-08T12:38:29.737083Z",
     "start_time": "2019-10-08T12:38:29.589923Z"
    }
   },
   "outputs": [],
   "source": [
    "collected_function.coeff(x, 2)"
   ]
  },
  {
   "cell_type": "markdown",
   "metadata": {},
   "source": [
    "#### Trigonometric"
   ]
  },
  {
   "cell_type": "code",
   "execution_count": null,
   "metadata": {
    "ExecuteTime": {
     "end_time": "2019-10-08T12:38:31.330815Z",
     "start_time": "2019-10-08T12:38:31.162842Z"
    }
   },
   "outputs": [],
   "source": [
    "expr = my_function(x, 0, 1)\n",
    "expr"
   ]
  },
  {
   "cell_type": "code",
   "execution_count": null,
   "metadata": {
    "ExecuteTime": {
     "end_time": "2019-10-08T12:38:32.088785Z",
     "start_time": "2019-10-08T12:38:31.929844Z"
    }
   },
   "outputs": [],
   "source": [
    "expand_trig(expr)"
   ]
  },
  {
   "cell_type": "code",
   "execution_count": null,
   "metadata": {
    "ExecuteTime": {
     "end_time": "2019-10-08T12:38:33.161738Z",
     "start_time": "2019-10-08T12:38:32.969729Z"
    }
   },
   "outputs": [],
   "source": [
    "trigsimp(expr)"
   ]
  },
  {
   "cell_type": "markdown",
   "metadata": {},
   "source": [
    "Note that there are similar expressions for powers, logarithms and rational functions, check the documentation for more details."
   ]
  }
 ],
 "metadata": {
  "kernelspec": {
   "display_name": "Python 3",
   "language": "python",
   "name": "python3"
  },
  "language_info": {
   "codemirror_mode": {
    "name": "ipython",
    "version": 3
   },
   "file_extension": ".py",
   "mimetype": "text/x-python",
   "name": "python",
   "nbconvert_exporter": "python",
   "pygments_lexer": "ipython3",
   "version": "3.7.4"
  },
  "varInspector": {
   "cols": {
    "lenName": 16,
    "lenType": 16,
    "lenVar": 40
   },
   "kernels_config": {
    "python": {
     "delete_cmd_postfix": "",
     "delete_cmd_prefix": "del ",
     "library": "var_list.py",
     "varRefreshCmd": "print(var_dic_list())"
    },
    "r": {
     "delete_cmd_postfix": ") ",
     "delete_cmd_prefix": "rm(",
     "library": "var_list.r",
     "varRefreshCmd": "cat(var_dic_list()) "
    }
   },
   "types_to_exclude": [
    "module",
    "function",
    "builtin_function_or_method",
    "instance",
    "_Feature"
   ],
   "window_display": false
  }
 },
 "nbformat": 4,
 "nbformat_minor": 2
}
