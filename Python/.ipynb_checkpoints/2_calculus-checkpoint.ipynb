{
 "cells": [
  {
   "cell_type": "markdown",
   "metadata": {},
   "source": [
    "# Calculus"
   ]
  },
  {
   "cell_type": "markdown",
   "metadata": {},
   "source": [
    "First we import everything from sympy"
   ]
  },
  {
   "cell_type": "code",
   "execution_count": null,
   "metadata": {
    "ExecuteTime": {
     "end_time": "2019-10-08T12:33:57.166908Z",
     "start_time": "2019-10-08T12:33:56.654721Z"
    }
   },
   "outputs": [],
   "source": [
    "from sympy import *\n",
    "init_printing()  # import the best printer available\n",
    "x, y, z, t = symbols('x y z t')\n",
    "k, m, n = symbols('k m n', integer=True)\n",
    "f, g, h = symbols('f g h', cls=Function)"
   ]
  },
  {
   "cell_type": "markdown",
   "metadata": {},
   "source": [
    "### Derivatives"
   ]
  },
  {
   "cell_type": "markdown",
   "metadata": {},
   "source": [
    "We can perform derivatives in sympy"
   ]
  },
  {
   "cell_type": "code",
   "execution_count": null,
   "metadata": {
    "ExecuteTime": {
     "end_time": "2019-10-08T12:33:59.298114Z",
     "start_time": "2019-10-08T12:33:59.141120Z"
    }
   },
   "outputs": [],
   "source": [
    "diff(sin(cos(x)), x)"
   ]
  },
  {
   "cell_type": "markdown",
   "metadata": {},
   "source": [
    "There are two different sintaxes, both very intuitive, to perform several derivatives"
   ]
  },
  {
   "cell_type": "code",
   "execution_count": null,
   "metadata": {
    "ExecuteTime": {
     "end_time": "2019-10-08T12:34:00.871893Z",
     "start_time": "2019-10-08T12:34:00.686351Z"
    }
   },
   "outputs": [],
   "source": [
    "diff(exp(x**2), x, x, x)"
   ]
  },
  {
   "cell_type": "code",
   "execution_count": null,
   "metadata": {
    "ExecuteTime": {
     "end_time": "2019-10-08T12:34:02.211555Z",
     "start_time": "2019-10-08T12:34:02.049368Z"
    }
   },
   "outputs": [],
   "source": [
    "diff(exp(x**2), x, 3)"
   ]
  },
  {
   "cell_type": "markdown",
   "metadata": {},
   "source": [
    "And of course we can also compute partial derivatives"
   ]
  },
  {
   "cell_type": "code",
   "execution_count": null,
   "metadata": {
    "ExecuteTime": {
     "end_time": "2019-10-08T12:34:04.471101Z",
     "start_time": "2019-10-08T12:34:04.309170Z"
    }
   },
   "outputs": [],
   "source": [
    "diff(exp(x*sin(y)), x, y)"
   ]
  },
  {
   "cell_type": "markdown",
   "metadata": {},
   "source": [
    "Now, let's see a trick that we will use in the examples below. First, we define our function"
   ]
  },
  {
   "cell_type": "code",
   "execution_count": null,
   "metadata": {
    "ExecuteTime": {
     "end_time": "2019-10-08T12:34:05.999819Z",
     "start_time": "2019-10-08T12:34:05.841175Z"
    }
   },
   "outputs": [],
   "source": [
    "expr = exp(x*sin(y))\n",
    "expr"
   ]
  },
  {
   "cell_type": "markdown",
   "metadata": {},
   "source": [
    "and now a complex (complicated, that is) derivative"
   ]
  },
  {
   "cell_type": "code",
   "execution_count": null,
   "metadata": {
    "ExecuteTime": {
     "end_time": "2019-10-08T12:34:07.340509Z",
     "start_time": "2019-10-08T12:34:07.187137Z"
    }
   },
   "outputs": [],
   "source": [
    "dexpr = Derivative(expr, x, 3, y, 7)\n",
    "dexpr"
   ]
  },
  {
   "cell_type": "markdown",
   "metadata": {},
   "source": [
    "The function `Derivative` creates an unevaluated (symbolic) derivative. We can calculate it at any time with the method `doit`"
   ]
  },
  {
   "cell_type": "code",
   "execution_count": null,
   "metadata": {
    "ExecuteTime": {
     "end_time": "2019-10-08T12:34:10.901930Z",
     "start_time": "2019-10-08T12:34:10.527857Z"
    }
   },
   "outputs": [],
   "source": [
    "dexpr.doit()"
   ]
  },
  {
   "cell_type": "markdown",
   "metadata": {},
   "source": [
    "Most of the classes that we will see below contain the method `doit`."
   ]
  },
  {
   "cell_type": "markdown",
   "metadata": {},
   "source": [
    "### Integrals"
   ]
  },
  {
   "cell_type": "markdown",
   "metadata": {},
   "source": [
    "We can use the function `integrate` to compute the primitive of a function"
   ]
  },
  {
   "cell_type": "code",
   "execution_count": null,
   "metadata": {
    "ExecuteTime": {
     "end_time": "2019-10-08T12:34:22.425691Z",
     "start_time": "2019-10-08T12:34:22.256118Z"
    }
   },
   "outputs": [],
   "source": [
    "integrate(cos(x)**2, x)"
   ]
  },
  {
   "cell_type": "markdown",
   "metadata": {},
   "source": [
    "Note that sympy **does not** add the constant of integration. To compute a definite integral, for instance $\\int^{\\pi}_{0}\\cos^2(x)\\text{d}x$, the syntax is"
   ]
  },
  {
   "cell_type": "code",
   "execution_count": null,
   "metadata": {
    "ExecuteTime": {
     "end_time": "2019-10-08T12:34:26.820402Z",
     "start_time": "2019-10-08T12:34:26.661176Z"
    }
   },
   "outputs": [],
   "source": [
    "integrate(cos(x)**2, (x, 0, pi))"
   ]
  },
  {
   "cell_type": "markdown",
   "metadata": {},
   "source": [
    "We can use it to perform multiple integrals too. As an example we will compute\n",
    "\n",
    "\\\\[\\int^{\\infty}_{-\\infty} \\int^{\\infty}_{-\\infty} e^{-x^2-y^2}\\text{d}x\\, \\text{d}y,\\\\]\n",
    "\n",
    "with the well-known result (Note that in `sympy`, the $\\infty$ sign are two 'o' letters)"
   ]
  },
  {
   "cell_type": "code",
   "execution_count": null,
   "metadata": {
    "ExecuteTime": {
     "end_time": "2019-10-08T12:34:38.530488Z",
     "start_time": "2019-10-08T12:34:38.172719Z"
    }
   },
   "outputs": [],
   "source": [
    "integrate(exp(-x**2-y**2), (x, -oo, oo), (y, -oo, oo))"
   ]
  },
  {
   "cell_type": "markdown",
   "metadata": {},
   "source": [
    "As before, we can define an unevaluated integral expression"
   ]
  },
  {
   "cell_type": "code",
   "execution_count": null,
   "metadata": {
    "ExecuteTime": {
     "end_time": "2019-10-08T12:34:40.233121Z",
     "start_time": "2019-10-08T12:34:40.076526Z"
    }
   },
   "outputs": [],
   "source": [
    "integ = Integral(x**y*exp(-x), (x, 0, oo))\n",
    "integ"
   ]
  },
  {
   "cell_type": "markdown",
   "metadata": {},
   "source": [
    "and perform it later"
   ]
  },
  {
   "cell_type": "code",
   "execution_count": null,
   "metadata": {
    "ExecuteTime": {
     "end_time": "2019-10-08T12:34:42.622219Z",
     "start_time": "2019-10-08T12:34:42.433192Z"
    }
   },
   "outputs": [],
   "source": [
    "integ.doit()"
   ]
  },
  {
   "cell_type": "markdown",
   "metadata": {},
   "source": [
    "In this case, the integral does not converge unless $\\mathfrak{R}y>1$, so sympy returns a piecewise function. If sympy does not know how to compute an integral it returns an Integral class (i.e. the same expression). Be aware that it may take a **long** time, so maybe you will have to restart the kernel and start all over again. Later on we will learn how to compute this kind of tricky integrals numerically."
   ]
  },
  {
   "cell_type": "markdown",
   "metadata": {},
   "source": [
    "### Limits"
   ]
  },
  {
   "cell_type": "markdown",
   "metadata": {},
   "source": [
    "We can compute symbolic limits"
   ]
  },
  {
   "cell_type": "code",
   "execution_count": null,
   "metadata": {
    "ExecuteTime": {
     "end_time": "2019-10-08T12:34:47.276968Z",
     "start_time": "2019-10-08T12:34:47.094801Z"
    }
   },
   "outputs": [],
   "source": [
    "limit(sin(x)/x, x, 0)"
   ]
  },
  {
   "cell_type": "markdown",
   "metadata": {},
   "source": [
    "Of course we can define unevaluated limit with the `Limit` class"
   ]
  },
  {
   "cell_type": "code",
   "execution_count": null,
   "metadata": {
    "ExecuteTime": {
     "end_time": "2019-10-08T12:34:49.021386Z",
     "start_time": "2019-10-08T12:34:48.864344Z"
    }
   },
   "outputs": [],
   "source": [
    "expr = Limit((cos(x)-1)/x, x, 0)\n",
    "expr"
   ]
  },
  {
   "cell_type": "markdown",
   "metadata": {},
   "source": [
    "and define right and left limits"
   ]
  },
  {
   "cell_type": "code",
   "execution_count": null,
   "metadata": {
    "ExecuteTime": {
     "end_time": "2019-10-08T12:34:50.710626Z",
     "start_time": "2019-10-08T12:34:50.550605Z"
    }
   },
   "outputs": [],
   "source": [
    "expr = Limit(1/x, x, 0, '-')\n",
    "expr"
   ]
  },
  {
   "cell_type": "code",
   "execution_count": null,
   "metadata": {
    "ExecuteTime": {
     "end_time": "2019-10-08T12:34:51.521491Z",
     "start_time": "2019-10-08T12:34:51.358947Z"
    }
   },
   "outputs": [],
   "source": [
    "expr.doit()"
   ]
  },
  {
   "cell_type": "markdown",
   "metadata": {},
   "source": [
    "### Series expansion "
   ]
  },
  {
   "cell_type": "markdown",
   "metadata": {
    "collapsed": true
   },
   "source": [
    "Any given function can be Taylor/Laurent-expanded with the method `series`,"
   ]
  },
  {
   "cell_type": "code",
   "execution_count": null,
   "metadata": {
    "ExecuteTime": {
     "end_time": "2019-10-08T12:34:53.695890Z",
     "start_time": "2019-10-08T12:34:53.295265Z"
    }
   },
   "outputs": [],
   "source": [
    "expr = exp(x*cos(x))\n",
    "expr.series(x, pi, 3)"
   ]
  },
  {
   "cell_type": "markdown",
   "metadata": {},
   "source": [
    "We can call it as a function too"
   ]
  },
  {
   "cell_type": "code",
   "execution_count": null,
   "metadata": {
    "ExecuteTime": {
     "end_time": "2019-10-08T12:34:56.312562Z",
     "start_time": "2019-10-08T12:34:56.001132Z"
    }
   },
   "outputs": [],
   "source": [
    "series(expr, x, pi, 3)"
   ]
  },
  {
   "cell_type": "markdown",
   "metadata": {},
   "source": [
    "An example of a Laurent expansion"
   ]
  },
  {
   "cell_type": "code",
   "execution_count": null,
   "metadata": {
    "ExecuteTime": {
     "end_time": "2019-10-08T12:34:57.975886Z",
     "start_time": "2019-10-08T12:34:57.710036Z"
    }
   },
   "outputs": [],
   "source": [
    "expr = exp(x**2)/x**2\n",
    "expr.series(x, 0, 5)"
   ]
  }
 ],
 "metadata": {
  "kernelspec": {
   "display_name": "Python 3",
   "language": "python",
   "name": "python3"
  },
  "language_info": {
   "codemirror_mode": {
    "name": "ipython",
    "version": 3
   },
   "file_extension": ".py",
   "mimetype": "text/x-python",
   "name": "python",
   "nbconvert_exporter": "python",
   "pygments_lexer": "ipython3",
   "version": "3.7.4"
  },
  "varInspector": {
   "cols": {
    "lenName": 16,
    "lenType": 16,
    "lenVar": 40
   },
   "kernels_config": {
    "python": {
     "delete_cmd_postfix": "",
     "delete_cmd_prefix": "del ",
     "library": "var_list.py",
     "varRefreshCmd": "print(var_dic_list())"
    },
    "r": {
     "delete_cmd_postfix": ") ",
     "delete_cmd_prefix": "rm(",
     "library": "var_list.r",
     "varRefreshCmd": "cat(var_dic_list()) "
    }
   },
   "types_to_exclude": [
    "module",
    "function",
    "builtin_function_or_method",
    "instance",
    "_Feature"
   ],
   "window_display": false
  }
 },
 "nbformat": 4,
 "nbformat_minor": 2
}
