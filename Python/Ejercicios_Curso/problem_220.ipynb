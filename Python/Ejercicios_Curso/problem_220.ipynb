{
 "cells": [
  {
   "cell_type": "markdown",
   "metadata": {},
   "source": [
    "# Problem 2.20"
   ]
  },
  {
   "cell_type": "markdown",
   "metadata": {},
   "source": [
    "Check that the following transformation is canonical\n",
    "\n",
    "\\begin{alignat*}{2}\n",
    "    x &= \\frac{1}{\\alpha}\\Big(\\sqrt{2P_1}\\sin Q_1 + P_2\\Big)\\ , \n",
    "        &\\qquad p_x &= \\frac{\\alpha}{2}\\Big(\\sqrt{2P_1}\\cos Q_1 - Q_2\\Big)\\ ,\\\\\n",
    "    y &= \\frac{1}{\\alpha}\\Big(\\sqrt{2P_1}\\cos Q_1 + Q_2\\Big)\\ ,\n",
    "        &\\qquad p_y &= -\\frac{\\alpha}{2}\\Big(\\sqrt{2P_1}\\sin Q_1 - P_2\\Big)\\ .\n",
    "\\end{alignat*}"
   ]
  },
  {
   "cell_type": "code",
   "execution_count": 2,
   "metadata": {
    "ExecuteTime": {
     "end_time": "2019-11-27T10:48:27.930496Z",
     "start_time": "2019-11-27T10:48:27.468751Z"
    }
   },
   "outputs": [
    {
     "ename": "ImportError",
     "evalue": "bad magic number in 'hvr_functions': b'3\\r\\r\\n'",
     "output_type": "error",
     "traceback": [
      "\u001b[1;31m---------------------------------------------------------------------------\u001b[0m",
      "\u001b[1;31mImportError\u001b[0m                               Traceback (most recent call last)",
      "\u001b[1;32m<ipython-input-2-a6171f50e744>\u001b[0m in \u001b[0;36m<module>\u001b[1;34m()\u001b[0m\n\u001b[1;32m----> 1\u001b[1;33m \u001b[1;32mimport\u001b[0m \u001b[0mhvr_functions\u001b[0m \u001b[1;32mas\u001b[0m \u001b[0mhvr\u001b[0m\u001b[1;33m\u001b[0m\u001b[0m\n\u001b[0m\u001b[0;32m      2\u001b[0m \u001b[1;32mfrom\u001b[0m \u001b[0msympy\u001b[0m \u001b[1;32mimport\u001b[0m \u001b[1;33m*\u001b[0m\u001b[1;33m\u001b[0m\u001b[0m\n\u001b[0;32m      3\u001b[0m \u001b[1;32mfrom\u001b[0m \u001b[0mIPython\u001b[0m\u001b[1;33m.\u001b[0m\u001b[0mdisplay\u001b[0m \u001b[1;32mimport\u001b[0m \u001b[0mdisplay\u001b[0m\u001b[1;33m\u001b[0m\u001b[0m\n\u001b[0;32m      4\u001b[0m \u001b[1;32mfrom\u001b[0m \u001b[0msympy\u001b[0m\u001b[1;33m.\u001b[0m\u001b[0mphysics\u001b[0m\u001b[1;33m.\u001b[0m\u001b[0mvector\u001b[0m \u001b[1;32mimport\u001b[0m \u001b[0mdynamicsymbols\u001b[0m\u001b[1;33m,\u001b[0m \u001b[0minit_vprinting\u001b[0m\u001b[1;33m\u001b[0m\u001b[0m\n\u001b[0;32m      5\u001b[0m \u001b[1;33m\u001b[0m\u001b[0m\n",
      "\u001b[1;31mImportError\u001b[0m: bad magic number in 'hvr_functions': b'3\\r\\r\\n'"
     ]
    }
   ],
   "source": [
    "import hvr_functions as hvr\n",
    "from sympy import *\n",
    "from IPython.display import display\n",
    "from sympy.physics.vector import dynamicsymbols, init_vprinting\n",
    "\n",
    "init_vprinting()"
   ]
  },
  {
   "cell_type": "code",
   "execution_count": null,
   "metadata": {
    "ExecuteTime": {
     "end_time": "2019-11-27T10:48:28.458820Z",
     "start_time": "2019-11-27T10:48:28.446438Z"
    }
   },
   "outputs": [],
   "source": [
    "t = symbols('t')\n",
    "a, m, B, q, h = symbols('alpha m B q H')\n",
    "x, y, z, px, py, pz = dynamicsymbols('x y z p_x p_y p_z')\n",
    "q1, q2, p1, p2 = dynamicsymbols('Q_1 Q_2 P_1 P_2')\n",
    "Ax, Ay, Az = dynamicsymbols('A_x A_y A_z')"
   ]
  },
  {
   "cell_type": "markdown",
   "metadata": {},
   "source": [
    "Define the transformation"
   ]
  },
  {
   "cell_type": "code",
   "execution_count": null,
   "metadata": {
    "ExecuteTime": {
     "end_time": "2019-11-27T10:48:31.957103Z",
     "start_time": "2019-11-27T10:48:31.047575Z"
    }
   },
   "outputs": [],
   "source": [
    "vars1 = [x, y, px, py]\n",
    "vars2 = [q1, q2, p1, p2]\n",
    "\n",
    "change_vars = {x  : (sqrt(2*p1)*sin(q1)+p2)/a, \\\n",
    "               y  : (sqrt(2*p1)*cos(q1)+q2)/a, \\\n",
    "               px : a/2*(sqrt(2*p1)*cos(q1)-q2), \\\n",
    "               py : -a/2*(sqrt(2*p1)*sin(q1)-p2)}\n",
    "\n",
    "for key in change_vars:\n",
    "    display( Eq(key, change_vars[key]) )"
   ]
  },
  {
   "cell_type": "markdown",
   "metadata": {},
   "source": [
    "Check that it is indeed canonical (I use my own function here, you can try to code it or check every Poisson bracket manually)"
   ]
  },
  {
   "cell_type": "code",
   "execution_count": null,
   "metadata": {
    "ExecuteTime": {
     "end_time": "2019-11-27T10:48:33.785918Z",
     "start_time": "2019-11-27T10:48:33.672587Z"
    }
   },
   "outputs": [],
   "source": [
    "hvr.check_symplectic(change_vars, vars2, vars1)"
   ]
  },
  {
   "cell_type": "markdown",
   "metadata": {},
   "source": [
    "Apply it to the hamiltonian of a particle in a constant magnetic field. For a magnetic field pointing in the $\\hat{z}$ direction we have\n",
    "\n",
    "\\begin{equation}\n",
    "    B = \\partial_xA_y - \\partial_y A_x\n",
    "\\end{equation}\n",
    "\n",
    "If it is constant a possible configuration (in some gauge) is\n",
    "\n",
    "\\begin{align}\n",
    "    A_x &= -\\frac{1}{2}y B\\\\\n",
    "    A_y &= \\frac{1}{2}x B\n",
    "\\end{align}\n",
    "\n",
    "The hamiltonian for this problem is"
   ]
  },
  {
   "cell_type": "code",
   "execution_count": null,
   "metadata": {
    "ExecuteTime": {
     "end_time": "2019-11-27T10:48:39.005253Z",
     "start_time": "2019-11-27T10:48:38.783072Z"
    }
   },
   "outputs": [],
   "source": [
    "H = sqrt(m**2 + (px-q*Ax)**2 + (py-q*Ay)**2 + (pz-q*Az)**2)\n",
    "display( Eq(h, H) )"
   ]
  },
  {
   "cell_type": "markdown",
   "metadata": {},
   "source": [
    "And the electromagnetic field is"
   ]
  },
  {
   "cell_type": "code",
   "execution_count": null,
   "metadata": {
    "ExecuteTime": {
     "end_time": "2019-11-27T10:48:43.757981Z",
     "start_time": "2019-11-27T10:48:43.123375Z"
    }
   },
   "outputs": [],
   "source": [
    "em_field = {Ax : -y*B/2, Ay : x*B/2, Az : 0}\n",
    "\n",
    "for key in em_field:\n",
    "    display( Eq(key, em_field[key]) )"
   ]
  },
  {
   "cell_type": "markdown",
   "metadata": {},
   "source": [
    "Substituting in the hamiltonian"
   ]
  },
  {
   "cell_type": "code",
   "execution_count": null,
   "metadata": {
    "ExecuteTime": {
     "end_time": "2019-11-27T10:48:46.242686Z",
     "start_time": "2019-11-27T10:48:46.019093Z"
    }
   },
   "outputs": [],
   "source": [
    "H = H.subs(em_field)\n",
    "display( Eq(h, H) )"
   ]
  },
  {
   "cell_type": "markdown",
   "metadata": {},
   "source": [
    "And performing the canonical transformation"
   ]
  },
  {
   "cell_type": "code",
   "execution_count": null,
   "metadata": {
    "ExecuteTime": {
     "end_time": "2019-11-27T10:48:50.365008Z",
     "start_time": "2019-11-27T10:48:47.598406Z"
    }
   },
   "outputs": [],
   "source": [
    "H = H.subs(change_vars)\n",
    "H = H.expand().simplify()\n",
    "\n",
    "display( Eq(h, H) )"
   ]
  },
  {
   "cell_type": "markdown",
   "metadata": {},
   "source": [
    "Choosing the parameter $\\alpha$ as\n",
    "\n",
    "\\begin{equation}\n",
    "    \\alpha^2 = qB\\ ,\\qquad qB > 0\n",
    "\\end{equation}"
   ]
  },
  {
   "cell_type": "code",
   "execution_count": null,
   "metadata": {
    "ExecuteTime": {
     "end_time": "2019-11-27T10:48:57.665904Z",
     "start_time": "2019-11-27T10:48:57.450784Z"
    }
   },
   "outputs": [],
   "source": [
    "H = H.subs(a**2, B*q)\n",
    "\n",
    "display( Eq(h, H) )"
   ]
  },
  {
   "cell_type": "markdown",
   "metadata": {},
   "source": [
    "It is easy to find the equations of motion for this hamiltonian (I use a function of my own again, this one is very simple: try to do it as an exercise)"
   ]
  },
  {
   "cell_type": "code",
   "execution_count": null,
   "metadata": {
    "ExecuteTime": {
     "end_time": "2019-11-27T10:49:05.216372Z",
     "start_time": "2019-11-27T10:49:03.899042Z"
    }
   },
   "outputs": [],
   "source": [
    "can_vars = [q1, q2, z, p1, p2, pz]\n",
    "sys = hvr.eom_canonical(t, can_vars, H)\n",
    "\n",
    "for eq in sys:\n",
    "    display( eq.subs(2*H, 2*h) )   # NOTE: check what happens without the 2"
   ]
  },
  {
   "cell_type": "code",
   "execution_count": null,
   "metadata": {},
   "outputs": [],
   "source": []
  }
 ],
 "metadata": {
  "kernelspec": {
   "display_name": "Python 3",
   "language": "python",
   "name": "python3"
  },
  "language_info": {
   "codemirror_mode": {
    "name": "ipython",
    "version": 3
   },
   "file_extension": ".py",
   "mimetype": "text/x-python",
   "name": "python",
   "nbconvert_exporter": "python",
   "pygments_lexer": "ipython3",
   "version": "3.5.5"
  },
  "varInspector": {
   "cols": {
    "lenName": 16,
    "lenType": 16,
    "lenVar": 40
   },
   "kernels_config": {
    "python": {
     "delete_cmd_postfix": "",
     "delete_cmd_prefix": "del ",
     "library": "var_list.py",
     "varRefreshCmd": "print(var_dic_list())"
    },
    "r": {
     "delete_cmd_postfix": ") ",
     "delete_cmd_prefix": "rm(",
     "library": "var_list.r",
     "varRefreshCmd": "cat(var_dic_list()) "
    }
   },
   "types_to_exclude": [
    "module",
    "function",
    "builtin_function_or_method",
    "instance",
    "_Feature"
   ],
   "window_display": false
  }
 },
 "nbformat": 4,
 "nbformat_minor": 2
}
