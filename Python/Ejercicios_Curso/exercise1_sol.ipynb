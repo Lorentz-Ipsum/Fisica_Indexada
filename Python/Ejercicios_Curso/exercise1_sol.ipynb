{
 "cells": [
  {
   "cell_type": "markdown",
   "metadata": {},
   "source": [
    "# Exercise 1"
   ]
  },
  {
   "cell_type": "markdown",
   "metadata": {},
   "source": [
    "Solve the following integral symbolically\n",
    "\\begin{equation}\n",
    "    I_n = \\int \\cos^4(ny)\\ \\text{d}y\\ .\n",
    "\\end{equation}\n",
    "Then evaluate the result numerically on an array of points and store the result in a text file. Finally retrieve the text file and plot the result."
   ]
  },
  {
   "cell_type": "markdown",
   "metadata": {},
   "source": [
    "### Import sympy and define symbols"
   ]
  },
  {
   "cell_type": "code",
   "execution_count": null,
   "metadata": {
    "ExecuteTime": {
     "end_time": "2019-11-27T10:19:19.076368Z",
     "start_time": "2019-11-27T10:19:18.625962Z"
    }
   },
   "outputs": [],
   "source": [
    "from sympy import *\n",
    "init_printing()  # import the best printer available\n",
    "x, y = symbols('x y')\n",
    "n = symbols('n', integer=True)"
   ]
  },
  {
   "cell_type": "markdown",
   "metadata": {},
   "source": [
    "### Define the function and solve the integral"
   ]
  },
  {
   "cell_type": "code",
   "execution_count": null,
   "metadata": {
    "ExecuteTime": {
     "end_time": "2019-11-27T10:19:19.912421Z",
     "start_time": "2019-11-27T10:19:19.623570Z"
    }
   },
   "outputs": [],
   "source": [
    "def sym_func(n, x):    \n",
    "    func = cos(n*y)**4\n",
    "    int_func = Integral(func, (y, 0, x))\n",
    "    return int_func.doit()\n",
    "\n",
    "sym_func(n, x)"
   ]
  },
  {
   "cell_type": "markdown",
   "metadata": {},
   "source": [
    "### Import numpy and create an array of points"
   ]
  },
  {
   "cell_type": "markdown",
   "metadata": {},
   "source": [
    "Define an array of time points to perform the evaluation"
   ]
  },
  {
   "cell_type": "code",
   "execution_count": null,
   "metadata": {
    "ExecuteTime": {
     "end_time": "2019-11-27T10:19:21.013476Z",
     "start_time": "2019-11-27T10:19:21.002004Z"
    }
   },
   "outputs": [],
   "source": [
    "import numpy as np\n",
    "\n",
    "N = 100\n",
    "t = np.linspace(0, 10, N)"
   ]
  },
  {
   "cell_type": "markdown",
   "metadata": {},
   "source": [
    "### Convert the solution to a numerical function and evaluate it"
   ]
  },
  {
   "cell_type": "markdown",
   "metadata": {},
   "source": [
    "Create an array of values `f_t` evaluated in the points `t`"
   ]
  },
  {
   "cell_type": "code",
   "execution_count": null,
   "metadata": {
    "ExecuteTime": {
     "end_time": "2019-11-27T10:19:36.936226Z",
     "start_time": "2019-11-27T10:19:36.845115Z"
    }
   },
   "outputs": [],
   "source": [
    "num_func = lambdify((n, x), sym_func(n, x), 'numpy')\n",
    "\n",
    "f_t = num_func(1, t)"
   ]
  },
  {
   "cell_type": "markdown",
   "metadata": {},
   "source": [
    "### Save $x$ and $f(x)$ in a text file with two columns"
   ]
  },
  {
   "cell_type": "markdown",
   "metadata": {},
   "source": [
    "Note that we must transpose the data to store it in two columns"
   ]
  },
  {
   "cell_type": "code",
   "execution_count": null,
   "metadata": {
    "ExecuteTime": {
     "end_time": "2019-11-27T10:20:04.555600Z",
     "start_time": "2019-11-27T10:20:04.548003Z"
    }
   },
   "outputs": [],
   "source": [
    "data = np.array([t, f_t]).transpose()\n",
    "\n",
    "np.savetxt('ex1.txt', data)"
   ]
  },
  {
   "cell_type": "markdown",
   "metadata": {},
   "source": [
    "### Load the text file again"
   ]
  },
  {
   "cell_type": "markdown",
   "metadata": {},
   "source": [
    "After reading, and before unpacking the result, we must transpose the data again"
   ]
  },
  {
   "cell_type": "code",
   "execution_count": null,
   "metadata": {
    "ExecuteTime": {
     "end_time": "2019-11-27T10:20:06.188383Z",
     "start_time": "2019-11-27T10:20:06.182800Z"
    }
   },
   "outputs": [],
   "source": [
    "data_new = np.loadtxt('ex1.txt')\n",
    "\n",
    "t_new, f_t_new = data_new.transpose()"
   ]
  },
  {
   "cell_type": "markdown",
   "metadata": {},
   "source": [
    "### Plot the result"
   ]
  },
  {
   "cell_type": "markdown",
   "metadata": {},
   "source": [
    "We must add the line `%matplotlib notebook` the first time we use `matplotlib` to get a correct visualization in the notebook"
   ]
  },
  {
   "cell_type": "code",
   "execution_count": null,
   "metadata": {
    "ExecuteTime": {
     "end_time": "2019-11-27T10:20:07.755424Z",
     "start_time": "2019-11-27T10:20:07.487293Z"
    }
   },
   "outputs": [],
   "source": [
    "%matplotlib notebook\n",
    "import matplotlib\n",
    "import matplotlib.pyplot as plt\n",
    "\n",
    "plt.figure(1)\n",
    "plt.plot(t_new, f_t_new);"
   ]
  },
  {
   "cell_type": "markdown",
   "metadata": {},
   "source": [
    "We can plot a whole series of functions too"
   ]
  },
  {
   "cell_type": "code",
   "execution_count": null,
   "metadata": {
    "ExecuteTime": {
     "end_time": "2019-11-27T10:20:09.115381Z",
     "start_time": "2019-11-27T10:20:09.061924Z"
    }
   },
   "outputs": [],
   "source": [
    "plt.figure(2)\n",
    "for i in np.arange(1, 10):\n",
    "    plt.plot(t, num_func(i, t));"
   ]
  }
 ],
 "metadata": {
  "kernelspec": {
   "display_name": "Python 3",
   "language": "python",
   "name": "python3"
  },
  "language_info": {
   "codemirror_mode": {
    "name": "ipython",
    "version": 3
   },
   "file_extension": ".py",
   "mimetype": "text/x-python",
   "name": "python",
   "nbconvert_exporter": "python",
   "pygments_lexer": "ipython3",
   "version": "3.6.8"
  },
  "varInspector": {
   "cols": {
    "lenName": 16,
    "lenType": 16,
    "lenVar": 40
   },
   "kernels_config": {
    "python": {
     "delete_cmd_postfix": "",
     "delete_cmd_prefix": "del ",
     "library": "var_list.py",
     "varRefreshCmd": "print(var_dic_list())"
    },
    "r": {
     "delete_cmd_postfix": ") ",
     "delete_cmd_prefix": "rm(",
     "library": "var_list.r",
     "varRefreshCmd": "cat(var_dic_list()) "
    }
   },
   "types_to_exclude": [
    "module",
    "function",
    "builtin_function_or_method",
    "instance",
    "_Feature"
   ],
   "window_display": false
  }
 },
 "nbformat": 4,
 "nbformat_minor": 2
}
