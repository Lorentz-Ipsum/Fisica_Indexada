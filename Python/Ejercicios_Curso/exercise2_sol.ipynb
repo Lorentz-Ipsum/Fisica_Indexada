{
 "cells": [
  {
   "cell_type": "markdown",
   "metadata": {},
   "source": [
    "# Exercise 2"
   ]
  },
  {
   "cell_type": "markdown",
   "metadata": {},
   "source": [
    "Analyze the Kepler problem in cartesian coordinates\n",
    "\n",
    "\\begin{equation}\n",
    "    L = \\frac{1}{2}\\mu (\\dot{x}^2+\\dot{y}^2+\\dot{z}^2)\n",
    "        +\\frac{G\\mu M}{\\sqrt{x^2+y^2+z^2}}\\ .\n",
    "\\end{equation}\n",
    "\n",
    "Find the Euler-Lagrange equations for this Lagrangian. Rewrite them as a system of first-order equations (convenient for numerical solutions). Repeat the problem changing to spherical coordinates. Solve the system numerically and plot the orbit."
   ]
  },
  {
   "cell_type": "markdown",
   "metadata": {},
   "source": [
    "### Import sympy and define symbols"
   ]
  },
  {
   "cell_type": "code",
   "execution_count": 1,
   "metadata": {
    "ExecuteTime": {
     "end_time": "2019-11-27T10:20:37.749035Z",
     "start_time": "2019-11-27T10:20:37.279077Z"
    }
   },
   "outputs": [],
   "source": [
    "from sympy import *\n",
    "init_printing()  # import the best printer available\n",
    "M, mu, G, t = symbols('M mu G t', positive=True)\n",
    "x, y, z = symbols('x y z', cls=Function)"
   ]
  },
  {
   "cell_type": "markdown",
   "metadata": {},
   "source": [
    "### Define your lagrangian"
   ]
  },
  {
   "cell_type": "code",
   "execution_count": null,
   "metadata": {
    "ExecuteTime": {
     "end_time": "2019-11-27T10:20:38.635790Z",
     "start_time": "2019-11-27T10:20:38.405341Z"
    }
   },
   "outputs": [],
   "source": [
    "L = mu*(x(t).diff()**2 + y(t).diff()**2 + z(t).diff()**2)/2 \\\n",
    "    + G*mu*M/sqrt(x(t)**2 + y(t)**2 +z(t)**2)\n",
    "\n",
    "L"
   ]
  },
  {
   "cell_type": "markdown",
   "metadata": {},
   "source": [
    "### Find the Euler-Lagrange equations"
   ]
  },
  {
   "cell_type": "code",
   "execution_count": null,
   "metadata": {
    "ExecuteTime": {
     "end_time": "2019-11-27T10:20:40.306493Z",
     "start_time": "2019-11-27T10:20:40.048639Z"
    }
   },
   "outputs": [],
   "source": [
    "cart_vars = [x(t), y(t), z(t)]\n",
    "system = [Eq( (L.diff(q.diff())).diff(t), L.diff(q) ) for q in cart_vars]\n",
    "\n",
    "system"
   ]
  },
  {
   "cell_type": "markdown",
   "metadata": {},
   "source": [
    "### Rewrite the Euler-Lagrange equations as a system of first order ODEs"
   ]
  },
  {
   "cell_type": "markdown",
   "metadata": {},
   "source": [
    "We define the momenta and define a list with all the variables. **CAREFUL!**: respect the order of variables throughout the program, otherwise it may be a good idea to define the equations through a dictionary, with the variable as key."
   ]
  },
  {
   "cell_type": "code",
   "execution_count": null,
   "metadata": {
    "ExecuteTime": {
     "end_time": "2019-11-27T10:20:41.921002Z",
     "start_time": "2019-11-27T10:20:41.676542Z"
    }
   },
   "outputs": [],
   "source": [
    "px, py, pz = symbols('p_x p_y p_z', cls=Function)\n",
    "\n",
    "cart_momenta = [px(t), py(t), pz(t)]\n",
    "full_cart_vars = cart_vars + cart_momenta\n",
    "\n",
    "full_cart_vars"
   ]
  },
  {
   "cell_type": "markdown",
   "metadata": {},
   "source": [
    "We must invert the velocities in terms of the momenta"
   ]
  },
  {
   "cell_type": "code",
   "execution_count": null,
   "metadata": {
    "ExecuteTime": {
     "end_time": "2019-11-27T10:20:43.015660Z",
     "start_time": "2019-11-27T10:20:42.770509Z"
    }
   },
   "outputs": [],
   "source": [
    "cart_vel = [q.diff(t) for q in cart_vars]\n",
    "\n",
    "vel_momenta = [Eq(p, L.diff(dq)) for dq, p in zip(cart_vel, cart_momenta)]\n",
    "vel_momenta"
   ]
  },
  {
   "cell_type": "code",
   "execution_count": null,
   "metadata": {
    "ExecuteTime": {
     "end_time": "2019-11-27T10:20:43.600725Z",
     "start_time": "2019-11-27T10:20:43.304551Z"
    }
   },
   "outputs": [],
   "source": [
    "sol = solve(vel_momenta, cart_vel)\n",
    "sol"
   ]
  },
  {
   "cell_type": "markdown",
   "metadata": {},
   "source": [
    "Define the first half of the system, just as the velocities in terms of momenta."
   ]
  },
  {
   "cell_type": "code",
   "execution_count": null,
   "metadata": {
    "ExecuteTime": {
     "end_time": "2019-11-27T10:20:43.987567Z",
     "start_time": "2019-11-27T10:20:43.730063Z"
    }
   },
   "outputs": [],
   "source": [
    "system_1st = [Eq( dq, sol[dq]) for dq in cart_vel]\n",
    "system_1st"
   ]
  },
  {
   "cell_type": "markdown",
   "metadata": {},
   "source": [
    "The second half comes from the Euler-Lagrange equations"
   ]
  },
  {
   "cell_type": "code",
   "execution_count": null,
   "metadata": {
    "ExecuteTime": {
     "end_time": "2019-11-27T10:20:44.623524Z",
     "start_time": "2019-11-27T10:20:44.402070Z"
    }
   },
   "outputs": [],
   "source": [
    "temp = [Eq(p.diff(t), L.diff(q)) for p, q in zip(cart_momenta, cart_vars)]\n",
    "temp"
   ]
  },
  {
   "cell_type": "markdown",
   "metadata": {},
   "source": [
    "Define the total system joining both sets (beware of the order! must be the same as `full_cart_vars`)."
   ]
  },
  {
   "cell_type": "code",
   "execution_count": null,
   "metadata": {
    "ExecuteTime": {
     "end_time": "2019-11-27T10:20:45.268799Z",
     "start_time": "2019-11-27T10:20:45.054591Z"
    }
   },
   "outputs": [],
   "source": [
    "system_1st += temp\n",
    "system_1st"
   ]
  },
  {
   "cell_type": "markdown",
   "metadata": {},
   "source": [
    "### Change to spherical coordinates in the lagrangian and repeat the steps above"
   ]
  },
  {
   "cell_type": "markdown",
   "metadata": {},
   "source": [
    "Define the substitution rule to change to spherical coordinates"
   ]
  },
  {
   "cell_type": "code",
   "execution_count": null,
   "metadata": {
    "ExecuteTime": {
     "end_time": "2019-11-27T10:20:46.282957Z",
     "start_time": "2019-11-27T10:20:46.054243Z"
    }
   },
   "outputs": [],
   "source": [
    "r, th, phi = symbols('r theta phi', cls=Function)\n",
    "\n",
    "cart_to_polar = {x(t): r(t)*sin(th(t))*cos(phi(t)),\n",
    "                 y(t): r(t)*sin(th(t))*sin(phi(t)),\n",
    "                 z(t): r(t)*cos(th(t))}\n",
    "cart_to_polar"
   ]
  },
  {
   "cell_type": "markdown",
   "metadata": {},
   "source": [
    "and the lagrangian in the new coordinates"
   ]
  },
  {
   "cell_type": "code",
   "execution_count": null,
   "metadata": {
    "ExecuteTime": {
     "end_time": "2019-11-27T10:20:48.694939Z",
     "start_time": "2019-11-27T10:20:47.520576Z"
    }
   },
   "outputs": [],
   "source": [
    "L_polar = L.subs(cart_to_polar).doit().simplify()\n",
    "L_polar"
   ]
  },
  {
   "cell_type": "markdown",
   "metadata": {},
   "source": [
    "In this case, the Euler-Lagrange equations are a bit messy"
   ]
  },
  {
   "cell_type": "code",
   "execution_count": null,
   "metadata": {
    "ExecuteTime": {
     "end_time": "2019-11-27T10:20:49.647015Z",
     "start_time": "2019-11-27T10:20:49.359757Z"
    }
   },
   "outputs": [],
   "source": [
    "polar_vars = [r(t), th(t), phi(t)]\n",
    "polar_vel = [q.diff(t) for q in polar_vars]\n",
    "\n",
    "system_polar = [Eq( (L_polar.diff(q_dot)).diff(t) - L_polar.diff(q), 0)\\\n",
    "                for q, q_dot in zip(polar_vars, polar_vel)]\n",
    "\n",
    "system_polar"
   ]
  },
  {
   "cell_type": "markdown",
   "metadata": {},
   "source": [
    "We define the accelerations and solve for them"
   ]
  },
  {
   "cell_type": "code",
   "execution_count": null,
   "metadata": {
    "ExecuteTime": {
     "end_time": "2019-11-27T10:20:50.817561Z",
     "start_time": "2019-11-27T10:20:50.606503Z"
    }
   },
   "outputs": [],
   "source": [
    "accel = [q.diff(t, 2) for q in polar_vars]\n",
    "accel"
   ]
  },
  {
   "cell_type": "code",
   "execution_count": null,
   "metadata": {
    "ExecuteTime": {
     "end_time": "2019-11-27T10:20:51.925837Z",
     "start_time": "2019-11-27T10:20:51.141188Z"
    }
   },
   "outputs": [],
   "source": [
    "sol = solve(system_polar, accel)\n",
    "sol"
   ]
  },
  {
   "cell_type": "markdown",
   "metadata": {},
   "source": [
    "Now we have something simpler"
   ]
  },
  {
   "cell_type": "code",
   "execution_count": null,
   "metadata": {
    "ExecuteTime": {
     "end_time": "2019-11-27T10:20:52.932134Z",
     "start_time": "2019-11-27T10:20:52.385549Z"
    }
   },
   "outputs": [],
   "source": [
    "system_polar = [Eq( ddq, sol[ddq].simplify() ) for ddq in accel]\n",
    "system_polar"
   ]
  },
  {
   "cell_type": "markdown",
   "metadata": {},
   "source": [
    "Again, we rewrite it as a system of first order differential equations"
   ]
  },
  {
   "cell_type": "code",
   "execution_count": null,
   "metadata": {
    "ExecuteTime": {
     "end_time": "2019-11-27T10:20:53.799655Z",
     "start_time": "2019-11-27T10:20:53.577463Z"
    }
   },
   "outputs": [],
   "source": [
    "pr, pth, pphi = symbols('p_r p_theta p_phi', cls=Function)\n",
    "\n",
    "polar_momenta = [pr(t), pth(t), pphi(t)]\n",
    "full_polar_vars = polar_vars + polar_momenta\n",
    "\n",
    "full_polar_vars"
   ]
  },
  {
   "cell_type": "code",
   "execution_count": null,
   "metadata": {
    "ExecuteTime": {
     "end_time": "2019-11-27T10:20:54.260044Z",
     "start_time": "2019-11-27T10:20:54.008508Z"
    }
   },
   "outputs": [],
   "source": [
    "vel_momenta = [Eq(p, L_polar.diff(dq)) for p, dq in zip(polar_momenta, polar_vel)]\n",
    "vel_momenta"
   ]
  },
  {
   "cell_type": "code",
   "execution_count": null,
   "metadata": {
    "ExecuteTime": {
     "end_time": "2019-11-27T10:20:54.774167Z",
     "start_time": "2019-11-27T10:20:54.413119Z"
    }
   },
   "outputs": [],
   "source": [
    "sol = solve(vel_momenta, polar_vel)\n",
    "sol"
   ]
  },
  {
   "cell_type": "code",
   "execution_count": null,
   "metadata": {
    "ExecuteTime": {
     "end_time": "2019-11-27T10:20:55.261892Z",
     "start_time": "2019-11-27T10:20:54.993471Z"
    }
   },
   "outputs": [],
   "source": [
    "system_polar_1st = [Eq( dq, sol[dq]) for dq in polar_vel]\n",
    "system_polar_1st"
   ]
  },
  {
   "cell_type": "code",
   "execution_count": null,
   "metadata": {
    "ExecuteTime": {
     "end_time": "2019-11-27T10:20:56.076448Z",
     "start_time": "2019-11-27T10:20:55.486773Z"
    }
   },
   "outputs": [],
   "source": [
    "temp = [Eq(p.diff(t), L_polar.diff(q).subs(sol).simplify()) \\\n",
    "        for p, q in zip(polar_momenta, polar_vars)]\n",
    "temp"
   ]
  },
  {
   "cell_type": "code",
   "execution_count": null,
   "metadata": {
    "ExecuteTime": {
     "end_time": "2019-11-27T10:20:56.395544Z",
     "start_time": "2019-11-27T10:20:56.157281Z"
    }
   },
   "outputs": [],
   "source": [
    "system_polar_1st += temp\n",
    "system_polar_1st"
   ]
  },
  {
   "cell_type": "markdown",
   "metadata": {},
   "source": [
    "### Solve numerically the equations and plot the orbit"
   ]
  },
  {
   "cell_type": "markdown",
   "metadata": {},
   "source": [
    "I will solve only the simplified case $p_\\theta = 0$ and $\\theta=\\pi/2$ (we can achieve this re-orienting the axes)"
   ]
  },
  {
   "cell_type": "code",
   "execution_count": null,
   "metadata": {
    "ExecuteTime": {
     "end_time": "2019-11-27T10:20:57.603758Z",
     "start_time": "2019-11-27T10:20:57.348110Z"
    }
   },
   "outputs": [],
   "source": [
    "new_system = [var.subs(pth(t), 0).subs(th(t), pi/2).doit() for var in system_polar_1st]\n",
    "new_system"
   ]
  },
  {
   "cell_type": "markdown",
   "metadata": {},
   "source": [
    "We will consider then a reduced set of variables and equations"
   ]
  },
  {
   "cell_type": "code",
   "execution_count": null,
   "metadata": {
    "ExecuteTime": {
     "end_time": "2019-11-27T10:20:58.612263Z",
     "start_time": "2019-11-27T10:20:58.399958Z"
    }
   },
   "outputs": [],
   "source": [
    "# delete trivial equations \n",
    "# -> careful we must use sympy's true instead of python's True\n",
    "final_system = [eq for eq in new_system if eq is not true]\n",
    "final_system"
   ]
  },
  {
   "cell_type": "code",
   "execution_count": null,
   "metadata": {
    "ExecuteTime": {
     "end_time": "2019-11-27T10:20:59.251827Z",
     "start_time": "2019-11-27T10:20:59.042067Z"
    }
   },
   "outputs": [],
   "source": [
    "# construct the new set of variables\n",
    "final_vars = [eq.lhs.args[0] for eq in final_system]\n",
    "final_vars"
   ]
  },
  {
   "cell_type": "code",
   "execution_count": null,
   "metadata": {
    "ExecuteTime": {
     "end_time": "2019-11-27T10:20:59.681904Z",
     "start_time": "2019-11-27T10:20:59.502618Z"
    }
   },
   "outputs": [],
   "source": [
    "import numpy as np\n",
    "from scipy.integrate import odeint\n",
    "\n",
    "# parameters, -> CAREFUL!  do not redefine symbolic variables here\n",
    "nmu = 1.\n",
    "nM = 10000.\n",
    "nG = 1.\n",
    "\n",
    "# initial conditions\n",
    "r0 = 10.\n",
    "phi0 = 0.\n",
    "pr0 = 0.\n",
    "pphi0 = 1.3*np.sqrt(nG*nM*r0)\n",
    "\n",
    "y0 = [r0, phi0, pr0, pphi0]\n",
    "\n",
    "# array of sampled times for the solution\n",
    "nt = np.linspace(0, 50, 500)"
   ]
  },
  {
   "cell_type": "markdown",
   "metadata": {},
   "source": [
    "Now we could define the numeric system as"
   ]
  },
  {
   "cell_type": "code",
   "execution_count": null,
   "metadata": {
    "ExecuteTime": {
     "end_time": "2019-11-27T10:21:01.019679Z",
     "start_time": "2019-11-27T10:21:01.015557Z"
    }
   },
   "outputs": [],
   "source": [
    "def num_system(y, t, mu, M, G):\n",
    "    r, phi, pr, pphi = y\n",
    "    \n",
    "    dr = pr/mu\n",
    "    dphi = pphi/mu/r/r\n",
    "    dpr = -G*M*mu/r/r + pphi*pphi/mu/r/r/r\n",
    "    dpphi = 0\n",
    "    \n",
    "    return dr, dth, dpr, dpth"
   ]
  },
  {
   "cell_type": "markdown",
   "metadata": {},
   "source": [
    "But we will try a different approach, useful for heavy equations : let `sympy` do the hard work with `lambdify`"
   ]
  },
  {
   "cell_type": "code",
   "execution_count": null,
   "metadata": {
    "ExecuteTime": {
     "end_time": "2019-11-27T10:21:02.312809Z",
     "start_time": "2019-11-27T10:21:02.113571Z"
    }
   },
   "outputs": [],
   "source": [
    "total_vars = [final_vars, t, mu, M, G]\n",
    "total_vars"
   ]
  },
  {
   "cell_type": "markdown",
   "metadata": {},
   "source": [
    "Collect the right-hand side of the differential equations (we are mimicking the numeric function above)"
   ]
  },
  {
   "cell_type": "code",
   "execution_count": null,
   "metadata": {
    "ExecuteTime": {
     "end_time": "2019-11-27T10:21:03.459895Z",
     "start_time": "2019-11-27T10:21:03.255036Z"
    }
   },
   "outputs": [],
   "source": [
    "rhs_sym = [eq.rhs for eq in final_system]\n",
    "rhs_sym"
   ]
  },
  {
   "cell_type": "markdown",
   "metadata": {},
   "source": [
    "Create a numerical system equivalent to the one defined by hand (sometimes it is better to write the system by hand, to reorder terms or define intermediate variables, that may be repeated many times)"
   ]
  },
  {
   "cell_type": "code",
   "execution_count": null,
   "metadata": {
    "ExecuteTime": {
     "end_time": "2019-11-27T10:21:04.255188Z",
     "start_time": "2019-11-27T10:21:04.225305Z"
    }
   },
   "outputs": [],
   "source": [
    "num_system = lambdify(total_vars, rhs_sym, \"numpy\")"
   ]
  },
  {
   "cell_type": "markdown",
   "metadata": {},
   "source": [
    "Solve everything as usual with `odeint`"
   ]
  },
  {
   "cell_type": "code",
   "execution_count": null,
   "metadata": {
    "ExecuteTime": {
     "end_time": "2019-11-27T10:21:05.279264Z",
     "start_time": "2019-11-27T10:21:05.262504Z"
    }
   },
   "outputs": [],
   "source": [
    "num_solution = odeint(num_system, y0, nt, args=(nmu, nM, nG)).transpose()"
   ]
  },
  {
   "cell_type": "markdown",
   "metadata": {},
   "source": [
    "and plot the orbit"
   ]
  },
  {
   "cell_type": "code",
   "execution_count": null,
   "metadata": {
    "ExecuteTime": {
     "end_time": "2019-11-27T10:21:06.582471Z",
     "start_time": "2019-11-27T10:21:06.359684Z"
    }
   },
   "outputs": [],
   "source": [
    "%matplotlib notebook\n",
    "import matplotlib.pyplot as plt\n",
    "\n",
    "R, Phi, PR, PPhi = num_solution\n",
    "\n",
    "X = R*np.cos(Phi)\n",
    "Y = R*np.sin(Phi)\n",
    "\n",
    "plt.figure(1)\n",
    "plt.axes().set_aspect('equal')   # aspect ratio of the axes\n",
    "plt.plot(0, 0, 'o', color='C1')\n",
    "plt.plot(X, Y, color='C2');"
   ]
  },
  {
   "cell_type": "code",
   "execution_count": null,
   "metadata": {},
   "outputs": [],
   "source": []
  }
 ],
 "metadata": {
  "kernelspec": {
   "display_name": "Python 3",
   "language": "python",
   "name": "python3"
  },
  "language_info": {
   "codemirror_mode": {
    "name": "ipython",
    "version": 3
   },
   "file_extension": ".py",
   "mimetype": "text/x-python",
   "name": "python",
   "nbconvert_exporter": "python",
   "pygments_lexer": "ipython3",
   "version": "3.5.5"
  },
  "varInspector": {
   "cols": {
    "lenName": 16,
    "lenType": 16,
    "lenVar": 40
   },
   "kernels_config": {
    "python": {
     "delete_cmd_postfix": "",
     "delete_cmd_prefix": "del ",
     "library": "var_list.py",
     "varRefreshCmd": "print(var_dic_list())"
    },
    "r": {
     "delete_cmd_postfix": ") ",
     "delete_cmd_prefix": "rm(",
     "library": "var_list.r",
     "varRefreshCmd": "cat(var_dic_list()) "
    }
   },
   "types_to_exclude": [
    "module",
    "function",
    "builtin_function_or_method",
    "instance",
    "_Feature"
   ],
   "window_display": false
  }
 },
 "nbformat": 4,
 "nbformat_minor": 2
}
