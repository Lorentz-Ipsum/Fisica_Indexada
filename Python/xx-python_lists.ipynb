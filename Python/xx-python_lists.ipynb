{
 "cells": [
  {
   "cell_type": "markdown",
   "metadata": {},
   "source": [
    "# Python data structures"
   ]
  },
  {
   "cell_type": "markdown",
   "metadata": {},
   "source": [
    "One of the most important parts of programming languages are the arrays or lists, collections of variables. Here I will try to review the basic types available in Python, those that we will need to work with `sympy`, and different ways to iterate over them."
   ]
  },
  {
   "cell_type": "markdown",
   "metadata": {},
   "source": [
    "I will draw examples from `sympy`, to illustrate the different techniques and where to use them, so I need to import everything first."
   ]
  },
  {
   "cell_type": "code",
   "execution_count": null,
   "metadata": {
    "ExecuteTime": {
     "end_time": "2019-11-27T10:12:08.996339Z",
     "start_time": "2019-11-27T10:12:08.541078Z"
    }
   },
   "outputs": [],
   "source": [
    "from sympy import *\n",
    "init_printing()  # import the best printer available\n",
    "x, y, z, t = symbols('x y z t')\n",
    "k, m, n = symbols('k m n', integer=True)\n",
    "f, g, h = symbols('f g h', cls=Function)"
   ]
  },
  {
   "cell_type": "markdown",
   "metadata": {},
   "source": [
    "## Types of data structures"
   ]
  },
  {
   "cell_type": "markdown",
   "metadata": {},
   "source": [
    "Here I review some types of data structures. As usual, for more detailed information, check the official documentation (or ask Google). Remember that, in case of doubt, you can check the type of a container with the `type()` function."
   ]
  },
  {
   "cell_type": "markdown",
   "metadata": {},
   "source": [
    "### Lists "
   ]
  },
  {
   "cell_type": "markdown",
   "metadata": {},
   "source": [
    "Lists are the standard Python container. You are probably familiar already with lists, either in Python or in other languages (usually refered to as arrays). They represent an ordered collection of variables, with a number labelling its position."
   ]
  },
  {
   "cell_type": "markdown",
   "metadata": {},
   "source": [
    "To create an empty list"
   ]
  },
  {
   "cell_type": "code",
   "execution_count": null,
   "metadata": {
    "ExecuteTime": {
     "end_time": "2019-11-27T10:12:39.347951Z",
     "start_time": "2019-11-27T10:12:39.151898Z"
    }
   },
   "outputs": [],
   "source": [
    "my_list = []\n",
    "my_list"
   ]
  },
  {
   "cell_type": "markdown",
   "metadata": {},
   "source": [
    "and now we can add elements to it"
   ]
  },
  {
   "cell_type": "code",
   "execution_count": null,
   "metadata": {
    "ExecuteTime": {
     "end_time": "2019-11-27T10:12:40.406215Z",
     "start_time": "2019-11-27T10:12:40.208595Z"
    }
   },
   "outputs": [],
   "source": [
    "my_list.append(x)\n",
    "my_list.append(y)\n",
    "my_list.append(z)\n",
    "my_list"
   ]
  },
  {
   "cell_type": "markdown",
   "metadata": {},
   "source": [
    "refer to its element by its position"
   ]
  },
  {
   "cell_type": "code",
   "execution_count": null,
   "metadata": {
    "ExecuteTime": {
     "end_time": "2019-11-27T10:12:41.351576Z",
     "start_time": "2019-11-27T10:12:41.145416Z"
    }
   },
   "outputs": [],
   "source": [
    "my_list[0]"
   ]
  },
  {
   "cell_type": "markdown",
   "metadata": {},
   "source": [
    "and delete elements"
   ]
  },
  {
   "cell_type": "code",
   "execution_count": null,
   "metadata": {
    "ExecuteTime": {
     "end_time": "2019-11-27T10:12:42.364347Z",
     "start_time": "2019-11-27T10:12:42.162005Z"
    }
   },
   "outputs": [],
   "source": [
    "del my_list[1]\n",
    "my_list"
   ]
  },
  {
   "cell_type": "markdown",
   "metadata": {},
   "source": [
    "It is more common to build lists directly "
   ]
  },
  {
   "cell_type": "code",
   "execution_count": null,
   "metadata": {
    "ExecuteTime": {
     "end_time": "2019-11-27T10:12:43.809107Z",
     "start_time": "2019-11-27T10:12:43.613630Z"
    }
   },
   "outputs": [],
   "source": [
    "my_list = [x, y, z]\n",
    "my_list"
   ]
  },
  {
   "cell_type": "markdown",
   "metadata": {},
   "source": [
    "Keep in mind that lists can store whatever you want. For example, we can build a system of differential equations"
   ]
  },
  {
   "cell_type": "code",
   "execution_count": null,
   "metadata": {
    "ExecuteTime": {
     "end_time": "2019-11-27T10:12:44.939221Z",
     "start_time": "2019-11-27T10:12:44.726259Z"
    }
   },
   "outputs": [],
   "source": [
    "system = [ Eq(f(t).diff(t), t*g(t)), Eq(g(t).diff(t), -t*f(t)) ]\n",
    "system"
   ]
  },
  {
   "cell_type": "markdown",
   "metadata": {},
   "source": [
    "or a matrix, as a list of lists"
   ]
  },
  {
   "cell_type": "code",
   "execution_count": null,
   "metadata": {
    "ExecuteTime": {
     "end_time": "2019-11-27T10:12:47.530595Z",
     "start_time": "2019-11-27T10:12:47.330481Z"
    }
   },
   "outputs": [],
   "source": [
    "matrix = [[x, y], [z, t]]\n",
    "matrix"
   ]
  },
  {
   "cell_type": "markdown",
   "metadata": {},
   "source": [
    "You can check if a list is empty this way"
   ]
  },
  {
   "cell_type": "code",
   "execution_count": null,
   "metadata": {
    "ExecuteTime": {
     "end_time": "2019-11-27T10:12:48.891402Z",
     "start_time": "2019-11-27T10:12:48.886900Z"
    }
   },
   "outputs": [],
   "source": [
    "my_list = []\n",
    "\n",
    "if not my_list:\n",
    "    print('My list is empty.')"
   ]
  },
  {
   "cell_type": "markdown",
   "metadata": {},
   "source": [
    "Finally remember that we **cannot** copy lists through direct assignment. Please, check the tutorial 5 for more information about slicing and copying lists. "
   ]
  },
  {
   "cell_type": "markdown",
   "metadata": {},
   "source": [
    "### Arrays "
   ]
  },
  {
   "cell_type": "markdown",
   "metadata": {},
   "source": [
    "In Python the name array is usually reserved to `numpy` arrays, but I tend to be careless about this (both speaking and in the tutorials). For more on `numpy` arrays check the tutorial 5."
   ]
  },
  {
   "cell_type": "markdown",
   "metadata": {},
   "source": [
    "### Tuples "
   ]
  },
  {
   "cell_type": "markdown",
   "metadata": {},
   "source": [
    "Tuples work like lists, but they are immutable, i.e. we cannot change their elements. "
   ]
  },
  {
   "cell_type": "markdown",
   "metadata": {},
   "source": [
    "We define a list and a tuple with the same elements"
   ]
  },
  {
   "cell_type": "code",
   "execution_count": null,
   "metadata": {
    "ExecuteTime": {
     "end_time": "2019-11-27T10:12:54.117028Z",
     "start_time": "2019-11-27T10:12:53.928970Z"
    }
   },
   "outputs": [],
   "source": [
    "my_list = [x, y, z]\n",
    "my_tuple = (x, y, z)\n",
    "\n",
    "my_tuple"
   ]
  },
  {
   "cell_type": "markdown",
   "metadata": {},
   "source": [
    "We can change the element of a list"
   ]
  },
  {
   "cell_type": "code",
   "execution_count": null,
   "metadata": {
    "ExecuteTime": {
     "end_time": "2019-11-27T10:12:55.501498Z",
     "start_time": "2019-11-27T10:12:55.307970Z"
    }
   },
   "outputs": [],
   "source": [
    "my_list[1] = t\n",
    "my_list"
   ]
  },
  {
   "cell_type": "markdown",
   "metadata": {},
   "source": [
    "but not one of a tuple, Python raises an error, "
   ]
  },
  {
   "cell_type": "code",
   "execution_count": null,
   "metadata": {
    "ExecuteTime": {
     "end_time": "2019-11-27T10:12:56.535973Z",
     "start_time": "2019-11-27T10:12:56.463435Z"
    }
   },
   "outputs": [],
   "source": [
    "my_tuple[1] = t\n",
    "my_tuple"
   ]
  },
  {
   "cell_type": "markdown",
   "metadata": {},
   "source": [
    "We can convert a tuple to a list"
   ]
  },
  {
   "cell_type": "code",
   "execution_count": null,
   "metadata": {
    "ExecuteTime": {
     "end_time": "2019-11-27T10:14:19.897378Z",
     "start_time": "2019-11-27T10:14:19.890268Z"
    }
   },
   "outputs": [],
   "source": [
    "new_list = list(my_tuple)\n",
    "type(new_list)"
   ]
  },
  {
   "cell_type": "markdown",
   "metadata": {},
   "source": [
    "### Dictionaries "
   ]
  },
  {
   "cell_type": "markdown",
   "metadata": {},
   "source": [
    "These are associative lists. They work like structures or hash tables in other languages. They can be think of as standard lists, where instead of labelling the entries with an integer (its position) we label it with another variable.  "
   ]
  },
  {
   "cell_type": "markdown",
   "metadata": {},
   "source": [
    "We can create an empty dictionary with curly braces"
   ]
  },
  {
   "cell_type": "code",
   "execution_count": null,
   "metadata": {
    "ExecuteTime": {
     "end_time": "2019-11-27T10:14:41.884055Z",
     "start_time": "2019-11-27T10:14:41.879462Z"
    }
   },
   "outputs": [],
   "source": [
    "my_dict = {}"
   ]
  },
  {
   "cell_type": "markdown",
   "metadata": {},
   "source": [
    "and now add elements"
   ]
  },
  {
   "cell_type": "code",
   "execution_count": null,
   "metadata": {
    "ExecuteTime": {
     "end_time": "2019-11-27T10:14:43.072360Z",
     "start_time": "2019-11-27T10:14:42.878926Z"
    }
   },
   "outputs": [],
   "source": [
    "my_dict[f(t)] = x*t\n",
    "my_dict[g(t)] = y*t\n",
    "my_dict"
   ]
  },
  {
   "cell_type": "markdown",
   "metadata": {},
   "source": [
    "With a standard list, we refer to its elements with its position"
   ]
  },
  {
   "cell_type": "code",
   "execution_count": null,
   "metadata": {
    "ExecuteTime": {
     "end_time": "2019-11-27T10:14:45.900905Z",
     "start_time": "2019-11-27T10:14:45.704560Z"
    }
   },
   "outputs": [],
   "source": [
    "my_list = [x*t, y*t]\n",
    "\n",
    "my_list[0], my_list[1]"
   ]
  },
  {
   "cell_type": "markdown",
   "metadata": {},
   "source": [
    "while with dictionaries we use its *key*"
   ]
  },
  {
   "cell_type": "code",
   "execution_count": null,
   "metadata": {
    "ExecuteTime": {
     "end_time": "2019-11-27T10:14:47.438616Z",
     "start_time": "2019-11-27T10:14:47.244917Z"
    }
   },
   "outputs": [],
   "source": [
    "my_dict[f(t)], my_dict[g(t)]"
   ]
  },
  {
   "cell_type": "markdown",
   "metadata": {},
   "source": [
    "Again, it is common to define dictionaries directly "
   ]
  },
  {
   "cell_type": "code",
   "execution_count": null,
   "metadata": {
    "ExecuteTime": {
     "end_time": "2019-11-27T10:14:48.769455Z",
     "start_time": "2019-11-27T10:14:48.574892Z"
    }
   },
   "outputs": [],
   "source": [
    "my_dict = {f(t):x*t, g(t):y*t}\n",
    "my_dict"
   ]
  },
  {
   "cell_type": "markdown",
   "metadata": {},
   "source": [
    "Dictionaries are **very** useful. In our case, they are most important to perform symbolic substitutions. For instance, in the following equation"
   ]
  },
  {
   "cell_type": "code",
   "execution_count": null,
   "metadata": {
    "ExecuteTime": {
     "end_time": "2019-11-27T10:14:54.355728Z",
     "start_time": "2019-11-27T10:14:54.154421Z"
    }
   },
   "outputs": [],
   "source": [
    "my_eq = f(t).diff(t)*g(t) + t*z + 3*g(t)**2\n",
    "my_eq"
   ]
  },
  {
   "cell_type": "markdown",
   "metadata": {},
   "source": [
    "we can perform the substitution"
   ]
  },
  {
   "cell_type": "code",
   "execution_count": null,
   "metadata": {
    "ExecuteTime": {
     "end_time": "2019-11-27T10:14:55.505369Z",
     "start_time": "2019-11-27T10:14:55.290588Z"
    }
   },
   "outputs": [],
   "source": [
    "my_eq.subs(my_dict).doit().simplify()"
   ]
  },
  {
   "cell_type": "markdown",
   "metadata": {},
   "source": [
    "## Iteration"
   ]
  },
  {
   "cell_type": "markdown",
   "metadata": {},
   "source": [
    "In this section I will cover only `for` loops, but in Python we have also standard commands like the `while` loop."
   ]
  },
  {
   "cell_type": "markdown",
   "metadata": {},
   "source": [
    "### Standard `for` loop"
   ]
  },
  {
   "cell_type": "markdown",
   "metadata": {},
   "source": [
    "The usual way of looping over the elements of an array in many programming languages is"
   ]
  },
  {
   "cell_type": "code",
   "execution_count": null,
   "metadata": {
    "ExecuteTime": {
     "end_time": "2019-11-27T10:14:57.945685Z",
     "start_time": "2019-11-27T10:14:57.939384Z"
    }
   },
   "outputs": [],
   "source": [
    "my_list = [x, y, z]\n",
    "\n",
    "for i in range(0, len(my_list)):\n",
    "    print(i, my_list[i])"
   ]
  },
  {
   "cell_type": "markdown",
   "metadata": {},
   "source": [
    "But in Python it is more convenient to loop directly over the elements of the list"
   ]
  },
  {
   "cell_type": "code",
   "execution_count": null,
   "metadata": {
    "ExecuteTime": {
     "end_time": "2019-11-27T10:14:59.092043Z",
     "start_time": "2019-11-27T10:14:59.087041Z"
    }
   },
   "outputs": [],
   "source": [
    "for var in my_list:\n",
    "    print(var)"
   ]
  },
  {
   "cell_type": "markdown",
   "metadata": {},
   "source": [
    "If we need the indices too, we can use the `enumerate()` function"
   ]
  },
  {
   "cell_type": "code",
   "execution_count": null,
   "metadata": {
    "ExecuteTime": {
     "end_time": "2019-11-27T10:14:59.854686Z",
     "start_time": "2019-11-27T10:14:59.849251Z"
    }
   },
   "outputs": [],
   "source": [
    "for i, var in enumerate(my_list):\n",
    "    print(i, var)"
   ]
  },
  {
   "cell_type": "markdown",
   "metadata": {},
   "source": [
    "To loop over two list simultaneously we can use the `zip()` function"
   ]
  },
  {
   "cell_type": "code",
   "execution_count": null,
   "metadata": {
    "ExecuteTime": {
     "end_time": "2019-11-27T10:15:00.444008Z",
     "start_time": "2019-11-27T10:15:00.433676Z"
    }
   },
   "outputs": [],
   "source": [
    "my_list2 = [f(t), g(t), h(t)]\n",
    "\n",
    "for var, func in zip(my_list, my_list2):\n",
    "    print(var, func)"
   ]
  },
  {
   "cell_type": "markdown",
   "metadata": {},
   "source": [
    "Loops can be nested too"
   ]
  },
  {
   "cell_type": "code",
   "execution_count": null,
   "metadata": {
    "ExecuteTime": {
     "end_time": "2019-11-27T10:15:01.180061Z",
     "start_time": "2019-11-27T10:15:01.171358Z"
    }
   },
   "outputs": [],
   "source": [
    "for var in my_list:\n",
    "    for func in my_list2:\n",
    "        print(var, func)"
   ]
  },
  {
   "cell_type": "markdown",
   "metadata": {},
   "source": [
    "This commands are very convenient to manage lists, but try to avoid them with `numpy` arrays. When doing numerical work, `for` loops in Python usually render a poor performance. For numerical algorithms, it is advisable to avoid `for` statements and try to use vector operations with `numpy` arrays, as explained in tutorial 5."
   ]
  },
  {
   "cell_type": "markdown",
   "metadata": {},
   "source": [
    "We can loop over dictionaries too. In this case we loop over the keys"
   ]
  },
  {
   "cell_type": "code",
   "execution_count": null,
   "metadata": {
    "ExecuteTime": {
     "end_time": "2019-11-27T10:15:03.242484Z",
     "start_time": "2019-11-27T10:15:03.048785Z"
    }
   },
   "outputs": [],
   "source": [
    "my_dict = {f(t):x*t, g(t):y*t, h(t):z*t}\n",
    "my_dict"
   ]
  },
  {
   "cell_type": "code",
   "execution_count": null,
   "metadata": {
    "ExecuteTime": {
     "end_time": "2019-11-27T10:15:03.896836Z",
     "start_time": "2019-11-27T10:15:03.892172Z"
    }
   },
   "outputs": [],
   "source": [
    "for key in my_dict:\n",
    "    print(key, my_dict[key])"
   ]
  },
  {
   "cell_type": "markdown",
   "metadata": {},
   "source": [
    "**CAREFUL!**: dictionaries are not ordered (unlike lists), when looping over a dictionary the order of the keys is not related to the order at the moment of its definition (like in the example above)."
   ]
  },
  {
   "cell_type": "markdown",
   "metadata": {},
   "source": [
    "### List comprehension"
   ]
  },
  {
   "cell_type": "markdown",
   "metadata": {},
   "source": [
    "List comprehensions are a compact notation that allow us to pack `for` loops and conditional statements in one line and create lists in a very concise way."
   ]
  },
  {
   "cell_type": "markdown",
   "metadata": {},
   "source": [
    "For example, if I have a list of functions and I want to create another one with their derivatives, I could do it with a standard `for` loop"
   ]
  },
  {
   "cell_type": "code",
   "execution_count": null,
   "metadata": {
    "ExecuteTime": {
     "end_time": "2019-11-27T10:15:07.902191Z",
     "start_time": "2019-11-27T10:15:07.716177Z"
    }
   },
   "outputs": [],
   "source": [
    "functions = [f(t), g(t), h(t)]\n",
    "\n",
    "dfunctions = []\n",
    "for var in functions:\n",
    "    dfunctions.append(var.diff(t))\n",
    "    \n",
    "dfunctions"
   ]
  },
  {
   "cell_type": "markdown",
   "metadata": {},
   "source": [
    "Using list comprehension, the equivalent statement is "
   ]
  },
  {
   "cell_type": "code",
   "execution_count": null,
   "metadata": {
    "ExecuteTime": {
     "end_time": "2019-11-27T10:15:08.875137Z",
     "start_time": "2019-11-27T10:15:08.680818Z"
    }
   },
   "outputs": [],
   "source": [
    "dfunctions = [var.diff(t) for var in functions]\n",
    "\n",
    "dfunctions"
   ]
  },
  {
   "cell_type": "markdown",
   "metadata": {},
   "source": [
    "We can nest for statements and add conditions. For instance, to create a matrix"
   ]
  },
  {
   "cell_type": "code",
   "execution_count": null,
   "metadata": {
    "ExecuteTime": {
     "end_time": "2019-11-27T10:15:09.857633Z",
     "start_time": "2019-11-27T10:15:09.661215Z"
    }
   },
   "outputs": [],
   "source": [
    "my_list = [x, y, z]\n",
    "\n",
    "my_matrix = [[q1*q2 for q1 in my_list if q1!=y] for q2 in my_list]\n",
    "\n",
    "Matrix(my_matrix)   # convert list to a symbolic matrix"
   ]
  },
  {
   "cell_type": "markdown",
   "metadata": {},
   "source": [
    "In a similar spirit, we have the same construction for dictionaries"
   ]
  },
  {
   "cell_type": "code",
   "execution_count": null,
   "metadata": {
    "ExecuteTime": {
     "end_time": "2019-11-27T10:15:11.167533Z",
     "start_time": "2019-11-27T10:15:10.957740Z"
    }
   },
   "outputs": [],
   "source": [
    "my_list = [x, y, z]\n",
    "my_func = [f(t), g(t), h(t)]\n",
    "\n",
    "my_dic = {func: t*q for func, q, in zip(my_func, my_list)}\n",
    "my_dic"
   ]
  },
  {
   "cell_type": "code",
   "execution_count": null,
   "metadata": {},
   "outputs": [],
   "source": []
  }
 ],
 "metadata": {
  "kernelspec": {
   "display_name": "Python 3",
   "language": "python",
   "name": "python3"
  },
  "language_info": {
   "codemirror_mode": {
    "name": "ipython",
    "version": 3
   },
   "file_extension": ".py",
   "mimetype": "text/x-python",
   "name": "python",
   "nbconvert_exporter": "python",
   "pygments_lexer": "ipython3",
   "version": "3.6.8"
  },
  "varInspector": {
   "cols": {
    "lenName": 16,
    "lenType": 16,
    "lenVar": 40
   },
   "kernels_config": {
    "python": {
     "delete_cmd_postfix": "",
     "delete_cmd_prefix": "del ",
     "library": "var_list.py",
     "varRefreshCmd": "print(var_dic_list())"
    },
    "r": {
     "delete_cmd_postfix": ") ",
     "delete_cmd_prefix": "rm(",
     "library": "var_list.r",
     "varRefreshCmd": "cat(var_dic_list()) "
    }
   },
   "types_to_exclude": [
    "module",
    "function",
    "builtin_function_or_method",
    "instance",
    "_Feature"
   ],
   "window_display": false
  }
 },
 "nbformat": 4,
 "nbformat_minor": 2
}
