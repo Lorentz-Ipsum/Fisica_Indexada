{
 "cells": [
  {
   "cell_type": "markdown",
   "metadata": {},
   "source": [
    "# Numpy "
   ]
  },
  {
   "cell_type": "markdown",
   "metadata": {},
   "source": [
    "(Disclaimer: I am deliberately omitting any discussion about multidimensional arrays or matrices. You are free to check the documentation.)"
   ]
  },
  {
   "cell_type": "markdown",
   "metadata": {},
   "source": [
    "If we want to perform any non-trivial numerical task it is **essential** to use the module `numpy`. In simple terms, `numpy` provides a new type of array suited for numerical work. However, we work with them as with the standard Python arrays. "
   ]
  },
  {
   "cell_type": "markdown",
   "metadata": {},
   "source": [
    "Let us import the module "
   ]
  },
  {
   "cell_type": "code",
   "execution_count": null,
   "metadata": {
    "ExecuteTime": {
     "end_time": "2019-10-08T12:39:19.931771Z",
     "start_time": "2019-10-08T12:39:19.926225Z"
    }
   },
   "outputs": [],
   "source": [
    "import numpy as np"
   ]
  },
  {
   "cell_type": "markdown",
   "metadata": {},
   "source": [
    "### Array creation"
   ]
  },
  {
   "cell_type": "markdown",
   "metadata": {},
   "source": [
    "We must be very careful in the process of creation to be sure that we are indeed creating a numpy array. If we create an array"
   ]
  },
  {
   "cell_type": "code",
   "execution_count": null,
   "metadata": {
    "ExecuteTime": {
     "end_time": "2019-10-08T12:39:24.968183Z",
     "start_time": "2019-10-08T12:39:24.953376Z"
    }
   },
   "outputs": [],
   "source": [
    "a = [1, 2, 3, 4]\n",
    "a"
   ]
  },
  {
   "cell_type": "markdown",
   "metadata": {},
   "source": [
    "it will be a standard Python array"
   ]
  },
  {
   "cell_type": "code",
   "execution_count": null,
   "metadata": {
    "ExecuteTime": {
     "end_time": "2019-10-08T12:39:26.088967Z",
     "start_time": "2019-10-08T12:39:26.081033Z"
    }
   },
   "outputs": [],
   "source": [
    "type(a)"
   ]
  },
  {
   "cell_type": "markdown",
   "metadata": {},
   "source": [
    "We must use `numpy` built-in functions to create numpy arrays"
   ]
  },
  {
   "cell_type": "code",
   "execution_count": null,
   "metadata": {
    "ExecuteTime": {
     "end_time": "2019-10-08T12:39:27.347550Z",
     "start_time": "2019-10-08T12:39:27.336221Z"
    }
   },
   "outputs": [],
   "source": [
    "a_numpy = np.array([1, 2, 3, 4])\n",
    "a_numpy"
   ]
  },
  {
   "cell_type": "markdown",
   "metadata": {},
   "source": [
    "and we now have a numpy array"
   ]
  },
  {
   "cell_type": "code",
   "execution_count": null,
   "metadata": {
    "ExecuteTime": {
     "end_time": "2019-10-08T12:39:28.196174Z",
     "start_time": "2019-10-08T12:39:28.186176Z"
    }
   },
   "outputs": [],
   "source": [
    "type(a_numpy)"
   ]
  },
  {
   "cell_type": "markdown",
   "metadata": {},
   "source": [
    "Why is so important to have numpy arrays? Now it is possible to define vector operations"
   ]
  },
  {
   "cell_type": "code",
   "execution_count": null,
   "metadata": {
    "ExecuteTime": {
     "end_time": "2019-10-08T12:39:29.492336Z",
     "start_time": "2019-10-08T12:39:29.431173Z"
    },
    "scrolled": true
   },
   "outputs": [],
   "source": [
    "# we create the same array in both versions\n",
    "b = [0, 1, 1, 0]\n",
    "b_numpy = np.array(b)\n",
    "\n",
    "# this is not a legal python operation -> Errors\n",
    "print(a*b)"
   ]
  },
  {
   "cell_type": "code",
   "execution_count": null,
   "metadata": {
    "ExecuteTime": {
     "end_time": "2019-10-08T12:39:31.839906Z",
     "start_time": "2019-10-08T12:39:31.830247Z"
    }
   },
   "outputs": [],
   "source": [
    "# element-wise multiplication\n",
    "print(a_numpy*b_numpy)\n",
    "\n",
    "# dot product\n",
    "print(np.dot(a_numpy, b_numpy))\n",
    "\n",
    "# numpy provides its own version of mathematical functions \n",
    "# to perform vector operations\n",
    "print(np.cos(a_numpy))"
   ]
  },
  {
   "cell_type": "markdown",
   "metadata": {},
   "source": [
    "We will analyse more numpy functions when we need them. Some more useful methods of creation"
   ]
  },
  {
   "cell_type": "code",
   "execution_count": null,
   "metadata": {
    "ExecuteTime": {
     "end_time": "2019-10-08T12:39:35.058109Z",
     "start_time": "2019-10-08T12:39:35.046751Z"
    }
   },
   "outputs": [],
   "source": [
    "# as simple as it looks\n",
    "a0 = np.zeros(5)\n",
    "print(a0)\n",
    "\n",
    "# 5 samples starting in 0 and ending in 5.65 (included)\n",
    "a1 = np.linspace(0, 5.65, num=5)\n",
    "print(a1)\n",
    "\n",
    "# goes from 0 to 6 (not included) with step 1\n",
    "a2 = np.arange(0, 6, step=1)\n",
    "print(a2)\n",
    "\n",
    "# -> CAUTION: with floating-point step (e.g. step=0.1) it is better to use \n",
    "# ->          linspace, in this case arange may or may not include the \n",
    "# ->          last element"
   ]
  },
  {
   "cell_type": "markdown",
   "metadata": {},
   "source": [
    "### Elementary array manipulation"
   ]
  },
  {
   "cell_type": "markdown",
   "metadata": {},
   "source": [
    "**Very important**. If you want to copy an array **don't** do this (applies to Python arrays as well)"
   ]
  },
  {
   "cell_type": "code",
   "execution_count": null,
   "metadata": {
    "ExecuteTime": {
     "end_time": "2019-10-08T12:39:39.628946Z",
     "start_time": "2019-10-08T12:39:39.615389Z"
    }
   },
   "outputs": [],
   "source": [
    "# create the array\n",
    "a = np.array([1, 2, 3, 4, 5])\n",
    "\n",
    "# we are assigning 'a' a new name 'b' but we are not copying it!\n",
    "b = a  \n",
    "\n",
    "print(b)    # everything seems ok\n",
    "b[3] = 17\n",
    "print(b)    # we have changed 'b'\n",
    "\n",
    "print(a)    # but we have also changed 'a' -> they are the SAME array, not a copy!"
   ]
  },
  {
   "cell_type": "markdown",
   "metadata": {},
   "source": [
    "To copy an array we can use the built-in method 'copy' or use slicing"
   ]
  },
  {
   "cell_type": "code",
   "execution_count": null,
   "metadata": {
    "ExecuteTime": {
     "end_time": "2019-10-08T12:39:41.041286Z",
     "start_time": "2019-10-08T12:39:41.034169Z"
    }
   },
   "outputs": [],
   "source": [
    "a = np.array([1, 2, 3, 4, 5])\n",
    "\n",
    "b = a.copy()    # now this is a real copy\n",
    "c = a[:]        # this is another copy using slicing"
   ]
  },
  {
   "cell_type": "markdown",
   "metadata": {},
   "source": [
    "Slicing is a simple way to create subarrays"
   ]
  },
  {
   "cell_type": "code",
   "execution_count": null,
   "metadata": {
    "ExecuteTime": {
     "end_time": "2019-10-08T12:39:42.067134Z",
     "start_time": "2019-10-08T12:39:42.051871Z"
    }
   },
   "outputs": [],
   "source": [
    "a = np.arange(0, 10)\n",
    "\n",
    "# the basic syntax is a = b[start:stop:step], some examples:\n",
    "b = a[:4];  print(b)     # elements up to (not including) the fourth\n",
    "b = a[6:];  print(b)     # elements starting from (including) the sixth\n",
    "b = a[2:5]; print(b)     # you can guess\n",
    "b = a[:];   print(b)     # all the elements\n",
    "\n",
    "# we can specify the step too\n",
    "b = a[::2]; print(b)     # from the first to the last every two elements"
   ]
  },
  {
   "cell_type": "markdown",
   "metadata": {},
   "source": [
    "### Input and output"
   ]
  },
  {
   "cell_type": "markdown",
   "metadata": {},
   "source": [
    "Numeric tasks involve saving the data to a file, read parameters from a file etc. The functions `savetxt` and `loadtxt`\n",
    "alleviate this process."
   ]
  },
  {
   "cell_type": "code",
   "execution_count": null,
   "metadata": {
    "ExecuteTime": {
     "end_time": "2019-10-08T12:39:43.196617Z",
     "start_time": "2019-10-08T12:39:43.190822Z"
    }
   },
   "outputs": [],
   "source": [
    "# Imagine that this represents the data of some experiment or computation\n",
    "t = np.linspace(0, 10, 100)\n",
    "x = np.cos(t)\n",
    "y = np.sin(t)\n",
    "data = np.array([t, x, y])  # every entry of this array is another array, no problem\n",
    "data = data.transpose()     # we transpose the data to display the quantities in columns\n",
    "\n",
    "# typically we also add a header or footer with comments on the data stored\n",
    "my_comments = 'HVR: This is my data\\n [1] Time   [2] X-position   [3] Y-position'\n",
    "\n",
    "# now we use savetxt to create a file and store the data\n",
    "np.savetxt('data_file.txt', data, header=my_comments)"
   ]
  },
  {
   "cell_type": "markdown",
   "metadata": {},
   "source": [
    "we can read the data back"
   ]
  },
  {
   "cell_type": "code",
   "execution_count": null,
   "metadata": {
    "ExecuteTime": {
     "end_time": "2019-10-08T12:39:44.983041Z",
     "start_time": "2019-10-08T12:39:44.973226Z"
    }
   },
   "outputs": [],
   "source": [
    "read_data = np.loadtxt('data_file.txt').transpose()\n",
    "\n",
    "# now we erase the file\n",
    "from os import remove\n",
    "remove('data_file.txt')"
   ]
  }
 ],
 "metadata": {
  "kernelspec": {
   "display_name": "Python 3",
   "language": "python",
   "name": "python3"
  },
  "language_info": {
   "codemirror_mode": {
    "name": "ipython",
    "version": 3
   },
   "file_extension": ".py",
   "mimetype": "text/x-python",
   "name": "python",
   "nbconvert_exporter": "python",
   "pygments_lexer": "ipython3",
   "version": "3.7.4"
  },
  "varInspector": {
   "cols": {
    "lenName": 16,
    "lenType": 16,
    "lenVar": 40
   },
   "kernels_config": {
    "python": {
     "delete_cmd_postfix": "",
     "delete_cmd_prefix": "del ",
     "library": "var_list.py",
     "varRefreshCmd": "print(var_dic_list())"
    },
    "r": {
     "delete_cmd_postfix": ") ",
     "delete_cmd_prefix": "rm(",
     "library": "var_list.r",
     "varRefreshCmd": "cat(var_dic_list()) "
    }
   },
   "types_to_exclude": [
    "module",
    "function",
    "builtin_function_or_method",
    "instance",
    "_Feature"
   ],
   "window_display": false
  }
 },
 "nbformat": 4,
 "nbformat_minor": 2
}
